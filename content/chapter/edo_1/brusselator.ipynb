{
 "cells": [
  {
   "cell_type": "code",
   "execution_count": null,
   "id": "bdd86829",
   "metadata": {},
   "outputs": [],
   "source": [
    "import numpy as np\n",
    "from scipy.optimize import root\n",
    "from scipy.integrate import solve_ivp\n",
    "import plotly.graph_objects as go\n",
    "from plotly.subplots import make_subplots"
   ]
  },
  {
   "cell_type": "markdown",
   "id": "cb8e8275",
   "metadata": {},
   "source": [
    "# Modèle de Brusselator\n",
    "\n",
    "La dynamique de la réaction oscillante découverte par Belousov et Zhabotinsky, peut être modélisée par le modèle dit de Brusselator en fonction de deux paramètres :\n",
    "\n",
    "$$\n",
    "\\left\\{\\begin{aligned}\n",
    "\\frac{dy_1}{dt} & = 1 - (b+1) y_1 + a y_1^2y_2\\\\\n",
    "\\frac{dy_2}{dt} & = b y_1 - a y_1^2y_2\n",
    "\\end{aligned}\\right.\n",
    "$$"
   ]
  },
  {
   "cell_type": "code",
   "execution_count": null,
   "id": "54ba140a",
   "metadata": {},
   "outputs": [],
   "source": [
    "class brusselator_model:\n",
    "\n",
    "    def __init__(self, a, b) :\n",
    "        self.a = a\n",
    "        self.b = b\n",
    "\n",
    "    def fcn(self, t, y):\n",
    "        y1, y2 = y\n",
    "        a = self.a\n",
    "        b = self.b\n",
    "        y1_dot = 1 - (b+1)*y1 + a*y1*y1*y2\n",
    "        y2_dot = b*y1 - a*y1*y1*y2\n",
    "        return np.array([y1_dot, y2_dot])\n",
    "\n",
    "    def jac(self, t, y):\n",
    "        y1, y2 = y\n",
    "        a = self.a\n",
    "        b = self.b\n",
    "        return np.array([[2*a*y1*y2 -(b+1), a*y1*y1], [-2*a*y1*y2 + b, -a*y1*y1]])"
   ]
  },
  {
   "cell_type": "markdown",
   "id": "662685ad",
   "metadata": {},
   "source": [
    "##  Solution quasi-exacte\n",
    "\n",
    "La solution quasi-exacte est obtenue en utilisant une méthode Runge-Kutta explicite d'ordre 5 avec contrôle du pas et tolérances fines appelée méthide de Dormand et Prince."
   ]
  },
  {
   "cell_type": "code",
   "execution_count": null,
   "id": "54353bf7",
   "metadata": {},
   "outputs": [],
   "source": [
    "bm = brusselator_model(a=1, b=4)\n",
    "fcn = bm.fcn  \n",
    "\n",
    "tini = 0. \n",
    "tend = 20.\n",
    "\n",
    "yini = (1.5, 3)\n",
    "\n",
    "sol_exa = solve_ivp(fcn, (tini, tend), yini, method=\"RK45\", rtol=1.e-12, atol=1.e-12)\n",
    "\n",
    "fig = go.Figure()\n",
    "fig.add_trace(go.Scatter(x=sol_exa.t, y=sol_exa.y[0], mode=\"lines\", name=\"y1\"))\n",
    "fig.add_trace(go.Scatter(x=sol_exa.t, y=sol_exa.y[1], mode=\"lines\", name=\"y2\"))\n",
    "fig.update_layout(title=\"Solution quasi-exacte du système du Brusselator\", xaxis_title=\"t\")\n",
    "fig.show()"
   ]
  },
  {
   "cell_type": "markdown",
   "id": "20eb4dd6",
   "metadata": {},
   "source": [
    "## Caractérisation de la raideur"
   ]
  },
  {
   "cell_type": "code",
   "execution_count": null,
   "id": "d7428615",
   "metadata": {},
   "outputs": [],
   "source": [
    "jac = bm.jac\n",
    "\n",
    "eig_vals = np.zeros((sol_exa.t.size, 2), dtype=np.complex_)\n",
    "for it in range(sol_exa.t.size):\n",
    "    eig_vals[it], _ = np.linalg.eig(jac(0, sol_exa.y[:,it]))\n",
    "\n",
    "lambda1 = eig_vals[:, 0]\n",
    "lambda2 = eig_vals[:, 1]\n",
    "\n",
    "fig_eig = make_subplots(rows=2, cols=1, subplot_titles=(\"Valeurs propres réelles\", \"Valeurs propres imaginaires\"))\n",
    "fig_eig.add_trace(go.Scatter(x=sol_exa.t, y=np.real(lambda1), mode=\"lines\", name=\"lamba1\", line_color=\"blue\"), row=1, col=1)\n",
    "fig_eig.add_trace(go.Scatter(x=sol_exa.t, y=np.real(lambda2), mode=\"lines\", name=\"lamba2\", line_color=\"red\"), row=1, col=1)\n",
    "fig_eig.add_trace(go.Scatter(x=sol_exa.t, y=np.imag(lambda1), mode=\"lines\", name=\"y1\", line_color=\"blue\",\n",
    "                             showlegend=False), row=2, col=1)\n",
    "fig_eig.add_trace(go.Scatter(x=sol_exa.t, y=np.imag(lambda2), mode=\"lines\", name=\"y2\", line_color=\"red\",\n",
    "                             showlegend=False), row=2, col=1)\n",
    "fig_eig.update_layout(xaxis_title=\"t\", height=600)\n",
    "fig_eig.show()"
   ]
  },
  {
   "cell_type": "markdown",
   "id": "6a9a860d",
   "metadata": {},
   "source": [
    "## Méthode d'Euler explicite"
   ]
  },
  {
   "cell_type": "code",
   "execution_count": null,
   "id": "19683c7b",
   "metadata": {},
   "outputs": [],
   "source": [
    "class ode_result:\n",
    "    def __init__(self, y, t):\n",
    "        self.y = y\n",
    "        self.t = t\n",
    "\n",
    "def forward_euler(tini, tend, nt, yini, fcn):\n",
    "\n",
    "    dt = (tend-tini) / (nt-1)\n",
    "    t = np.linspace(tini, tend, nt)\n",
    "\n",
    "    yini_array = np.array(yini)\n",
    "    neq = yini_array.size\n",
    "\n",
    "    y = np.zeros((neq, nt), order='F')\n",
    "    y[:,0] = yini_array\n",
    "\n",
    "    for it, tn  in enumerate(t[:-1]):\n",
    "        yn = y[:,it]\n",
    "        y[:,it+1] = yn + dt*np.array(fcn(tn, yn))\n",
    "\n",
    "    return ode_result(y, t)"
   ]
  },
  {
   "cell_type": "code",
   "execution_count": null,
   "id": "1e1c9aea",
   "metadata": {},
   "outputs": [],
   "source": [
    "fig = make_subplots(rows=2, cols=1)\n",
    "\n",
    "nt = np.arange(1000, 10001, 1000)\n",
    "for nt_i in nt:\n",
    "    sol_fe = forward_euler(tini, tend, nt_i, yini, fcn)\n",
    "    sol_exa = solve_ivp(fcn, (tini, tend), yini, method=\"RK45\", rtol=1.e-12, atol=1.e-12, t_eval=sol_fe.t)\n",
    "    y1_err_fe = np.abs(sol_exa.y[0] - sol_fe.y[0])\n",
    "    y2_err_fe = np.abs(sol_exa.y[1] - sol_fe.y[1])    \n",
    "    fig.add_trace(go.Scatter(visible=False, x=sol_fe.t, y=sol_fe.y[0], mode=\"lines\", name=\"y1\"), row=1, col=1)\n",
    "    fig.add_trace(go.Scatter(visible=False, x=sol_fe.t, y=sol_fe.y[1], mode=\"lines\", name=\"y2\"), row=1, col=1)\n",
    "    fig.add_trace(go.Scatter(visible=False, x=sol_fe.t, y=y1_err_fe, mode=\"lines\", name=\"err y1\"), row=2, col=1)\n",
    "    fig.add_trace(go.Scatter(visible=False, x=sol_fe.t, y=y2_err_fe, mode=\"lines\", name=\"err y2\"), row=2, col=1)\n",
    "    \n",
    "fig.data[0].visible = True\n",
    "fig.data[1].visible = True\n",
    "fig.data[2].visible = True\n",
    "fig.data[3].visible = True\n",
    "\n",
    "# Create and add slider\n",
    "steps = []\n",
    "for i, nt_i in enumerate(nt):\n",
    "    step = dict(method=\"update\", label = f\"{nt_i}\",\n",
    "                args=[{\"visible\": [el==4*i or el==4*i+1 or el==4*i+2 or el==4*i+3 for el in range(len(fig.data))]}])\n",
    "    steps.append(step)\n",
    "sliders = [dict(currentvalue={\"prefix\": \"nt : \"}, steps=steps)]\n",
    "\n",
    "fig.update_yaxes(type='log', exponentformat='e', row=2, col=1)\n",
    "fig.update_layout(sliders=sliders, height=800)\n",
    "fig.show()"
   ]
  },
  {
   "cell_type": "markdown",
   "id": "ba362a75",
   "metadata": {},
   "source": [
    "## Méthode d'Euler implicite"
   ]
  },
  {
   "cell_type": "code",
   "execution_count": null,
   "id": "10a9c339",
   "metadata": {},
   "outputs": [],
   "source": [
    "def backward_euler(tini, tend, nt, yini, fcn):\n",
    "\n",
    "    dt = (tend-tini) / (nt-1)\n",
    "    t = np.linspace(tini, tend, nt)\n",
    "\n",
    "    yini_array = np.array(yini)\n",
    "    neq = yini_array.size\n",
    "\n",
    "    y = np.zeros((neq, nt), order='F')\n",
    "    y[:,0] = yini_array\n",
    "\n",
    "    def g(uip1, *args):\n",
    "        uip, tip1 = args\n",
    "        return uip1 - uip - dt*np.array(fcn(tip1, uip1))\n",
    "\n",
    "    for it, tn  in enumerate(t[:-1]):\n",
    "        yn = y[:,it]\n",
    "        y0 = yn + dt*np.array(fcn(tn, yn))\n",
    "        # solve y[:,it+1] - y[:,it] - dt * fcn(tini + (it+1)*dt, y[:,it+1]) = 0\n",
    "        sol = root(g, y0, (yn, tn+dt))\n",
    "        y[:,it+1] = sol.x\n",
    "\n",
    "    return ode_result(y, t)"
   ]
  },
  {
   "cell_type": "code",
   "execution_count": null,
   "id": "8fb1065c",
   "metadata": {},
   "outputs": [],
   "source": [
    "fig = make_subplots(rows=2, cols=1)\n",
    "\n",
    "nt = np.arange(1000, 10001, 1000)\n",
    "for nt_i in nt:\n",
    "    sol_fe = backward_euler(tini, tend, nt_i, yini, fcn)\n",
    "    sol_exa = solve_ivp(fcn, (tini, tend), yini, method=\"RK45\", rtol=1.e-12, atol=1.e-12, t_eval=sol_fe.t)\n",
    "    y1_err_fe = np.abs(sol_exa.y[0] - sol_fe.y[0])\n",
    "    y2_err_fe = np.abs(sol_exa.y[1] - sol_fe.y[1])    \n",
    "    fig.add_trace(go.Scatter(visible=False, x=sol_fe.t, y=sol_fe.y[0], mode=\"lines\", name=\"y1\"), row=1, col=1)\n",
    "    fig.add_trace(go.Scatter(visible=False, x=sol_fe.t, y=sol_fe.y[1], mode=\"lines\", name=\"y2\"), row=1, col=1)\n",
    "    fig.add_trace(go.Scatter(visible=False, x=sol_fe.t, y=y1_err_fe, mode=\"lines\", name=\"err y1\"), row=2, col=1)\n",
    "    fig.add_trace(go.Scatter(visible=False, x=sol_fe.t, y=y2_err_fe, mode=\"lines\", name=\"err y2\"), row=2, col=1)\n",
    "    \n",
    "fig.data[0].visible = True\n",
    "fig.data[1].visible = True\n",
    "fig.data[2].visible = True\n",
    "fig.data[3].visible = True\n",
    "\n",
    "# Create and add slider\n",
    "steps = []\n",
    "for i, nt_i in enumerate(nt):\n",
    "    step = dict(method=\"update\", label = f\"{nt_i}\",\n",
    "                args=[{\"visible\": [el==4*i or el==4*i+1 or el==4*i+2 or el==4*i+3 for el in range(len(fig.data))]}])\n",
    "    steps.append(step)\n",
    "sliders = [dict(currentvalue={\"prefix\": \"nt : \"}, steps=steps)]\n",
    "\n",
    "fig.update_yaxes(type='log', exponentformat='e', row=2, col=1)\n",
    "fig.update_layout(sliders=sliders, height=800)\n",
    "fig.show()"
   ]
  }
 ],
 "metadata": {
  "@webio": {
   "lastCommId": null,
   "lastKernelId": null
  },
  "kernelspec": {
   "display_name": "Python 3",
   "language": "python",
   "name": "python3"
  },
  "language_info": {
   "codemirror_mode": {
    "name": "ipython",
    "version": 3
   },
   "file_extension": ".py",
   "mimetype": "text/x-python",
   "name": "python",
   "nbconvert_exporter": "python",
   "pygments_lexer": "ipython3",
   "version": "3.9.7"
  }
 },
 "nbformat": 4,
 "nbformat_minor": 5
}
