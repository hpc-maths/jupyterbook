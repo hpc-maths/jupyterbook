{
 "cells": [
  {
   "cell_type": "code",
   "execution_count": null,
   "id": "d6f20eaa",
   "metadata": {},
   "outputs": [],
   "source": [
    "import numpy as np\n",
    "from scipy.integrate import solve_ivp\n",
    "import plotly.graph_objects as go"
   ]
  },
  {
   "cell_type": "markdown",
   "id": "2db7f983",
   "metadata": {},
   "source": [
    "# Exemples de systèmes dynamiques"
   ]
  },
  {
   "cell_type": "markdown",
   "id": "92e6f441",
   "metadata": {},
   "source": [
    "## Modèle de Brusselator\n",
    "\n",
    "La dynamique de la réaction oscillante découverte par Belousov et Zhabotinsky, peut être modélisée par le modèle dit de Brusselator en fonction de deux paramètres $a$ et $b$ :\n",
    "\n",
    "$$\n",
    "\\left\\{\\begin{aligned}\n",
    "{\\mathrm d} y_1 & = a - (b+1) y_1 + y_1^2y_2\\\\\n",
    "{\\mathrm d} y_2 & = b y_1 - y_1^2y_2\n",
    "\\end{aligned}\\right.\n",
    "$$"
   ]
  },
  {
   "cell_type": "code",
   "execution_count": null,
   "id": "e093b87c",
   "metadata": {},
   "outputs": [],
   "source": [
    "class brusselator_model:\n",
    "\n",
    "    def __init__(self, a, b) :\n",
    "        self.a = a\n",
    "        self.b = b\n",
    "    \n",
    "    def fcn(self, t, y):\n",
    "        y1, y2 = y\n",
    "        a = self.a\n",
    "        b = self.b \n",
    "        y1_dot = a - (b+1)*y1 + y1*y1*y2 \n",
    "        y2_dot = b*y1 - y1*y1*y2  \n",
    "        return np.array([y1_dot, y2_dot])"
   ]
  },
  {
   "cell_type": "markdown",
   "id": "0002abc5",
   "metadata": {},
   "source": [
    "### Solution numérique"
   ]
  },
  {
   "cell_type": "code",
   "execution_count": null,
   "id": "5cb332d5",
   "metadata": {},
   "outputs": [],
   "source": [
    "tini = 0. \n",
    "tend = 40.\n",
    "yini = (1.5, 3.)\n",
    "\n",
    "bm = brusselator_model(a=0.7, b=3)\n",
    "fcn = bm.fcn  \n",
    "sol_exa = solve_ivp(fcn, (tini, tend), yini, method=\"RK45\", rtol=1.e-10, atol=1.e-10)\n",
    "\n",
    "fig = go.Figure()\n",
    "fig.add_trace(go.Scatter(x=sol_exa.t, y=sol_exa.y[0], mode=\"lines\", name=\"y1\"))\n",
    "fig.add_trace(go.Scatter(x=sol_exa.t, y=sol_exa.y[1], mode=\"lines\", name=\"y2\"))\n",
    "\n",
    "steps = []\n",
    "for i, a_i in enumerate(np.arange(0.7, 1.71, 0.1)):\n",
    "    bm = brusselator_model(a=a_i, b=3)\n",
    "    fcn = bm.fcn  \n",
    "    sol_exa = solve_ivp(fcn, (tini, tend), yini, method=\"RK45\", rtol=1.e-10, atol=1.e-10)\n",
    "    step = dict(method=\"update\", label = f\"{a_i:.2f}\", args=[{\"x\":[sol_exa.t, sol_exa.t],\n",
    "                                                              \"y\":[sol_exa.y[0], sol_exa.y[1]]}])\n",
    "    steps.append(step)\n",
    "sliders = [dict(currentvalue={'prefix': 'a = '}, steps=steps)]\n",
    "\n",
    "fig.update_layout(sliders=sliders, title=\"Solution quasi-exacte du système du Brusselator\", xaxis_title=\"t\")\n",
    "fig['layout']['sliders'][0]['pad']=dict(t= 50)\n",
    "fig.show()"
   ]
  },
  {
   "cell_type": "markdown",
   "id": "da0bfd3d",
   "metadata": {},
   "source": [
    "## Système de Lorenz\n",
    "\n",
    "Le système de Lorenz est un système de trois équations différentielles ordinaires : \n",
    "\n",
    "$$\n",
    "\\left\\{\\begin{aligned}\n",
    "\\dot x & = \\sigma \\, (y - x)\\\\\n",
    "\\dot y & = \\rho x - y - xz\\\\ \n",
    "\\dot z & = xy - \\beta z\n",
    "\\end{aligned}\\right.\n",
    "$$"
   ]
  },
  {
   "cell_type": "code",
   "execution_count": null,
   "id": "172a91a4",
   "metadata": {},
   "outputs": [],
   "source": [
    "class lorenz_model():\n",
    "\n",
    "    def __init__(self, sigma, rho, beta):\n",
    "        self.sigma = sigma\n",
    "        self.rho = rho\n",
    "        self.beta = beta\n",
    "\n",
    "    def fcn(self, t, xyz):\n",
    "        x, y, z = xyz\n",
    "        sigma = self.sigma\n",
    "        rho = self.rho\n",
    "        beta = self.beta\n",
    "        x_dot = sigma*(y-x)\n",
    "        y_dot = rho*x - y - x*z\n",
    "        z_dot = x*y - beta*z\n",
    "        return (x_dot, y_dot, z_dot)"
   ]
  },
  {
   "cell_type": "markdown",
   "id": "6d22c062",
   "metadata": {},
   "source": [
    "### Solution numérique"
   ]
  },
  {
   "cell_type": "code",
   "execution_count": null,
   "id": "6f0f4b47",
   "metadata": {},
   "outputs": [],
   "source": [
    "lm = lorenz_model(sigma=10, rho=28, beta=8/3)\n",
    "fcn = lm.fcn  \n",
    "    \n",
    "tini = 0. \n",
    "tend = 100.\n",
    "    \n",
    "sol_ini = (-10, -7, 35)        \n",
    "sol = solve_ivp(fcn, (tini, tend), sol_ini, method=\"RK45\", rtol=1.e-8, atol=1.e-10)\n",
    "x = sol.y[0]; y = sol.y[1]; z = sol.y[2]\n",
    "\n",
    "fig = go.Figure()\n",
    "fig.add_trace(go.Scatter3d(x=x, y=y, z=z, mode=\"lines\"))\n",
    "fig.update_layout(scene_camera=dict(eye=dict(x=-1.3, y=1.3, z=1.3)), title=\"Espace des phases\")\n",
    "fig.show()\n",
    "\n",
    "fig_sol = go.Figure()\n",
    "fig_sol.add_trace(go.Scatter(x=sol.t, y=x, mode=\"lines\", name=\"evolution de la variable x\"))\n",
    "fig_sol.update_layout(title=\"Evolution de la variable x\")\n",
    "fig_sol.show()"
   ]
  },
  {
   "cell_type": "markdown",
   "id": "d3106007",
   "metadata": {},
   "source": [
    "### Perturbations des conditions initiales"
   ]
  },
  {
   "cell_type": "code",
   "execution_count": null,
   "id": "f6bf1b0b",
   "metadata": {},
   "outputs": [],
   "source": [
    "sol_ini_pert = (-10.000000001, -7, 35)\n",
    "\n",
    "sol_pert = solve_ivp(fcn, (tini, tend), sol_ini_pert, method=\"RK45\", rtol=1.e-8, atol=1.e-10)\n",
    "x_pert = sol_pert.y[0]; y_pert = sol_pert.y[1]; z_pert = sol_pert.y[2]\n",
    "\n",
    "fig = go.Figure()\n",
    "fig.add_trace(go.Scatter3d(x=x, y=y, z=z, mode=\"lines\", name=\"sol.\"))\n",
    "fig.add_trace(go.Scatter3d(x=x_pert, y=y_pert, z=z_pert, mode=\"lines\", name = \"sol. perturbée\"))\n",
    "fig.update_layout(scene_camera=dict(eye=dict(x=-1.3, y=1.3, z=1.3)), title=\"Espace des phases\")\n",
    "fig.show()\n",
    "\n",
    "fig_sol = go.Figure()\n",
    "fig_sol.add_trace(go.Scatter(x=sol.t, y=x, mode=\"lines\", name=\"sol.\"))\n",
    "fig_sol.add_trace(go.Scatter(x=sol_pert.t, y=x_pert, mode=\"lines\", name=\"sol. perturbée\"))\n",
    "fig_sol.update_layout(title=\"Evolution de la variable x\")\n",
    "fig_sol.show()"
   ]
  },
  {
   "cell_type": "markdown",
   "id": "a1f0dd63",
   "metadata": {},
   "source": [
    "## Mécanique céleste : problème à trois corps"
   ]
  },
  {
   "cell_type": "code",
   "execution_count": null,
   "id": "f4dfc179",
   "metadata": {},
   "outputs": [],
   "source": [
    "class three_body_model:\n",
    "\n",
    "    def __init__(self):\n",
    "        self.m0 = 1.00000597682\n",
    "        self.m1 = 9.54786104043e-4\n",
    "        self.m2 = 2.85583733151e-4\n",
    "        self.G = 2.95912208286e-4\n",
    "\n",
    "    def fcn(self, t, y):\n",
    "        q = y[0:9]\n",
    "        p = y[9:18]\n",
    "        \n",
    "        q_dot = np.zeros(9)\n",
    "        p_dot = np.zeros(9)\n",
    "        \n",
    "        m0 = self.m0\n",
    "        m1 = self.m1\n",
    "        m2 = self.m2\n",
    "        G  = self.G\n",
    "        \n",
    "        q_dot[0:3] = p[0:3]/m0\n",
    "        q_dot[3:6] = p[3:6]/m1\n",
    "        q_dot[6:9] = p[6:9]/m2\n",
    "        \n",
    "        p_dot[0:3] = -( G*m0*m1*((q[0:3]-q[3:6])/np.power(np.linalg.norm(q[0:3]-q[3:6]),3)) \n",
    "                       +G*m0*m2*((q[0:3]-q[6:9])/np.power(np.linalg.norm(q[0:3]-q[6:9]),3)))\n",
    "        p_dot[3:6] = -( G*m1*m0*((q[3:6]-q[0:3])/np.power(np.linalg.norm(q[3:6]-q[0:3]),3))\n",
    "                       +G*m1*m2*((q[3:6]-q[6:9])/np.power(np.linalg.norm(q[3:6]-q[6:9]),3)))\n",
    "        p_dot[6:9] = -( G*m2*m0*((q[6:9]-q[0:3])/np.power(np.linalg.norm(q[6:9]-q[0:3]),3)) \n",
    "                       +G*m2*m1*((q[6:9]-q[3:6])/np.power(np.linalg.norm(q[6:9]-q[3:6]),3)))\n",
    "        \n",
    "        return np.concatenate((q_dot, p_dot))\n",
    "    \n",
    "    def hamiltonian(self, y):\n",
    "    \n",
    "        m0 = self.m0\n",
    "        m1 = self.m1\n",
    "        m2 = self.m2\n",
    "        G = self.G\n",
    "        nt = y.shape[1]\n",
    "        neq = y.shape[0]\n",
    "        q = y[0:neq//2]\n",
    "        p = y[neq//2:neq]\n",
    "        ham = np.zeros(nt)\n",
    "\n",
    "        for i in range(nt):\n",
    "            ham[i] = ( 0.5*( (1/m0)*np.dot(p[0:3,i],p[0:3,i]) \n",
    "                            +(1/m1)*np.dot(p[3:6,i],p[3:6,i]) \n",
    "                            +(1/m2)*np.dot(p[6:9,i],p[6:9,i]) ) \n",
    "                      - G *( (m0*m1)/np.linalg.norm(q[0:3,i]-q[3:6,i]) \n",
    "                            +(m0*m2)/np.linalg.norm(q[0:3,i]-q[6:9,i])\n",
    "                            +(m1*m2)/np.linalg.norm(q[3:6,i]-q[6:9,i]) ) )\n",
    "\n",
    "        return ham"
   ]
  },
  {
   "cell_type": "code",
   "execution_count": null,
   "id": "94d2dc3e",
   "metadata": {},
   "outputs": [],
   "source": [
    "# initialization\n",
    "m1 = 9.54786104043e-4\n",
    "m2 = 2.85583733151e-4\n",
    "\n",
    "qini = np.zeros(9)\n",
    "qini[0] =  0.;        qini[1] =  0.;        qini[2] =  0.\n",
    "qini[3] = -3.5023653; qini[4] = -3.8169847; qini[5] = -1.5507963\n",
    "qini[6] =  9.0755314; qini[7] = -3.0458353; qini[8] = -1.6483708\n",
    "\n",
    "pini = np.zeros(9)\n",
    "pini[0] =  0.;            pini[1] =  0.;            pini[2] =  0.\n",
    "pini[3] =  0.00565429*m1; pini[4] = -0.00412490*m1; pini[5] = -0.00190589*m1\n",
    "pini[6] =  0.00168318*m2; pini[7] =  0.00483525*m2; pini[8] =  0.00192462*m2\n",
    "\n",
    "yini = np.concatenate((qini, pini))\n",
    "\n",
    "tini = 0.\n",
    "tend = 11000.\n",
    "nt = 1501\n",
    "\n",
    "tbm = three_body_model()\n",
    "fcn = tbm.fcn\n",
    "\n",
    "sol = solve_ivp(fcn, (tini, tend), yini, method=\"RK45\", rtol=1.e-12, atol=1.e-12)\n",
    "fig = go.Figure()\n",
    "fig.add_trace(go.Scatter3d(x=[0], y=[0.], z=[0.], mode=\"markers\", marker=dict(size=8, color=\"orange\"), \n",
    "                           showlegend=False))\n",
    "fig.add_trace(go.Scatter3d(x=[qini[3]], y=[qini[4]], z=[qini[5]], mode=\"markers\", \n",
    "                           marker=dict(size=6, color=\"#EF553B\"), showlegend=False))\n",
    "fig.add_trace(go.Scatter3d(x=sol.y[3]-sol.y[0], y=sol.y[4]-sol.y[0], z=sol.y[5]-sol.y[0], mode='lines', \n",
    "                           line_color=\"#EF553B\", line_width=6, name='Jupiter'))\n",
    "fig.add_trace(go.Scatter3d(x=[qini[6]], y=[qini[7]], z=[qini[8]], mode=\"markers\", \n",
    "                           marker=dict(size=6, color=\"#00CC96\"), showlegend=False))\n",
    "fig.add_trace(go.Scatter3d(x=sol.y[6]-sol.y[0], y=sol.y[7]-sol.y[0], z=sol.y[8]-sol.y[0], mode='lines', \n",
    "                           line_color=\"#00CC96\", line_width=6, name='Saturne'))\n",
    "fig.show()"
   ]
  },
  {
   "cell_type": "markdown",
   "id": "267fb7ab",
   "metadata": {},
   "source": [
    "### Hamiltonien"
   ]
  },
  {
   "cell_type": "code",
   "execution_count": null,
   "id": "fa18dc97",
   "metadata": {},
   "outputs": [],
   "source": [
    "ham = tbm.hamiltonian(sol.y)\n",
    "\n",
    "fig = go.Figure()\n",
    "fig.add_trace(go.Scatter(x=sol.t, y=ham))\n",
    "fig.update_layout(title=\"Hamiltonian\")\n",
    "fig.update_yaxes(range=[-3.157e-8, -3.156e-8], exponentformat='e')\n",
    "fig.show()"
   ]
  },
  {
   "cell_type": "code",
   "execution_count": null,
   "id": "a2c62a9a",
   "metadata": {},
   "outputs": [],
   "source": []
  }
 ],
 "metadata": {
  "@webio": {
   "lastCommId": null,
   "lastKernelId": null
  },
  "kernelspec": {
   "display_name": "Python 3",
   "language": "python",
   "name": "python3"
  },
  "language_info": {
   "codemirror_mode": {
    "name": "ipython",
    "version": 3
   },
   "file_extension": ".py",
   "mimetype": "text/x-python",
   "name": "python",
   "nbconvert_exporter": "python",
   "pygments_lexer": "ipython3",
   "version": "3.9.7"
  }
 },
 "nbformat": 4,
 "nbformat_minor": 5
}
