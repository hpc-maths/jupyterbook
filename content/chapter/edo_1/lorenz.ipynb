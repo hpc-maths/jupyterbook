{
 "cells": [
  {
   "cell_type": "code",
   "execution_count": null,
   "id": "507b767d",
   "metadata": {},
   "outputs": [],
   "source": [
    "import numpy as np\n",
    "from scipy.integrate import solve_ivp\n",
    "import plotly.graph_objects as go"
   ]
  },
  {
   "cell_type": "markdown",
   "id": "0f759dca",
   "metadata": {},
   "source": [
    "# Système de Lorenz\n",
    "\n",
    "Le système de Lorenz est un système de trois équations différentielles ordinaires : \n",
    "\n",
    "$$\n",
    "\\left\\{\\begin{aligned}\n",
    "\\dot x & = \\sigma \\, (y - x)\\\\\n",
    "\\dot y & = \\rho x - y - xz\\\\ \n",
    "\\dot z & = xy - \\beta z\n",
    "\\end{aligned}\\right.\n",
    "$$"
   ]
  },
  {
   "cell_type": "code",
   "execution_count": null,
   "id": "a2eeb529",
   "metadata": {},
   "outputs": [],
   "source": [
    "class lorenz_model():\n",
    "\n",
    "    def __init__(self, sigma, rho, beta):\n",
    "        self.sigma = sigma\n",
    "        self.rho = rho\n",
    "        self.beta = beta\n",
    "\n",
    "    def fcn(self, t, xyz):\n",
    "        x, y, z = xyz\n",
    "        sigma = self.sigma\n",
    "        rho = self.rho\n",
    "        beta = self.beta\n",
    "        x_dot = sigma*(y-x)\n",
    "        y_dot = rho*x - y - x*z\n",
    "        z_dot = x*y - beta*z\n",
    "        return (x_dot, y_dot, z_dot)"
   ]
  },
  {
   "cell_type": "markdown",
   "id": "73730de9",
   "metadata": {},
   "source": [
    "## Numerical integration"
   ]
  },
  {
   "cell_type": "code",
   "execution_count": null,
   "id": "a9d28034",
   "metadata": {},
   "outputs": [],
   "source": [
    "lm = lorenz_model(sigma=10, rho=28, beta=8/3)\n",
    "fcn = lm.fcn  \n",
    "    \n",
    "tini = 0. \n",
    "tend = 100.\n",
    "    \n",
    "sol_ini = (-10, -7, 35)        \n",
    "sol = solve_ivp(fcn, (tini, tend), sol_ini, method=\"RK45\", rtol=1.e-8, atol=1.e-10)\n",
    "x = sol.y[0]; y = sol.y[1]; z = sol.y[2]\n",
    "\n",
    "fig = go.Figure()\n",
    "fig.add_trace(go.Scatter3d(x=x, y=y, z=z, mode=\"lines\"))\n",
    "fig.update_layout(scene_camera=dict(eye=dict(x=-1.3, y=1.3, z=1.3)), title=\"Espace des phases\")\n",
    "fig.show()\n",
    "\n",
    "fig_sol = go.Figure()\n",
    "fig_sol.add_trace(go.Scatter(x=sol.t, y=x, mode=\"lines\", name=\"evolution de la variable x\"))\n",
    "fig_sol.update_layout(title=\"Evolution de la variable x\")\n",
    "fig_sol.show()"
   ]
  },
  {
   "cell_type": "markdown",
   "id": "ffb59428",
   "metadata": {},
   "source": [
    "## Perturbation des conditions aux limites"
   ]
  },
  {
   "cell_type": "code",
   "execution_count": null,
   "id": "edb4235f",
   "metadata": {},
   "outputs": [],
   "source": [
    "sol_ini_pert = (-10.000000001, -7, 35)\n",
    "\n",
    "sol_pert = solve_ivp(fcn, (tini, tend), sol_ini_pert, method=\"RK45\", rtol=1.e-8, atol=1.e-10)\n",
    "x_pert = sol_pert.y[0]; y_pert = sol_pert.y[1]; z_pert = sol_pert.y[2]\n",
    "\n",
    "fig = go.Figure()\n",
    "fig.add_trace(go.Scatter3d(x=x, y=y, z=z, mode=\"lines\", name=\"sol.\"))\n",
    "fig.add_trace(go.Scatter3d(x=x_pert, y=y_pert, z=z_pert, mode=\"lines\", name = \"sol. perturbée\"))\n",
    "fig.update_layout(scene_camera=dict(eye=dict(x=-1.3, y=1.3, z=1.3)), title=\"Espace des phases\")\n",
    "fig.show()\n",
    "\n",
    "fig_sol = go.Figure()\n",
    "fig_sol.add_trace(go.Scatter(x=sol.t, y=x, mode=\"lines\", name=\"sol.\"))\n",
    "fig_sol.add_trace(go.Scatter(x=sol_pert.t, y=x_pert, mode=\"lines\", name=\"sol. perturbée\"))\n",
    "fig_sol.update_layout(title=\"Evolution de la variable x\")\n",
    "fig_sol.show()"
   ]
  }
 ],
 "metadata": {
  "@webio": {
   "lastCommId": null,
   "lastKernelId": null
  },
  "kernelspec": {
   "display_name": "Python 3",
   "language": "python",
   "name": "python3"
  },
  "language_info": {
   "codemirror_mode": {
    "name": "ipython",
    "version": 3
   },
   "file_extension": ".py",
   "mimetype": "text/x-python",
   "name": "python",
   "nbconvert_exporter": "python",
   "pygments_lexer": "ipython3",
   "version": "3.9.7"
  }
 },
 "nbformat": 4,
 "nbformat_minor": 5
}
