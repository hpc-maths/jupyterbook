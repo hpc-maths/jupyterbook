{
 "cells": [
  {
   "cell_type": "code",
   "execution_count": null,
   "metadata": {},
   "outputs": [],
   "source": [
    "#\n",
    "#    Notebook de cours MAP412 - Chapitre 8 - M. Massot 2020-2021 - Ecole polytechnique\n",
    "#    ----------   \n",
    "#    Résolution du problème de Curtiss et Hirschfelder avec des méthodes RK\n",
    "#    \n",
    "#    Auteurs : L. Séries et M. Massot - (C) 2021\n",
    "#    "
   ]
  },
  {
   "cell_type": "code",
   "execution_count": null,
   "metadata": {
    "hidePrompt": true,
    "scrolled": false
   },
   "outputs": [],
   "source": [
    "import numpy as np\n",
    "from scipy.optimize import root\n",
    "import plotly.graph_objects as go\n",
    "from plotly.subplots import make_subplots"
   ]
  },
  {
   "cell_type": "markdown",
   "metadata": {},
   "source": [
    "# Résolution du problème de Curtiss et Hirschfelder par des méthodes RK"
   ]
  },
  {
   "cell_type": "markdown",
   "metadata": {},
   "source": [
    "On considère le problème suivant :\n",
    "\n",
    "$$\n",
    "\\left\\{ \n",
    "\\begin{aligned} \n",
    "{\\mathrm d}_t u(t) & = k \\, \\big(cos(t) - u(t)) \\big) \\quad \\text{with } k > 1\\\\ \n",
    "u(0)  & = u_0 \n",
    "\\end{aligned} \n",
    "\\right. \n",
    "$$\n"
   ]
  },
  {
   "cell_type": "markdown",
   "metadata": {},
   "source": [
    "## Raideur\n",
    "\n",
    "La solution exacte est donnée par :\n",
    "\n",
    "$$\n",
    "u(t) = \\frac{k}{k^2+1} \\bigg( k \\cos(t) + \\sin(t) \\bigg) + c_0 \\, e^{-k t} \\quad\n",
    "\\text{avec} \\quad c_0 = \\bigg( u_0 -\\frac{k}{k^2 + 1} \\Big( k \\cos(t_0) + \\sin(t_0) \\Big) \\bigg)  e^{-k t_0}   \n",
    "$$"
   ]
  },
  {
   "cell_type": "code",
   "execution_count": null,
   "metadata": {
    "scrolled": false,
    "tags": [
     "hide-input"
    ]
   },
   "outputs": [],
   "source": [
    "class curtiss_model:\n",
    "\n",
    "    def __init__(self, k):\n",
    "        self.k = k\n",
    "\n",
    "    def fcn(self, t, u) :\n",
    "        k = self.k\n",
    "        u_dot = k * (np.cos(t) - u)\n",
    "        return u_dot\n",
    "\n",
    "    def sol(self, uini, t0, t):\n",
    "        k = self.k\n",
    "\n",
    "        c0 = (uini - (k/(k*k + 1)) * (k*np.cos(t0) + np.sin(t0))) * np.exp(k*t0)\n",
    "        u = (k/(k*k + 1)) * (k*np.cos(t) + np.sin(t)) +  c0 * np.exp(-k*t)\n",
    "        return u"
   ]
  },
  {
   "cell_type": "code",
   "execution_count": null,
   "metadata": {
    "scrolled": false
   },
   "outputs": [],
   "source": [
    "uini = 2.\n",
    "tini = 0.\n",
    "tend = 1.5\n",
    "k = 10.\n",
    "\n",
    "cm = curtiss_model(k)\n",
    "    \n",
    "texa = np.linspace(tini, tend, 1000)\n",
    "uexa = cm.sol(uini, tini, texa)\n",
    "\n",
    "fig = go.Figure()\n",
    "fig.add_trace(go.Scatter(x=texa, y=uexa, name='f(x)'))\n",
    "\n",
    "#create slider\n",
    "steps = []\n",
    "for k_i in range(10, 101, 10):\n",
    "    cm = curtiss_model(k_i)\n",
    "    step = dict(method=\"update\", label = f\"{k_i}\", args=[{\"x\": [texa], \"y\": [cm.sol(uini, tini, texa)]}])\n",
    "    steps.append(step)\n",
    "sliders = [dict(currentvalue={'prefix': 'k = '}, steps=steps)]\n",
    "\n",
    "fig.update_layout(sliders=sliders, title = 'Solution exacte du problème de Curtiss et Hirschfelder', \n",
    "                  xaxis_title=\"t\", yaxis_title=\"u\")\n",
    "fig['layout']['sliders'][0]['pad']=dict(t= 50)\n",
    "fig.show()"
   ]
  },
  {
   "cell_type": "markdown",
   "metadata": {},
   "source": [
    "## Méthodes de Runge-Kutta"
   ]
  },
  {
   "cell_type": "code",
   "execution_count": null,
   "metadata": {
    "tags": [
     "hide-input"
    ]
   },
   "outputs": [],
   "source": [
    "def plot_sol_and_error(order):\n",
    "    \n",
    "    if order==1:\n",
    "        method_str = \"Forward Euler\"\n",
    "        method = forward_euler\n",
    "        stability_disk = stabiliy_disk_rk1\n",
    "    elif order==2:\n",
    "        method_str = \"RK2\"\n",
    "        method = rk2\n",
    "        stability_disk = stabiliy_disk_rk2\n",
    "    elif order==3:\n",
    "        method_str = \"RK3\"\n",
    "        method = rk3\n",
    "        stability_disk = stabiliy_disk_rk3\n",
    "    elif order==4:\n",
    "        method_str = \"RK4\"\n",
    "        method = rk4\n",
    "        stability_disk = stabiliy_disk_rk4\n",
    "    else:\n",
    "        print(\"Order not implemented\")\n",
    "        exit()\n",
    "        \n",
    "    uini = 2.\n",
    "    tini = 0.\n",
    "    tend = 1.5\n",
    "    k = 50.\n",
    "\n",
    "    cm = curtiss_model(k)\n",
    "    fcn = cm.fcn\n",
    "\n",
    "    texa = np.linspace(tini, tend, 500)\n",
    "    uexa = cm.sol(uini, tini, texa)\n",
    "\n",
    "    fig = make_subplots(rows=2, cols=2, specs=[[{\"colspan\": 2}, None], [{}, {}]], vertical_spacing=0.15,\n",
    "                        subplot_titles=(\"Solution\",\"Erreur globale\", \"Domaine de stabilité\") )\n",
    "\n",
    "    fig.add_trace(go.Scatter(x=texa, y=uexa, name='Exact solution', legendgroup='1'), row=1, col=1)\n",
    "    x, y, disk = stability_disk()\n",
    "    fig.add_trace(go.Contour(x=x, y=y, z=disk, showscale=False, colorscale='blues'), row=2, col=2)\n",
    "\n",
    "    nt = np.geomspace(25, 200, num=15, dtype=int)\n",
    "    for nt_i in nt:\n",
    "        dt = (tend-tini) / (nt_i-1)\n",
    "        sol = method(tini, tend, nt_i, uini, fcn)\n",
    "        uexa = cm.sol(uini, tini, sol.t)\n",
    "        fig.add_trace(go.Scattergl(visible=False, x=sol.t, y=sol.y[0], mode='markers+lines', line_dash='dot', \n",
    "                                 line_color='#EF553B', name='Forward Euler', legendgroup='1'), row=1, col=1)\n",
    "        fig.add_trace(go.Scattergl(visible=False, x=sol.t[1:], y=np.abs(sol.y[0]-uexa)[1:], mode='markers',\n",
    "                                 marker_color='#EF553B', showlegend=False, legendgroup='2'), row=2, col=1)\n",
    "        fig.add_trace(go.Scatter(visible=False, x=[-k*dt], y=[0], legendgroup='3', name='Valeur propre',\n",
    "                                 mode='markers', marker=dict(color='red', size=10, symbol='x')), row=2, col=2)\n",
    "\n",
    "    i_beg = nt.size//2\n",
    "    fig.data[3*i_beg+2].visible = True\n",
    "    fig.data[3*i_beg+3].visible = True\n",
    "    fig.data[3*i_beg+4].visible = True\n",
    "\n",
    "    # Create and add slider\n",
    "    steps = []\n",
    "    for i, nt_i in enumerate(nt):\n",
    "        step = dict(method=\"update\", label = f\"{nt_i}\",\n",
    "                    args=[{\"visible\": [el==0 or el==1 or el==3*i+2 or el==3*i+3 or el==3*i+4 for el in range(len(fig.data))]}])\n",
    "        steps.append(step)\n",
    "    sliders = [dict(active=i_beg, currentvalue={\"prefix\": \"nt : \"}, steps=steps)]\n",
    "\n",
    "    fig.update_xaxes(title='t', col=1)\n",
    "    fig.update_yaxes(row=1, col=1, title='u')\n",
    "    fig.update_yaxes(row=2, col=1, title='|error|')\n",
    "    fig.update_layout(sliders=sliders, title=method_str, height=800, legend_tracegroupgap=290)\n",
    "    fig['layout']['sliders'][0]['pad']=dict(t= 50)\n",
    "    fig.show()"
   ]
  },
  {
   "cell_type": "markdown",
   "metadata": {},
   "source": [
    "### Méthode d'ordre 1 (Euler explicite)"
   ]
  },
  {
   "cell_type": "code",
   "execution_count": null,
   "metadata": {
    "scrolled": false,
    "tags": [
     "hide-input"
    ]
   },
   "outputs": [],
   "source": [
    "class ode_result:\n",
    "    def __init__(self, y, t):\n",
    "        self.y = y\n",
    "        self.t = t\n",
    "\n",
    "def forward_euler(tini, tend, nt, yini, fcn):\n",
    "\n",
    "    dt = (tend-tini) / (nt-1)\n",
    "    t = np.linspace(tini, tend, nt)\n",
    "\n",
    "    yini_array = np.array(yini)\n",
    "    neq = yini_array.size\n",
    "\n",
    "    y = np.zeros((neq, nt), order='F')\n",
    "    y[:,0] = yini_array\n",
    "\n",
    "    for it, tn  in enumerate(t[:-1]):\n",
    "        yn = y[:,it]\n",
    "        y[:,it+1] = yn + dt*np.array(fcn(tn, yn))\n",
    "\n",
    "    return ode_result(y, t)\n",
    "\n",
    "\n",
    "def stabiliy_disk_rk1():\n",
    "    x = np.linspace(-3, 1, 500)\n",
    "    y = np.linspace(-2, 2, 500)\n",
    "\n",
    "    z = x + 1j*y[:, np.newaxis]\n",
    "    disk = np.zeros_like(z, dtype = np.double)\n",
    "    rk1 = z + 1\n",
    "    mask = np.abs(rk1)<=1\n",
    "    disk[mask] = np.abs(rk1[mask])\n",
    "    return x, y, disk"
   ]
  },
  {
   "cell_type": "code",
   "execution_count": null,
   "metadata": {},
   "outputs": [],
   "source": [
    "plot_sol_and_error(order=1)"
   ]
  },
  {
   "cell_type": "markdown",
   "metadata": {},
   "source": [
    "### Méthode d'ordre 2 (RK2)"
   ]
  },
  {
   "cell_type": "code",
   "execution_count": null,
   "metadata": {
    "tags": [
     "hide-input"
    ]
   },
   "outputs": [],
   "source": [
    "def rk2(tini, tend, nt, yini, fcn):\n",
    "\n",
    "    dt = (tend-tini) / (nt-1)\n",
    "    t = np.linspace(tini, tend, nt)\n",
    "\n",
    "    yini_array = np.array(yini)\n",
    "    neq = yini_array.size\n",
    "\n",
    "    y = np.zeros((neq, nt), order='F')\n",
    "    y[:,0] = yini_array\n",
    "\n",
    "    for it, tn  in enumerate(t[:-1]):\n",
    "        yn = y[:,it]\n",
    "        k1 = fcn(tn, yn)\n",
    "        k2 = fcn(tn + 0.5*dt, yn + dt*(0.5*k1))\n",
    "        y[:,it+1] = yn + dt*k2\n",
    "\n",
    "    return ode_result(y, t)\n",
    "\n",
    "def stabiliy_disk_rk2():\n",
    "    x = np.linspace(-3, 1, 500)\n",
    "    y = np.linspace(-2, 2, 500)\n",
    "\n",
    "    z = x + 1j*y[:, np.newaxis]\n",
    "    disk = np.zeros_like(z, dtype = np.double)\n",
    "    rk2 = z + z**2/2 + 1\n",
    "    mask = np.abs(rk2)<=1\n",
    "    disk[mask] = np.abs(rk2[mask])\n",
    "    return x, y, disk"
   ]
  },
  {
   "cell_type": "code",
   "execution_count": null,
   "metadata": {},
   "outputs": [],
   "source": [
    "plot_sol_and_error(order=2)"
   ]
  },
  {
   "cell_type": "markdown",
   "metadata": {},
   "source": [
    "### Méthode d'ordre 3 (RK3)"
   ]
  },
  {
   "cell_type": "code",
   "execution_count": null,
   "metadata": {
    "tags": [
     "hide-input"
    ]
   },
   "outputs": [],
   "source": [
    "def rk3(tini, tend, nt, yini, fcn):\n",
    "\n",
    "    dt = (tend-tini) / (nt-1)\n",
    "    t = np.linspace(tini, tend, nt)\n",
    "\n",
    "    yini_array = np.array(yini)\n",
    "    neq = yini_array.size\n",
    "\n",
    "    y = np.zeros((neq, nt), order='F')\n",
    "    y[:,0] = yini_array\n",
    "\n",
    "    for it, tn  in enumerate(t[:-1]):\n",
    "        yn = y[:,it]\n",
    "        k1 = fcn(tn, yn)\n",
    "        k2 = fcn(tn + 0.5*dt, yn + dt*(0.5*k1))\n",
    "        k3 = fcn(tn + dt, yn + dt*(-k1 + 2*k2))\n",
    "        y[:,it+1] = yn + (dt/6)*(k1+4*k2+k3)\n",
    "\n",
    "    return ode_result(y, t)\n",
    "\n",
    "def stabiliy_disk_rk3():\n",
    "    x = np.linspace(-4, 2, 500)\n",
    "    y = np.linspace(-3, 3, 500)\n",
    "\n",
    "    z = x + 1j*y[:, np.newaxis]\n",
    "    disk = np.zeros_like(z, dtype = np.double)\n",
    "    rk3 = z + z**2/2 + z**3/6 + 1\n",
    "    mask = np.abs(rk3)<=1\n",
    "    disk[mask] = np.abs(rk3[mask])\n",
    "    return x, y, disk"
   ]
  },
  {
   "cell_type": "code",
   "execution_count": null,
   "metadata": {},
   "outputs": [],
   "source": [
    "plot_sol_and_error(order=3)"
   ]
  },
  {
   "cell_type": "markdown",
   "metadata": {},
   "source": [
    "### Méthode d'ordre 4 (RK4)"
   ]
  },
  {
   "cell_type": "code",
   "execution_count": null,
   "metadata": {
    "tags": [
     "hide-input"
    ]
   },
   "outputs": [],
   "source": [
    "def rk4(tini, tend, nt, yini, fcn):\n",
    "\n",
    "    dt = (tend-tini) / (nt-1)\n",
    "    t = np.linspace(tini, tend, nt)\n",
    "\n",
    "    yini_array = np.array(yini)\n",
    "    neq = yini_array.size\n",
    "\n",
    "    y = np.zeros((neq, nt), order='F')\n",
    "    y[:,0] = yini_array\n",
    "\n",
    "    for it, tn  in enumerate(t[:-1]):\n",
    "        yn = y[:,it]\n",
    "        k1 = fcn(tn, yn)\n",
    "        k2 = fcn(tn + 0.5*dt, yn + dt*(0.5*k1))\n",
    "        k3 = fcn(tn + 0.5*dt, yn + dt*(0.5*k2))\n",
    "        k4 = fcn(tn + dt, yn + dt*k3)\n",
    "        y[:,it+1] = yn + (dt/6)*(k1+2*k2+2*k3+k4)\n",
    "\n",
    "    return ode_result(y, t)\n",
    "\n",
    "def stabiliy_disk_rk4():\n",
    "    x = np.linspace(-4, 2, 500)\n",
    "    y = np.linspace(-3, 3, 500)\n",
    "\n",
    "    z = x + 1j*y[:, np.newaxis]\n",
    "    disk = np.zeros_like(z, dtype = np.double)\n",
    "    rk4 = z + z**2/2 + z**3/6 + z**4/24 + 1\n",
    "    mask = np.abs(rk4)<=1\n",
    "    disk[mask] = np.abs(rk4[mask])\n",
    "    return x, y, disk"
   ]
  },
  {
   "cell_type": "code",
   "execution_count": null,
   "metadata": {},
   "outputs": [],
   "source": [
    "plot_sol_and_error(order=4)"
   ]
  }
 ],
 "metadata": {
  "@webio": {
   "lastCommId": null,
   "lastKernelId": null
  },
  "celltoolbar": "Format de la Cellule Texte Brut",
  "kernelspec": {
   "display_name": "Python 3",
   "language": "python",
   "name": "python3"
  },
  "language_info": {
   "codemirror_mode": {
    "name": "ipython",
    "version": 3
   },
   "file_extension": ".py",
   "mimetype": "text/x-python",
   "name": "python",
   "nbconvert_exporter": "python",
   "pygments_lexer": "ipython3",
   "version": "3.9.7"
  }
 },
 "nbformat": 4,
 "nbformat_minor": 2
}
