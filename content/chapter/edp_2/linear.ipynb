{
 "cells": [
  {
   "cell_type": "code",
   "execution_count": null,
   "id": "cacef391",
   "metadata": {},
   "outputs": [],
   "source": [
    "#\n",
    "#    Notebook de cours MAP412 - Chapitre 10 - M. Massot 2020-2021 - Ecole polytechnique\n",
    "#    ----------   \n",
    "#    Loi de conservation scalaire : cas linéaire\n",
    "#    \n",
    "#    Auteurs : L. Séries et M. Massot - (C) 2021\n",
    "#    "
   ]
  },
  {
   "cell_type": "code",
   "execution_count": null,
   "id": "fb52a7a4",
   "metadata": {},
   "outputs": [],
   "source": [
    "import numpy as np\n",
    "import plotly.graph_objects as go\n",
    "import plotly.io as pio\n",
    "pio.templates.default = \"seaborn\""
   ]
  },
  {
   "cell_type": "markdown",
   "id": "ff0d7e0f",
   "metadata": {},
   "source": [
    "# Loi de conservation scalaire : cas linéaire"
   ]
  },
  {
   "cell_type": "markdown",
   "id": "be10f581",
   "metadata": {},
   "source": [
    "## Equation d'advection linéaire\n",
    "\n",
    "$$ \\partial_t u(x,t) + a \\, \\partial_x u(x,t) = 0$$\n",
    "\n",
    "Nous prendrons comme vitesse de propagation $a=1$ et une donnée initiale type \"petit chapeau\""
   ]
  },
  {
   "cell_type": "code",
   "execution_count": null,
   "id": "4d02555a",
   "metadata": {},
   "outputs": [],
   "source": [
    "# Solution initiale du petit chapeau u0\n",
    "def hat_ini(x):\n",
    "    u = np.empty(x.size)\n",
    "    for ix, xi in enumerate(x):\n",
    "        if xi <= -1 or xi>=1:\n",
    "            u[ix] = 0\n",
    "        elif xi < 0:\n",
    "            u[ix] = xi + 1\n",
    "        else:\n",
    "            u[ix] = -xi + 1\n",
    "    return u\n",
    "\n",
    "# Solution initiale du créneau\n",
    "def step_ini(x):\n",
    "    u = np.empty(x.size)\n",
    "    for ix, xi in enumerate(x):\n",
    "        if xi <= 0 or xi>=2:\n",
    "            u[ix] = -0.5\n",
    "        else:\n",
    "            u[ix] = 1.\n",
    "    return u"
   ]
  },
  {
   "cell_type": "code",
   "execution_count": null,
   "id": "8d813d2b",
   "metadata": {},
   "outputs": [],
   "source": [
    "def upwind(u, nt, dtoverdx):\n",
    "    for it in range(nt-1):\n",
    "        flux = a*u\n",
    "        u[1:] += -dtoverdx * (flux[1:] - flux[:-1])\n",
    "        u[0] = u[-1]\n",
    "    return u"
   ]
  },
  {
   "cell_type": "markdown",
   "id": "1a148d1e",
   "metadata": {},
   "source": [
    "### Influence du CFL"
   ]
  },
  {
   "cell_type": "code",
   "execution_count": null,
   "id": "b23c5e77",
   "metadata": {},
   "outputs": [],
   "source": [
    "xmin = -2.0\n",
    "xmax =  6.0\n",
    "\n",
    "tini = 0.0\n",
    "tend = 4.0\n",
    "\n",
    "a = 1.0\n",
    "\n",
    "uini = hat_ini\n",
    "\n",
    "fig = go.Figure()\n",
    "nxplot = 1000\n",
    "dxplot = (xmax-xmin) / nxplot\n",
    "xplot = np.linspace(xmin+(dxplot/2), xmax-(dxplot/2), 2000)\n",
    "fig.add_trace(go.Scatter(x=xplot, y=uini(xplot), name='initial sol.'))\n",
    "fig.add_trace(go.Scatter(x=xplot, y=uini(a*xplot-tend), name='exact sol.'))\n",
    "\n",
    "nx = 250\n",
    "dx = (xmax-xmin) / nx\n",
    "x = np.linspace(xmin+(dx/2), xmax-(dx/2), nx)\n",
    "\n",
    "u = np.zeros(nx+1)\n",
    "\n",
    "cfl = [0.1, 0.25, 0.5, 0.9, 1.0, 1.01]\n",
    "for cfl_i in cfl:\n",
    "    \n",
    "    nt = int(a*(tend-tini)/(cfl_i*dx)) + 1\n",
    "    dt = (tend-tini)/(nt-1)\n",
    "    dtoverdx = dt/dx\n",
    "    \n",
    "    u[1:] = uini(x)\n",
    "    u = upwind(u, nt, dtoverdx)\n",
    "    \n",
    "    marker=dict(symbol='x')\n",
    "    fig.add_trace(go.Scatter(x=x, y=u[1:], name='num sol.', visible=False, mode='markers', marker=marker))\n",
    "\n",
    "fig.data[2].visible = True\n",
    "\n",
    "# Create and add slider\n",
    "steps = []\n",
    "for i, cfl_i in enumerate(cfl):\n",
    "    nt = int(a*(tend-tini)/(cfl_i*dx)) + 1\n",
    "    dt = (tend-tini)/(nt-1)\n",
    "    args = [{\"visible\": [(el==0 or el==1 or el==i+2) for el in range(len(fig.data))]}]\n",
    "    step = dict(method=\"update\", label = f\"{cfl_i}\", args=args)\n",
    "    steps.append(step)\n",
    "sliders = [dict(currentvalue={'prefix': 'cfl = '}, steps=steps)]\n",
    "\n",
    "fig.update_layout(sliders=sliders, title=f\"Schéma upwind : nx={nx}\")\n",
    "fig.show()"
   ]
  },
  {
   "cell_type": "markdown",
   "id": "111dbf0e",
   "metadata": {},
   "source": [
    "### Solution à CFL fixée"
   ]
  },
  {
   "cell_type": "code",
   "execution_count": null,
   "id": "7ac3c2f8",
   "metadata": {
    "scrolled": false
   },
   "outputs": [],
   "source": [
    "xmin = -2.0\n",
    "xmax =  6.0\n",
    "\n",
    "tini = 0.0\n",
    "tend = 4.0\n",
    "\n",
    "cfl = 0.9\n",
    "\n",
    "a = 1.0\n",
    "\n",
    "uini = hat_ini\n",
    "\n",
    "fig = go.Figure()\n",
    "nxplot = 2000\n",
    "dxplot = (xmax-xmin) / nxplot\n",
    "xplot = np.linspace(xmin+(dxplot/2), xmax-(dxplot/2), nxplot)\n",
    "fig.add_trace(go.Scatter(x=xplot, y=uini(xplot), name='initial sol.'))\n",
    "fig.add_trace(go.Scatter(x=xplot, y=uini(a*xplot-tend), name='exact sol.'))\n",
    "\n",
    "nx = [125, 250, 500, 1000, 2000]\n",
    "for nx_i in nx:\n",
    "    dx = (xmax-xmin) / nx_i\n",
    "    x = np.linspace(xmin+(dx/2), xmax-(dx/2), nx_i)\n",
    "    \n",
    "    nt = int(a*(tend-tini)/(cfl*dx)) + 1\n",
    "    dt = (tend-tini)/(nt-1)\n",
    "    dtoverdx = dt/dx\n",
    "    \n",
    "    u = np.zeros(nx_i+1)\n",
    "    u[1:] = uini(x)\n",
    "    u = upwind(u, nt, dtoverdx)\n",
    "    \n",
    "    marker=dict(symbol='x')\n",
    "    fig.add_trace(go.Scatter(x=x, y=u[1:], name='num sol.', visible=False, mode='markers', marker=marker))\n",
    "\n",
    "fig.data[2].visible = True\n",
    "\n",
    "# Create and add slider\n",
    "steps = []\n",
    "for i, nx_i in enumerate(nx):\n",
    "    args = [{\"visible\": [(el==0 or el==1 or el==i+2) for el in range(len(fig.data))]}]\n",
    "    step = dict(method=\"update\", label = f\"{nx_i}\", args=args)\n",
    "    steps.append(step)\n",
    "sliders = [dict(currentvalue={'prefix': 'nx = '}, steps=steps)]\n",
    "\n",
    "fig.update_layout(sliders=sliders, title=f\"Schéma upwind : cfl={cfl}\")\n",
    "fig.show()"
   ]
  }
 ],
 "metadata": {
  "kernelspec": {
   "display_name": "Python 3",
   "language": "python",
   "name": "python3"
  },
  "language_info": {
   "codemirror_mode": {
    "name": "ipython",
    "version": 3
   },
   "file_extension": ".py",
   "mimetype": "text/x-python",
   "name": "python",
   "nbconvert_exporter": "python",
   "pygments_lexer": "ipython3",
   "version": "3.9.7"
  }
 },
 "nbformat": 4,
 "nbformat_minor": 5
}
