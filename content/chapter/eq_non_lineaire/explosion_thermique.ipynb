{
 "cells": [
  {
   "cell_type": "code",
   "execution_count": null,
   "metadata": {},
   "outputs": [],
   "source": [
    "#\n",
    "#    Notebook de cours MAP412 - Chapitre 6 - M. Massot 2020-2021 - Ecole polytechnique\n",
    "#    ----------   \n",
    "#    Résolution de la solution stationnaire - Explosion thermique\n",
    "#    \n",
    "#    Auteurs : L. Séries et M. Massot - (C) 2021\n",
    "#   "
   ]
  },
  {
   "cell_type": "code",
   "execution_count": null,
   "metadata": {},
   "outputs": [],
   "source": [
    "import time\n",
    "import numpy as np\n",
    "\n",
    "from scipy import optimize\n",
    "from scipy.sparse import diags\n",
    "from scipy.sparse.linalg import spsolve, eigs, factorized\n",
    "\n",
    "import plotly.graph_objects as go\n",
    "from plotly.subplots import make_subplots"
   ]
  },
  {
   "cell_type": "markdown",
   "metadata": {},
   "source": [
    "# Résolution de la solution stationnaire - Explosion thermique"
   ]
  },
  {
   "cell_type": "markdown",
   "metadata": {},
   "source": [
    "## Formulation du problème\n",
    "\n",
    "On souhaite résoudre le problème elliptique constitué par l'équation de Poisson soumise à des conditions aux limites de type de Dirichlet et à un terme source non-linéaire de type explosion thermique :\n",
    "\n",
    "$$\n",
    "\\left\\{\n",
    "\\begin{aligned}\n",
    "-\\mathrm{d}_x^2 \\theta(x) & = \\lambda_{\\mathrm{FK}} \\exp(\\theta(x)) &&x\\in \\Omega = ]0;2[, \\\\\n",
    "        \\theta(x) & =  0 && x\\in \\{0,2\\},\n",
    "\\end{aligned}\n",
    "\\right.\n",
    "$$\n",
    "\n",
    "où $\\lambda_{\\mathrm{FK}}$ est le paramètre de Frank-Kamenetskii. "
   ]
  },
  {
   "cell_type": "code",
   "execution_count": null,
   "metadata": {
    "tags": [
     "hide-input"
    ]
   },
   "outputs": [],
   "source": [
    "class thermal_explosion_model:\n",
    "    \n",
    "    def __init__(self, lamb, xmin, xmax, nx):\n",
    "        self.lamb = lamb\n",
    "        self.xmin = xmin\n",
    "        self.xmax = xmax\n",
    "        self.nx = nx\n",
    "        self.dx = (xmax-xmin)/(nx+1)\n",
    "\n",
    "    def fcn(self, theta):\n",
    "        lamb = self.lamb\n",
    "        nx = self.nx\n",
    "        dx = self.dx\n",
    "        oneoverdxdx = 1/dx**2\n",
    "            \n",
    "        lap = np.zeros(nx)\n",
    "        lap[0]    = oneoverdxdx * (2*theta[0] - theta[1])\n",
    "        lap[1:-1] = oneoverdxdx * (-theta[:-2] + 2*theta[1:-1] - theta[2:])\n",
    "        lap[-1]   = oneoverdxdx * (-theta[-2] + 2*theta[-1])\n",
    "\n",
    "        return lap - lamb*np.exp(theta)\n",
    "    \n",
    "    def jac(self, theta):\n",
    "        lamb = self.lamb\n",
    "        nx = self.nx\n",
    "        dx = self.dx\n",
    "        diagonals = [np.repeat(2/dx**2, nx) - lamb*np.exp(theta), np.repeat(-1/dx**2, nx-1), np.repeat(-1/dx**2, nx-1)]\n",
    "        return diags(diagonals, [0, -1, 1])"
   ]
  },
  {
   "cell_type": "code",
   "execution_count": null,
   "metadata": {
    "tags": [
     "hide-input"
    ]
   },
   "outputs": [],
   "source": [
    "def newton(f, jac, x0, tol=1.e-10, max_iter=50):\n",
    "    \n",
    "    xk = np.copy(x0)\n",
    "    \n",
    "    res = np.zeros(max_iter+1)\n",
    "    res[0] = np.linalg.norm(f(xk))\n",
    "    \n",
    "    incre = np.zeros(max_iter+1)\n",
    "    incre[0] = 0\n",
    "    \n",
    "    # iteration de Newton        \n",
    "    for k in range(max_iter):\n",
    "        increment = spsolve(jac(xk).tocsr(), -f(xk)) \n",
    "        xk = xk + increment\n",
    "        incre[k+1] = np.linalg.norm(increment)/np.linalg.norm(xk)\n",
    "        reskp1 = np.linalg.norm(f(xk))\n",
    "        print(f\"Iteration nb {k+1:3d}: ||f(xk)|| = {reskp1}\")\n",
    "        res[k+1] = reskp1\n",
    "        if ( np.linalg.norm(f(xk)) < tol ): break\n",
    " \n",
    "    return xk, res[:k+2], incre[:k+2]\n",
    "\n",
    "def modified_newton(f, jac, x0, tol=1.e-10, max_iter=50, freq=2):\n",
    "    \n",
    "    xk = np.copy(x0)\n",
    "    \n",
    "    res = np.zeros(max_iter+1)\n",
    "    res[0] = np.linalg.norm(f(xk))\n",
    "    \n",
    "    incre = np.zeros(max_iter+1)\n",
    "    incre[0] = 0\n",
    "    \n",
    "    # iteration de Newton        \n",
    "    for k in range(max_iter):\n",
    "        if k%freq == 0:\n",
    "            jac_mat = jac(xk)  \n",
    "            solve = factorized(jac_mat.tocsc())\n",
    "        increment = solve(-f(xk)) \n",
    "        xk = xk + increment\n",
    "        incre[k+1] = np.linalg.norm(increment)/np.linalg.norm(xk)\n",
    "        reskp1 = np.linalg.norm(f(xk))\n",
    "        print(f\"Iteration nb {k+1:3d}: ||f(xk)|| = {reskp1}\")\n",
    "        res[k+1] = reskp1\n",
    "        if ( np.linalg.norm(f(xk)) < tol ): break\n",
    "    \n",
    "    return xk, res[:k+2], incre[:k+2]"
   ]
  },
  {
   "cell_type": "markdown",
   "metadata": {},
   "source": [
    "## Méthode de Newton"
   ]
  },
  {
   "cell_type": "code",
   "execution_count": null,
   "metadata": {},
   "outputs": [],
   "source": [
    "# Valeur limite de lambda = 0.88 ! Bonnes valeurs : 0.1 - 0.5 - 0.85 - 0.878\n",
    "lamb = 0.1\n",
    "xmin = 0.\n",
    "xmax = 2.\n",
    "# nb of points including boundary conditions\n",
    "nxib = 1002\n",
    "nx = nxib-2\n",
    "\n",
    "tem = thermal_explosion_model(lamb=lamb, xmin=xmin, xmax=xmax, nx=nx)\n",
    "fcn = tem.fcn\n",
    "jac = tem.jac\n",
    "\n",
    "theta_ini = np.zeros(nx)\n",
    "\n",
    "print(f\"Algorithme de Newton\")\n",
    "max_iter=15\n",
    "theta_sol, res, increment = newton(fcn, jac, theta_ini, tol=1.e-13, max_iter=max_iter)\n",
    "\n",
    "jac_eq = jac(theta_sol)\n",
    "\n",
    "eig_val_min = np.real(eigs(jac_eq, k=1, which='SR')[0])[0]\n",
    "eig_val_max = np.real(eigs(jac_eq, k=1, which='LR')[0])[0]\n",
    "print(f\"\\nConditionnement de la matrice Jacobienne à l'équilibre : {eig_val_max/eig_val_min}\")\n",
    "print(f\"\\nConditionnement de la matrice du Laplacien : {(2*(nx+1)/np.pi)**2}\")\n",
    "\n",
    "dx = (xmax-xmin)/(nxib-1)\n",
    "x = np.linspace(0+dx, 1-dx, nx)\n",
    "\n",
    "fig = make_subplots(rows=3, cols=1, vertical_spacing=0.12, \n",
    "                    subplot_titles=(\"Solution\", \"Evolution du résidu\", \"Evolution de l'incrément\"))\n",
    "fig.add_trace(go.Scatter(x=x, y=theta_sol, showlegend=False, \n",
    "                         line_color='cornflowerblue'), row=1, col=1)\n",
    "fig.add_trace(go.Scatter(x=np.arange(res.size), y=res, showlegend=False, mode='lines+markers',\n",
    "                         line=dict(color='cornflowerblue', dash='dot')), row=2, col=1)\n",
    "fig.add_trace(go.Scatter(x=np.arange(1,increment.size), y=increment[1:], showlegend=False, mode='lines+markers',\n",
    "                         line=dict(color='cornflowerblue', dash='dot')), row=3, col=1)\n",
    "\n",
    "fig.update_xaxes(range=[-0.5,increment.size-0.5], row=2)    \n",
    "fig.update_yaxes(type=\"log\", exponentformat='e', row=2)   \n",
    "fig.update_xaxes(range=[-0.5,increment.size-0.5], row=3)    \n",
    "fig.update_yaxes(type=\"log\", exponentformat='e', row=3)    \n",
    "fig.update_layout(height=1200)\n",
    "fig.show()"
   ]
  },
  {
   "cell_type": "markdown",
   "metadata": {},
   "source": [
    "## Méthode de Newton modifiée avec ré-évaluation périodique du Jacobien \n",
    "\n",
    "Le but de cette seconde expérience est de résoudre le problème précédent mais en limitant le coût calcul de l'évaluation du Jacobien et de sa décomposition en ne le faisant que périodiquement voire une fois au début du calcul (paramètre \"freq\" pour fréquence de ré-évaluation de la matrice Jacobienne que l'on prends à max_iter si l'on ne veut qu'une évaluation au début du calcul).\n",
    "\n",
    "Il faut effectuer le calcul avec $\\lambda_{\\mathrm{FK}}=0.1$ dans un premier temps où l'on constate qu'une évaluation au début du calcul est suffisante pour converger car le problème est relativement faiblement non linéaire et raisonnablement mal conditionné. Par contre, cela devient impossible pour $\\lambda_{\\mathrm{FK}}=0.878$, proche du point limite, du fait de la forte non-linéarité du système et de la forte augmentation du conditionnement.\n"
   ]
  },
  {
   "cell_type": "code",
   "execution_count": null,
   "metadata": {
    "scrolled": false
   },
   "outputs": [],
   "source": [
    "# Valeur limite de lambda = 0.88 ! Bonnes valeurs : 0.1 - 0.5 - 0.85 - 0.878\n",
    "lamb = 0.2\n",
    "xmin = 0.\n",
    "xmax = 2.\n",
    "# nb of points including boundary conditions\n",
    "nxib = 1002\n",
    "nx = nxib-2\n",
    "\n",
    "tem = thermal_explosion_model(lamb=lamb, xmin=xmin, xmax=xmax, nx=nx)\n",
    "fcn = tem.fcn\n",
    "jac = tem.jac\n",
    "\n",
    "theta_ini = np.zeros(nx)\n",
    "\n",
    "print(f\"Algorithme de Newton\")\n",
    "max_iter = 20\n",
    "theta_sol, res, increment = newton(fcn, jac, theta_ini, tol=1.e-14, max_iter=max_iter)\n",
    "\n",
    "print(f\"\\nAlgorithme de Newton modifié\")\n",
    "# on fixe ici la fréquence d'évaluation du jacobien et de sa décomposition\n",
    "# si freq = max_iter alors on ne fait qu'une évaluation de Jacobien au début\n",
    "freq = 3\n",
    "theta_sol_mod, res_mod, increment_mod = modified_newton(fcn, jac, theta_ini, tol=1.e-14, max_iter=max_iter, freq=freq)\n",
    "\n",
    "jac_eq = jac(theta_sol)\n",
    "\n",
    "eig_val_min = np.real(eigs(jac_eq, k=1, which='SR')[0])[0]\n",
    "eig_val_max = np.real(eigs(jac_eq, k=1, which='LR')[0])[0]\n",
    "print(f\"\\nConditionnement de la matrice Jacobienne à l'équilibre : {eig_val_max/eig_val_min}\")\n",
    "print(f\"\\nConditionnement de la matrice du Laplacien  : {(2*(nx+1)/np.pi)**2}\")\n",
    "\n",
    "fig = make_subplots(rows=2, cols=1, vertical_spacing=0.12, \n",
    "                    subplot_titles=(\"Evolution du résidu\", \"Evolution de l'incrément\"))\n",
    "fig.add_trace(go.Scatter(x=np.arange(res.size), y=res, mode='lines+markers', name='Newton',\n",
    "                         line=dict(color='cornflowerblue', dash='dot'), legendgroup = '1'), row=1, col=1)\n",
    "fig.add_trace(go.Scatter(x=np.arange(res_mod.size), y=res_mod, mode='lines+markers', name='Newton modifié',\n",
    "                        line=dict(color='crimson', dash='dot'), legendgroup = '1'), row=1, col=1)\n",
    "fig.add_trace(go.Scatter(x=np.arange(1,increment.size), y=increment[1:], mode='lines+markers', name='Newton',\n",
    "                         line=dict(color='cornflowerblue', dash='dot'), legendgroup = '2'), row=2, col=1)\n",
    "fig.add_trace(go.Scatter(x=np.arange(1,increment_mod.size), y=increment_mod[1:], mode='lines+markers', name='Newton modifié',\n",
    "                         line=dict(color='crimson', dash='dot'), legendgroup = '2'), row=2, col=1)\n",
    "\n",
    "fig.update_xaxes(range=[-0.5,increment.size-0.5], row=1)    \n",
    "fig.update_yaxes(type=\"log\", exponentformat='e', row=1)   \n",
    "fig.update_xaxes(range=[-0.5,increment.size-0.5], row=2)    \n",
    "fig.update_yaxes(type=\"log\", exponentformat='e', row=2)    \n",
    "fig.update_layout(height=1000, legend_tracegroupgap=430, legend=dict(x=0.77, bgcolor='rgba(0,0,0,0)'))\n",
    "fig.show()"
   ]
  }
 ],
 "metadata": {
  "@webio": {
   "lastCommId": null,
   "lastKernelId": null
  },
  "celltoolbar": "Format de la Cellule Texte Brut",
  "kernelspec": {
   "display_name": "Python 3",
   "language": "python",
   "name": "python3"
  },
  "language_info": {
   "codemirror_mode": {
    "name": "ipython",
    "version": 3
   },
   "file_extension": ".py",
   "mimetype": "text/x-python",
   "name": "python",
   "nbconvert_exporter": "python",
   "pygments_lexer": "ipython3",
   "version": "3.9.7"
  },
  "latex_envs": {
   "LaTeX_envs_menu_present": true,
   "autoclose": false,
   "autocomplete": false,
   "bibliofile": "biblio.bib",
   "cite_by": "apalike",
   "current_citInitial": 1,
   "eqLabelWithNumbers": true,
   "eqNumInitial": 1,
   "hotkeys": {
    "equation": "Ctrl-E",
    "itemize": "Ctrl-I"
   },
   "labels_anchors": false,
   "latex_user_defs": false,
   "report_style_numbering": false,
   "user_envs_cfg": false
  }
 },
 "nbformat": 4,
 "nbformat_minor": 2
}
