{
 "cells": [
  {
   "cell_type": "code",
   "execution_count": null,
   "metadata": {},
   "outputs": [],
   "source": [
    "#\n",
    "#    Notebook de cours MAP412 - Chapitre 6 - M. Massot 2020-2021 - Ecole polytechnique\n",
    "#    ----------   \n",
    "#    Méthodes de Newton et de la sécante\n",
    "#    \n",
    "#    Auteurs : L. Séries et M. Massot - (C) 2021\n",
    "#   "
   ]
  },
  {
   "cell_type": "code",
   "execution_count": null,
   "metadata": {},
   "outputs": [],
   "source": [
    "import numpy as np\n",
    "import plotly.graph_objects as go\n",
    "from plotly.subplots import make_subplots"
   ]
  },
  {
   "cell_type": "markdown",
   "metadata": {},
   "source": [
    "# Méthodes de Newton et de la sécante"
   ]
  },
  {
   "cell_type": "markdown",
   "metadata": {},
   "source": [
    "## Itération de la méthode de Newton\n",
    "\n",
    "On propose de tester la méthode Newton sur la fonction :\n",
    "\n",
    "$$f(x) = x^3 -2 x -5 $$"
   ]
  },
  {
   "cell_type": "code",
   "execution_count": null,
   "metadata": {},
   "outputs": [],
   "source": [
    "def f(x):\n",
    "    return x**3 - 2*x - 5\n",
    "\n",
    "def df(x):\n",
    "    return 3*x**2 - 2"
   ]
  },
  {
   "cell_type": "code",
   "execution_count": null,
   "metadata": {},
   "outputs": [],
   "source": [
    "def newton(f, df, x0, xstar, tol=1.e-12, nitmax=30):\n",
    "\n",
    "    # initialisation\n",
    "    x = np.zeros(nitmax+1)\n",
    "    err = np.zeros(nitmax+1)\n",
    "    err_res = np.zeros(nitmax+1)\n",
    "    diff_x = np.zeros(nitmax)\n",
    "    x[0] = x0\n",
    "    err[0] = abs(x0 - xstar)\n",
    "    err_res[0] = abs(f(x0))\n",
    "\n",
    "    # iteration de Newton\n",
    "    for i in range(1, nitmax+1):\n",
    "        x[i] = x[i-1] - f(x[i-1])/df(x[i-1])\n",
    "        err[i] = abs(x[i]-xstar)\n",
    "        err_res[i] = abs(f(x[i]))\n",
    "        diff_x[i-1] = abs(x[i-1]-x[i])\n",
    "        print(f\"it = {i}, xn = {x[i]:14.8e}, en = {err[i]:14.8e}, |f(xn)| = {err_res[i]:14.8e}, |xn - xn-1| = {diff_x[i-1]:14.8e}\" )\n",
    "        ##if ( f(x[i]) < tol ): break\n",
    "        if ( err[i] < tol ): break\n",
    "\n",
    "    return x[0:i+1], err[0:i+1], err_res[0:i+1], diff_x[0:i]"
   ]
  },
  {
   "cell_type": "code",
   "execution_count": null,
   "metadata": {},
   "outputs": [],
   "source": [
    "xsol, err, err_res, diff_x = newton(f, df, x0=4., xstar=2.0945514815423265)"
   ]
  },
  {
   "cell_type": "code",
   "execution_count": null,
   "metadata": {
    "tags": [
     "hide-input"
    ]
   },
   "outputs": [],
   "source": [
    "xmin = 1.9; xmax = 4.1\n",
    "x = np.linspace(1.9, 4.1, 100)\n",
    "\n",
    "fig = make_subplots(rows=2, cols=1)\n",
    "\n",
    "fig.add_trace(go.Scatter(x=x, y=f(x), name='f(x)', line_color=\"cornflowerblue\", legendgroup = '1'), row=1, col=1)\n",
    "fig.add_shape(type=\"line\", x0=xmin, y0=0, x1=xmax, y1=0, row=1, col=1)\n",
    "for i in range(xsol.size-1):\n",
    "    fig.add_trace(go.Scatter(x=[xsol[i], xsol[i]], y=[0, f(xsol[i])], showlegend=False,\n",
    "                             line=dict(color='crimson', width=2, dash='dash')), row=1, col=1)\n",
    "    fig.add_trace(go.Scatter(x=[xsol[i], xsol[i+1]], y=[f(xsol[i]), 0], showlegend=False,\n",
    "                             line=dict(color='crimson', width=2, dash='dash')), row=1, col=1)\n",
    "\n",
    "g = lambda x : x - f(x)/df(x)\n",
    "\n",
    "fig.add_trace(go.Scatter(x=x, y=g(x), name='g(x) = x - f(x)/df(x)', line_color=\"green\", legendgroup = '2'), row=2, col=1)\n",
    "fig.add_trace(go.Scatter(x=x, y=x, line_color=\"black\", name='y=x', legendgroup = '2'), row=2, col=1)\n",
    "fig.add_shape(type=\"line\", x0=xmin, y0=0, x1=xmax, y1=0, row=2, col=1)\n",
    "\n",
    "for i in range(xsol.size-1):\n",
    "    fig.add_trace(go.Scatter(x=[xsol[i], xsol[i]], y=[0, g(xsol[i])], showlegend=False,\n",
    "                              line=dict(color='crimson', width=2, dash='dash')), row=2, col=1)\n",
    "    fig.add_trace(go.Scatter(x=[xsol[i], xsol[i+1]], y=[g(xsol[i]), xsol[i+1]], showlegend=False,\n",
    "                             line=dict(color='crimson', width=2, dash='dash')), row=2, col=1)\n",
    "    fig.add_trace(go.Scatter(x=[xsol[i+1], xsol[i+1]], y=[xsol[i+1], g(xsol[i+1])], showlegend=False,\n",
    "                             line=dict(color='crimson', width=2, dash='dash')), row=2, col=1)\n",
    "\n",
    "fig.update_xaxes(range=[1.9, 4.1], tickmode = 'array', tickvals=xsol[:4], tickformat='.2f')    \n",
    "fig.update_yaxes(range=[-0.1, 4.1], row=1, col=2)\n",
    "fig.update_layout(title=\"Itérations de Newton\", height=1000, legend_tracegroupgap=450)    \n",
    "fig.show()"
   ]
  },
  {
   "cell_type": "markdown",
   "metadata": {},
   "source": [
    "## Convergence de la méthode de Newton"
   ]
  },
  {
   "cell_type": "code",
   "execution_count": null,
   "metadata": {
    "tags": [
     "hide-input"
    ]
   },
   "outputs": [],
   "source": [
    "fig1 = go.Figure()\n",
    "fig1.add_trace(go.Scatter(x=np.arange(err.size), y=err, name='erreur', mode='markers')) \n",
    "fig1.add_trace(go.Scatter(x=np.arange(err_res.size), y=err_res, name='erreur residuelle', mode='markers')) \n",
    "fig1.add_trace(go.Scatter(x=np.arange(1, err.size), y=diff_x[:], name='différence des itérés', mode='markers')) \n",
    "fig1.update_xaxes(title='Itération')    \n",
    "fig1.update_yaxes(type=\"log\", exponentformat='e', title=\"Erreur\")    \n",
    "fig1.update_layout(title=\"Historique de convergence\")    \n",
    "fig1.show()\n",
    "\n",
    "fig2 = go.Figure()\n",
    "fig2.add_trace(go.Scatter(x=err[:-1:], y=err[1:], name='erreur', mode='markers')) \n",
    "fig2.add_trace(go.Scatter(x=err[:-1], y=err[:-1], name='droite de pente -1', mode='lines', line_dash='dot')) \n",
    "fig2.add_trace(go.Scatter(x=err[:-1], y=err[:-1]*err[:-1], name='droite de pente -2', mode='lines', line_dash='dot')) \n",
    "fig2.update_xaxes(type=\"log\", exponentformat='e', title=\"Erreur à l'itération k\")    \n",
    "fig2.update_yaxes(type=\"log\", exponentformat='e', title=\"Erreur à l'itération k+1\") \n",
    "fig2.update_layout(title=\"Ordre de convergence\")    \n",
    "fig2.show()"
   ]
  },
  {
   "cell_type": "markdown",
   "metadata": {},
   "source": [
    "# Méthode de la sécante\n",
    "\n",
    "On propose de tester la méthode de la sécante sur la même fonction :\n",
    "\n",
    "$$f(x) = x^3 -2 x -5 $$"
   ]
  },
  {
   "cell_type": "code",
   "execution_count": null,
   "metadata": {},
   "outputs": [],
   "source": [
    "def secante(f, x0, x1, xstar, tol=1.e-12, nitmax=50):\n",
    "   \n",
    "    # initialisation\n",
    "    x = np.zeros(nitmax+2)\n",
    "    err = np.zeros(nitmax+2)\n",
    "    err_res = np.zeros(nitmax+2)\n",
    "    diff_x = np.zeros(nitmax+1)\n",
    "    x[0] = x0\n",
    "    x[1] = x1\n",
    "    err[0] = abs(x0 - xstar)\n",
    "    err[1] = abs(x1 - xstar)\n",
    "    err_res[0] = abs(f(x0))\n",
    "    err_res[1] = abs(f(x1))\n",
    "    diff_x[0] = abs(x1-x0)\n",
    "    \n",
    "    # iteration de la méthode de la sécante        \n",
    "    for i in range(2, nitmax+2):\n",
    "        x[i] = x[i-1] - ((x[i-1] - x[i-2])/(f(x[i-1]) - f(x[i-2])))*f(x[i-1])\n",
    "        err[i] = abs(x[i]-xstar)\n",
    "        err_res[i] = abs(f(x[i]))\n",
    "        diff_x[i-1] = abs(x[i-1]-x[i])\n",
    "        print(f\"it = {i-1}, xn = {x[i]:16.8e}, en = {err[i]:16.8e}, |f(xn)| = {err_res[i]:16.8e}, |xn - xn-1| = {diff_x[i-1]:16.8e}\" )\n",
    "        #print(i, x[i], err_res[i], err[i])\n",
    "        ##if ( f(x[i]) < tol ): break\n",
    "        if ( err[i] < tol ): break\n",
    "\n",
    "    return x[0:i+1], err[0:i+1], err_res[0:i+1], diff_x[0:i]"
   ]
  },
  {
   "cell_type": "markdown",
   "metadata": {},
   "source": [
    "## Itération de la méthode de la sécante"
   ]
  },
  {
   "cell_type": "code",
   "execution_count": null,
   "metadata": {},
   "outputs": [],
   "source": [
    "xsol, err, err_res, diff_x = secante(f, x0=4, x1=3.8, xstar=2.0945514815423265)"
   ]
  },
  {
   "cell_type": "code",
   "execution_count": null,
   "metadata": {
    "tags": [
     "hide-input"
    ]
   },
   "outputs": [],
   "source": [
    "xmin = 1.9; xmax = 4.1\n",
    "x = np.linspace(1.9, 4.1, 100)\n",
    "\n",
    "fig = go.Figure()\n",
    "\n",
    "fig.add_trace(go.Scatter(x=x, y=f(x), name='f(x)', line_color=\"cornflowerblue\"))\n",
    "fig.add_shape(type=\"line\", x0=xmin, y0=0, x1=xmax, y1=0)\n",
    "fig.add_trace(go.Scatter(x=xsol, y=f(xsol), showlegend=False, mode='markers'))\n",
    "for i in range(xsol.size-2):\n",
    "    fig.add_trace(go.Scatter(x=[xsol[i], xsol[i+1], xsol[i+2]], y=[f(xsol[i]), f(xsol[i+1]), 0], showlegend=False,\n",
    "                             line=dict(color='crimson', width=2, dash='dash')))\n",
    "    fig.add_trace(go.Scatter(x=[xsol[i+2], xsol[i+2]], y=[0, f(xsol[i+2])], showlegend=False,\n",
    "                             line=dict(color='crimson', width=2, dash='dash')))\n",
    "\n",
    "fig.update_layout(title=\"Itérations de la méthode de la sécante\")    \n",
    "fig.show()                             "
   ]
  },
  {
   "cell_type": "markdown",
   "metadata": {},
   "source": [
    "## Convergence de la méthode de la sécante"
   ]
  },
  {
   "cell_type": "code",
   "execution_count": null,
   "metadata": {
    "tags": [
     "hide-input"
    ]
   },
   "outputs": [],
   "source": [
    "fig1 = go.Figure()\n",
    "fig1.add_trace(go.Scatter(x=np.arange(err.size), y=err, name='erreur', mode='markers')) \n",
    "fig1.add_trace(go.Scatter(x=np.arange(err_res.size), y=err_res, name='erreur residuelle', mode='markers')) \n",
    "fig1.add_trace(go.Scatter(x=np.arange(1, err.size), y=diff_x[:], name='différence des itérés', mode='markers')) \n",
    "fig1.update_xaxes(title='Itération')    \n",
    "fig1.update_yaxes(type=\"log\", exponentformat='e', title=\"Erreur\")    \n",
    "fig1.update_layout(title=\"Historique de convergence\")    \n",
    "fig1.show()\n",
    "\n",
    "fig2 = go.Figure()\n",
    "fig2.add_trace(go.Scatter(x=err[:-1:], y=err[1:], name='erreur', mode='markers')) \n",
    "fig2.add_trace(go.Scatter(x=err[:-1], y=err[:-1], name='droite de pente -1', mode='lines', line_dash='dot')) \n",
    "fig2.add_trace(go.Scatter(x=err[:-1], y=err[:-1]*err[:-1], name='droite de pente -2', mode='lines', line_dash='dot')) \n",
    "fig2.update_xaxes(type=\"log\", exponentformat='e', title=\"Erreur à l'itération k\")    \n",
    "fig2.update_yaxes(type=\"log\", exponentformat='e', title=\"Erreur à l'itération k+1\") \n",
    "fig2.update_layout(title=\"Ordre de convergence\")    \n",
    "fig2.show()"
   ]
  }
 ],
 "metadata": {
  "@webio": {
   "lastCommId": null,
   "lastKernelId": null
  },
  "celltoolbar": "Format de la Cellule Texte Brut",
  "kernelspec": {
   "display_name": "Python 3",
   "language": "python",
   "name": "python3"
  },
  "language_info": {
   "codemirror_mode": {
    "name": "ipython",
    "version": 3
   },
   "file_extension": ".py",
   "mimetype": "text/x-python",
   "name": "python",
   "nbconvert_exporter": "python",
   "pygments_lexer": "ipython3",
   "version": "3.9.7"
  },
  "latex_envs": {
   "LaTeX_envs_menu_present": true,
   "autoclose": false,
   "autocomplete": false,
   "bibliofile": "biblio.bib",
   "cite_by": "apalike",
   "current_citInitial": 1,
   "eqLabelWithNumbers": true,
   "eqNumInitial": 1,
   "hotkeys": {
    "equation": "Ctrl-E",
    "itemize": "Ctrl-I"
   },
   "labels_anchors": false,
   "latex_user_defs": false,
   "report_style_numbering": false,
   "user_envs_cfg": false
  }
 },
 "nbformat": 4,
 "nbformat_minor": 2
}
