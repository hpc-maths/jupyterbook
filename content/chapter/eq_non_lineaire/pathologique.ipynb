{
 "cells": [
  {
   "cell_type": "code",
   "execution_count": null,
   "metadata": {},
   "outputs": [],
   "source": [
    "#\n",
    "#    Notebook de cours MAP412 - Chapitre 6 - M. Massot 2020-2021 - Ecole polytechnique\n",
    "#    ----------   \n",
    "#    Comportement pathologique de la méthode de Newton\n",
    "#    \n",
    "#    Auteurs : L. Séries et M. Massot - (C) 2021\n",
    "#   "
   ]
  },
  {
   "cell_type": "code",
   "execution_count": null,
   "metadata": {},
   "outputs": [],
   "source": [
    "import numpy as np\n",
    "import plotly.graph_objects as go\n",
    "from mpmath import iv"
   ]
  },
  {
   "cell_type": "markdown",
   "metadata": {},
   "source": [
    "# Comportement pathologique de la méthode de Newton\n",
    "\n",
    "On considère la fonction :\n",
    "\n",
    "$$\n",
    "f(x) = x^2 + 10^{-15}\n",
    "$$\n",
    "\n",
    "Cette fonction est strictement positive."
   ]
  },
  {
   "cell_type": "code",
   "execution_count": null,
   "metadata": {},
   "outputs": [],
   "source": [
    "def f(x):\n",
    "    return x**2 + 1.e-15\n",
    "\n",
    "def df(x):\n",
    "    return 2*x "
   ]
  },
  {
   "cell_type": "code",
   "execution_count": null,
   "metadata": {},
   "outputs": [],
   "source": [
    "xmin=-0.5; xmax=0.5\n",
    "x = np.linspace(xmin, xmax, 1000)   \n",
    "fig = go.Figure()\n",
    "fig.add_trace(go.Scatter(x=x, y=f(x), name='f(x)', showlegend=True))\n",
    "fig.add_shape(type=\"line\", x0=xmin, y0=0, x1=xmax, y1=0)\n",
    "fig.show()"
   ]
  },
  {
   "cell_type": "markdown",
   "metadata": {},
   "source": [
    "## Résolution pas la méthode de Newton"
   ]
  },
  {
   "cell_type": "code",
   "execution_count": null,
   "metadata": {},
   "outputs": [],
   "source": [
    "def newton(f, df, x0, tol=1.e-11, nitmax=50):\n",
    "    \n",
    "    # initialisation\n",
    "    x = np.zeros(nitmax+1)\n",
    "    e_res = np.zeros(nitmax+1)\n",
    "    x[0] = x0\n",
    "    e_res[0] = abs(f(x0))\n",
    "    it = 0\n",
    "    \n",
    "    # iteration de Newton        \n",
    "    for i in range(1, nitmax+1):\n",
    "        x[i] = x[i-1] - f(x[i-1])/df(x[i-1])\n",
    "        e_res[i] = abs(f(x[i]))\n",
    "        print(f\"Iteration nb {i:3d} : x = {x[i]:16.9e}, erreur residuelle : |f(x)| = {e_res[i]:16.9e}\")\n",
    "        if ( f(x[i]) < tol ): break\n",
    "\n",
    "    return"
   ]
  },
  {
   "cell_type": "code",
   "execution_count": null,
   "metadata": {},
   "outputs": [],
   "source": [
    "newton(f, df, x0=1, tol=1.e-10, nitmax=100)"
   ]
  },
  {
   "cell_type": "markdown",
   "metadata": {},
   "source": [
    "**Il est instructif d'essayer plusieurs tolérances :** \n",
    "\n",
    "* $\\epsilon = 1.e-10$ --> solution : 7.62935084e-06 (17 itérations)\n",
    "* $\\epsilon = 1.e-11$ --> solution : 1.90717387e-06 (19 itérations)\n",
    "* $\\epsilon = 1.e-12$ --> solution : 9.53324765e-07 (20 itérations)\n",
    "* $\\epsilon = 1.e-13$ --> solution : 2.37018835e-07 (22 itérations)\n",
    "* $\\epsilon = 1.e-14$ --> solution : 5.39044033e-08 (24 itérations)\n",
    "* $\\epsilon = 1.e-15$ --> non convergence après 100 itérations"
   ]
  },
  {
   "cell_type": "markdown",
   "metadata": {},
   "source": [
    "## Arithmétique d'intervalle"
   ]
  },
  {
   "cell_type": "markdown",
   "metadata": {},
   "source": [
    "Alors que l'algorithme de Newton en double précision peut ici rencontrer quelques soucis, une simple application de l'arithmétique d'intervalle permet de conclure sur le fait qu'il y a, ou non, existence de solution. On pourra consulter la PC6 pour aller plus loin et l'article de Taschini (2008) proposé en bibliographie complémentaire pour un algorithme de résolution d'équation non-linéaire par une méthode de Newton utilisant l'arithmétique d'intervalle."
   ]
  },
  {
   "cell_type": "code",
   "execution_count": null,
   "metadata": {},
   "outputs": [],
   "source": [
    "X = iv.mpf([xmin,xmax])\n",
    "print(f(X))"
   ]
  }
 ],
 "metadata": {
  "@webio": {
   "lastCommId": null,
   "lastKernelId": null
  },
  "kernelspec": {
   "display_name": "Python 3",
   "language": "python",
   "name": "python3"
  },
  "language_info": {
   "codemirror_mode": {
    "name": "ipython",
    "version": 3
   },
   "file_extension": ".py",
   "mimetype": "text/x-python",
   "name": "python",
   "nbconvert_exporter": "python",
   "pygments_lexer": "ipython3",
   "version": "3.9.6"
  },
  "latex_envs": {
   "LaTeX_envs_menu_present": true,
   "autoclose": false,
   "autocomplete": false,
   "bibliofile": "biblio.bib",
   "cite_by": "apalike",
   "current_citInitial": 1,
   "eqLabelWithNumbers": true,
   "eqNumInitial": 1,
   "hotkeys": {
    "equation": "Ctrl-E",
    "itemize": "Ctrl-I"
   },
   "labels_anchors": false,
   "latex_user_defs": false,
   "report_style_numbering": false,
   "user_envs_cfg": false
  }
 },
 "nbformat": 4,
 "nbformat_minor": 2
}
