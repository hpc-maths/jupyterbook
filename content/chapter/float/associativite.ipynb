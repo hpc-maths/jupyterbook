{
 "cells": [
  {
   "cell_type": "markdown",
   "metadata": {},
   "source": [
    "# Associativité"
   ]
  },
  {
   "cell_type": "markdown",
   "metadata": {},
   "source": [
    "Une conséquence de l'utilisation de l'arithmétique en virgule flottante est la perte de certaines propriétés mathématiques. Par exemple, l'addition n'est associative. "
   ]
  },
  {
   "cell_type": "markdown",
   "metadata": {},
   "source": [
    "On considère la somme :\n",
    "\n",
    "$$ s_1 = 1  + \\frac{1}{2} + \\frac{1}{3} + \\dots + \\frac{1}{10^6} $$"
   ]
  },
  {
   "cell_type": "code",
   "execution_count": null,
   "metadata": {},
   "outputs": [],
   "source": [
    "from mpmath import mp\n",
    "\n",
    "# on fixe la précision des flottants\n",
    "mp.prec = 24\n",
    "\n",
    "s1 = mp.mpf('0')\n",
    "for i in range(1,1_000_001):\n",
    "    s1 += 1/i\n",
    "print(f\"s1 avec {mp.dps} chiffres significatifs = {s1}\")"
   ]
  },
  {
   "cell_type": "markdown",
   "metadata": {},
   "source": [
    "puis la même somme évaluée dans l'ordre inverse :\n",
    "\n",
    "$$ s_2 = \\frac{1}{10^6} + \\dots  + \\frac{1}{3} + \\frac{1}{2}  + 1 $$"
   ]
  },
  {
   "cell_type": "code",
   "execution_count": null,
   "metadata": {},
   "outputs": [],
   "source": [
    "s2 = mp.mpf('0')\n",
    "for i in range(1_000_000, 0, -1):\n",
    "    s2 += 1/i\n",
    "print(f\"s2 avec {mp.dps} chiffres significatifs = {s2}\")\n",
    "\n",
    "print(f\"\\nEcart relatif entre les deux sommes avec {mp.dps} chiffres significatifs : {abs(s1-s2)/s2 * 100} %\")"
   ]
  },
  {
   "cell_type": "markdown",
   "metadata": {},
   "source": [
    "On peut calculer une valeur de référence en utilisant une grande précision. On vérfie qu'avec cette précision le calcul de la somme ne dépend pas de l'ordre des termes :"
   ]
  },
  {
   "cell_type": "code",
   "execution_count": null,
   "metadata": {},
   "outputs": [],
   "source": [
    "mpref = mp.clone()\n",
    "mpref.prec = 113\n",
    "sref = mpref.mpf('0')\n",
    "for i in range(1_000_000, 0, -1):\n",
    "    sref += 1/i\n",
    "print(f\"sref (ordre décroissant) avec {mpref.dps} chiffres significatifs = {sref} \\n\")\n",
    "\n",
    "sref2 = mpref.mpf('0')\n",
    "for i in range(1,1_000_001):\n",
    "    sref2 += 1/i\n",
    "print(f\"sref2 (ordre croissant)  avec {mpref.dps} chiffres significatifs = {sref2} \\n\")\n",
    "\n",
    "print(f\"sref2 - sref = {sref-sref2}\")"
   ]
  },
  {
   "cell_type": "markdown",
   "metadata": {},
   "source": [
    "On peut alors évaluer l'erreur commise entre le calcul des 2 sommes avec la précision initiale :"
   ]
  },
  {
   "cell_type": "code",
   "execution_count": null,
   "metadata": {},
   "outputs": [],
   "source": [
    "print(f\"1er  forme : erreur avec {mp.dps} chiffres significatifs = {abs(s1-sref)/sref * 100} %\")\n",
    "print(f\"2eme forme : erreur avec {mp.dps} chiffres significatifs = {abs(s2-sref)/sref * 100} %\")"
   ]
  }
 ],
 "metadata": {
  "@webio": {
   "lastCommId": null,
   "lastKernelId": null
  },
  "kernelspec": {
   "display_name": "Python 3",
   "language": "python",
   "name": "python3"
  },
  "language_info": {
   "codemirror_mode": {
    "name": "ipython",
    "version": 3
   },
   "file_extension": ".py",
   "mimetype": "text/x-python",
   "name": "python",
   "nbconvert_exporter": "python",
   "pygments_lexer": "ipython3",
   "version": "3.9.6"
  },
  "latex_envs": {
   "LaTeX_envs_menu_present": true,
   "autoclose": false,
   "autocomplete": true,
   "bibliofile": "biblio.bib",
   "cite_by": "apalike",
   "current_citInitial": 1,
   "eqLabelWithNumbers": true,
   "eqNumInitial": 1,
   "hotkeys": {
    "equation": "Ctrl-E",
    "itemize": "Ctrl-I"
   },
   "labels_anchors": false,
   "latex_user_defs": false,
   "report_style_numbering": false,
   "user_envs_cfg": false
  }
 },
 "nbformat": 4,
 "nbformat_minor": 2
}
