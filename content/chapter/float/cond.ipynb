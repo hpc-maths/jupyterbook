{
 "cells": [
  {
   "cell_type": "markdown",
   "id": "parliamentary-minute",
   "metadata": {},
   "source": [
    "# Evaluation d'une fonction"
   ]
  },
  {
   "cell_type": "markdown",
   "id": "arctic-crowd",
   "metadata": {},
   "source": [
    "Nous étudions le conditionnement de la fonction $P(x) = (x − 1)^6,$ dans un premier temps dans un voisinage de la valeur $x_0 = 1$. Il n’est pas compliqué de voir que le conditionnement en $x$ vaut $\\kappa(x) = x / \\mathcal{P}(x) \\sup_{|y-x|<\\epsilon_M}\\mathcal{P}^\\prime(y)$ et vaut donc approximativement $6x/|x-1|$ dans ce voisinage, ce qui veut dire que le problème y est mal conditionné.\n",
    "\n",
    "Il est proposé d'utiliser trois algorithmes pour évaluer la fonction dans l’intervalle $[0.995 , 1.005]$. Ces trois algorithmes sont basés sur trois formes équivalentes mathématiquement et qui possèdent donc le même conditionnement :\n",
    "- la forme factorisée $P(x) = (1 − x)^6$\n",
    "- la forme développée $P(x) = x^6 − 6x^5 + 15x^4 − 20x^3 + 15x^2 − 6x + 1$\n",
    "- la forme utilisant l’algorithme de Horner $P(x) = ((((((x − 6)x + 15)x − 20)x + 15)x − 6)x + 1)$ "
   ]
  },
  {
   "cell_type": "code",
   "execution_count": null,
   "id": "characteristic-candle",
   "metadata": {
    "scrolled": true
   },
   "outputs": [],
   "source": [
    "def P1(x):\n",
    "    return (x-1)**6\n",
    "\n",
    "def P2(x):\n",
    "    return x**6-6*x**5+15*x**4-20*x**3+15*x**2-6*x+1\n",
    "\n",
    "def P3(x):\n",
    "    return ((((((x-6)*x+15)*x-20)*x+15)*x-6)*x+1)"
   ]
  },
  {
   "cell_type": "markdown",
   "id": "wanted-program",
   "metadata": {},
   "source": [
    "Pour illustrer le comportement de cette évaluation dans le voisinage de 1, la cellule suivante permet de représenter les graphes de la fonction en utilisant les trois algorithmes pour évaluer la fonction."
   ]
  },
  {
   "cell_type": "code",
   "execution_count": null,
   "id": "superior-england",
   "metadata": {},
   "outputs": [],
   "source": [
    "import plotly.graph_objects as go\n",
    "import numpy as np\n",
    "\n",
    "xmin = 0.995\n",
    "xmax = 1.005\n",
    "x = np.linspace(xmin,xmax, 1000)\n",
    "\n",
    "vmin = min(np.min(P1(x)), np.min(P2(x)), np.min(P3(x)))\n",
    "vmax = max(np.max(P1(x)), np.max(P2(x)), np.max(P3(x)))\n",
    "\n",
    "fig = go.Figure()\n",
    "fig.add_trace(go.Scatter(x=x, y=P1(x), name='factorized form'))\n",
    "fig.add_trace(go.Scatter(x=x, y=P2(x), name='developped form'))\n",
    "fig.add_trace(go.Scatter(x=x, y=P3(x), name='Horner form'))\n",
    "fig.update_yaxes(exponentformat='e', range=[1.1*vmin, 1.1*vmax])\n",
    "fig.update_layout(xaxis_title=\"x\", yaxis_title=\"P(x)\")\n",
    "fig.show()"
   ]
  },
  {
   "cell_type": "markdown",
   "id": "martial-collect",
   "metadata": {},
   "source": [
    "Nous constatons que le fait que le problème soit mal conditionné dans cet intervalle peut avoir un impact important sur les erreurs suivant l’algorithme que l’on utilise. La forme développée et Horner donnent un niveau d’erreur relativement presque deux ordres de grandeur plus important que la forme factorisée. Les oscillations sont de plus grande amplitude près de 1 où le conditionnement est mauvais et s’estompent peu à peu lorsque l’on s’en éloigne ce qui semble montrer que les erreurs d’évaluation sont directement reliées au conditionnement.\n",
    "\n",
    "Le mauvais conditionnement que nous avons identifié implique donc de potentielles difficultés d’évaluation et une forte sensibilité à l’algorithme utilisé. Ceci signifie que le choix de l’algorithme aura d’autant plus d’importance que le problème est mal conditionné et il nous faut donc un outil pour évaluer un algorithme. En conclusion, le conditionnement donne une information importante et intrinsèque au problème mathématique que l’on souhaite résoudre mais l’algorithme utilisé joue aussi un rôle et il nous faut pouvoir l’évaluer."
   ]
  }
 ],
 "metadata": {
  "@webio": {
   "lastCommId": null,
   "lastKernelId": null
  },
  "kernelspec": {
   "display_name": "Python 3",
   "language": "python",
   "name": "python3"
  },
  "language_info": {
   "codemirror_mode": {
    "name": "ipython",
    "version": 3
   },
   "file_extension": ".py",
   "mimetype": "text/x-python",
   "name": "python",
   "nbconvert_exporter": "python",
   "pygments_lexer": "ipython3",
   "version": "3.6.12"
  },
  "widgets": {
   "application/vnd.jupyter.widget-state+json": {
    "state": {},
    "version_major": 2,
    "version_minor": 0
   }
  }
 },
 "nbformat": 4,
 "nbformat_minor": 5
}
