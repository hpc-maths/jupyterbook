{
 "cells": [
  {
   "cell_type": "markdown",
   "metadata": {},
   "source": [
    "# Module mpmath\n",
    "\n",
    "Le module Python **mpmath** permet de manipuler des flottants à precision arbitraire en fixant la taille de la mantisse. La documentation de ce module est disponible [ici](http://mpmath.org/doc/current/) et la page **mpmath** [ici](http://mpmath.org/)."
   ]
  },
  {
   "cell_type": "markdown",
   "metadata": {},
   "source": [
    "## Initialisation"
   ]
  },
  {
   "cell_type": "markdown",
   "metadata": {},
   "source": [
    "Pour initialiser un flottant de type arbitraire il suffit d'utiliser la fonction `mpf` : "
   ]
  },
  {
   "cell_type": "code",
   "execution_count": null,
   "metadata": {},
   "outputs": [],
   "source": [
    "from mpmath import mp\n",
    "\n",
    "a = mp.mpf(1.5)\n",
    "print(a)"
   ]
  },
  {
   "cell_type": "markdown",
   "metadata": {},
   "source": [
    "Lors de l'initialisation, il est préférable de préciser la chaîne de caractère '0.1' plutôt que directement la valeur 0.1 (qui correspond par défaut à un flottant sur 64 bits) puisque cette valeur n'est pas réprésentable exactement en binaire. Il est également possible d'utilise la chaîne '1/10'.\n",
    "\n",
    "Si on affiche la valeur de a avec plus de précision avec la fonction `nstr` du module, on peut vérifier que la valeur 0.1 n'est pas réprésentable exactement en binaire :"
   ]
  },
  {
   "cell_type": "code",
   "execution_count": null,
   "metadata": {},
   "outputs": [],
   "source": [
    "b = mp.mpf('0.1')\n",
    "print(b)\n",
    "print(mp.nstr(b, 20))"
   ]
  },
  {
   "cell_type": "markdown",
   "metadata": {},
   "source": [
    "Ce qui n'est pas le cas de *1/8* :  "
   ]
  },
  {
   "cell_type": "code",
   "execution_count": null,
   "metadata": {},
   "outputs": [],
   "source": [
    "c = mp.mpf('1/8')\n",
    "print(c)\n",
    "print(mp.nstr(c, 20, strip_zeros=False))"
   ]
  },
  {
   "cell_type": "markdown",
   "metadata": {},
   "source": [
    "## Modifier la précision"
   ]
  },
  {
   "cell_type": "markdown",
   "metadata": {},
   "source": [
    "Par défault, la taille de la mantisse correspond à celle des flottants double précision de la norme-IEEE-754 avec une taille de mantisse de 53 bits :"
   ]
  },
  {
   "cell_type": "code",
   "execution_count": null,
   "metadata": {},
   "outputs": [],
   "source": [
    "print(mp)"
   ]
  },
  {
   "cell_type": "markdown",
   "metadata": {},
   "source": [
    "ce qui correspond à 15 chiffres significatifs (`mp.dps`) après conversion en décimal :"
   ]
  },
  {
   "cell_type": "code",
   "execution_count": null,
   "metadata": {},
   "outputs": [],
   "source": [
    "print(mp.dps)"
   ]
  },
  {
   "cell_type": "markdown",
   "metadata": {},
   "source": [
    "Pour augmenter la précision des flottants, il suffit de fixer la taille de la mantisse :"
   ]
  },
  {
   "cell_type": "code",
   "execution_count": null,
   "metadata": {},
   "outputs": [],
   "source": [
    "d = mp.mpf('1/10')\n",
    "print(f\"Flottant dont la mantisse est de taille  53 bits : 1/10 = {mp.nstr(d, 40)} \\n\")\n",
    "\n",
    "mp.prec = 113\n",
    "e = mp.mpf('1/10')\n",
    "print(f\"Flottant dont la mantisse est de taille 133 bits : 1/10 = {mp.nstr(e, 40)} \\n\")"
   ]
  },
  {
   "cell_type": "markdown",
   "metadata": {},
   "source": [
    "Il est possibe de copier un contexte `mp` de sorte de travailler avec deux precisions en même temps :"
   ]
  },
  {
   "cell_type": "code",
   "execution_count": null,
   "metadata": {},
   "outputs": [],
   "source": [
    "mp.prec = 53\n",
    "mp_def = mp_def = mp.clone()\n",
    "mp.prec = 113\n",
    "\n",
    "f_dp = mp_def.mpf('1/10')\n",
    "f_qp = mp.mpf('1/10')\n",
    "\n",
    "g_dp = mp_def.mpf('1/8')\n",
    "g_qp = mp.mpf('1/8')\n",
    "\n",
    "h_dp = mp_def.mpf('1/3')\n",
    "h_qp = mp.mpf('1/3')\n",
    "\n",
    "print(f\"Flottant dont la mantisse est de taille  53 bits : 1/10 = {mp_def.nstr(f_dp, 40)}\")\n",
    "print(f\"Flottant dont la mantisse est de taille 113 bits : 1/10 = {mp.nstr(f_qp, 40)}\\n\")\n",
    "\n",
    "print(f\"Flottant dont la mantisse est de taille  53 bits : 1/8 = {mp_def.nstr(g_dp, 40)}\")\n",
    "print(f\"Flottant dont la mantisse est de taille 113 bits : 1/8 = {mp.nstr(g_qp, 40)}\\n\")\n",
    "\n",
    "print(f\"Flottant dont la mantisse est de taille  53 bits : 1/3 = {mp_def.nstr(h_dp, 40)}\")\n",
    "print(f\"Flottant dont la mantisse est de taille 113 bits : 1/3 = {mp.nstr(h_qp, 40)}\")"
   ]
  }
 ],
 "metadata": {
  "@webio": {
   "lastCommId": null,
   "lastKernelId": null
  },
  "kernelspec": {
   "display_name": "Python 3",
   "language": "python",
   "name": "python3"
  },
  "language_info": {
   "codemirror_mode": {
    "name": "ipython",
    "version": 3
   },
   "file_extension": ".py",
   "mimetype": "text/x-python",
   "name": "python",
   "nbconvert_exporter": "python",
   "pygments_lexer": "ipython3",
   "version": "3.9.6"
  },
  "latex_envs": {
   "LaTeX_envs_menu_present": true,
   "autoclose": false,
   "autocomplete": true,
   "bibliofile": "biblio.bib",
   "cite_by": "apalike",
   "current_citInitial": 1,
   "eqLabelWithNumbers": true,
   "eqNumInitial": 1,
   "hotkeys": {
    "equation": "Ctrl-E",
    "itemize": "Ctrl-I"
   },
   "labels_anchors": false,
   "latex_user_defs": false,
   "report_style_numbering": false,
   "user_envs_cfg": false
  }
 },
 "nbformat": 4,
 "nbformat_minor": 4
}
