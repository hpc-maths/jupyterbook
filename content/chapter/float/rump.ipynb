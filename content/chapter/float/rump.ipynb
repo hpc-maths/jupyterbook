{
 "cells": [
  {
   "cell_type": "markdown",
   "metadata": {},
   "source": [
    "# Exemple de Rump"
   ]
  },
  {
   "cell_type": "code",
   "execution_count": null,
   "metadata": {},
   "outputs": [],
   "source": [
    "#\n",
    "#    Notebook de cours MAP412 - Chapitre 1 - M. Massot 2020-2021 - Ecole polytechnique\n",
    "#    ----------   \n",
    "#    Evaluation de la fonction de Rump \n",
    "#    \n",
    "#    Auteurs : L. Séries et M. Massot - (C) 2021\n",
    "#    "
   ]
  },
  {
   "cell_type": "markdown",
   "metadata": {},
   "source": [
    "## Des résultats surprenants...\n",
    "\n",
    "On considère la fonction :\n",
    "\n",
    "$$ f(x,y) = (333.75 - x^2) y^6 + x^2 (11 x^2 y^2 - 121y^4 - 2) + 5.5 y^8 + \\frac{x}{2y} $$"
   ]
  },
  {
   "cell_type": "code",
   "execution_count": null,
   "metadata": {},
   "outputs": [],
   "source": [
    "def f_rump(x,y):\n",
    "    return (333.75-x*x)*y**6 + x**2*(11*(x**2)*(y**2) - 121*y**4 - 2) + 5.5*y**8 + x/(2*y)"
   ]
  },
  {
   "cell_type": "markdown",
   "metadata": {},
   "source": [
    "L'évaluation de la fonction $f$ au point $(x,y) = (77617, 33096)$ pour différents formats de nombre à virgule flottante donne les résultats suivants :"
   ]
  },
  {
   "cell_type": "code",
   "execution_count": null,
   "metadata": {},
   "outputs": [],
   "source": [
    "from mpmath import mp\n",
    "\n",
    "# flottants sur 32 bits \n",
    "mp.prec = 24\n",
    "x = mp.mpf('77617')\n",
    "y = mp.mpf('33096')\n",
    "print(\"Evaluation de la fonction pour des flottants sur 32 bits\")\n",
    "print(f\"f(x,y) = {f_rump(x,y)}\")\n",
    "\n",
    "# flottants sur 64 bits \n",
    "mp.prec = 53\n",
    "x = mp.mpf('77617')\n",
    "y = mp.mpf('33096')\n",
    "print(\"\\nEvaluation de la fonction pour des flottants sur 64 bits\")\n",
    "print(f\"f(x,y) = {f_rump(x,y)}\")\n",
    "\n",
    "# flottants sur 128 bits \n",
    "mp.prec = 113\n",
    "x = mp.mpf('77617')\n",
    "y = mp.mpf('33096')\n",
    "print(\"\\nEvaluation de la fonction pour des flottants sur 128 bits\")\n",
    "print(f\"f(x,y) = {f_rump(x,y)}\")"
   ]
  },
  {
   "cell_type": "markdown",
   "metadata": {},
   "source": [
    "Ces résultats semblent cohérents: on trouve pour chaque format de nombre à virgule flottante le même résultat avec une précision croissante avec la taille de la mantisse.\n",
    "\n",
    "En réalité, la valeur correcte de l'évaluation de la fonction $f$ au point $(x,y) = (77617, 33096)$ est bien différente, elle peut s'obtenir pour une taille de maintisse au moins égale à 122 :"
   ]
  },
  {
   "cell_type": "code",
   "execution_count": null,
   "metadata": {},
   "outputs": [],
   "source": [
    "# flottants dont la mantisse est égale à 122\n",
    "mp.prec = 122\n",
    "x = mp.mpf('77617')\n",
    "y = mp.mpf('33096')\n",
    "print(f\"\\nEvaluation de la fonction pour des flottants dont la mantisse est égale à {mp.prec}\")\n",
    "print(f\"f(x,y) avec {mp.dps} chiffres significatifs = {f_rump(x,y)}\")"
   ]
  },
  {
   "cell_type": "markdown",
   "metadata": {},
   "source": [
    "Si on considère les formes suivantes de la même fonction :\n",
    "\n",
    "* $ f(x,y) = 333.75 y^6 + x^2 (11 x^2 y^2 - y^6 - 121y^4 - 2) + 5.5 y^8 + \\displaystyle \\frac{x}{2y} $\n",
    "\n",
    "* $ f(x,y) = 333.75 yyyyyy + xx (11 xx \\; yy - yyyyyy - 121yyyy - 2) + 5.5 yyyyyyyy + \\displaystyle \\frac{x}{2y} $"
   ]
  },
  {
   "cell_type": "code",
   "execution_count": null,
   "metadata": {},
   "outputs": [],
   "source": [
    "def f_rump_02(x,y):\n",
    "    return 333.75*y**6 + (x**2)*(11*(x**2)*(y**2) - y**6 - 121*y**4 - 2) + 5.5*y**8 + x/(2*y)\n",
    "\n",
    "def f_rump_03(x,y):\n",
    "    return 333.75*y*y*y*y*y*y + (x*x)*(11*(x*x)*(y*y) - y*y*y*y*y*y - 121*y*y*y*y - 2) + 5.5*y*y*y*y*y*y*y*y + x/(2*y)"
   ]
  },
  {
   "cell_type": "markdown",
   "metadata": {},
   "source": [
    "Les évaluations de $f_2$ et $f_3$ au point $(x,y) = (77617, 33096)$ donnent les résultats suivants :"
   ]
  },
  {
   "cell_type": "code",
   "execution_count": null,
   "metadata": {},
   "outputs": [],
   "source": [
    "# flottants sur 32 bits \n",
    "mp.prec = 24\n",
    "x = mp.mpf('77617')\n",
    "y = mp.mpf('33096')\n",
    "print(\"Evaluation de la fonction pour des flottants sur 32 bits\")\n",
    "print(f\"f2(x,y) = {f_rump_02(x,y)}\")\n",
    "print(f\"f3(x,y) = {f_rump_03(x,y)}\")\n",
    "\n",
    "# flottants sur 64 bits \n",
    "mp.prec = 53\n",
    "x = mp.mpf('77617')\n",
    "y = mp.mpf('33096')\n",
    "print(\"\\nEvaluation de la fonction pour des flottants sur 64 bits\")\n",
    "print(f\"f2(x,y) = {f_rump_02(x,y)}\")\n",
    "print(f\"f3(x,y) = {f_rump_03(x,y)}\")\n",
    "\n",
    "# flottants sur 128 bits \n",
    "mp.prec = 113\n",
    "x = mp.mpf('77617')\n",
    "y = mp.mpf('33096')\n",
    "print(\"\\nEvaluation de la fonction pour des flottants sur 128 bits\")\n",
    "print(f\"f2(x,y) = {f_rump_02(x,y)}\")\n",
    "print(f\"f3(x,y) = {f_rump_03(x,y)}\")\n",
    "\n",
    "# flottants dont la mantisse est égale à 122\n",
    "mp.prec = 122\n",
    "x = mp.mpf('77617')\n",
    "y = mp.mpf('33096')\n",
    "print(f\"\\nEvaluation de la fonction pour des flottants dont la mantisse est égale à {mp.prec}\")\n",
    "print(f\"f2(x,y) = {f_rump_02(x,y)}\")\n",
    "print(f\"f3(x,y) = {f_rump_03(x,y)}\")\n",
    "print(f\"\\nNombre de chiffres significatifs avec une mantisse à 122 :{mp.dps}\")"
   ]
  },
  {
   "cell_type": "markdown",
   "metadata": {},
   "source": [
    "Ces résultats appellent plusieurs remarques : \n",
    "\n",
    "* Le choix de la méthode de calcul de la fonction a un impact important sur le resultat, qui peut être radicalement différent ou similaire pour un calcul en quadruple précision mais faux !\n",
    "* Clairement, quand la précision est suffisante pour un calcul exact, les deux méthodes donnent le même résultat.\n",
    "* La question se pose alors de connaître l'origine des erreurs obtenues avec simple, double et quadruple précision.\n",
    "* Le lecteur intéressé pourra aussi observer qu'avec Sagemath, un calcul exact dans le corps des rationnels permet d'exprimer le résultat final sous une forme d'une fraction : $-54767/66192$ et de vérifier que la dernière évaluation est correcte (voir page suivante).\n",
    "\n"
   ]
  },
  {
   "cell_type": "markdown",
   "metadata": {},
   "source": [
    "## ... et des éléments d'explication\n",
    "\n",
    "Les termes $a = 333.75 y^6 + x^2 (11 x^2 y^2 - y^6 - 121y^4 - 2)$ et $b = 5.5 y^8$ nécessitent une précision importante pour être représentés exactement :"
   ]
  },
  {
   "cell_type": "code",
   "execution_count": null,
   "metadata": {
    "scrolled": true
   },
   "outputs": [],
   "source": [
    "mp.prec = 121\n",
    "x = mp.mpf('77617')\n",
    "y = mp.mpf('33096')\n",
    "a = (333.75-x*x)*y**6 + x**2*(11*(x**2)*(y**2) - 121*y**4 - 2) \n",
    "b = 5.5*y**8\n",
    "print(f\"Avec une mantisse de :{mp.prec}\")\n",
    "print()\n",
    "print(f\"a = {a}\")\n",
    "print(f\"a = {mp.nstr(a, 37)}\")\n",
    "print(f\"b = {b}\")\n",
    "print(f\"a = {mp.nstr(b, 37)}\")\n",
    "print(f\"a+b = {a+b}\")\n",
    "print()\n",
    "\n",
    "mp.prec = 122\n",
    "x = mp.mpf('77617')\n",
    "y = mp.mpf('33096')\n",
    "a = (333.75-x*x)*y**6 + x**2*(11*(x**2)*(y**2) - 121*y**4 - 2) \n",
    "b = 5.5*y**8\n",
    "print(f\"Avec une mantisse de :{mp.prec}\")\n",
    "print(f\"a = {a}\")\n",
    "print(f\"a = {mp.nstr(a, 37)}\")\n",
    "print(f\"b = {b}\")\n",
    "print(f\"a = {mp.nstr(b, 37)}\")\n",
    "print(f\"a+b = {a+b}\")"
   ]
  },
  {
   "cell_type": "markdown",
   "metadata": {},
   "source": [
    "En fait, on ajoute des nombre décimaux très grands avec 36 chiffres significatifs qu'il faut absolument évaluer pour avoir une somme de $a$ et de $b$ qui fasse exactement $-2$. Avec un chiffre significatif de moins, le résultat est $0$ comme le montre l'évaluation précédente. \n",
    "\n",
    "La question qui se pose alors est de savoir si le problème vient de la fonction à évaluer ou de la méthode de calcul de la fonction. Un exercice dans la petite classe permettra de montrer que l'évaluation de la fonction en ce point est extrêmement mal conditionnée et que pour avoir une erreur forward non catastrophique devant le résultat, il faut une précision machine très petite et donc un nombre élevé de chiffres significatifs."
   ]
  }
 ],
 "metadata": {
  "@webio": {
   "lastCommId": null,
   "lastKernelId": null
  },
  "kernelspec": {
   "display_name": "Python 3",
   "language": "python",
   "name": "python3"
  },
  "language_info": {
   "codemirror_mode": {
    "name": "ipython",
    "version": 3
   },
   "file_extension": ".py",
   "mimetype": "text/x-python",
   "name": "python",
   "nbconvert_exporter": "python",
   "pygments_lexer": "ipython3",
   "version": "3.9.6"
  },
  "latex_envs": {
   "LaTeX_envs_menu_present": true,
   "autoclose": false,
   "autocomplete": true,
   "bibliofile": "biblio.bib",
   "cite_by": "apalike",
   "current_citInitial": 1,
   "eqLabelWithNumbers": true,
   "eqNumInitial": 1,
   "hotkeys": {
    "equation": "Ctrl-E",
    "itemize": "Ctrl-I"
   },
   "labels_anchors": false,
   "latex_user_defs": false,
   "report_style_numbering": false,
   "user_envs_cfg": false
  },
  "widgets": {
   "application/vnd.jupyter.widget-state+json": {
    "state": {},
    "version_major": 2,
    "version_minor": 0
   }
  }
 },
 "nbformat": 4,
 "nbformat_minor": 4
}
