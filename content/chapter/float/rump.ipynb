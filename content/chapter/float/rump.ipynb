{
 "cells": [
  {
   "cell_type": "markdown",
   "metadata": {},
   "source": [
    "# Exemple de Rump"
   ]
  },
  {
   "cell_type": "markdown",
   "metadata": {},
   "source": [
    "On considère la fonction :\n",
    "\n",
    "$$ f(x,y) = (333.75 - x^2) y^6 + x^2 (11 x^2 y^2 - 121y^4 - 2) + 5.5 y^8 + \\frac{x}{2y} $$"
   ]
  },
  {
   "cell_type": "code",
   "execution_count": null,
   "metadata": {},
   "outputs": [],
   "source": [
    "def f_rump(x,y):\n",
    "    return (333.75-x*x)*y**6 + x**2*(11*(x**2)*(y**2) - 121*y**4 - 2) + 5.5*y**8 + x/(2*y)"
   ]
  },
  {
   "cell_type": "markdown",
   "metadata": {},
   "source": [
    "L'évaluation de la fonction $f$ au point $(x,y) = (77617, 33096)$ pour différents formats de nombre à virgule flottante donne les résultats suivants :"
   ]
  },
  {
   "cell_type": "code",
   "execution_count": null,
   "metadata": {},
   "outputs": [],
   "source": [
    "from mpmath import mp\n",
    "\n",
    "# flottants sur 32 bits \n",
    "mp.prec = 24\n",
    "x = mp.mpf('77617')\n",
    "y = mp.mpf('33096')\n",
    "print(\"Evaluation de la fonction pour des flottants sur 32 bits\")\n",
    "print(f\"f(x,y) = {f_rump(x,y)}\")\n",
    "\n",
    "# flottants sur 64 bits \n",
    "mp.prec = 53\n",
    "x = mp.mpf('77617')\n",
    "y = mp.mpf('33096')\n",
    "print(\"\\nEvaluation de la fonction pour des flottants sur 64 bits\")\n",
    "print(f\"f(x,y) = {f_rump(x,y)}\")\n",
    "\n",
    "# flottants sur 128 bits \n",
    "mp.prec = 113\n",
    "x = mp.mpf('77617')\n",
    "y = mp.mpf('33096')\n",
    "print(\"\\nEvaluation de la fonction pour des flottants sur 128 bits\")\n",
    "print(f\"f(x,y) = {f_rump(x,y)}\")"
   ]
  },
  {
   "cell_type": "markdown",
   "metadata": {},
   "source": [
    "Ces résultats semblent cohérents, on trouve pour chaque format de nombre à virgule flottante le même résultat avec une précision croissante avec la taille de la mantisse.\n",
    "\n",
    "En réalité, la valeur correcte de l'évaluation de la fonction $f$ au point $(x,y) = (77617, 33096)$ est bien différente, elle peut s'obtenir pour une taille de maintisse au moins égale à 122 :"
   ]
  },
  {
   "cell_type": "code",
   "execution_count": null,
   "metadata": {},
   "outputs": [],
   "source": [
    "# flottants dont la mantisse est égale à 122\n",
    "mp.prec = 122\n",
    "x = mp.mpf('77617')\n",
    "y = mp.mpf('33096')\n",
    "print(f\"\\nEvaluation de la fonction pour des flottants dont la mantisse est égale à {mp.prec}\")\n",
    "print(f\"f(x,y) avec {mp.dps} chiffres significatifs = {f_rump(x,y)}\")"
   ]
  },
  {
   "cell_type": "markdown",
   "metadata": {},
   "source": [
    "Si on considère les formes suivantes de la même fonction :\n",
    "\n",
    "* $ f(x,y) = 333.75 y^6 + x^2 (11 x^2 y^2 - y^6 - 121y^4 - 2) + 5.5 y^8 + \\displaystyle \\frac{x}{2y} $\n",
    "\n",
    "* $ f(x,y) = 333.75 yyyyyy + xx (11 xx \\; yy - yyyyyy - 121yyyy - 2) + 5.5 yyyyyyyy + \\displaystyle \\frac{x}{2y} $"
   ]
  },
  {
   "cell_type": "code",
   "execution_count": null,
   "metadata": {},
   "outputs": [],
   "source": [
    "def f_rump_02(x,y):\n",
    "    return 333.75*y**6 + (x**2)*(11*(x**2)*(y**2) - y**6 - 121*y**4 - 2) + 5.5*y**8 + x/(2*y)\n",
    "\n",
    "def f_rump_03(x,y):\n",
    "    return 333.75*y*y*y*y*y*y + (x*x)*(11*(x*x)*(y*y) - y*y*y*y*y*y - 121*y*y*y*y - 2) + 5.5*y*y*y*y*y*y*y*y + x/(2*y)"
   ]
  },
  {
   "cell_type": "markdown",
   "metadata": {},
   "source": [
    "L'évaluation de $f_2$ et $f_3$ au point $(x,y) = (77617, 33096)$ donne les résultats suivants :"
   ]
  },
  {
   "cell_type": "code",
   "execution_count": null,
   "metadata": {},
   "outputs": [],
   "source": [
    "# flottants sur 32 bits \n",
    "mp.prec = 24\n",
    "x = mp.mpf('77617')\n",
    "y = mp.mpf('33096')\n",
    "print(\"Evaluation de la fonction pour des flottants sur 32 bits\")\n",
    "print(f\"f2(x,y) = {f_rump_02(x,y)}\")\n",
    "print(f\"f3(x,y) = {f_rump_03(x,y)}\")\n",
    "\n",
    "# flottants sur 64 bits \n",
    "mp.prec = 53\n",
    "x = mp.mpf('77617')\n",
    "y = mp.mpf('33096')\n",
    "print(\"\\nEvaluation de la fonction pour des flottants sur 64 bits\")\n",
    "print(f\"f2(x,y) = {f_rump_02(x,y)}\")\n",
    "print(f\"f3(x,y) = {f_rump_03(x,y)}\")\n",
    "\n",
    "# flottants sur 128 bits \n",
    "mp.prec = 113\n",
    "x = mp.mpf('77617')\n",
    "y = mp.mpf('33096')\n",
    "print(\"\\nEvaluation de la fonction pour des flottants sur 128 bits\")\n",
    "print(f\"f2(x,y) = {f_rump_02(x,y)}\")\n",
    "print(f\"f3(x,y) = {f_rump_03(x,y)}\")\n",
    "\n",
    "# flottants dont la mantisse est égale à 122\n",
    "mp.prec = 122\n",
    "x = mp.mpf('77617')\n",
    "y = mp.mpf('33096')\n",
    "print(f\"\\nEvaluation de la fonction pour des flottants dont la mantisse est égale à {mp.prec}\")\n",
    "print(f\"f2(x,y) = {f_rump_02(x,y)}\")\n",
    "print(f\"f3(x,y) = {f_rump_03(x,y)}\")"
   ]
  },
  {
   "cell_type": "markdown",
   "metadata": {},
   "source": [
    "**Eléments d'explication**\n",
    "\n",
    "Les termes $a = 333.75 y^6 + x^2 (11 x^2 y^2 - y^6 - 121y^4 - 2)$ et $b = 5.5 y^8$ nécessitent une précision important pour être représentés exactement :"
   ]
  },
  {
   "cell_type": "code",
   "execution_count": null,
   "metadata": {},
   "outputs": [],
   "source": [
    "mp.prec = 122\n",
    "x = mp.mpf('77617')\n",
    "y = mp.mpf('33096')\n",
    "a = (333.75-x*x)*y**6 + x**2*(11*(x**2)*(y**2) - 121*y**4 - 2) \n",
    "b = 5.5*y**8\n",
    "print(f\"a = {a}\")\n",
    "print(f\"b = {b}\")\n",
    "print(f\"a+b = {a+b}\")"
   ]
  }
 ],
 "metadata": {
  "@webio": {
   "lastCommId": null,
   "lastKernelId": null
  },
  "kernelspec": {
   "display_name": "Python 3",
   "language": "python",
   "name": "python3"
  },
  "language_info": {
   "codemirror_mode": {
    "name": "ipython",
    "version": 3
   },
   "file_extension": ".py",
   "mimetype": "text/x-python",
   "name": "python",
   "nbconvert_exporter": "python",
   "pygments_lexer": "ipython3",
   "version": "3.9.6"
  },
  "latex_envs": {
   "LaTeX_envs_menu_present": true,
   "autoclose": false,
   "autocomplete": true,
   "bibliofile": "biblio.bib",
   "cite_by": "apalike",
   "current_citInitial": 1,
   "eqLabelWithNumbers": true,
   "eqNumInitial": 1,
   "hotkeys": {
    "equation": "Ctrl-E",
    "itemize": "Ctrl-I"
   },
   "labels_anchors": false,
   "latex_user_defs": false,
   "report_style_numbering": false,
   "user_envs_cfg": false
  }
 },
 "nbformat": 4,
 "nbformat_minor": 2
}
