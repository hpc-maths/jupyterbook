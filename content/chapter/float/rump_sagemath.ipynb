{
 "cells": [
  {
   "cell_type": "markdown",
   "metadata": {},
   "source": [
    "# Rump avec SageMath"
   ]
  },
  {
   "cell_type": "code",
   "execution_count": null,
   "metadata": {},
   "outputs": [],
   "source": [
    "#\n",
    "#    Notebook de cours MAP412 - Chapitre 1 - M. Massot 2020-2021 - Ecole polytechnique\n",
    "#    ----------   \n",
    "#    Evaluation de la fonction de Rump dans l'anneau des fractions rationnelles à valeurs rationnelles\n",
    "#    \n",
    "#    Auteurs : L. Séries et M. Massot - (C) 2021\n",
    "#    "
   ]
  },
  {
   "cell_type": "markdown",
   "metadata": {},
   "source": [
    "**SageMath**  est un logiciel libre de mathématiques sous licence GPL. Il combine la puissance de nombreux programmes libres dans une interface commune basée sur le langage de programmation Python avec comme objectif la création d'une alternative viable libre et open source à Magma, Maple, Mathematica et Matlab. Une description de l'esprit de **SageMath** est proposée en Annexe du polycopié de Cours par un des autres avec qui nous travaillons.\n",
    "\n",
    "Le livre sur **SageMath** est disponible [ici en français](http://sagebook.gforge.inria.fr/) et [ici en anglais](http://sagebook.gforge.inria.fr/english.html) (une version allemande est disponible sur le site). \n",
    "\n",
    "Il est possible d'installer **SageMath** sur son ordinateur mais il est aussi possible d'exécuter les notebooks **SageMath** [sur un cloud spécifique](https://cocalc.com/).\n",
    "\n",
    "**SageMath** permet en particulier de faire des calculs exacts dans l'anneau des fractions rationnelles à valeurs rationnelles.\n",
    "\n",
    "Le calcul de la fonction de Rump est ici évaluée de manière exacte et l'on peut retrouver une valeur réelle approchée en double précision à partir de la valeur exacte. Cela permet de vérifier les calculs que nous avons menés à divers niveaux de précision machine."
   ]
  },
  {
   "cell_type": "code",
   "execution_count": null,
   "metadata": {},
   "outputs": [],
   "source": [
    "x, y = polygens(QQ, 'x, y')\n",
    "\n",
    "# Fonction de Rump : \n",
    "\n",
    "p = (1335/4-x*x)*y**6 + x**2*(11*(x**2)*(y**2) - 121*y**4 - 2) + 11/2*y**8 + x/(2*y)\n",
    "\n",
    "print(p)\n",
    "print()\n",
    "print(p.parent())\n",
    "\n",
    "# Point d'évaluation de la fonction\n",
    "\n",
    "a = 77617\n",
    "b = 33096\n",
    "\n",
    "print()\n",
    "print(\"Résultat exact dans le corps des rationnels\",p(a,b))\n",
    "print()\n",
    "print(\"dont la valeur approchée en double précision est :\",RR(p(a,b)))"
   ]
  }
 ],
 "metadata": {
  "kernelspec": {
   "display_name": "SageMath 9.3",
   "language": "sage",
   "name": "sagemath-9.3"
  },
  "language_info": {
   "codemirror_mode": {
    "name": "ipython",
    "version": 3
   },
   "file_extension": ".py",
   "mimetype": "text/x-python",
   "name": "python",
   "nbconvert_exporter": "python",
   "pygments_lexer": "ipython3",
   "version": "3.9.2"
  }
 },
 "nbformat": 4,
 "nbformat_minor": 4
}
