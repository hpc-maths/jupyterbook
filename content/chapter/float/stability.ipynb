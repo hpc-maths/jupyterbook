{
 "cells": [
  {
   "cell_type": "markdown",
   "metadata": {},
   "source": [
    "# Stabilité d'un algorithme"
   ]
  },
  {
   "cell_type": "code",
   "execution_count": null,
   "metadata": {},
   "outputs": [],
   "source": [
    "#\n",
    "#    Notebook de cours MAP412 - Chapitre 1 - M. Massot 2020-2021 - Ecole polytechnique\n",
    "#    ----------   \n",
    "#    Stabilité d'un algorithme\n",
    "#    \n",
    "#    Auteurs : L. Séries et M. Massot - (C) 2021\n",
    "#    "
   ]
  },
  {
   "cell_type": "markdown",
   "metadata": {},
   "source": [
    "On considère l'évaluation de la fonction $g(x)$ écrite sous deux formes différentes :\n",
    "\n",
    "$$g_1(x) = \\displaystyle \\frac{1}{x(x+1)} \\quad \\text{et} \\quad g_2(x) = \\displaystyle \\frac{1}{x} - \\frac{1}{x+1}$$ "
   ]
  },
  {
   "cell_type": "code",
   "execution_count": null,
   "metadata": {},
   "outputs": [],
   "source": [
    "def g1(x):\n",
    "    return 1/(x*(x+1))\n",
    "\n",
    "def g2(x):\n",
    "    return 1/x - 1/(x+1)"
   ]
  },
  {
   "cell_type": "markdown",
   "metadata": {},
   "source": [
    "Il est aisé de voir que dans un voisinage de la valeur de $x$ utilisé, toutes les opérations de l’algorithme $g_1$ sont bien conditionnées et l’algorithme est numériquement stable. Par contre, la soustraction dans un voisinage où $1/x ≈ 1/(x + 1)$, est mal conditionnée et l’algorithme $g_2$ est numériquement instable avec une constante potentiellement grande qui va générer une erreur importante."
   ]
  },
  {
   "cell_type": "markdown",
   "metadata": {},
   "source": [
    "## Evaluation de la fonction $g(x)$ pour $x = 10000$"
   ]
  },
  {
   "cell_type": "code",
   "execution_count": null,
   "metadata": {},
   "outputs": [],
   "source": [
    "from mpmath import mp\n",
    "\n",
    "# Evaluation de la valeur de référence en utilisant des flottants quadruple précision\n",
    "mp.prec = 113\n",
    "gref = mp.mpf('1/100010000')\n",
    "print(f\"Valeur de réference avec {mp.dps} chiffres significatifs = {gref}\")\n",
    "\n",
    "# simple precision\n",
    "mp.prec = 24\n",
    "print(f\"\\nTaille de la mantisse : {mp.prec} bits\")\n",
    "print(f\"Valeur de réference avec {mp.dps} chiffres significatifs : {mp.nstr(gref, mp.dps, strip_zeros=False)}\")\n",
    "# Evaluation des fonctions\n",
    "x = mp.mpf('10000')\n",
    "print(f\"1ere forme avec {mp.dps} chiffres significatifs : g(x={x}) = {mp.nstr(g1(x), mp.dps, strip_zeros=False)}\")\n",
    "print(f\"2eme forme avec {mp.dps} chiffres significatifs : g(x={x}) = {g2(x)}\")\n",
    "\n",
    "# double precision\n",
    "mp.prec = 53\n",
    "print(f\"\\nTaille de la mantisse : {mp.prec} bits\")\n",
    "print(f\"Valeur de réference avec {mp.dps} chiffres significatifs : {mp.nstr(gref, mp.dps, strip_zeros=False)}\")\n",
    "# Evaluation des fonctions\n",
    "x = mp.mpf('10000')\n",
    "print(f\"1ere forme avec {mp.dps} chiffres significatifs : g(x={x}) = {mp.nstr(g1(x), mp.dps, strip_zeros=False)}\")\n",
    "print(f\"2eme forme avec {mp.dps} chiffres significatifs : g(x={x}) = {g2(x)}\")"
   ]
  },
  {
   "cell_type": "markdown",
   "metadata": {},
   "source": [
    "Après avoir observé la valeur de référence obtenue avec 33 chiffres significatifs, on utilise d'une part la simple et d'autre part la double précision. Alors que l'algorithme 1 se comporte très bien avec une erreur de l'ordre de l'erreur machine, ce qui indique une très bonne constante de stabilité backward pour ce problème bien conditionné, l'algorithme 2 nous conduit à une perte de 3 à 4 chiffres significatifs (on rappelle que ce problème est lié à la valeur à laquelle on évalue la fonction) indiquant localement un algorithme avec une constante de stabilité backward beaucoup moins favorable comme attendu par le conditionnement de la soustraction de deux nombres très proches."
   ]
  },
  {
   "cell_type": "markdown",
   "metadata": {},
   "source": [
    "## Evaluation de la fonction $g(x)$ pour $x = 100000000$"
   ]
  },
  {
   "cell_type": "code",
   "execution_count": null,
   "metadata": {},
   "outputs": [],
   "source": [
    "# Evaluation de la valeur de référence en utilisant des flottants quadruple précision\n",
    "mp.prec = 113\n",
    "gref = mp.mpf('1/10000000100000000')\n",
    "print(f\"Valeur de réference avec {mp.dps} chiffres significatifs = {gref}\")\n",
    "\n",
    "# simple precision\n",
    "mp.prec = 24\n",
    "print(f\"\\nTaille de la mantisse : {mp.prec} bits\")\n",
    "print(f\"Valeur de réference avec {mp.dps} chiffres significatifs : {mp.nstr(gref, mp.dps, strip_zeros=False)}\")\n",
    "# Evaluation des fonctions\n",
    "x = mp.mpf('100000000')\n",
    "print(f\"1ere forme avec {mp.dps} chiffres significatifs : g(x={x}) = {mp.nstr(g1(x), mp.dps, strip_zeros=False)}\")\n",
    "print(f\"2eme forme avec {mp.dps} chiffres significatifs : g(x={x}) = {mp.nstr(g2(x), mp.dps, strip_zeros=False)}\")\n",
    "\n",
    "# double precision\n",
    "mp.prec = 53\n",
    "print(f\"\\nTaille de la mantisse : {mp.prec} bits\")\n",
    "print(f\"Valeur de réference avec {mp.dps} chiffres significatifs : {mp.nstr(gref, mp.dps, strip_zeros=False)}\")\n",
    "# Evaluation des fonctions\n",
    "x = mp.mpf('100000000')\n",
    "print(f\"1ere forme avec {mp.dps} chiffres significatifs : g(x={x}) = {mp.nstr(g1(x), mp.dps, strip_zeros=False)}\")\n",
    "print(f\"2eme forme avec {mp.dps} chiffres significatifs : g(x={x}) = {mp.nstr(g2(x), mp.dps, strip_zeros=False)}\")"
   ]
  },
  {
   "cell_type": "markdown",
   "metadata": {},
   "source": [
    "Alors que la perte de précision était ennuyeuse mais pas dramatique pour le résultat pour $x = 10000$, lorsque l'on s'attaque à ce problème avec l'algorithme 2 pour un $x$ beaucoup plus grand, on peut être confronté à une perte catastrophique de chiffres significatifs, la perte de 6 à 7 chiffres significatifs en simple précision est dangereuse !, voire à une dégradation importante de la qualité de la solution en double précision. L'algorithme 1 reste imperturbable et continue de montrer une excellente stabilité dans les deux cas pour ce problème bien conditionné qui conduit à une erreur forward de l'ordre de la précision machine."
   ]
  }
 ],
 "metadata": {
  "@webio": {
   "lastCommId": null,
   "lastKernelId": null
  },
  "kernelspec": {
   "display_name": "Python 3",
   "language": "python",
   "name": "python3"
  },
  "language_info": {
   "codemirror_mode": {
    "name": "ipython",
    "version": 3
   },
   "file_extension": ".py",
   "mimetype": "text/x-python",
   "name": "python",
   "nbconvert_exporter": "python",
   "pygments_lexer": "ipython3",
   "version": "3.6.12"
  },
  "latex_envs": {
   "LaTeX_envs_menu_present": true,
   "autoclose": false,
   "autocomplete": true,
   "bibliofile": "biblio.bib",
   "cite_by": "apalike",
   "current_citInitial": 1,
   "eqLabelWithNumbers": true,
   "eqNumInitial": 1,
   "hotkeys": {
    "equation": "Ctrl-E",
    "itemize": "Ctrl-I"
   },
   "labels_anchors": false,
   "latex_user_defs": false,
   "report_style_numbering": false,
   "user_envs_cfg": false
  },
  "widgets": {
   "application/vnd.jupyter.widget-state+json": {
    "state": {},
    "version_major": 2,
    "version_minor": 0
   }
  }
 },
 "nbformat": 4,
 "nbformat_minor": 4
}
