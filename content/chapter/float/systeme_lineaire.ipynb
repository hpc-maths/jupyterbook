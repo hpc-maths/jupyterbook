{
 "cells": [
  {
   "cell_type": "markdown",
   "id": "77d28eba",
   "metadata": {},
   "source": [
    "# Système linéaire"
   ]
  },
  {
   "cell_type": "markdown",
   "id": "f5f385b5",
   "metadata": {},
   "source": [
    "On veut résoudre le système linéaire suivant :\n",
    "\n",
    "$$\n",
    "A=\\left[\n",
    "\\begin{array}{lll}\n",
    "-(1+\\alpha) & 1  \\\\\n",
    "- 1              & 1  \\\\\n",
    "\\end{array}\n",
    "\\right]\n",
    "\\begin{pmatrix}\n",
    "     x    \\\\\n",
    "     y            \\\\\n",
    "\\end{pmatrix}\n",
    "= \\begin{pmatrix}\n",
    "     -\\alpha    \\\\\n",
    "     0              \\\\\n",
    "\\end{pmatrix}\n",
    "$$\n",
    "\n",
    "dont la solution est $x=1$ et $y=1$ correspondant aux coordonéées du point d'intersection des droites $y=x$ et \n",
    "$y=(1+\\alpha)x - \\alpha$. "
   ]
  },
  {
   "cell_type": "markdown",
   "id": "58553740",
   "metadata": {},
   "source": [
    "## Cas où $\\alpha$ est petit\n",
    "\n",
    "Dans le cas où $\\alpha$ est petit devant 1, comme représenté sur la figure suivante où il vaut 0.05, une petite perturbation, par exemple du second membre où $-\\alpha$ devient $-\\alpha-\\epsilon$, implique une modification de la solution grande devant la  taille de la perturbation puisque la nouvelle solution vérifie toujours $\\bar x=\\bar y$ mais $\\bar x=1+\\epsilon/\\alpha$."
   ]
  },
  {
   "cell_type": "code",
   "execution_count": null,
   "id": "1e84fcdf",
   "metadata": {
    "scrolled": false
   },
   "outputs": [],
   "source": [
    "import plotly.graph_objects as go\n",
    "import numpy as np\n",
    "\n",
    "x = np.linspace(0.5, 3.5, 100)\n",
    "\n",
    "alpha = 0.05\n",
    "\n",
    "y1 = x\n",
    "y2 = (1+alpha)*x - alpha\n",
    "\n",
    "fig = go.Figure(layout_yaxis_range=[-0.1,3.5])\n",
    "#fig = go.Figure()\n",
    "\n",
    "fig.add_trace(go.Scatter(x=x, y=y1, name=\"y=x\"))\n",
    "\n",
    "fig.add_trace(go.Scatter(x=x, y=y2, name=\"y = (1 + alpha)x - alpha\", marker = dict(color=\"crimson\"),\n",
    "                         legendgroup=\"group\",  legendgrouptitle_text=\"Problème original\"))\n",
    "fig.add_trace(go.Scatter(x=[1], y=[1], name=\"solution exacte\", mode='markers',\n",
    "                         marker = dict(symbol='x-thin', size=9, line_color=\"crimson\", line_width=1),\n",
    "                         legendgroup=\"group\"))\n",
    "\n",
    "\n",
    "epsilon = np.array([0.001, 0.01, 0.1])\n",
    "for i, eps_i in enumerate(epsilon):\n",
    "    y_i = (1+alpha)*x - alpha - eps_i\n",
    "    fig.add_trace(go.Scatter(x=x, y=y_i, name=\"y = (1 + alpha)x - alpha - eps\", marker = dict(color=\"green\"),\n",
    "                             legendgroup=\"group2\",  legendgrouptitle_text=\"Problème perturbé\", showlegend=False,\n",
    "                             visible=False))\n",
    "    fig.add_trace(go.Scatter(x=[1+eps_i/alpha], y=[1+eps_i/alpha], name=\"solution perturbée\", mode='markers',\n",
    "                         marker = dict(symbol='x-thin', size=9, line_color=\"green\", line_width=1),\n",
    "                         legendgroup=\"group2\", showlegend=False, visible=False))\n",
    "    \n",
    "fig.data[3].visible = True\n",
    "fig.data[3].showlegend = True\n",
    "fig.data[4].visible = True\n",
    "fig.data[4].showlegend = True\n",
    "\n",
    "# Create and add slider\n",
    "steps = []\n",
    "for i, eps_i in enumerate(epsilon):\n",
    "    step = dict(method=\"update\", label = f\"{eps_i}\", \n",
    "                args=[{\"visible\": [(el==2*i+3 or el==2*i+4 or el==0 or el==1 or el==2) for el in range(len(fig.data))]}])\n",
    "    fig.data[2*i+3].showlegend = True\n",
    "    fig.data[2*i+4].showlegend = True\n",
    "    steps.append(step)\n",
    "\n",
    "sliders = [dict(currentvalue={'prefix': 'epsilon = '}, steps=steps)]\n",
    "\n",
    "fig.update_layout(sliders=sliders)\n",
    "fig.show()"
   ]
  },
  {
   "cell_type": "markdown",
   "id": "3073b759",
   "metadata": {},
   "source": [
    "## Cas où $\\alpha = -2$ "
   ]
  },
  {
   "cell_type": "code",
   "execution_count": null,
   "id": "04bb3297",
   "metadata": {
    "scrolled": true
   },
   "outputs": [],
   "source": [
    "x = np.linspace(0.5, 3.5, 100)\n",
    "\n",
    "alpha = -2\n",
    "\n",
    "y1 = x\n",
    "y2 = (1+alpha)*x - alpha\n",
    "\n",
    "#fig = go.Figure()\n",
    "fig = go.Figure(layout_yaxis_range=[-0.5,3.5])\n",
    "\n",
    "fig.add_trace(go.Scatter(x=x, y=y1, name=\"y=x\"))\n",
    "fig.add_trace(go.Scatter(x=x, y=y2, name=\"y = (1 + alpha)x - alpha\", marker = dict(color=\"crimson\"),\n",
    "                         legendgroup=\"group\",  legendgrouptitle_text=\"Problème original\"))\n",
    "fig.add_trace(go.Scatter(x=[1], y=[1], name=\"solution exacte\", mode='markers',\n",
    "                         marker = dict(symbol='x-thin', size=9, line_color=\"crimson\", line_width=1),\n",
    "                         legendgroup=\"group\"))\n",
    "\n",
    "epsilon = np.array([0.001, 0.01, 0.1])\n",
    "for i, eps_i in enumerate(epsilon):\n",
    "    y_i = (1+alpha)*x - alpha - eps_i\n",
    "    fig.add_trace(go.Scatter(x=x, y=y_i, name=\"y = (1 + alpha)x - alpha - eps\", marker = dict(color=\"green\"),\n",
    "                             legendgroup=\"group2\",  legendgrouptitle_text=\"Problème perturbé\", showlegend=False,\n",
    "                             visible=False))\n",
    "    \n",
    "    fig.add_trace(go.Scatter(x=[1+eps_i/alpha], y=[1+eps_i/alpha], name=\"solution perturbée\", mode='markers',\n",
    "                         marker = dict(symbol='x-thin', size=9, line_color=\"green\", line_width=1),\n",
    "                         legendgroup=\"group2\", showlegend=False, visible=False))\n",
    "    \n",
    "fig.data[3].visible = True\n",
    "fig.data[3].showlegend = True\n",
    "fig.data[4].visible = True\n",
    "fig.data[4].showlegend = True\n",
    "\n",
    "# Create and add slider\n",
    "steps = []\n",
    "for i, eps_i in enumerate(epsilon):\n",
    "    step = dict(method=\"update\", label = f\"{eps_i}\", \n",
    "                args=[{\"visible\": [(el==2*i+3 or el==2*i+4 or el==0 or el==1 or el==2) for el in range(len(fig.data))]}])\n",
    "    fig.data[2*i+3].showlegend = True\n",
    "    fig.data[2*i+4].showlegend = True\n",
    "    steps.append(step)\n",
    "\n",
    "sliders = [dict(currentvalue={'prefix': 'epsilon = '}, steps=steps)]\n",
    "\n",
    "fig.update_layout(sliders=sliders)\n",
    "fig.show()"
   ]
  }
 ],
 "metadata": {
  "@webio": {
   "lastCommId": null,
   "lastKernelId": null
  },
  "kernelspec": {
   "display_name": "Python 3",
   "language": "python",
   "name": "python3"
  },
  "language_info": {
   "codemirror_mode": {
    "name": "ipython",
    "version": 3
   },
   "file_extension": ".py",
   "mimetype": "text/x-python",
   "name": "python",
   "nbconvert_exporter": "python",
   "pygments_lexer": "ipython3",
   "version": "3.9.6"
  }
 },
 "nbformat": 4,
 "nbformat_minor": 5
}
