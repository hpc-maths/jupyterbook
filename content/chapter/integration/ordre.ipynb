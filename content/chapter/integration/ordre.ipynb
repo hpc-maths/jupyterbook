{
 "cells": [
  {
   "cell_type": "markdown",
   "id": "26ecbcdb-5964-4689-b1b8-25b70cbe8489",
   "metadata": {},
   "source": [
    "# Montée en ordre et conditionnement"
   ]
  },
  {
   "cell_type": "code",
   "execution_count": null,
   "id": "0d06f6c9-52c7-4e1f-8c8b-f5c6ee6dd104",
   "metadata": {},
   "outputs": [],
   "source": [
    "import numpy as np\n",
    "import quadpy\n",
    "import plotly.graph_objs as go\n",
    "from scipy.integrate import newton_cotes\n",
    "from scipy.special import roots_legendre"
   ]
  },
  {
   "cell_type": "markdown",
   "id": "051f0b81-4190-41c0-8bc0-2bcf56f09001",
   "metadata": {},
   "source": [
    "On considère l'intégration de la fonction $f(x) = \\cos(2x)$ sur l'intervalle $[0,1]$ dont le résultat exact est $0.5 \\sin(2)$."
   ]
  },
  {
   "cell_type": "code",
   "execution_count": null,
   "id": "aa80bb0b-5e66-4e20-99f4-98494e91f60f",
   "metadata": {},
   "outputs": [],
   "source": [
    "def f(x):\n",
    "    return np.cos(2*x)\n",
    "\n",
    "res_exa = 0.5*np.sin(2)"
   ]
  },
  {
   "cell_type": "markdown",
   "id": "4c1a7ff0-0a67-40f5-aed6-f5c2937f08a7",
   "metadata": {},
   "source": [
    "## Formules de Newton-Cotes  "
   ]
  },
  {
   "cell_type": "markdown",
   "id": "0eb716f0-55e3-40c8-8514-c2bd0eb041d4",
   "metadata": {},
   "source": [
    "### Poids calculés avec scipy "
   ]
  },
  {
   "cell_type": "code",
   "execution_count": null,
   "id": "83983755-0203-4bd5-bae6-1fb56690da37",
   "metadata": {},
   "outputs": [],
   "source": [
    "s = np.arange(2, 41, 1)\n",
    "\n",
    "err = np.zeros(s.size)\n",
    "\n",
    "for i, si in enumerate(s):\n",
    "    b, _ = newton_cotes(si-1, equal=1)\n",
    "    b = b/(si-1)\n",
    "    c = np.linspace(0, 1, si)\n",
    "    res = np.sum(b * f(c))\n",
    "    err[i] = np.abs(res - res_exa)\n",
    "    \n",
    "fig = go.Figure()\n",
    "fig.add_trace(go.Scatter(x=s, y=err, mode='lines+markers'))\n",
    "fig.update_xaxes(title=\"Nombre d'étages\")\n",
    "fig.update_yaxes(type=\"log\", exponentformat = 'e', title=\"Erreur\")\n",
    "fig.show()"
   ]
  },
  {
   "cell_type": "markdown",
   "id": "09fbdfa6-dc36-456a-b105-d5009583301a",
   "metadata": {},
   "source": [
    "### Poids calculés avec quadpy"
   ]
  },
  {
   "cell_type": "code",
   "execution_count": null,
   "id": "4d96767c-5541-4132-946e-3b0e5cd4c8f8",
   "metadata": {},
   "outputs": [],
   "source": [
    "s = np.array([2, 3, 4, 5, 6, 7, 8, 9, 10, 12, 16, 18, 20, 24, 28, 32, 36, 40])\n",
    "\n",
    "err = np.zeros(s.size)\n",
    "res_nc_quadpy = np.zeros(s.size)\n",
    "b_nc_quadpy = []\n",
    "\n",
    "for i, si in enumerate(s):\n",
    "    #print(si, \" \", end=\"\")\n",
    "    quad = quadpy.c1.newton_cotes_closed(si-1)\n",
    "    b_nc_quadpy.append(0.5*quad.weights)\n",
    "    c = np.linspace(0, 1, si)\n",
    "    res_nc_quadpy[i] = np.sum(b_nc_quadpy[i] * f(c))\n",
    "    err[i] = np.abs(res_nc_quadpy[i] - res_exa)\n",
    "\n",
    "fig = go.Figure()\n",
    "fig.add_trace(go.Scatter(x=s, y=err, mode='lines+markers'))\n",
    "fig.update_xaxes(title=\"Nombre d'étages\")\n",
    "fig.update_yaxes(type=\"log\", exponentformat = 'e', title=\"Erreur\")\n",
    "fig.show()"
   ]
  },
  {
   "cell_type": "markdown",
   "id": "62994017",
   "metadata": {},
   "source": [
    "### Perturbation des $f(c_i)$"
   ]
  },
  {
   "cell_type": "code",
   "execution_count": null,
   "id": "78250162",
   "metadata": {},
   "outputs": [],
   "source": [
    "eps = 0.01\n",
    "\n",
    "err = np.zeros(s.size)\n",
    "err_pert = np.zeros(s.size)\n",
    "\n",
    "for i, si in enumerate(s):\n",
    "    c = np.linspace(0, 1, si)\n",
    "    f_pert = f(c) + eps*(2*np.random.rand(c.size)-1)*f(c)\n",
    "    res_pert = np.sum(b_nc_quadpy[i] * f_pert)\n",
    "    err_pert[i] = np.abs(res_nc_quadpy[i] - res_pert)\n",
    "    \n",
    "fig = go.Figure()\n",
    "fig.add_trace(go.Scatter(x=s, y=err_pert, mode='lines+markers'))\n",
    "fig.update_xaxes(title=\"Nombre d'étages\")\n",
    "fig.update_yaxes(type=\"log\", exponentformat = 'e', title=\"|Res. - Res. pert|\")\n",
    "fig.show()"
   ]
  },
  {
   "cell_type": "markdown",
   "id": "6b143f2e-f815-430d-acd1-123033ab4237",
   "metadata": {},
   "source": [
    "## Formule de Clenshaw-Curtis"
   ]
  },
  {
   "cell_type": "code",
   "execution_count": null,
   "id": "60242f20-5e96-49f1-8d73-15b61a35664a",
   "metadata": {},
   "outputs": [],
   "source": [
    "def xcheb(n):\n",
    "    if n == 0:\n",
    "        return np.array([])\n",
    "    else:\n",
    "        x = 0.5*np.cos( (2*np.arange(0,n)+1)*np.pi / (2*n) ) + 0.5\n",
    "    return x\n",
    "\n",
    "def coeffs_clenshawcurtis(n):\n",
    "    x = xcheb(n+1) # n+1 Chebyshev nodes\n",
    "    tab_k = np.arange(0, n+1, dtype='float')\n",
    "    b = 1 / (tab_k + 1)\n",
    "    M = np.vander(x, increasing=True)\n",
    "    w = np.linalg.solve(np.transpose(M), b)\n",
    "    return x, w    "
   ]
  },
  {
   "cell_type": "code",
   "execution_count": null,
   "id": "42af1894-7336-4e5d-b7c8-a12ac58733bd",
   "metadata": {},
   "outputs": [],
   "source": [
    "s = np.arange(2, 41, 1)\n",
    "\n",
    "err = np.zeros(s.size)\n",
    "\n",
    "for i, si in enumerate(s):\n",
    "    c, b = coeffs_clenshawcurtis(si-1)\n",
    "    res = np.sum(b * f(c))\n",
    "    err[i] = np.abs(res - res_exa)\n",
    "    if (err[i]==0): err[i]=1e-16    \n",
    "\n",
    "fig = go.Figure()\n",
    "fig.add_trace(go.Scatter(x=s, y=err, mode='lines+markers'))\n",
    "fig.update_xaxes(title=\"Nombre d'étages\")\n",
    "fig.update_yaxes(type=\"log\", exponentformat = 'e', title=\"Erreur\")\n",
    "fig.show()"
   ]
  },
  {
   "cell_type": "markdown",
   "id": "f8aa9b48",
   "metadata": {},
   "source": [
    "### Perturbation des $f(c_i)$"
   ]
  },
  {
   "cell_type": "code",
   "execution_count": null,
   "id": "9452aebf",
   "metadata": {},
   "outputs": [],
   "source": [
    "eps = 0.01\n",
    "\n",
    "err_pert = np.zeros(s.size)\n",
    "\n",
    "for i, si in enumerate(s):\n",
    "    c, b = coeffs_clenshawcurtis(si-1)\n",
    "    res = np.sum(b * f(c))\n",
    "    err[i] = np.abs(res - res_exa)\n",
    "    f_pert = f(c) + eps*(2*np.random.rand(c.size)-1)*f(c)\n",
    "    res_pert = np.sum(b * f_pert)\n",
    "    err_pert[i] = np.abs(res - res_pert)\n",
    "\n",
    "fig = go.Figure()\n",
    "fig.add_trace(go.Scatter(x=s, y=err_pert, mode='lines+markers'))\n",
    "fig.update_xaxes(title=\"Nombre d'étages\")\n",
    "fig.update_yaxes(type=\"log\", exponentformat = 'e', title=\"|Res. - Res. pert|\")\n",
    "fig.show()"
   ]
  },
  {
   "cell_type": "markdown",
   "id": "f860f12e",
   "metadata": {},
   "source": [
    "## Formule de Gauss"
   ]
  },
  {
   "cell_type": "code",
   "execution_count": null,
   "id": "0176239e",
   "metadata": {},
   "outputs": [],
   "source": [
    "s = np.arange(2, 41, 1)\n",
    "\n",
    "err = np.zeros(s.size)\n",
    "\n",
    "for i, si in enumerate(s):\n",
    "    c, b = roots_legendre(si)\n",
    "    c = 0.5*(c+1)\n",
    "    b = 0.5*b\n",
    "    res = np.sum(b * f(c))\n",
    "    err[i] = np.abs(res - res_exa)\n",
    "    if (err[i] == 0): err[i]=1e-16\n",
    "    \n",
    "fig = go.Figure()\n",
    "fig.add_trace(go.Scatter(x=s, y=err, mode='lines+markers'))\n",
    "fig.update_xaxes(title=\"Nombre d'étages\")\n",
    "fig.update_yaxes(type=\"log\", exponentformat = 'e', title=\"Erreur\")\n",
    "fig.show()"
   ]
  },
  {
   "cell_type": "markdown",
   "id": "a27cc5a0",
   "metadata": {},
   "source": [
    "### Formule perturbée "
   ]
  },
  {
   "cell_type": "code",
   "execution_count": null,
   "id": "ae215e45",
   "metadata": {},
   "outputs": [],
   "source": [
    "eps = 0.01\n",
    "\n",
    "s = np.arange(2, 41, 1)\n",
    "\n",
    "err = np.zeros(s.size)\n",
    "err_pert = np.zeros(s.size)\n",
    "\n",
    "for i, si in enumerate(s):\n",
    "    c, b = roots_legendre(si)\n",
    "    c = 0.5*(c+1)\n",
    "    b = 0.5*b\n",
    "    res = np.sum(b * f(c))\n",
    "    f_pert = f(c) + eps*(2*np.random.rand(c.size)-1)*f(c)\n",
    "    res_pert = np.sum(b * f_pert)\n",
    "    err_pert[i] = np.abs(res - res_pert)\n",
    "    \n",
    "fig = go.Figure()\n",
    "fig.add_trace(go.Scatter(x=s, y=err_pert, mode='lines+markers'))\n",
    "fig.update_xaxes(title=\"Nombre d'étages\")\n",
    "fig.update_yaxes(type=\"log\", exponentformat = 'e', title=\"|Res. - Res. pert|\")\n",
    "fig.show()"
   ]
  }
 ],
 "metadata": {
  "@webio": {
   "lastCommId": null,
   "lastKernelId": null
  },
  "celltoolbar": "Format de la Cellule Texte Brut",
  "kernelspec": {
   "display_name": "Python 3",
   "language": "python",
   "name": "python3"
  },
  "language_info": {
   "codemirror_mode": {
    "name": "ipython",
    "version": 3
   },
   "file_extension": ".py",
   "mimetype": "text/x-python",
   "name": "python",
   "nbconvert_exporter": "python",
   "pygments_lexer": "ipython3",
   "version": "3.9.6"
  }
 },
 "nbformat": 4,
 "nbformat_minor": 5
}
