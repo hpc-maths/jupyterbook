{
 "cells": [
  {
   "cell_type": "markdown",
   "id": "f353b6c9",
   "metadata": {},
   "source": [
    "# Limite de la formulation de Newton\n",
    "\n",
    "On considère l'interpolation de la fonction $f(x) = \\sin(x)$ sur $[0, 2\\pi]$."
   ]
  },
  {
   "cell_type": "code",
   "execution_count": null,
   "id": "d73a3186-7940-4e37-824c-ee3266bfb4ae",
   "metadata": {},
   "outputs": [],
   "source": [
    "import plotly.graph_objects as go\n",
    "import numpy as np\n",
    "from scipy import interpolate\n",
    "\n",
    "def f(x):\n",
    "    return np.sin(x)\n",
    "\n",
    "xmin = 0; xmax = 2*np.pi"
   ]
  },
  {
   "cell_type": "markdown",
   "id": "51f5ebc4",
   "metadata": {},
   "source": [
    "## Formulation de Newton\n",
    "\n",
    "On interpole la fonction $f(x)$ en utilisant des points équidistants avec la formulation de Newton grâce à la fonction du module  `scipy` : [interpolate.KroghInterpolator](https://docs.scipy.org/doc/scipy/reference/generated/scipy.interpolate.KroghInterpolator.html#scipy.interpolate.KroghInterpolator)."
   ]
  },
  {
   "cell_type": "markdown",
   "id": "d9c6394e",
   "metadata": {},
   "source": [
    "### Points équidistants"
   ]
  },
  {
   "cell_type": "code",
   "execution_count": null,
   "id": "bdbe93a9",
   "metadata": {},
   "outputs": [],
   "source": [
    "# maximal degree of Newton interpolating polynomial\n",
    "n_max = 69\n",
    "\n",
    "# array of degree\n",
    "n = np.arange(9, n_max+1, 2)\n",
    "\n",
    "# compute for each degree xi, yi and pn\n",
    "xi = []; yi = []; pn = []\n",
    "for i, ni in enumerate(n):\n",
    "    xi.append(np.linspace(xmin, xmax, ni+1))\n",
    "    yi.append(f(xi[i]))\n",
    "    pn.append(interpolate.KroghInterpolator(xi[i], yi[i]))\n",
    "    \n",
    "# Create figure\n",
    "fig = go.Figure(layout_title=\"Formulation de Newton utilisant des points équidistants\")\n",
    "\n",
    "# x use to display f and pn\n",
    "xplot = np.linspace(xmin, xmax, 500)\n",
    "\n",
    "# add f(x) plot\n",
    "fig.add_trace(go.Scatter(visible=True, x=xplot, y=f(xplot), name=\"f(x)\"))\n",
    "\n",
    "# add yi and pn(x) invisible plots\n",
    "for i, ni in enumerate(n):\n",
    "    fig.add_trace(go.Scatter(visible=False, x=xplot, y=pn[i](xplot), name=f\"p{ni}(x)\", marker=dict(color='forestgreen')))\n",
    "    fig.add_trace(go.Scatter(visible=False, x=xi[i], y=yi[i], mode='markers', name=\"interpolating points\", marker=dict(color='forestgreen')))\n",
    "\n",
    "# Make plot visible for n[0]\n",
    "fig.data[1].visible = True\n",
    "fig.data[2].visible = True\n",
    "\n",
    "# Create and add slider\n",
    "steps = []\n",
    "for i, ni in enumerate(n):\n",
    "    step = dict(method=\"update\", label = f\" {ni+1}\",\n",
    "                args=[{\"visible\": [el==0 or el==2*i+1 or el==2*i+2 for el in range(len(fig.data))]}])\n",
    "    steps.append(step)\n",
    "        \n",
    "sliders = [dict(currentvalue={\"prefix\": \"nb points: \"}, steps=steps)]\n",
    "\n",
    "fig.update_layout(sliders=sliders)\n",
    "fig.update_yaxes(range=[-1.1, 1.1])\n",
    "\n",
    "fig.show()"
   ]
  },
  {
   "cell_type": "markdown",
   "id": "32fa0545",
   "metadata": {},
   "source": [
    "### Points de Tchebychef"
   ]
  },
  {
   "cell_type": "code",
   "execution_count": null,
   "id": "a18ac6fa",
   "metadata": {},
   "outputs": [],
   "source": [
    "def cheb_points(xmin, xmax, n):\n",
    "    x = np.zeros(n+1)\n",
    "    for i in range(n+1):\n",
    "        x[i] = (xmax+xmin)/2 + ((xmax-xmin)/2) * np.cos(((2*i+1)*np.pi)/(2*n + 2))\n",
    "    return x"
   ]
  },
  {
   "cell_type": "code",
   "execution_count": null,
   "id": "7c96618b",
   "metadata": {},
   "outputs": [],
   "source": [
    "# maximal degree of Newton interpolating polynomial\n",
    "n_max = 69\n",
    "\n",
    "# array of degree\n",
    "n = np.arange(9, n_max+1, 2)\n",
    "\n",
    "# compute for each degree xi, yi and pn\n",
    "xi = []; yi = []; pn = []\n",
    "for i, ni in enumerate(n):\n",
    "    xi.append(cheb_points(xmin, xmax, ni))\n",
    "    yi.append(f(xi[i]))\n",
    "    pn.append(interpolate.KroghInterpolator(xi[i], yi[i]))\n",
    "    \n",
    "# Create figure\n",
    "fig = go.Figure(layout_title=\"Formulation de Newton utilisant des points Tchebychef\")\n",
    "\n",
    "# x use to display f and pn\n",
    "xplot = np.linspace(xmin, xmax, 500)\n",
    "\n",
    "# add f(x) plot\n",
    "fig.add_trace(go.Scatter(visible=True, x=xplot, y=f(xplot), name=\"f(x)\"))\n",
    "\n",
    "# add yi and pn(x) invisible plots\n",
    "for i, ni in enumerate(n):\n",
    "    fig.add_trace(go.Scatter(visible=False, x=xplot, y=pn[i](xplot), name=f\"p{ni}(x)\", marker=dict(color='forestgreen')))\n",
    "    fig.add_trace(go.Scatter(visible=False, x=xi[i], y=yi[i], mode='markers', name=\"interpolating points\", marker=dict(color='forestgreen')))\n",
    "\n",
    "# Make plot visible for n[0]\n",
    "fig.data[1].visible = True\n",
    "fig.data[2].visible = True\n",
    "\n",
    "# Create and add slider\n",
    "steps = []\n",
    "for i, ni in enumerate(n):\n",
    "    step = dict(method=\"update\", label = f\" {ni+1}\",\n",
    "                args=[{\"visible\": [el==0 or el==2*i+1 or el==2*i+2 for el in range(len(fig.data))]}])\n",
    "    steps.append(step)\n",
    "        \n",
    "sliders = [dict(currentvalue={\"prefix\": \"nb points: \"}, steps=steps)]\n",
    "\n",
    "fig.update_layout(sliders=sliders)\n",
    "fig.update_yaxes(range=[-1.1, 1.1])\n",
    "\n",
    "fig.show()"
   ]
  },
  {
   "cell_type": "markdown",
   "id": "5d666df9",
   "metadata": {},
   "source": [
    "## Formule d'interpolation barycentrique\n",
    "\n",
    "On interpole la fonction $f(x)$ en utilisant des points équidistants avec la formulation barycentrique grâce à la fonction du module  `scipy` : [interpolate.BarycentricInterpolator](https://docs.scipy.org/doc/scipy/reference/generated/scipy.interpolate.BarycentricInterpolator.html#scipy.interpolate.BarycentricInterpolator)."
   ]
  },
  {
   "cell_type": "markdown",
   "id": "72958092",
   "metadata": {},
   "source": [
    "### Points équidistants"
   ]
  },
  {
   "cell_type": "code",
   "execution_count": null,
   "id": "a27e7889",
   "metadata": {},
   "outputs": [],
   "source": [
    "# maximal degree of Newton interpolating polynomial\n",
    "n_max = 69\n",
    "\n",
    "# array of degree\n",
    "n = np.arange(9, n_max+1, 2)\n",
    "\n",
    "# compute for each degree xi, yi and pn\n",
    "xi = []; yi = []; pn = []\n",
    "for i, ni in enumerate(n):\n",
    "    xi.append(np.linspace(xmin, xmax, ni+1))\n",
    "    yi.append(f(xi[i]))\n",
    "    pn.append(interpolate.BarycentricInterpolator(xi[i], yi[i]))\n",
    "    \n",
    "# Create figure\n",
    "fig = go.Figure(layout_title=\"Formulation barycentrique utilisant des points équidistants\")\n",
    "\n",
    "# x use to display f and pn\n",
    "xplot = np.linspace(xmin, xmax, 500)\n",
    "\n",
    "# add f(x) plot\n",
    "fig.add_trace(go.Scatter(visible=True, x=xplot, y=f(xplot), name=\"f(x)\"))\n",
    "\n",
    "# add yi and pn(x) invisible plots\n",
    "for i, ni in enumerate(n):\n",
    "    fig.add_trace(go.Scatter(visible=False, x=xplot, y=pn[i](xplot), name=f\"p{ni}(x)\", marker=dict(color='forestgreen')))\n",
    "    fig.add_trace(go.Scatter(visible=False, x=xi[i], y=yi[i], mode='markers', name=\"interpolating points\", marker=dict(color='forestgreen')))\n",
    "\n",
    "# Make plot visible for n[0]\n",
    "fig.data[1].visible = True\n",
    "fig.data[2].visible = True\n",
    "\n",
    "# Create and add slider\n",
    "steps = []\n",
    "for i, ni in enumerate(n):\n",
    "    step = dict(method=\"update\", label = f\" {ni+1}\",\n",
    "                args=[{\"visible\": [el==0 or el==2*i+1 or el==2*i+2 for el in range(len(fig.data))]}])\n",
    "    steps.append(step)\n",
    "        \n",
    "sliders = [dict(currentvalue={\"prefix\": \"nb points: \"}, steps=steps)]\n",
    "\n",
    "fig.update_layout(sliders=sliders)\n",
    "fig.update_yaxes(range=[-1.1, 1.1])\n",
    "\n",
    "fig.show()"
   ]
  },
  {
   "cell_type": "markdown",
   "id": "12d8ba53",
   "metadata": {},
   "source": [
    "### Points de Tchebychef"
   ]
  },
  {
   "cell_type": "code",
   "execution_count": null,
   "id": "f11dc82f",
   "metadata": {},
   "outputs": [],
   "source": [
    "# maximal degree of Newton interpolating polynomial\n",
    "n_max = 700\n",
    "\n",
    "# array of degree\n",
    "n = np.arange(19, n_max+1, 40)\n",
    "\n",
    "# compute for each degree xi, yi and pn\n",
    "xi = []; yi = []; pn = []\n",
    "for i, ni in enumerate(n):\n",
    "    xi.append(cheb_points(xmin, xmax, ni))\n",
    "    yi.append(f(xi[i]))\n",
    "    pn.append(interpolate.BarycentricInterpolator(xi[i], yi[i]))\n",
    "    \n",
    "# Create figure\n",
    "fig = go.Figure(layout_title=\"Formulation barycentrique utilisant des points Tchebychef\")\n",
    "\n",
    "# x use to display f and pn\n",
    "xplot = np.linspace(xmin, xmax, 2000)\n",
    "\n",
    "# add f(x) plot\n",
    "fig.add_trace(go.Scatter(visible=True, x=xplot, y=f(xplot), name=\"f(x)\"))\n",
    "\n",
    "# add yi and pn(x) invisible plots\n",
    "for i, ni in enumerate(n):\n",
    "    fig.add_trace(go.Scatter(visible=False, x=xplot, y=pn[i](xplot), name=f\"p{ni}(x)\", marker=dict(color='forestgreen')))\n",
    "    fig.add_trace(go.Scatter(visible=False, x=xi[i], y=yi[i], mode='markers', name=\"interpolating points\", marker=dict(color='forestgreen')))\n",
    "\n",
    "# Make plot visible for n[0]\n",
    "fig.data[1].visible = True\n",
    "fig.data[2].visible = True\n",
    "\n",
    "# Create and add slider\n",
    "steps = []\n",
    "for i, ni in enumerate(n):\n",
    "    step = dict(method=\"update\", label = f\" {ni+1}\",\n",
    "                args=[{\"visible\": [el==0 or el==2*i+1 or el==2*i+2 for el in range(len(fig.data))]}])\n",
    "    steps.append(step)\n",
    "        \n",
    "sliders = [dict(currentvalue={\"prefix\": \"nb points: \"}, steps=steps)]\n",
    "\n",
    "fig.update_layout(sliders=sliders)\n",
    "fig.update_yaxes(range=[-1.1, 1.1])\n",
    "\n",
    "fig.show()"
   ]
  }
 ],
 "metadata": {
  "@webio": {
   "lastCommId": null,
   "lastKernelId": null
  },
  "kernelspec": {
   "display_name": "Python 3",
   "language": "python",
   "name": "python3"
  },
  "language_info": {
   "codemirror_mode": {
    "name": "ipython",
    "version": 3
   },
   "file_extension": ".py",
   "mimetype": "text/x-python",
   "name": "python",
   "nbconvert_exporter": "python",
   "pygments_lexer": "ipython3",
   "version": "3.9.6"
  }
 },
 "nbformat": 4,
 "nbformat_minor": 5
}
