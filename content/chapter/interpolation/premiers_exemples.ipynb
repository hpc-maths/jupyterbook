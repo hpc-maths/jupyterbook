{
 "cells": [
  {
   "cell_type": "markdown",
   "metadata": {},
   "source": [
    "# Premiers exemples"
   ]
  },
  {
   "cell_type": "code",
   "execution_count": null,
   "metadata": {},
   "outputs": [],
   "source": [
    "import plotly.graph_objects as go\n",
    "import numpy as np\n",
    "from scipy import interpolate"
   ]
  },
  {
   "cell_type": "markdown",
   "metadata": {},
   "source": [
    "## Cas du polycopié avec un ensemble de points quelconques"
   ]
  },
  {
   "cell_type": "markdown",
   "metadata": {},
   "source": [
    "**Polynôme d'interpolation d'ordre 5**"
   ]
  },
  {
   "cell_type": "code",
   "execution_count": null,
   "metadata": {},
   "outputs": [],
   "source": [
    "import plotly.graph_objects as go\n",
    "from scipy import interpolate\n",
    "\n",
    "n = 5\n",
    "xi = np.array([ 0., 2., 4., 5., 8., 10.])\n",
    "yi = np.array([-1., 1., 6., 0., 2.,  5.])\n",
    "\n",
    "p = interpolate.KroghInterpolator(xi, yi)\n",
    "\n",
    "xmin = -1; xmax = 11.\n",
    "x = np.linspace(xmin, xmax, 1000)\n",
    "\n",
    "fig = go.Figure(layout_yaxis_range=[-10,15], layout_title=\"Polynôme d'interpolation d'ordre 5\")\n",
    "fig.add_trace(go.Scatter(x=x, y=p(x), name=\"p(x)\"))\n",
    "fig.add_trace(go.Scatter(x=xi, y=yi, mode='markers', name=\"pts d'interpolation\"))\n",
    "\n",
    "fig.show()"
   ]
  },
  {
   "cell_type": "markdown",
   "metadata": {},
   "source": [
    "**Polynôme d'interpolation d'ordre 6**"
   ]
  },
  {
   "cell_type": "code",
   "execution_count": null,
   "metadata": {},
   "outputs": [],
   "source": [
    "n = 6\n",
    "xi = np.array([ 0., 2., 4., 5., 7., 8., 10])\n",
    "yi = np.array([-1., 1., 6., 0., 0., 2.,  5.])\n",
    "\n",
    "p = interpolate.KroghInterpolator(xi, yi)\n",
    "\n",
    "xmin = -1.; xmax = 11.\n",
    "x = np.linspace(xmin, xmax, 1000)\n",
    "\n",
    "fig = go.Figure(layout_yaxis_range=[-16,12], layout_title=\"Polynôme d'interpolation d'ordre 6\")\n",
    "fig.add_trace(go.Scatter(x=x, y=p(x), name=\"p(x)\"))\n",
    "fig.add_trace(go.Scatter(x=xi, y=yi, mode='markers', name=\"pts d'interpolation\"))\n",
    "fig.show()"
   ]
  },
  {
   "cell_type": "markdown",
   "metadata": {},
   "source": [
    "## Exemple pour la fonction $f(x) = sin(x)$"
   ]
  },
  {
   "cell_type": "code",
   "execution_count": null,
   "metadata": {},
   "outputs": [],
   "source": [
    "n = 11\n",
    "ximin = 0.; ximax = 3*np.pi\n",
    "xi = np.linspace(ximin, ximax, n+1)\n",
    "yi = np.sin(xi)\n",
    "\n",
    "p = interpolate.KroghInterpolator(xi, yi)\n",
    "\n",
    "xmin = ximin-1.; xmax = ximax+1\n",
    "x = np.linspace(xmin, xmax, 1000)\n",
    "\n",
    "fig = go.Figure(layout_title=\"Polynôme d'interpolation d'ordre 11 pour la fonction sin(x)\")\n",
    "fig.add_trace(go.Scatter(x=x, y=np.sin(x), name=\"sin(x)\"))\n",
    "fig.add_trace(go.Scatter(x=x, y=p(x), name=\"p(x)\"))\n",
    "fig.add_trace(go.Scatter(x=xi, y=yi, mode='markers', name=\"pts d'interpolation\"))\n",
    "\n",
    "fig.show()"
   ]
  },
  {
   "cell_type": "markdown",
   "metadata": {},
   "source": [
    "## Exemple pour la fonction $\\displaystyle \\frac{1}{1+25x^2}$"
   ]
  },
  {
   "cell_type": "code",
   "execution_count": null,
   "metadata": {},
   "outputs": [],
   "source": [
    "def f(x):\n",
    "    return 1/(1+25*x*x)"
   ]
  },
  {
   "cell_type": "code",
   "execution_count": null,
   "metadata": {},
   "outputs": [],
   "source": [
    "nombre = 34\n",
    "print(f\"Le nombre est {nombre}\")"
   ]
  },
  {
   "cell_type": "code",
   "execution_count": null,
   "metadata": {},
   "outputs": [],
   "source": [
    "n = 10\n",
    "\n",
    "ximin = -1; ximax = 1\n",
    "xi = np.linspace(ximin, ximax, n+1)\n",
    "yi = f(xi)\n",
    "\n",
    "p = interpolate.KroghInterpolator(xi, yi)\n",
    "\n",
    "x = np.linspace(ximin, ximax, 500)\n",
    "\n",
    "fig = go.Figure(layout_yaxis_range=[-0.5,2.0], layout_title=f\"Polynôme d'interpolation d'ordre {n} pour f(x)\")\n",
    "fig.add_trace(go.Scatter(x=x, y=f(x), name=\"f(x)\"))\n",
    "fig.add_trace(go.Scatter(x=x, y=p(x), name=\"p(x)\"))\n",
    "fig.add_trace(go.Scatter(x=xi, y=yi, mode='markers', name=\"pts d'interpolation\"))\n",
    "fig.show()"
   ]
  },
  {
   "cell_type": "code",
   "execution_count": null,
   "metadata": {},
   "outputs": [],
   "source": [
    "n = 30\n",
    "\n",
    "ximin = -1; ximax = 1\n",
    "xi = np.linspace(ximin, ximax, n+1)\n",
    "yi = f(xi)\n",
    "\n",
    "p = interpolate.KroghInterpolator(xi, yi)\n",
    "\n",
    "x = np.linspace(ximin, ximax, 500)\n",
    "\n",
    "fig = go.Figure(layout_yaxis_range=[-0.5,2.0], layout_title=f\"Polynôme d'interpolation d'ordre {n} pour f(x)\")\n",
    "fig.add_trace(go.Scatter(x=x, y=f(x), name=\"f(x)\"))\n",
    "fig.add_trace(go.Scatter(x=x, y=p(x), name=\"p(x)\"))\n",
    "fig.add_trace(go.Scatter(x=xi, y=yi, mode='markers', name=\"pts d'interpolation\"))\n",
    "fig.show()"
   ]
  }
 ],
 "metadata": {
  "@webio": {
   "lastCommId": null,
   "lastKernelId": null
  },
  "kernelspec": {
   "display_name": "Python 3",
   "language": "python",
   "name": "python3"
  },
  "language_info": {
   "codemirror_mode": {
    "name": "ipython",
    "version": 3
   },
   "file_extension": ".py",
   "mimetype": "text/x-python",
   "name": "python",
   "nbconvert_exporter": "python",
   "pygments_lexer": "ipython3",
   "version": "3.9.6"
  },
  "latex_envs": {
   "LaTeX_envs_menu_present": true,
   "autoclose": false,
   "autocomplete": true,
   "bibliofile": "biblio.bib",
   "cite_by": "apalike",
   "current_citInitial": 1,
   "eqLabelWithNumbers": true,
   "eqNumInitial": 1,
   "hotkeys": {
    "equation": "Ctrl-E",
    "itemize": "Ctrl-I"
   },
   "labels_anchors": false,
   "latex_user_defs": false,
   "report_style_numbering": false,
   "user_envs_cfg": false
  }
 },
 "nbformat": 4,
 "nbformat_minor": 4
}
