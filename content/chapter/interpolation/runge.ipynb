{
 "cells": [
  {
   "cell_type": "markdown",
   "id": "experienced-plant",
   "metadata": {},
   "source": [
    "# Phénomène de Runge"
   ]
  },
  {
   "cell_type": "markdown",
   "id": "48399719",
   "metadata": {},
   "source": [
    "## Formulation de Newton"
   ]
  },
  {
   "cell_type": "markdown",
   "id": "cooperative-turkish",
   "metadata": {},
   "source": [
    "Introduisons les différences divisées par la récurrence suivante : \n",
    "\n",
    "$$\n",
    "\\begin{array}{rcl}\n",
    "y[x_i] &:=& y_i \\vphantom{\\left(\\frac{\\delta y[x_j,x_k] -\\delta y[x_i,x_j]}{x_k-x_i}\\right)^2} \\\\\n",
    "\\delta y[x_i,x_j] &:= & \\displaystyle \\frac{y[x_j] -y[x_i]}{x_j-x_i} \\vphantom{\\left(\\frac{\\delta y[x_j,x_k] -\\delta y[x_i,x_j]}{x_k-x_i}\\right)^2} \\\\\n",
    "\\delta^2 y[x_i,x_j,x_k] &:= &\\displaystyle \\vphantom{\\left(\\frac{\\delta y[x_j,x_k] -\\delta y[x_i,x_j]}{x_k-x_i}\\right)^2} \\frac{\\delta y[x_j,x_k] -\\delta y[x_i,x_j]}{x_k-x_i}\\\\\n",
    "\\vdots&&\\vdots\\\\\n",
    "\\delta^n y[x_{i_0},x_{i_1},\\ldots,x_{i_n}] &:= & \\displaystyle \\frac{\\delta^{n-1} y[x_{i_1},x_{i_1},\\ldots,x_{i_n}] -\\delta^{n-1} y[x_{i_0},x_{i_1},\\ldots,x_{i_{n-1}}]}{x_{i_n}-x_{i_0}}. \\vphantom{\\left(\\frac{\\delta y[x_j,x_k] -\\delta y[x_i,x_j]}{x_k-x_i}\\right)^2} \\\\\n",
    "\\end{array}\n",
    "$$\n",
    "\n",
    "\n",
    "Le polynôme d’interpolation de degré $n$ qui passe par les $n+1$ points $(x_0,y_0),(x_1,y_1), \\ldots (x_n,y_n)$, où les $x_i$ sont distincts, est l'unique polynôme donné par l’expression :\n",
    "\n",
    "$$\n",
    "\\begin{aligned}\n",
    "p_n(x) =y[x_0]  {} & + (x-x_0)\\delta y[x_0,x_1]  + (x-x_0)(x-x_1)\\delta^2 y[x_0,x_1,x_2]+ \\ldots \\\\\n",
    "             & + (x-x_0)\\ldots(x-x_{n-1}) \\delta^{n} y[x_{0},x_{i},\\ldots,x_{n}].\n",
    "\\end{aligned}\n",
    "$$"
   ]
  },
  {
   "cell_type": "code",
   "execution_count": null,
   "id": "civil-gibraltar",
   "metadata": {},
   "outputs": [],
   "source": [
    "import numpy as np\n",
    "\n",
    "def compute_divided_diff_coef(x, y):\n",
    "    n = x.size\n",
    "    coef = y.copy()\n",
    "    for i in range(1,n):\n",
    "        coef[i:] = (coef[i:] - coef[i-1:-1])/(x[i:] - x[:-i])\n",
    "    return coef\n",
    "\n",
    "def poly_newton_interp(coef, xi, x):\n",
    "    n = coef.size\n",
    "    p = np.zeros(x.size)\n",
    "    for i in range(n-1,0,-1):\n",
    "        p = (coef[i]+p) * (x-xi[i-1])\n",
    "    p = p +  coef[0] \n",
    "    return p\n",
    "\n",
    "def newton_interp(xi, yi):\n",
    "    coef = compute_divided_diff_coef(xi, yi)\n",
    "    return lambda x: poly_newton_interp(coef, xi, x)"
   ]
  },
  {
   "cell_type": "markdown",
   "id": "handmade-headset",
   "metadata": {},
   "source": [
    "## Exemple"
   ]
  },
  {
   "cell_type": "markdown",
   "id": "dominant-computer",
   "metadata": {},
   "source": [
    "We consider the function $f(x) = \\displaystyle \\frac{1}{(1 + 25x^2)}$."
   ]
  },
  {
   "cell_type": "code",
   "execution_count": null,
   "id": "fixed-illness",
   "metadata": {},
   "outputs": [],
   "source": [
    "def f(x):\n",
    "    return 1/(1+25*x*x)"
   ]
  },
  {
   "cell_type": "code",
   "execution_count": null,
   "id": "vital-atlanta",
   "metadata": {},
   "outputs": [],
   "source": [
    "from plotly.subplots import make_subplots\n",
    "import plotly.graph_objects as go\n",
    "\n",
    "xmin = -1.0\n",
    "xmax = 1.0\n",
    "\n",
    "# maximal degree of Newton interpolating polynomial\n",
    "n_max = 30\n",
    "\n",
    "# array of degree\n",
    "arr_n = np.arange(1, n_max)\n",
    "\n",
    "# compute for each degree xi, yi and pn\n",
    "xi_equi = []\n",
    "yi_equi = []\n",
    "p_equi = []\n",
    "for i, ni in enumerate(arr_n):\n",
    "    xi_equi.append(np.linspace(xmin, xmax, ni+1))\n",
    "    yi_equi.append(f(xi_equi[i]))\n",
    "    p_equi.append(newton_interp(xi_equi[i], yi_equi[i]))\n",
    "    \n",
    "# Create figure\n",
    "fig = go.Figure()\n",
    "\n",
    "# x use to display f and pn\n",
    "xplot = np.linspace(xmin, xmax, 500)\n",
    "\n",
    "# add f(x) plot\n",
    "fig.add_trace(go.Scatter(visible=True, x=xplot, y=f(xplot), name=\"f(x)\"))\n",
    "\n",
    "# add yi and pn(x) invisible plots\n",
    "for i, ni in enumerate(arr_n):\n",
    "    fig.add_trace(go.Scatter(visible=False, x=xplot, y=p_equi[i](xplot), name=f\"p{ni-1}(x)\", marker=dict(color='forestgreen')))\n",
    "    fig.add_trace(go.Scatter(visible=False, x=xi_equi[i], y=yi_equi[i], mode='markers', name=\"interpolating points\", marker=dict(color='forestgreen')))\n",
    "\n",
    "# Make plot visible for n=1\n",
    "fig.data[1].visible = True\n",
    "fig.data[2].visible = True\n",
    "\n",
    "# Create and add slider\n",
    "steps = []\n",
    "for i, ni in enumerate(arr_n):\n",
    "    step = dict(method=\"update\", label = f\" {ni+1}\",\n",
    "                args=[{\"visible\": [el==0 or el==2*i+1 or el==2*i+2 for el in range(len(fig.data))]}])\n",
    "    steps.append(step)\n",
    "        \n",
    "sliders = [dict(\n",
    "    currentvalue={\"prefix\": \"nb points: \"},\n",
    "    steps=steps\n",
    "    )]\n",
    "\n",
    "fig.update_layout(sliders=sliders)\n",
    "fig.update_yaxes(range=[-.25, 1.25])\n",
    "\n",
    "fig.show()"
   ]
  },
  {
   "cell_type": "markdown",
   "id": "broke-payroll",
   "metadata": {},
   "source": [
    "Lorsque le nombre de points d'interpolation augmentent, on remarqe que le polynôme se met à osciller avec une amplitude de plus en plus grande. C'est le **phénomène de Runge**."
   ]
  },
  {
   "cell_type": "markdown",
   "id": "visible-spiritual",
   "metadata": {},
   "source": [
    "## Point de Tchebychef"
   ]
  },
  {
   "cell_type": "code",
   "execution_count": null,
   "id": "executed-section",
   "metadata": {},
   "outputs": [],
   "source": [
    "def cheb_points(xmin, xmax, n):\n",
    "    x = np.zeros(n+1)\n",
    "    for i in range(n+1):\n",
    "        x[i] = (xmax+xmin)/2 + ((xmax-xmin)/2) * np.cos(((2*i+1)*np.pi)/(2*n + 2))\n",
    "    return x"
   ]
  },
  {
   "cell_type": "code",
   "execution_count": null,
   "id": "mysterious-involvement",
   "metadata": {},
   "outputs": [],
   "source": [
    "# compute for each degree xi, yi and pn\n",
    "xi_cheb = []\n",
    "yi_cheb = []\n",
    "p_cheb = []\n",
    "for i, ni in enumerate(arr_n):\n",
    "    xi_cheb.append(cheb_points(xmin, xmax, ni))\n",
    "    yi_cheb.append(f(xi_cheb[i]))\n",
    "    p_cheb.append(newton_interp(xi_cheb[i], yi_cheb[i]))\n",
    "\n",
    "fig = make_subplots(rows=1, cols=2, subplot_titles=(\"Equidistants points\", \"Chebychev points\"))\n",
    "\n",
    "# add f(x) plot\n",
    "fig.add_trace(go.Scatter(x=xplot, y=f(xplot), name=\"f(x)\", legendgroup=\"f\", marker=dict(color='blue')), row=1, col=1)\n",
    "fig.add_trace(go.Scatter(x=xplot, y=f(xplot), name=\"f(x)\", legendgroup=\"f\", showlegend=False, marker=dict(color='blue')), row=1, col=2)\n",
    "\n",
    "\n",
    "# add yi and pn(x) invisible plots\n",
    "for i, ni in enumerate(arr_n):\n",
    "    fig.add_trace(go.Scatter(visible=False, x=xplot, y=p_equi[i](xplot), name=f\"p{ni-1}(x)\", \n",
    "                            marker=dict(color='forestgreen')), row=1, col=1)\n",
    "    fig.add_trace(go.Scatter(visible=False, x=xi_equi[i], y=yi_equi[i], mode='markers', showlegend=False,\n",
    "                             marker=dict(color='forestgreen')), row=1, col=1)\n",
    "    fig.add_trace(go.Scatter(visible=False, x=xplot, y=p_cheb[i](xplot), showlegend=False,\n",
    "                              marker=dict(color='forestgreen')), row=1, col=2)\n",
    "    fig.add_trace(go.Scatter(visible=False, x=xi_cheb[i], y=yi_cheb[i], mode='markers', showlegend=False,\n",
    "                             marker=dict(color='forestgreen')), row=1, col=2)\n",
    "    \n",
    "# Make plot visible for n=1\n",
    "fig.data[2].visible = True\n",
    "fig.data[3].visible = True\n",
    "fig.data[4].visible = True\n",
    "fig.data[5].visible = True\n",
    "\n",
    "# Create and add slider\n",
    "steps = []\n",
    "for i, ni in enumerate(arr_n):\n",
    "    step = dict(method=\"update\", label = f\" {ni+1}\",\n",
    "                args=[{\"visible\": [el==0 or el==1 or el==4*i+2 or el==4*i+3 or el==4*i+4 or el==4*i+5 for el in range(len(fig.data))]}])\n",
    "    steps.append(step)\n",
    "        \n",
    "sliders = [dict(\n",
    "    currentvalue={\"prefix\": \"nb points: \"},\n",
    "    steps=steps\n",
    "    )]\n",
    "\n",
    "fig.update_layout(sliders=sliders)\n",
    "fig.update_yaxes(range=[-.25, 1.25])\n",
    "fig.show()"
   ]
  }
 ],
 "metadata": {
  "@webio": {
   "lastCommId": null,
   "lastKernelId": null
  },
  "kernelspec": {
   "display_name": "Python 3",
   "language": "python",
   "name": "python3"
  },
  "language_info": {
   "codemirror_mode": {
    "name": "ipython",
    "version": 3
   },
   "file_extension": ".py",
   "mimetype": "text/x-python",
   "name": "python",
   "nbconvert_exporter": "python",
   "pygments_lexer": "ipython3",
   "version": "3.9.5"
  }
 },
 "nbformat": 4,
 "nbformat_minor": 5
}
