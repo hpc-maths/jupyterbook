{
 "cells": [
  {
   "cell_type": "markdown",
   "id": "f5547884",
   "metadata": {},
   "source": [
    "# Stabilité des algorithmes"
   ]
  },
  {
   "cell_type": "code",
   "execution_count": null,
   "id": "0c177d00-15f7-4086-a417-06fe17714fcc",
   "metadata": {},
   "outputs": [],
   "source": [
    "import plotly.graph_objects as go\n",
    "import numpy as np\n",
    "from scipy import interpolate"
   ]
  },
  {
   "cell_type": "code",
   "execution_count": null,
   "id": "32328d58-ba77-499c-82e1-ceec89374974",
   "metadata": {},
   "outputs": [],
   "source": [
    "## Newton formulation \n",
    "def compute_divided_diff_coef(x, y):\n",
    "    coef = y.copy()\n",
    "    for i in range(1,x.size):\n",
    "        coef[i:] = (coef[i:]-coef[i-1:-1])/(x[i:] - x[:-i])\n",
    "    return coef\n",
    "\n",
    "def poly_newton_interp(coef, xi, x):\n",
    "    n = coef.size\n",
    "    p = np.zeros(x.size)\n",
    "    for i in range(n-1,0,-1):\n",
    "        p = (coef[i]+p) * (x-xi[i-1])\n",
    "    p = p + coef[0] \n",
    "    return p\n",
    "\n",
    "def newton_interp(xi, yi):\n",
    "    coef = compute_divided_diff_coef(xi, yi)\n",
    "    return lambda x: poly_newton_interp(coef, xi, x)\n",
    "\n",
    "## Lagrange formulation\n",
    "def lagrange(k, xi, x):\n",
    "    lag = np.ones(x.size)\n",
    "    for i in range(xi.size):\n",
    "        if (i!=k): lag *= (x-xi[i])/(xi[k]-xi[i])\n",
    "    return lag\n",
    "\n",
    "def poly_lagrange_interp(xi, yi, x):\n",
    "    p = np.zeros(x.size)\n",
    "    for i in range(xi.size):\n",
    "        p += lagrange(i, xi, x) * yi[i]\n",
    "    return p\n",
    "        \n",
    "def lagrange_interp(xi, yi):\n",
    "    return lambda x: poly_lagrange_interp(xi, yi, x)\n",
    "\n",
    "\n",
    "# Formulation barycentrique\n",
    "def compute_bary_coef(xk):\n",
    "    n = xk.size\n",
    "    wk = 0. * np.copy(xk)\n",
    "\n",
    "    for k in range(n):\n",
    "        wk[k] = 1. / (np.prod( xk[k] - xk[np.arange(n)!=k] ))\n",
    "        \n",
    "    return wk\n",
    "\n",
    "def poly_barycentric_interp(xk, yk, x):\n",
    "    n = xk.size\n",
    "    l = 0. * np.copy(x) + 1.\n",
    "    p = 0. * np.copy(x)\n",
    "    \n",
    "    wk = compute_bary_coef(xk)\n",
    "    \n",
    "    mask = np.in1d(x, xk[:])\n",
    "    p[np.where(mask)] = yk[np.where(np.in1d(xk, x))]\n",
    "    mask = np.invert(mask)    \n",
    "\n",
    "    for k in range(n):\n",
    "        l[mask] *= x[mask] - xk[k]\n",
    "        p[mask] += (wk[k]/(x[mask] - xk[k])) * yk[k]\n",
    "        \n",
    "    return l*p\n",
    "\n",
    "def barycentric_interp(xi, yi):\n",
    "    return lambda x: poly_barycentric_interp(xi, yi, x)"
   ]
  },
  {
   "cell_type": "markdown",
   "id": "a9c26643",
   "metadata": {},
   "source": [
    "## Cas du polycopié avec un ensemble de points quelconques\n",
    "\n",
    "**Polynôme d'interpolation d'ordre 5**"
   ]
  },
  {
   "cell_type": "code",
   "execution_count": null,
   "id": "09d3e8b6",
   "metadata": {},
   "outputs": [],
   "source": [
    "n = 5\n",
    "xi = np.array([ 0., 2., 4., 5., 8., 10.])\n",
    "yi = np.array([-1., 1., 6., 0., 2.,  5.])\n",
    "\n",
    "p = newton_interp(xi, yi)\n",
    "ps = interpolate.KroghInterpolator(xi, yi)\n",
    "plag = lagrange_interp(xi, yi)\n",
    "pslag = interpolate.lagrange(xi, yi)\n",
    "pbar = barycentric_interp(xi, yi)\n",
    "\n",
    "\n",
    "xmin = -1; xmax = 11.\n",
    "x = np.linspace(xmin, xmax, 100)\n",
    "\n",
    "fig = go.Figure(layout_yaxis_range=[-10,15])\n",
    "fig.add_trace(go.Scatter(x=x, y=p(x), name=\"p(x) (newton)\"))\n",
    "fig.add_trace(go.Scatter(x=x, y=p(x), name=\"p(x) (newton scipy)\", line_dash=\"dot\"))\n",
    "fig.add_trace(go.Scatter(x=x, y=plag(x), name=\"p(x) (lagrange)\"))\n",
    "fig.add_trace(go.Scatter(x=x, y=plag(x), name=\"p(x) (lagrange scipy)\", line_dash=\"dot\"))\n",
    "fig.add_trace(go.Scatter(x=x, y=pbar(x), name=\"p(x) (barycentric)\"))\n",
    "\n",
    "fig.add_trace(go.Scatter(x=xi, y=yi, mode='markers', name=\"pts d'interpolation\"))\n",
    "fig.show()"
   ]
  },
  {
   "cell_type": "markdown",
   "id": "63c7af31",
   "metadata": {},
   "source": [
    "## Exemple pour la fonction $f(x) = sin(x)$"
   ]
  },
  {
   "cell_type": "code",
   "execution_count": null,
   "id": "d73a3186-7940-4e37-824c-ee3266bfb4ae",
   "metadata": {},
   "outputs": [],
   "source": [
    "def f(x):\n",
    "    return np.sin(x)"
   ]
  },
  {
   "cell_type": "markdown",
   "id": "dac3583f",
   "metadata": {},
   "source": [
    "### Formule de Lagrange"
   ]
  },
  {
   "cell_type": "code",
   "execution_count": null,
   "id": "beea0039",
   "metadata": {},
   "outputs": [],
   "source": [
    "n = 25\n",
    "\n",
    "ximin = 0; ximax = 2*np.pi\n",
    "xi = np.linspace(ximin, ximax, n+1)\n",
    "yi = f(xi)\n",
    "\n",
    "p = lagrange_interp(xi, yi)\n",
    "ps = interpolate.lagrange(xi, yi)\n",
    "\n",
    "x = np.linspace(ximin, ximax, 500)\n",
    "\n",
    "fig = go.Figure(layout_yaxis_range=[-1.1,1.1])\n",
    "fig.add_trace(go.Scatter(x=x, y=p(x), name=\"p(x)\"))\n",
    "fig.add_trace(go.Scatter(x=x, y=ps(x), name=\"p(x) scipy\"))\n",
    "fig.add_trace(go.Scatter(x=x, y=f(x), name=\"sin(x)\"))\n",
    "fig.add_trace(go.Scatter(x=xi, y=yi, mode='markers', name=\"pts d'interpolation\"))\n",
    "fig.show()"
   ]
  },
  {
   "cell_type": "markdown",
   "id": "b987b5e2",
   "metadata": {},
   "source": [
    "### Formule de Newton"
   ]
  },
  {
   "cell_type": "code",
   "execution_count": null,
   "id": "a2b57650",
   "metadata": {},
   "outputs": [],
   "source": [
    "n = 60\n",
    "\n",
    "ximin = 0; ximax = 2*np.pi\n",
    "xi = np.linspace(ximin, ximax, n+1)\n",
    "yi = f(xi)\n",
    "\n",
    "p = newton_interp(xi, yi)\n",
    "ps = interpolate.KroghInterpolator(xi, yi)\n",
    "\n",
    "x = np.linspace(ximin, ximax, 500)\n",
    "\n",
    "fig = go.Figure(layout_yaxis_range=[-1.1,1.1])\n",
    "fig.add_trace(go.Scatter(x=x, y=p(x), name=\"p(x)\"))\n",
    "fig.add_trace(go.Scatter(x=x, y=ps(x), name=\"p(x) scipy\"))\n",
    "fig.add_trace(go.Scatter(x=x, y=f(x), name=\"sin(x)\"))\n",
    "fig.add_trace(go.Scatter(x=xi, y=yi, mode='markers', name=\"pts d'interpolation\"))\n",
    "fig.show()"
   ]
  },
  {
   "cell_type": "markdown",
   "id": "7acc0284",
   "metadata": {},
   "source": [
    "### Formule d'interpolation barycentrique"
   ]
  },
  {
   "cell_type": "code",
   "execution_count": null,
   "id": "18674889-ca6a-444c-9ac5-a2b14537c3b6",
   "metadata": {},
   "outputs": [],
   "source": [
    "n = 60\n",
    "\n",
    "ximin = 0; ximax = 2*np.pi\n",
    "xi = np.linspace(ximin, ximax, n+1)\n",
    "yi = f(xi)\n",
    "\n",
    "p = barycentric_interp(xi, yi)\n",
    "ps = interpolate.BarycentricInterpolator(xi, yi)\n",
    "\n",
    "x = np.linspace(ximin, ximax, 500)\n",
    "\n",
    "fig = go.Figure(layout_yaxis_range=[-1.1,1.1])\n",
    "fig.add_trace(go.Scatter(x=x, y=p(x), name=\"p(x)\"))\n",
    "fig.add_trace(go.Scatter(x=x, y=ps(x), name=\"p(x) scipy\"))\n",
    "fig.add_trace(go.Scatter(x=x, y=f(x), name=\"sin(x)\"))\n",
    "fig.add_trace(go.Scatter(x=xi, y=yi, mode='markers', name=\"pts d'interpolation\"))\n",
    "fig.show()"
   ]
  }
 ],
 "metadata": {
  "@webio": {
   "lastCommId": null,
   "lastKernelId": null
  },
  "kernelspec": {
   "display_name": "Python 3",
   "language": "python",
   "name": "python3"
  },
  "language_info": {
   "codemirror_mode": {
    "name": "ipython",
    "version": 3
   },
   "file_extension": ".py",
   "mimetype": "text/x-python",
   "name": "python",
   "nbconvert_exporter": "python",
   "pygments_lexer": "ipython3",
   "version": "3.9.6"
  }
 },
 "nbformat": 4,
 "nbformat_minor": 5
}
