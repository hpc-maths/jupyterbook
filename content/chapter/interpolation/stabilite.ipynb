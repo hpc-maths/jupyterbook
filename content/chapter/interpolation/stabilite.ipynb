{
 "cells": [
  {
   "cell_type": "markdown",
   "id": "f353b6c9",
   "metadata": {},
   "source": [
    "# Stabilité des algorithmes pour la fonction $f(x) = sin(x)$"
   ]
  },
  {
   "cell_type": "code",
   "execution_count": null,
   "id": "0c177d00-15f7-4086-a417-06fe17714fcc",
   "metadata": {},
   "outputs": [],
   "source": [
    "import plotly.graph_objects as go\n",
    "import numpy as np\n",
    "from scipy import interpolate"
   ]
  },
  {
   "cell_type": "code",
   "execution_count": null,
   "id": "32328d58-ba77-499c-82e1-ceec89374974",
   "metadata": {},
   "outputs": [],
   "source": [
    "## Newton formulation \n",
    "def compute_divided_diff_coef(x, y):\n",
    "    coef = y.copy()\n",
    "    for i in range(1,x.size):\n",
    "        coef[i:] = (coef[i:]-coef[i-1:-1])/(x[i:] - x[:-i])\n",
    "    return coef\n",
    "\n",
    "def poly_newton_interp(coef, xi, x):\n",
    "    n = coef.size\n",
    "    p = np.zeros(x.size)\n",
    "    for i in range(n-1,0,-1):\n",
    "        p = (coef[i]+p) * (x-xi[i-1])\n",
    "    p = p + coef[0] \n",
    "    return p\n",
    "\n",
    "def newton_interp(xi, yi):\n",
    "    coef = compute_divided_diff_coef(xi, yi)\n",
    "    return lambda x: poly_newton_interp(coef, xi, x)\n",
    "\n",
    "## Lagrange formulation\n",
    "def lagrange(k, xi, x):\n",
    "    lag = np.ones(x.size)\n",
    "    for i in range(xi.size):\n",
    "        if (i!=k): lag *= (x-xi[i])/(xi[k]-xi[i])\n",
    "    return lag\n",
    "\n",
    "def poly_lagrange_interp(xi, yi, x):\n",
    "    p = np.zeros(x.size)\n",
    "    for i in range(xi.size):\n",
    "        p += lagrange(i, xi, x) * yi[i]\n",
    "    return p\n",
    "        \n",
    "def lagrange_interp(xi, yi):\n",
    "    return lambda x: poly_lagrange_interp(xi, yi, x)\n",
    "\n",
    "\n",
    "# Formulation barycentrique\n",
    "def compute_bary_coef(xk):\n",
    "    n = xk.size\n",
    "    wk = np.zeros(n)\n",
    "\n",
    "    for k in range(n):\n",
    "        wk[k] = 1. / (np.prod( xk[k] - xk[np.arange(n)!=k] ))\n",
    "        \n",
    "    return wk\n",
    "\n",
    "def poly_barycentric_interp(xk, yk, x):\n",
    "    n = xk.size\n",
    "    l = np.ones(x.size)\n",
    "    p = np.zeros(x.size)\n",
    "    \n",
    "    wk = compute_bary_coef(xk)\n",
    "    \n",
    "    mask = np.in1d(x, xk)\n",
    "    p[np.where(mask)] = yk[np.where(np.in1d(xk, x))]\n",
    "    l[np.where(mask)] = 1.\n",
    "    mask = np.invert(mask)    \n",
    "\n",
    "    for k in range(n):\n",
    "        l[mask] *= x[mask] - xk[k]\n",
    "        p[mask] += (wk[k]/(x[mask] - xk[k])) * yk[k]\n",
    "        \n",
    "    return l*p\n",
    "\n",
    "def barycentric_interp(xi, yi):\n",
    "    return lambda x: poly_barycentric_interp(xi, yi, x)\n",
    "\n",
    "# Formulation barycentrique modifiée\n",
    "def poly_barycentric_interp_modif(xk, yk, x):\n",
    "    n = xk.size\n",
    "    p = np.zeros(x.size)\n",
    "    denom = np.zeros(x.size)\n",
    "\n",
    "    #wk = compute_bary_coef(xk)\n",
    "    wk = (-1)**np.arange(n+1) * np.sin(((2*np.arange(n+1)+1)*np.pi)/(2*n + 2))\n",
    "\n",
    "    mask = np.in1d(x, xk)\n",
    "    p[np.where(mask)] = yk[np.where(np.in1d(xk, x))]\n",
    "    denom[np.where(mask)] = 1.\n",
    "    mask = np.invert(mask)    \n",
    "\n",
    "    for k in range(n):\n",
    "        p[mask] += (wk[k]/(x[mask] - xk[k])) * yk[k]\n",
    "        denom[mask] += (wk[k]/(x[mask] - xk[k]))\n",
    "\n",
    "    return p/denom\n",
    "\n",
    "def barycentric_interp_modif(xi, yi):\n",
    "    return lambda x: poly_barycentric_interp_modif(xi, yi, x)"
   ]
  },
  {
   "cell_type": "markdown",
   "id": "51f5ebc4",
   "metadata": {},
   "source": [
    "## Cas des points équidistants"
   ]
  },
  {
   "cell_type": "code",
   "execution_count": null,
   "id": "d73a3186-7940-4e37-824c-ee3266bfb4ae",
   "metadata": {},
   "outputs": [],
   "source": [
    "def f(x):\n",
    "    return np.sin(x)"
   ]
  },
  {
   "cell_type": "markdown",
   "id": "d9c6394e",
   "metadata": {},
   "source": [
    "### Formule de Lagrange"
   ]
  },
  {
   "cell_type": "code",
   "execution_count": null,
   "id": "2edc5b1d",
   "metadata": {},
   "outputs": [],
   "source": [
    "n = 65\n",
    "\n",
    "ximin = 0; ximax = 2*np.pi\n",
    "xi = np.linspace(ximin, ximax, n+1)\n",
    "yi = f(xi)\n",
    "\n",
    "p = lagrange_interp(xi, yi)\n",
    "##ps = interpolate.lagrange(xi, yi)\n",
    "\n",
    "x = np.linspace(ximin, ximax, 500)\n",
    "\n",
    "fig = go.Figure(layout_yaxis_range=[-1.1,1.1])\n",
    "fig.add_trace(go.Scatter(x=x, y=p(x), name=\"p(x)\"))\n",
    "##fig.add_trace(go.Scatter(x=x, y=ps(x), name=\"p(x) scipy\"))\n",
    "fig.add_trace(go.Scatter(x=x, y=f(x), name=\"sin(x)\"))\n",
    "fig.add_trace(go.Scatter(x=xi, y=yi, mode='markers', name=\"pts d'interpolation\"))\n",
    "fig.show()"
   ]
  },
  {
   "cell_type": "markdown",
   "id": "772838cd",
   "metadata": {},
   "source": [
    "### Formule de Newton"
   ]
  },
  {
   "cell_type": "code",
   "execution_count": null,
   "id": "3fe07361",
   "metadata": {},
   "outputs": [],
   "source": [
    "n = 65\n",
    "\n",
    "ximin = 0; ximax = 2*np.pi\n",
    "xi = np.linspace(ximin, ximax, n+1)\n",
    "yi = f(xi)\n",
    "\n",
    "p = newton_interp(xi, yi)\n",
    "##ps = interpolate.KroghInterpolator(xi, yi)\n",
    "\n",
    "x = np.linspace(ximin, ximax, 500)\n",
    "\n",
    "fig = go.Figure(layout_yaxis_range=[-1.1,1.1])\n",
    "fig.add_trace(go.Scatter(x=x, y=p(x), name=\"p(x)\"))\n",
    "##fig.add_trace(go.Scatter(x=x, y=ps(x), name=\"p(x) scipy\"))\n",
    "fig.add_trace(go.Scatter(x=x, y=f(x), name=\"sin(x)\"))\n",
    "fig.add_trace(go.Scatter(x=xi, y=yi, mode='markers', name=\"pts d'interpolation\"))\n",
    "fig.show()"
   ]
  },
  {
   "cell_type": "markdown",
   "id": "5d666df9",
   "metadata": {},
   "source": [
    "### Formule d'interpolation barycentrique"
   ]
  },
  {
   "cell_type": "code",
   "execution_count": null,
   "id": "18674889-ca6a-444c-9ac5-a2b14537c3b6",
   "metadata": {},
   "outputs": [],
   "source": [
    "n = 65\n",
    "\n",
    "ximin = 0; ximax = 2*np.pi\n",
    "xi = np.linspace(ximin, ximax, n+1)\n",
    "yi = f(xi)\n",
    "\n",
    "p = barycentric_interp(xi, yi)\n",
    "##ps = interpolate.BarycentricInterpolator(xi, yi)\n",
    "\n",
    "x = np.linspace(ximin, ximax, 500)\n",
    "\n",
    "fig = go.Figure(layout_yaxis_range=[-1.1,1.1])\n",
    "fig.add_trace(go.Scatter(x=x, y=p(x), name=\"p(x)\"))\n",
    "##fig.add_trace(go.Scatter(x=x, y=ps(x), name=\"p(x) scipy\"))\n",
    "fig.add_trace(go.Scatter(x=x, y=f(x), name=\"sin(x)\"))\n",
    "fig.add_trace(go.Scatter(x=xi, y=yi, mode='markers', name=\"pts d'interpolation\"))\n",
    "fig.show()"
   ]
  },
  {
   "cell_type": "markdown",
   "id": "5bf9fd10",
   "metadata": {},
   "source": [
    "### Formule d'interpolation barycentrique modifiée"
   ]
  },
  {
   "cell_type": "code",
   "execution_count": null,
   "id": "584e0707",
   "metadata": {},
   "outputs": [],
   "source": [
    "n = 65\n",
    "\n",
    "ximin = 0; ximax = 2*np.pi\n",
    "xi = np.linspace(ximin, ximax, n+1)\n",
    "yi = f(xi)\n",
    "\n",
    "p = barycentric_interp_modif(xi, yi)\n",
    "\n",
    "x = np.linspace(ximin, ximax, 1000)\n",
    "\n",
    "fig = go.Figure(layout_yaxis_range=[-1.1,1.1])\n",
    "fig.add_trace(go.Scatter(x=x, y=p(x), name=\"p(x)\"))\n",
    "fig.add_trace(go.Scatter(x=x, y=f(x), name=\"sin(x)\"))\n",
    "fig.add_trace(go.Scatter(x=xi, y=yi, mode='markers', name=\"pts d'interpolation\"))\n",
    "fig.show()"
   ]
  },
  {
   "cell_type": "markdown",
   "id": "c0eddc18",
   "metadata": {},
   "source": [
    "## Cas de point Tchebyschev"
   ]
  },
  {
   "cell_type": "code",
   "execution_count": null,
   "id": "baca9d9c",
   "metadata": {},
   "outputs": [],
   "source": [
    "def cheb_points(xmin, xmax, n):\n",
    "    x = np.zeros(n+1)\n",
    "    for i in range(n+1):\n",
    "        x[i] = (xmax+xmin)/2 + ((xmax-xmin)/2) * np.cos(((2*i+1)*np.pi)/(2*n + 2))\n",
    "    return x"
   ]
  },
  {
   "cell_type": "markdown",
   "id": "b424144b",
   "metadata": {},
   "source": [
    "### Formule de Lagrange"
   ]
  },
  {
   "cell_type": "code",
   "execution_count": null,
   "id": "a6f94051",
   "metadata": {},
   "outputs": [],
   "source": [
    "n = 65\n",
    "\n",
    "ximin = 0; ximax = 2*np.pi\n",
    "xi = np.linspace(ximin, ximax, n+1)\n",
    "#xi = cheb_points(ximin, ximax, n)\n",
    "yi = f(xi)\n",
    "\n",
    "p = lagrange_interp(xi, yi)\n",
    "##ps = interpolate.lagrange(xi, yi)\n",
    "\n",
    "x = np.linspace(ximin, ximax, 2000)\n",
    "\n",
    "fig = go.Figure(layout_yaxis_range=[-1.1,1.1])\n",
    "fig.add_trace(go.Scatter(x=x, y=p(x), name=\"p(x)\"))\n",
    "##fig.add_trace(go.Scatter(x=x, y=ps(x), name=\"p(x) scipy\"))\n",
    "fig.add_trace(go.Scatter(x=x, y=f(x), name=\"sin(x)\"))\n",
    "fig.add_trace(go.Scatter(x=xi, y=yi, mode='markers', name=\"pts d'interpolation\"))\n",
    "fig.show()\n",
    "\n",
    "\n",
    "fig2 = go.Figure()\n",
    "#fig2 = go.Figure(layout_yaxis_range=[-1.1,1.1], layout_yaxis_type=\"log\")\n",
    "fig2.add_trace(go.Scatter(x=x, y=np.abs(f(x)-p(x)), name=\"erreur\"))\n",
    "fig2.update_layout(yaxis = dict(exponentformat = 'e'))\n",
    "\n",
    "fig2.show()"
   ]
  },
  {
   "cell_type": "markdown",
   "id": "617bb189",
   "metadata": {},
   "source": [
    "### Formule de Newton"
   ]
  },
  {
   "cell_type": "code",
   "execution_count": null,
   "id": "2fe6a419",
   "metadata": {},
   "outputs": [],
   "source": [
    "n = 65\n",
    "\n",
    "ximin = 0; ximax = 2*np.pi\n",
    "xi = cheb_points(ximin, ximax, n)\n",
    "yi = f(xi)\n",
    "\n",
    "p = newton_interp(xi, yi)\n",
    "##ps = interpolate.KroghInterpolator(xi, yi)\n",
    "\n",
    "x = np.linspace(ximin, ximax, 2000)\n",
    "\n",
    "fig = go.Figure(layout_yaxis_range=[-1.1,1.1])\n",
    "fig.add_trace(go.Scatter(x=x, y=p(x), name=\"p(x)\"))\n",
    "##fig.add_trace(go.Scatter(x=x, y=ps(x), name=\"p(x) scipy\"))\n",
    "fig.add_trace(go.Scatter(x=x, y=f(x), name=\"sin(x)\"))\n",
    "fig.add_trace(go.Scatter(x=xi, y=yi, mode='markers', name=\"pts d'interpolation\"))\n",
    "fig.show()"
   ]
  },
  {
   "cell_type": "markdown",
   "id": "4c874b1a",
   "metadata": {},
   "source": [
    "### Formule d'interpolation barycentrique"
   ]
  },
  {
   "cell_type": "code",
   "execution_count": null,
   "id": "a6833b36",
   "metadata": {},
   "outputs": [],
   "source": [
    "n = 65\n",
    "\n",
    "ximin = 0; ximax = 2*np.pi\n",
    "#xi = np.linspace(ximin, ximax, n+1)\n",
    "xi = cheb_points(ximin, ximax, n)\n",
    "yi = f(xi)\n",
    "\n",
    "p = barycentric_interp(xi, yi)\n",
    "##ps = interpolate.BarycentricInterpolator(xi, yi)\n",
    "\n",
    "x = np.linspace(ximin, ximax, 2000)\n",
    "\n",
    "fig = go.Figure(layout_yaxis_range=[-1.1,1.1])\n",
    "fig.add_trace(go.Scatter(x=x, y=p(x), name=\"p(x)\"))\n",
    "##fig.add_trace(go.Scatter(x=x, y=ps(x), name=\"p(x) scipy\"))\n",
    "fig.add_trace(go.Scatter(x=x, y=f(x), name=\"sin(x)\"))\n",
    "fig.add_trace(go.Scatter(x=xi, y=yi, mode='markers', name=\"pts d'interpolation\"))\n",
    "fig.show()"
   ]
  },
  {
   "cell_type": "markdown",
   "id": "b91680e2",
   "metadata": {},
   "source": [
    "### Formule d'interpolation barycentrique modifiée"
   ]
  },
  {
   "cell_type": "code",
   "execution_count": null,
   "id": "0f90f5a8",
   "metadata": {},
   "outputs": [],
   "source": [
    "n = 65\n",
    "\n",
    "ximin = 0; ximax = 2*np.pi\n",
    "#xi = np.linspace(ximin, ximax, n+1)\n",
    "xi = cheb_points(ximin, ximax, n)\n",
    "yi = f(xi)\n",
    "\n",
    "p = barycentric_interp_modif(xi, yi)\n",
    "\n",
    "x = np.linspace(ximin, ximax, 5000)\n",
    "\n",
    "fig = go.Figure(layout_yaxis_range=[-1.1,1.1])\n",
    "fig.add_trace(go.Scatter(x=x, y=p(x), name=\"p(x)\"))\n",
    "fig.add_trace(go.Scatter(x=x, y=f(x), name=\"sin(x)\"))\n",
    "fig.add_trace(go.Scatter(x=xi, y=yi, mode='markers', name=\"pts d'interpolation\"))\n",
    "fig.show()"
   ]
  }
 ],
 "metadata": {
  "@webio": {
   "lastCommId": null,
   "lastKernelId": null
  },
  "kernelspec": {
   "display_name": "Python 3",
   "language": "python",
   "name": "python3"
  },
  "language_info": {
   "codemirror_mode": {
    "name": "ipython",
    "version": 3
   },
   "file_extension": ".py",
   "mimetype": "text/x-python",
   "name": "python",
   "nbconvert_exporter": "python",
   "pygments_lexer": "ipython3",
   "version": "3.9.6"
  }
 },
 "nbformat": 4,
 "nbformat_minor": 5
}
