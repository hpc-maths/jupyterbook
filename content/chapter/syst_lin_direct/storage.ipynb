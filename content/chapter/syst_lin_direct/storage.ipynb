{
 "cells": [
  {
   "cell_type": "markdown",
   "metadata": {},
   "source": [
    "# Stockage des matrices"
   ]
  },
  {
   "cell_type": "markdown",
   "metadata": {},
   "source": [
    "## Stockage plein"
   ]
  },
  {
   "cell_type": "markdown",
   "metadata": {},
   "source": [
    "Naturellement, les tableaux à deux dimensions sont bien adaptés pour stocker les matrices. Par exemple, on peut utiliser un tableau `numpy` bidimensionnel pour stocker la matrice :\n",
    "\n",
    "$$\n",
    "A = \\begin{bmatrix}\n",
    "1 & 0 & 0 & 3 \\\\\n",
    "2 & 5 & 0 & 7 \\\\\n",
    "0 & 4 & 2 & 0 \\\\\n",
    "5 & 0 & 0 & 1\n",
    "\\end{bmatrix}\n",
    "$$"
   ]
  },
  {
   "cell_type": "code",
   "execution_count": 1,
   "metadata": {},
   "outputs": [
    {
     "name": "stdout",
     "output_type": "stream",
     "text": [
      "[[1 0 0 3]\n",
      " [2 5 0 7]\n",
      " [0 4 2 0]\n",
      " [5 0 0 1]]\n"
     ]
    }
   ],
   "source": [
    "import numpy as np\n",
    "A = np.array([[1,0,0,3], [2,5,0,7], [0,4,2,0], [5,0,0,1]])\n",
    "print(A)"
   ]
  },
  {
   "cell_type": "markdown",
   "metadata": {},
   "source": [
    "Une matrice carré de taille $(n × n)$ dont les coefficients sont stockés sur les flottants 64 bits occupe en mémoire $8 × (n × n)$ octets. \n",
    "\n",
    "Exemples :\n",
    "* une matrice de taille $(1024 \\times 1024)$ occupe 8 Mio\n",
    "* une matrice de taille $(2048 \\times 2048)$ occupe 32 Mio\n",
    "* une matrice de taille $(65536 \\times 65536)$ occupe 32 Gio\n",
    "* une matrice de taille $(1048576 \\times 1048576)$ occupe 8 Tio\n",
    "\n",
    "La fonction `nbytes` retourne l'occupation mémoire en octets "
   ]
  },
  {
   "cell_type": "code",
   "execution_count": 7,
   "metadata": {},
   "outputs": [
    {
     "name": "stdout",
     "output_type": "stream",
     "text": [
      "Taille de la matrice de taille (1024x1024) : 8192.0 Mio\n"
     ]
    }
   ],
   "source": [
    "n = 1024\n",
    "Rand = np.random.rand(n,n)\n",
    "print(f\"Taille de la matrice de taille ({n}x{n}) : {Rand.nbytes/1024} Mio\")"
   ]
  },
  {
   "cell_type": "markdown",
   "metadata": {},
   "source": [
    "Les matrices issues de la discrétisation spatiale d'équations aux dérivées partielles contiennent majoritairement des zéros.\n",
    "\n",
    "Pour stocker ces matrices, on n'utilise pas des tableaux à deux dimensions mais des structures de données adaptées au caractère creux de ces matrices."
   ]
  },
  {
   "cell_type": "markdown",
   "metadata": {},
   "source": [
    "## Matrice creuse : COO (Coordinate Format)"
   ]
  },
  {
   "cell_type": "markdown",
   "metadata": {},
   "source": [
    "La structure de données COO peut être représentée par :\n",
    "\n",
    "* un tableau `data` contenant les coefficients non nuls de la matrice (dans n'importe quel ordre)\n",
    "* un tableau `row` contenant les indices de ligne de chaque élément de `data`\n",
    "* un tableau `col` contenant les indices de colonne de chaque élément de `data`\n",
    "\n",
    "Exemple pour la matrice :\n",
    "\n",
    "$$\n",
    "A = \\begin{bmatrix}\n",
    "1 & 0 & 0 & 3 \\\\\n",
    "2 & 5 & 0 & 7 \\\\\n",
    "0 & 4 & 2 & 0 \\\\\n",
    "5 & 0 & 0 & 1\n",
    "\\end{bmatrix}\n",
    "$$"
   ]
  },
  {
   "cell_type": "code",
   "execution_count": 8,
   "metadata": {},
   "outputs": [
    {
     "data": {
      "text/plain": [
       "matrix([[1, 0, 0, 3],\n",
       "        [2, 5, 0, 7],\n",
       "        [0, 4, 2, 0],\n",
       "        [5, 0, 0, 1]])"
      ]
     },
     "execution_count": 8,
     "metadata": {},
     "output_type": "execute_result"
    }
   ],
   "source": [
    "from scipy.sparse import coo_matrix\n",
    "\n",
    "data = np.array([1, 3, 2, 5, 4, 5, 1, 2, 7])\n",
    "\n",
    "row = np.array([0, 0, 1, 1, 2, 3, 3, 2, 1])\n",
    "col = np.array([0, 3, 0, 1, 1, 0, 3, 2, 3])\n",
    "\n",
    "A_coo = coo_matrix((data, (row, col)), shape=(4, 4))\n",
    "A_coo.todense()"
   ]
  },
  {
   "cell_type": "markdown",
   "metadata": {},
   "source": [
    "## Matrice creuse : CSR (Compressed Sparse Row)"
   ]
  },
  {
   "cell_type": "markdown",
   "metadata": {},
   "source": [
    "La structure de données CSR peut être représentée par :\n",
    "\n",
    "* un tableau `data` contenant les coefficients non nuls de la matrice rangés ligne par ligne\n",
    "* un tableau `col` contenant les indices de colonne de chaque élément de `data`\n",
    "* un tableau `row_ptr` dont l'élément `i`  contient l'index dans les tableaux `data` et `col` de la première entrée non nulle de la ligne `i` de la matrice\n",
    "\n",
    "\n",
    "Exemple pour la matrice :\n",
    "\n",
    "$$\n",
    "A = \\begin{bmatrix}\n",
    "1 & 0 & 0 & 3 \\\\\n",
    "2 & 5 & 0 & 7 \\\\\n",
    "0 & 4 & 2 & 0 \\\\\n",
    "5 & 0 & 0 & 1\n",
    "\\end{bmatrix}\n",
    "$$"
   ]
  },
  {
   "cell_type": "code",
   "execution_count": null,
   "metadata": {},
   "outputs": [],
   "source": [
    "from scipy.sparse import csr_matrix\n",
    "\n",
    "data = np.array([1, 3, 2, 5, 7, 4, 2, 5, 1])\n",
    "\n",
    "col = [0, 3, 0, 1, 2, 1, 2, 0, 3]\n",
    "row_ptr = [0, 2, 5, 7, 9]\n",
    "\n",
    "A_csr = csr_matrix((data, col, row_ptr), shape=(4, 4))\n",
    "A_csr.todense()"
   ]
  },
  {
   "cell_type": "markdown",
   "metadata": {},
   "source": [
    "## Matrice creuse : CSC (Compressed Sparse Column)"
   ]
  },
  {
   "cell_type": "markdown",
   "metadata": {},
   "source": [
    "La structure de données CSC peut être représentée par :\n",
    "\n",
    "* un tableau `data` contenant les coefficients non nuls de la matrice rangés colonne par colonne\n",
    "* un tableau `row` contenant les indices de ligne de chaque élément de `data`\n",
    "* un tableau `col_ptr` dont l'élément `i`  contient l'index dans les tableaux `data` et `row` de la première entrée non nulle de la colonne `i` de la matrice\n",
    "\n",
    "Exemple :\n",
    "\n",
    "$$\n",
    "A = \\begin{bmatrix}\n",
    "1 & 0 & 0 & 3 \\\\\n",
    "2 & 5 & 0 & 7 \\\\\n",
    "0 & 4 & 2 & 0 \\\\\n",
    "5 & 0 & 0 & 1\n",
    "\\end{bmatrix}\n",
    "$$"
   ]
  },
  {
   "cell_type": "code",
   "execution_count": null,
   "metadata": {},
   "outputs": [],
   "source": [
    "from scipy.sparse import csr_matrix\n",
    "\n",
    "data = np.array([1, 3, 2, 5, 7, 4, 2, 5, 1])\n",
    "\n",
    "row = [0, 1, 3, 1, 2, 1, 2, 0, 3]\n",
    "col_ptr = [0, 3, 5, 6, 9]\n",
    "\n",
    "A_csr = csr_matrix((data, col, row_ptr), shape=(4, 4))\n",
    "A_csr.todense()"
   ]
  },
  {
   "cell_type": "markdown",
   "metadata": {},
   "source": [
    "## Matrice creuse : rangement diagonal"
   ]
  },
  {
   "cell_type": "markdown",
   "metadata": {},
   "source": [
    "La structure de données à rangement diagonal peut être représentée par :\n",
    "\n",
    "* un tableau `diags` à deux dimensions ab contenant les coefficients de chaque diagonale de la matrice\n",
    "* un tableau d'entier `offset` contenant la postion de chaque diagonale relativement à la diagonale principale\n",
    "\n",
    "Remarques : cette structure de données peut stocker des éléments non nuls.\n",
    "\n",
    "Exemple :\n",
    "\n",
    "$$\n",
    "A = \\begin{bmatrix}\n",
    "5 & 2 & 6  & 0  & 0  \\\\\n",
    "1 & 4 & 2  & 5  & 0  \\\\\n",
    "0 & 1 & 3  & 2  & 1  \\\\\n",
    "0 & 0 & 1  & 2  & 0  \\\\\n",
    "0 & 0 & 0  & 1  & 1\n",
    "\\end{bmatrix}\n",
    "$$"
   ]
  },
  {
   "cell_type": "code",
   "execution_count": null,
   "metadata": {},
   "outputs": [],
   "source": [
    "from scipy.sparse import dia_matrix\n",
    "\n",
    "data = np.array([[5, 4, 3, 2, 1], [1, 1, 1, 1, 0], [2, 2, 2, 0, 0], [6, 5, 1, 0, 0]])\n",
    "\n",
    "offset = np.array([0, -1, 1, 2])\n",
    "\n",
    "A_dia = dia_matrix((data, offset), shape=(5, 5))\n",
    "A_dia.todense()"
   ]
  },
  {
   "cell_type": "markdown",
   "metadata": {},
   "source": [
    "## Références \n",
    "\n",
    "* [Sparse Matrix Storage Formats, *Jack Dongarra*](http://www.netlib.org/utk/people/JackDongarra/etemplates/node372.html)\n",
    "* [Classes des matrice creuses de scipy](https://docs.scipy.org/doc/scipy/reference/sparse.html)"
   ]
  }
 ],
 "metadata": {
  "@webio": {
   "lastCommId": null,
   "lastKernelId": null
  },
  "kernelspec": {
   "display_name": "Python 3",
   "language": "python",
   "name": "python3"
  },
  "language_info": {
   "codemirror_mode": {
    "name": "ipython",
    "version": 3
   },
   "file_extension": ".py",
   "mimetype": "text/x-python",
   "name": "python",
   "nbconvert_exporter": "python",
   "pygments_lexer": "ipython3",
   "version": "3.7.6"
  },
  "latex_envs": {
   "LaTeX_envs_menu_present": true,
   "autoclose": false,
   "autocomplete": false,
   "bibliofile": "biblio.bib",
   "cite_by": "apalike",
   "current_citInitial": 1,
   "eqLabelWithNumbers": true,
   "eqNumInitial": 1,
   "hotkeys": {
    "equation": "Ctrl-E",
    "itemize": "Ctrl-I"
   },
   "labels_anchors": false,
   "latex_user_defs": false,
   "report_style_numbering": false,
   "user_envs_cfg": false
  }
 },
 "nbformat": 4,
 "nbformat_minor": 5
}
