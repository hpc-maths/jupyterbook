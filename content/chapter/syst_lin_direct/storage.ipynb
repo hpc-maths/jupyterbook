{
 "cells": [
  {
   "cell_type": "code",
   "execution_count": null,
   "id": "06a750f0",
   "metadata": {},
   "outputs": [],
   "source": [
    "#\n",
    "#    Notebook de cours MAP412 - Chapitre 4 - M. Massot 2020-2021 - Ecole polytechnique\n",
    "#    ----------   \n",
    "#    Stockage des matrices\n",
    "#    \n",
    "#    Auteurs : L. Séries et M. Massot - (C) 2021\n",
    "#    "
   ]
  },
  {
   "cell_type": "markdown",
   "id": "e4ad14ad",
   "metadata": {},
   "source": [
    "# Stockage des matrices"
   ]
  },
  {
   "cell_type": "markdown",
   "id": "da485140",
   "metadata": {},
   "source": [
    "## Stockage plein"
   ]
  },
  {
   "cell_type": "markdown",
   "id": "993a0317",
   "metadata": {},
   "source": [
    "Naturellement, les tableaux à deux dimensions sont bien adaptés pour stocker les matrices. Par exemple, on peut utiliser un tableau `numpy` bidimensionnel pour stocker la matrice :\n",
    "\n",
    "$$\n",
    "A = \\begin{bmatrix}\n",
    "1 & 0 & 0 & 3 \\\\\n",
    "2 & 5 & 0 & 7 \\\\\n",
    "0 & 4 & 2 & 0 \\\\\n",
    "5 & 0 & 0 & 1\n",
    "\\end{bmatrix}\n",
    "$$"
   ]
  },
  {
   "cell_type": "code",
   "execution_count": null,
   "id": "f0edcadd",
   "metadata": {},
   "outputs": [],
   "source": [
    "import numpy as np\n",
    "A = np.array([[1,0,0,3], [2,5,0,7], [0,4,2,0], [5,0,0,1]])\n",
    "print(A)"
   ]
  },
  {
   "cell_type": "markdown",
   "id": "1ccc5c33",
   "metadata": {},
   "source": [
    "Une matrice carré de taille $(n × n)$ dont les coefficients sont stockés sur les flottants 64 bits occupe en mémoire $8 × (n × n)$ octets. \n",
    "\n",
    "Exemples :\n",
    "* une matrice de taille $(1024 \\times 1024)$ occupe 8 Mio (matrice de discrétisation du laplacien sur une grille 1d de 1024 subdivisions) \n",
    "* une matrice de taille $(2048 \\times 2048)$ occupe 32 Mio\n",
    "* une matrice de taille $(65536 \\times 65536)$ occupe 32 Gio\n",
    "* une matrice de taille $(1048576 \\times 1048576)$ occupe 8 Tio (matrice de discrétisation du laplacien sur une grille 2d de 1024x1024 subdivisions) \n",
    "\n",
    "La fonction `nbytes` retourne l'occupation mémoire en octets "
   ]
  },
  {
   "cell_type": "code",
   "execution_count": null,
   "id": "1a98caee",
   "metadata": {},
   "outputs": [],
   "source": [
    "n = 1024\n",
    "Rand = np.random.rand(n,n)\n",
    "print(f\"Taille de la matrice de taille ({n}x{n}) : {Rand.nbytes} octets = {Rand.nbytes/(1024*1024)} Mio\")"
   ]
  },
  {
   "cell_type": "markdown",
   "id": "17817cd6",
   "metadata": {},
   "source": [
    "Les matrices issues de la discrétisation spatiale d'équations aux dérivées partielles contiennent majoritairement des zéros.\n",
    "\n",
    "Pour stocker ces matrices, on n'utilise pas des tableaux à deux dimensions mais des structures de données adaptées au caractère creux de ces matrices."
   ]
  },
  {
   "cell_type": "markdown",
   "id": "38a83030",
   "metadata": {},
   "source": [
    "## Matrice creuse COO (Coordinate Format)"
   ]
  },
  {
   "cell_type": "markdown",
   "id": "6df9a7bb",
   "metadata": {},
   "source": [
    "La structure de données COO peut être représentée par :\n",
    "\n",
    "* un tableau `data` contenant les coefficients non nuls de la matrice (dans n'importe quel ordre)\n",
    "* un tableau `row` contenant les indices de ligne de chaque élément de `data`\n",
    "* un tableau `col` contenant les indices de colonne de chaque élément de `data`\n",
    "\n",
    "Exemple pour la matrice :\n",
    "\n",
    "$$\n",
    "A = \\begin{bmatrix}\n",
    "1 & 0 & 0 & 3 \\\\\n",
    "2 & 5 & 0 & 7 \\\\\n",
    "0 & 4 & 2 & 0 \\\\\n",
    "5 & 0 & 0 & 1\n",
    "\\end{bmatrix}\n",
    "$$"
   ]
  },
  {
   "cell_type": "code",
   "execution_count": null,
   "id": "6f3c0c4d",
   "metadata": {},
   "outputs": [],
   "source": [
    "from scipy.sparse import coo_matrix\n",
    "\n",
    "data = np.array([1, 3, 2, 5, 4, 5, 1, 2, 7])\n",
    "\n",
    "row = np.array([0, 0, 1, 1, 2, 3, 3, 2, 1])\n",
    "col = np.array([0, 3, 0, 1, 1, 0, 3, 2, 3])\n",
    "\n",
    "A_coo = coo_matrix((data, (row, col)), shape=(4, 4))\n",
    "A_coo.todense()"
   ]
  },
  {
   "cell_type": "markdown",
   "id": "893cee84",
   "metadata": {},
   "source": [
    "C'est le format qui est utilisé par la biblothèque de résolution de système linéaire creux [Mumps](http://mumps.enseeiht.fr/).\n",
    "\n",
    "Pour stocker la matrice de discrétisation par différences finies du laplacien sur une grille 2d de 1024x1024 subdivisions, il est nécessaire de stocker 5 éléments non nuls par ligne soit pour une matrice creuse COO :\n",
    "* $ 5 \\times 1024 \\times 1024 = 41943040$ flottants double précision (8 octets) soit 40 Mio pour le tableau `data` \n",
    "* $ 5 \\times 1024 \\times 1024 = 41943040$ entiers (4 octets) soit 20 Mio pour le tableau `row` \n",
    "* $ 5 \\times 1024 \\times 1024 = 41943040$ entiers (4 octets) soit 20 Mio pour le tableau `col` \n",
    "\n",
    "ce qui occupe 80 Mio au lieu de 8 Tio pour un stockage plein !"
   ]
  },
  {
   "cell_type": "markdown",
   "id": "298518f3",
   "metadata": {},
   "source": [
    "## Matrice creuse : CSR (Compressed Sparse Row)"
   ]
  },
  {
   "cell_type": "markdown",
   "id": "c4166db7",
   "metadata": {},
   "source": [
    "La structure de données CSR peut être représentée par :\n",
    "\n",
    "* un tableau `data` contenant les coefficients non nuls de la matrice rangés ligne par ligne\n",
    "* un tableau `col` contenant les indices de colonne de chaque élément de `data`\n",
    "* un tableau `row_ptr` dont l'élément `i`  contient l'index dans les tableaux `data` et `col` de la première entrée non nulle de la ligne `i` de la matrice\n",
    "\n",
    "Exemple pour la matrice :\n",
    "\n",
    "$$\n",
    "A = \\begin{bmatrix}\n",
    "1 & 0 & 0 & 3 \\\\\n",
    "2 & 5 & 0 & 7 \\\\\n",
    "0 & 4 & 2 & 0 \\\\\n",
    "5 & 0 & 0 & 1\n",
    "\\end{bmatrix}\n",
    "$$"
   ]
  },
  {
   "cell_type": "code",
   "execution_count": null,
   "id": "aa5b5993",
   "metadata": {},
   "outputs": [],
   "source": [
    "from scipy.sparse import csr_matrix\n",
    "\n",
    "data = np.array([1, 3, 2, 5, 7, 4, 2, 5, 1])\n",
    "\n",
    "col = [0, 3, 0, 1, 3, 1, 2, 0, 3]\n",
    "row_ptr = [0, 2, 5, 7, 9]\n",
    "\n",
    "A_csr = csr_matrix((data, col, row_ptr), shape=(4, 4))\n",
    "A_csr.todense()"
   ]
  },
  {
   "cell_type": "markdown",
   "id": "518b8baf",
   "metadata": {},
   "source": [
    "Pour stocker la matrice de discrétisation par différences finies du laplacien sur une grille 2d de 1024x1024 subdivisions, il est nécessaire de stocker 5 éléments non nuls par ligne soit pour une matrice creuse CSR :\n",
    "* $ 5 \\times 1024 \\times 1024 = 41943040$ flottants double précision (8 octets) soit 40 Mio pour le tableau `data` \n",
    "* $ 5 \\times 1024 \\times 1024 = 41943040$ entiers (4 octets) soit 20 Mio pour le tableau `col` \n",
    "* $ 1024 \\times 1024 + 1 = 1048577 $ entiers (4 octets) soit 4 Mio pour le tableau `row_ptr` \n",
    "\n",
    "ce qui occupe 64 Mio au lieu de 8 Tio pour un stockage plein !"
   ]
  },
  {
   "cell_type": "markdown",
   "id": "92f2a3f1",
   "metadata": {},
   "source": [
    "## Matrice creuse : CSC (Compressed Sparse Column)"
   ]
  },
  {
   "cell_type": "markdown",
   "id": "e86a2f21",
   "metadata": {},
   "source": [
    "La structure de données CSC peut être représentée par :\n",
    "\n",
    "* un tableau `data` contenant les coefficients non nuls de la matrice rangés colonne par colonne\n",
    "* un tableau `row` contenant les indices de ligne de chaque élément de `data`\n",
    "* un tableau `col_ptr` dont l'élément `i`  contient l'index dans les tableaux `data` et `row` de la première entrée non nulle de la colonne `i` de la matrice\n",
    "\n",
    "C'est le format qui est utilisé par la biblothèque de résolution de système linéaire creux [SuperLU](https://portal.nersc.gov/project/sparse/superlu/).\n",
    "\n",
    "\n",
    "\n",
    "Exemple :\n",
    "\n",
    "$$\n",
    "A = \\begin{bmatrix}\n",
    "1 & 0 & 0 & 3 \\\\\n",
    "2 & 5 & 0 & 7 \\\\\n",
    "0 & 4 & 2 & 0 \\\\\n",
    "5 & 0 & 0 & 1\n",
    "\\end{bmatrix}\n",
    "$$"
   ]
  },
  {
   "cell_type": "code",
   "execution_count": null,
   "id": "c39d4cce",
   "metadata": {},
   "outputs": [],
   "source": [
    "from scipy.sparse import csc_matrix\n",
    "\n",
    "data = np.array([1, 2, 5, 5, 4, 2, 3, 7, 1])\n",
    "\n",
    "row = [0, 1, 3, 1, 2, 2, 0, 1, 3]\n",
    "col_ptr = [0, 3, 5, 6, 9]\n",
    "\n",
    "A_csc = csc_matrix((data, row, col_ptr), shape=(4, 4))\n",
    "A_csc.todense()"
   ]
  },
  {
   "cell_type": "markdown",
   "id": "d6bd2c58",
   "metadata": {},
   "source": [
    "La mémoire occupée par le stockage de la matrice de discrétisation par différences finies du laplacien sur une grille 2d de 1024x1024 subdivisions pour une matrice CSC est la même que pour la structure CSR puisque la matrice du laplacien est symétrique."
   ]
  },
  {
   "cell_type": "markdown",
   "id": "de0a2892",
   "metadata": {},
   "source": [
    "## Matrice creuse : rangement diagonal"
   ]
  },
  {
   "cell_type": "markdown",
   "id": "b04f5b42",
   "metadata": {},
   "source": [
    "La structure de données à rangement diagonal peut être représentée par :\n",
    "\n",
    "* un tableau `diags` à deux dimensions ab contenant les coefficients de chaque diagonale de la matrice\n",
    "* un tableau d'entier `offset` contenant la postion de chaque diagonale relativement à la diagonale principale\n",
    "\n",
    "Remarques : cette structure de données peut stocker des éléments nuls.\n",
    "\n",
    "Exemple :\n",
    "\n",
    "$$\n",
    "A = \\begin{bmatrix}\n",
    "5 & 2 & 6  & 0  & 0  \\\\\n",
    "1 & 4 & 2  & 5  & 0  \\\\\n",
    "0 & 1 & 3  & 2  & 1  \\\\\n",
    "0 & 0 & 1  & 2  & 0  \\\\\n",
    "0 & 0 & 0  & 1  & 1\n",
    "\\end{bmatrix}\n",
    "$$"
   ]
  },
  {
   "cell_type": "code",
   "execution_count": null,
   "id": "a1af0e7a",
   "metadata": {},
   "outputs": [],
   "source": [
    "from scipy.sparse import dia_matrix\n",
    "\n",
    "data = np.array([[5, 4, 3, 2, 1], [1, 1, 1, 1, 0], [2, 2, 2, 0, 0], [6, 5, 1, 0, 0]])\n",
    "\n",
    "offset = np.array([0, -1, 1, 2])\n",
    "\n",
    "A_dia = dia_matrix((data, offset), shape=(5, 5))\n",
    "A_dia.todense()"
   ]
  },
  {
   "cell_type": "markdown",
   "id": "e4e04ece",
   "metadata": {},
   "source": [
    "## Références \n",
    "\n",
    "* [Sparse Matrix Storage Formats, *Jack Dongarra*](http://www.netlib.org/utk/people/JackDongarra/etemplates/node372.html)\n",
    "* [Classes des matrice creuses de scipy](https://docs.scipy.org/doc/scipy/reference/sparse.html)"
   ]
  }
 ],
 "metadata": {
  "@webio": {
   "lastCommId": null,
   "lastKernelId": null
  },
  "kernelspec": {
   "display_name": "Python 3",
   "language": "python",
   "name": "python3"
  },
  "language_info": {
   "codemirror_mode": {
    "name": "ipython",
    "version": 3
   },
   "file_extension": ".py",
   "mimetype": "text/x-python",
   "name": "python",
   "nbconvert_exporter": "python",
   "pygments_lexer": "ipython3",
   "version": "3.9.7"
  }
 },
 "nbformat": 4,
 "nbformat_minor": 5
}
