{
 "cells": [
  {
   "cell_type": "code",
   "execution_count": null,
   "metadata": {},
   "outputs": [],
   "source": [
    "#\n",
    "#    Notebook de cours MAP412 - Chapitre 4 - M. Massot 2020-2021 - Ecole polytechnique\n",
    "#    ----------   \n",
    "#    Evaluation du conditionnement de matrices à valeurs rationnelles avec SageMath \n",
    "#    et calcul d'inverses - attention à l'évaluation du conditionnement avec SciPy ! \n",
    "#    \n",
    "#    Auteurs : L. Séries et M. Massot - (C) 2021\n",
    "#    "
   ]
  },
  {
   "cell_type": "markdown",
   "metadata": {},
   "source": [
    "# Conditionnement avec SageMath"
   ]
  },
  {
   "cell_type": "code",
   "execution_count": null,
   "metadata": {},
   "outputs": [],
   "source": [
    "import numpy as np\n",
    "import scipy.linalg\n",
    "import plotly.graph_objects as go\n",
    "import warnings"
   ]
  },
  {
   "cell_type": "markdown",
   "metadata": {},
   "source": [
    "## Matrice de Hilbert"
   ]
  },
  {
   "cell_type": "markdown",
   "metadata": {},
   "source": [
    "### Conditionnement de la matrice de Hilbert\n",
    "\n",
    "Une matrice de Hilbert est une matrice carrée de terme général :\n",
    "\n",
    "$$ H_{ij} = \\frac{1}{i+j-1} $$\n",
    "\n",
    "La matrice de Hilbert de taille 6 s'écrit :\n",
    "\n",
    "\n",
    "$$\\begin{pmatrix}\n",
    " 1 & \\displaystyle \\frac{1}{2} & \\displaystyle \\displaystyle \\frac{1}{3} &\\displaystyle  \\frac{1}{4} & \\displaystyle \\frac{1}{5} & \\displaystyle  \\frac{1}{6} \\\\\n",
    "\\displaystyle \\frac{1}{2} & \\displaystyle \\frac{1}{3} & \\displaystyle \\frac{1}{4} &\\displaystyle  \\frac{1}{5} & \\displaystyle \\frac{1}{6} & \\displaystyle  \\frac{1}{7} \\\\\n",
    "\\displaystyle \\frac{1}{3} & \\displaystyle \\frac{1}{4} & \\displaystyle \\frac{1}{5} &\\displaystyle  \\frac{1}{6} & \\displaystyle \\frac{1}{7} & \\displaystyle  \\frac{1}{8} \\\\\n",
    "\\displaystyle \\frac{1}{4} & \\displaystyle \\frac{1}{5} &\\displaystyle \\frac{1}{6} &\\displaystyle  \\frac{1}{7} & \\displaystyle \\frac{1}{8} & \\displaystyle  \\frac{1}{9} \\\\\n",
    "\\displaystyle \\frac{1}{5} & \\displaystyle \\frac{1}{6} & \\displaystyle \\frac{1}{7} &\\displaystyle  \\frac{1}{8} & \\displaystyle \\frac{1}{9} & \\displaystyle  \\frac{1}{10} \\\\\n",
    "\\displaystyle \\frac{1}{6} & \\displaystyle \\frac{1}{7} & \\displaystyle \\frac{1}{8} &\\displaystyle  \\frac{1}{9} & \\displaystyle \\frac{1}{10} & \\displaystyle  \\frac{1}{11} \\\\\n",
    "\\end{pmatrix}$$"
   ]
  },
  {
   "cell_type": "code",
   "execution_count": null,
   "metadata": {
    "scrolled": false
   },
   "outputs": [],
   "source": [
    "def show_cond_hilbert(n, show_coef=False):\n",
    "    A = matrix(QQ, [[1/(i+j-1) for j in [1..n]] for i in [1..n]])\n",
    "    print(\"-----------------------------------------------------------------------\")\n",
    "    print(f\"Matrice de Hilbert de taille {n} :\")\n",
    "    if (show_coef): print(A.str(unicode=True, character_art=True))\n",
    "    if (n<8 and show_coef):\n",
    "        print(f\"Inverse de la matrice de Hilbert taille {n} :\")\n",
    "        print((A^-1).str(unicode=True, character_art=True))\n",
    "    c_inf = A.norm(Infinity) * (A^-1).norm(Infinity)\n",
    "    print(f\"Conditionnement associé à la norme infinie    : {c_inf}\")\n",
    "    c_2 = A.norm(2) * (A^-1).norm(2)\n",
    "    print(f\"Conditionnement associé à la norme 2          : {c_2}\")\n",
    "    c_linalg = np.linalg.cond(scipy.linalg.hilbert(n))\n",
    "    print(f\"Conditionnement associé à la norme 2 (linalg) : {c_linalg}\\n\")\n",
    "\n",
    "for i in range(2,15): \n",
    "    show_cond_hilbert(i, True)"
   ]
  },
  {
   "cell_type": "markdown",
   "metadata": {},
   "source": [
    "Le lecteur pourra constater que : \n",
    "- le conditionnement augmente démesurément vite avec la taille $n$\n",
    "- le calcul du conditionnement basé sur la **linalg** est correcte jusqu'à $n=12$ et faux ensuite (basé sur une évaluation des valeurs propres qui devient grossièrement fausse du fait du conditionnement de la matrice - voir ci-dessous)\n",
    "- évidemment, le conditionnement dépend de la norme utilisée"
   ]
  },
  {
   "cell_type": "markdown",
   "metadata": {},
   "source": [
    "### Conditionnement et valeurs propres \n",
    "\n",
    "Les outils standard de calcul numérique en double précision ne peuvent pas évaluer correctement les valeurs propres de la matrice et par conséquent le conditionnement au sens de la norme 2, au delà de n=13 !"
   ]
  },
  {
   "cell_type": "code",
   "execution_count": null,
   "metadata": {},
   "outputs": [],
   "source": [
    "n = np.arange(1,21)\n",
    "\n",
    "fig = go.Figure()\n",
    "\n",
    "for i, ni in enumerate(n):\n",
    "    eig_val = np.linalg.eigvals(scipy.linalg.hilbert(ni))\n",
    "    eig_val = np.sort(eig_val)[::-1]\n",
    "    A =  matrix(QQ, [[1/(i+j-1) for j in [1..ni]] for i in [1..ni]])\n",
    "    eig_val_sage = A.eigenvalues()\n",
    "    eig_val_sage = np.sort(eig_val_sage)[::-1]\n",
    "    fig.add_trace(go.Bar(visible=False, x=1.+np.arange(eig_val.size), y=np.abs(eig_val.real), name=\"SciPy\"))\n",
    "    fig.add_trace(go.Bar(visible=False, x=1.+np.arange(eig_val.size), y=np.abs(eig_val_sage), name=\"SageMath\"))\n",
    "\n",
    "# affichage pour n = 1\n",
    "fig.data[0].visible = True\n",
    "fig.data[1].visible = True\n",
    "\n",
    "steps = []\n",
    "for i, ni in enumerate(n):\n",
    "    step = dict(method=\"update\", label = f\"{ni}\", args=[{\"visible\": [(el==2*i) or (el==2*i+1) for el in range(len(fig.data))]}])\n",
    "    steps.append(step)\n",
    "sliders = [dict(currentvalue={'prefix': 'Taille de la matrice = '}, steps=steps)]\n",
    "\n",
    "fig.update_layout(sliders=sliders, title = 'Représentation des valeurs propres')\n",
    "fig.update_xaxes(range=[0,20], title=\"Numéro de la valeur propre\")    \n",
    "fig.update_yaxes(type=\"log\", range=[-29, 1], exponentformat = 'e', title=\"Log de la valeur propre\")    \n",
    "fig.show()"
   ]
  },
  {
   "cell_type": "markdown",
   "metadata": {},
   "source": [
    "Au delà de la quinzième valeur propre, l'évaluation par NumPy est fausse et impacte le conditionnement comme on le voit bien en comparant à l'évaluation de SageMath qui capture le spectre de manière correcte."
   ]
  },
  {
   "cell_type": "markdown",
   "metadata": {},
   "source": [
    "### Perturbation de la matrice et résolution (SageMath!)\n",
    "\n",
    "L'idée est ici d'illustrer le mauvais conditionnement de la matrice de Hibert lors de la résolutin du système linéaire correspondant en évaluant l'impact d'une perturbation de petite taille sur les données du problème.  Le second membre est fixé de telle manière à ce que la solution exacte soit constituée d'un vecteur de $1$. Le second membre et la solution sont donc bien des vecteurs de nombres rationels.\n",
    "\n",
    "Nous  commençons par une perturbation rationnelle de petite taille (1/1000000) sur la matrice de Hilbert et effectuons une résolution exacte dans le corps des rationnel pour le problème perturbé. L'impact du mauvais conditionnement sur la solution apparaît alors clairement dès que la taille de la matrice de Hilbert atteint une dizaine. Nous ne présentons les solutions exactes du problème perturbé que dans les cas où $n$ reste de petite taille pour des questions de lisibilité."
   ]
  },
  {
   "cell_type": "code",
   "execution_count": null,
   "metadata": {
    "scrolled": false
   },
   "outputs": [],
   "source": [
    "def diff_hilbert_mat(n):\n",
    "    print(\"-----------------------------------------------------------------------\")\n",
    "    print(f\"Matrice de Hilbert de taille {n} :\")\n",
    "    x = vector(QQ,[1 for i in range(0,n)])\n",
    "    A = matrix(QQ, [[1/(i+j-1) for j in [1..n]] for i in [1..n]])\n",
    "    print(\"Conditionnement associé à la norme infinie :\",A.norm(Infinity) * (A^-1).norm(Infinity))\n",
    "    \n",
    "    y = A*x\n",
    "    print(\"On perturbe le dernier élément diagonale de : \", 1/(10^6)) \n",
    "    A[n-1,n-1] = (1/(2*n-1))*(1+1/(10^6))   # perturbe la matrice\n",
    "\n",
    "    s = A\\y\n",
    "    if (n<=5):\n",
    "        print(\"Solution exacte du système initiale  :\", x)\n",
    "        print(\"Solution exacte du système perturbée :\", s)\n",
    "    err = max(abs(float(s[i]-x[i])) for i in range(0,n))\n",
    "    print(\"Norme infinie de l'ecart entre les deux solutions : \", err, \"\\n\")\n",
    "\n",
    "for i in range(1,20):\n",
    "    diff_hilbert_mat(i)"
   ]
  },
  {
   "cell_type": "markdown",
   "metadata": {},
   "source": [
    "### Perturbation du second membre et résolution (SageMath!) \n",
    "\n",
    "Dans un second temps, on garde le même problème de départ mais on perturbe le second membre uniquement, dans le même esprit, c'est-à-dire avec une perturbation rationnelle d'amplitude $1/1000000$."
   ]
  },
  {
   "cell_type": "code",
   "execution_count": null,
   "metadata": {},
   "outputs": [],
   "source": [
    "def diff_hilbert_b(n):\n",
    "    print(\"-----------------------------------------------------------------------\")\n",
    "    print(f\"Matrice de Hilbert de taille {n} :\")\n",
    "    x = vector(QQ,[1 for i in range(0,n)])\n",
    "    A = matrix(QQ, [[1/(i+j-1) for j in [1..n]] for i in [1..n]])\n",
    "    print(\"Conditionnement associé à la norme infinie :\",A.norm(Infinity) * (A^-1).norm(Infinity))\n",
    "\n",
    "    y = A*x\n",
    "    print(\"On perturbe le dernier élément du second membre de : \", 1/(10^6)) \n",
    "\n",
    "    y[n-1] *= (1+1/(1000000)) #  perturbation du second membre\n",
    "    s = A\\y\n",
    "    if (n<=5):\n",
    "        print(\"solution exacte du système initial  :\", x)\n",
    "        print(\"solution exacte du système perturbé :\", s)\n",
    "    err = max(abs(float(s[i]-x[i])) for i in range(0,n))\n",
    "    print(\"Norme infinie de l'ecart entre les deux solutions : \", err, \"\\n\")\n",
    "    return max(abs(float(s[i]-x[i])) for i in range(0,n))\n",
    "\n",
    "for i in range(1,15):\n",
    "    diff_hilbert_b(i)"
   ]
  },
  {
   "cell_type": "markdown",
   "metadata": {},
   "source": [
    "Dans ce cadre, on observe que dès $n=6$, la solution perturbée est très différente de la solution initiale. Rappelons que l'on effectue ici un calcul exact, ce qui permet d'évaluer le conditionnement mathématique du problème de résolution d'un système linéaire, où la matrice est une matrice de Hilbert."
   ]
  },
  {
   "cell_type": "markdown",
   "metadata": {},
   "source": [
    "### Un cas 4x4 mal conditionné - G. Wanner.\n",
    "\n",
    "Nous revenons ici sur l'exemple de G. Wanner, où on voit la précision se dégrader sur la résolution d'un système linéaire 4x4 ! Dans le même esprit que précédemment mais en observant l'impact de la réprésentation en machine avec des flottants simple et double précision."
   ]
  },
  {
   "cell_type": "code",
   "execution_count": null,
   "metadata": {},
   "outputs": [],
   "source": [
    "n = 4\n",
    "A = matrix(QQ, [[1/(i+j) for j in [1..n]] for i in [1..n]])\n",
    "\n",
    "b = vector(QQ, [3511/13860,277/1540,40877/291060,3203/27720])\n",
    "\n",
    "print(\"Résolution du système Ax = b\")\n",
    "print(\"avec A =\")\n",
    "print(A)\n",
    "print(\"et b = \", b)\n",
    "\n",
    "b64 = np.array(b)\n",
    "b32 = b64.astype(np.float32)\n",
    "A64 = np.array(A)\n",
    "A32 = A64.astype(np.float32)\n",
    "\n",
    "x = A.solve_right(b)\n",
    "print(\"\\nSolution exacte :\", x)\n",
    "print(\"\\nConditionnement en norme 2 :\",A.norm(2) * (A^-1).norm(2))\n",
    "\n",
    "x64 = scipy.linalg.solve(A,b)\n",
    "np.set_printoptions(precision=15)\n",
    "print(\"\\nSolution numerique (précision de 64 bits):\", x64)\n",
    "print(\"Résidu |Ax-b| = \", np.dot(A64,x64)-b64)\n",
    "\n",
    "x32 = scipy.linalg.solve(A32,b32)\n",
    "np.set_printoptions(precision=7)\n",
    "print(\"\\nSolution numerique (précision de 32 bits):\", x32)\n",
    "print(\"Résidu |Ax-b| = \", np.dot(A32,x32)-b32)"
   ]
  },
  {
   "cell_type": "markdown",
   "metadata": {},
   "source": [
    "## Matrice de Vandermonde\n",
    "\n",
    "Le but ici est d'observer le conditionnement de la matrice de Vandermonde et son impact sur la résolution du système linéaire correspondant pour un choix particulier de second membre.\n",
    "\n",
    "Les erreurs commises du fait de la réprésentation des nombres réels en machine en simple et double précision sont évaluées en utilisant une résolution exacte avec SageMath. On montre effectivement que les erreurs sont directement liées au conditionnement de la matrice si l'on utilise une résolution avec SciPy.\n"
   ]
  },
  {
   "cell_type": "code",
   "execution_count": null,
   "metadata": {},
   "outputs": [],
   "source": [
    "import numpy as np\n",
    "\n",
    "def vandermonde(n):\n",
    "    X = np.array([i for i in range(1,n+1)])\n",
    "    A = np.array([X**i for i in range(n)]).T\n",
    "    return A\n",
    "\n",
    "np.set_printoptions(linewidth=120)\n",
    "print(vandermonde(10))"
   ]
  },
  {
   "cell_type": "markdown",
   "metadata": {},
   "source": [
    "### Conditionnement et impact sur la résolution"
   ]
  },
  {
   "cell_type": "code",
   "execution_count": null,
   "metadata": {},
   "outputs": [],
   "source": [
    "warnings.filterwarnings('ignore')\n",
    "\n",
    "def vandermonde2(x): # ici on attend une liste ou un intervalle\n",
    "    n = len(x)\n",
    "    x = np.array(x)\n",
    "    return np.vstack([x**i for i in range(n)]).T\n",
    "\n",
    "liste = [1,2,3,4,5,6,7,8,9,10,11,12,13,14]\n",
    "\n",
    "for i in range(4,13):\n",
    "    print(\"-------------------------------------------------\")\n",
    "    print(\"Matrice de vandermonde de taille : \", i)\n",
    "    A = matrix(QQ,vandermonde2(liste[1:i+1]))\n",
    "    bn = np.ones(i)/2\n",
    "    #cond = A.norm(Infinity) * (A^-1).norm(Infinity)\n",
    "    cond = A.norm(2) * (A^-1).norm(2)\n",
    "    print(\"Conditionnement en norme 2 :\", cond)\n",
    "    bn[-1]=-1/10\n",
    "    bn[2] = 20\n",
    "    b = vector(QQ,bn)\n",
    "    x = A.solve_right(b)\n",
    "\n",
    "    print(\"Solution de Ax = b :\")\n",
    "    bb64 = np.array(b)\n",
    "    bb32 = bb64.astype(np.float32)\n",
    "    AA64 = np.array(A)\n",
    "    AA32 = AA64.astype(np.float32)\n",
    "\n",
    "    x64 = scipy.linalg.solve(AA64, bb64)\n",
    "    x32 = scipy.linalg.solve(AA32, bb32)\n",
    "\n",
    "    print(\"Norme infinie de l'erreur (précision 64 bits) :\", scipy.linalg.norm(np.array(x)-x64, np.inf))\n",
    "    print(\"Norme infinie de l'erreur (précision 32 bits) :\", scipy.linalg.norm(np.array(x)-x32, np.inf))\n",
    "    print(\"||erreur|| / cond (précision 64 bits) : \", scipy.linalg.norm(np.array(x)-x64, np.inf)/cond)\n",
    "    print(\"||erreur|| / cond (précision 32 bits) : \", scipy.linalg.norm(np.array(x)-x32, np.inf)/cond)"
   ]
  },
  {
   "cell_type": "markdown",
   "metadata": {},
   "source": [
    "## Matrice du Laplacien\n",
    "\n",
    "L'exemple de la matrice de Hilbert est un cas extrême permettant de bien mettre en lumière les difficultés associées à une matrice mal conditionnée ; celui de la matrice de Vandermonde, après les chapitres de l'interpolation et de la quadrature, est déjà plus réaliste et on le rencontre en pratique, même s'il y a des moyens d'évaluer les poids de manière exacte et donc de s'affranchir des erreurs associées au mauvais conditionnement et à la résolution du système linéaire.\n",
    "\n",
    "Un cas classique vu en cours de système linéaire que l'on sera amené à résoudre est celui de la résolution des EDPs par différence finies centrées et de la matrice du Laplacien. Dans ce cas pratique et classique, nous revenons sur le conditionnement de ce type de matrices symétriques définies positives et de leur évaluation par les outils classiques de SciPy. Il apparaît clairement que dans ce cas, le conditionnement augmente de manière quadratique dans le nombre de points et non pas de manière exponentielle ! Considérér des matrices de taille plusieurs centaines d'unité reste donc tout à fait raisonnable avec les outils habituels en double précision.\n",
    "\n",
    "### Conditionnement en fonction de la taille"
   ]
  },
  {
   "cell_type": "code",
   "execution_count": null,
   "metadata": {
    "scrolled": false
   },
   "outputs": [],
   "source": [
    "def laplacian(n):\n",
    "    M = -2*np.identity(n)\n",
    "    for i in range(1,n):\n",
    "        M[i,i-1] = 1\n",
    "        M[i-1,i] = 1\n",
    "    return M\n",
    "\n",
    "cond = np.zeros(40)\n",
    "condinf = np.zeros(40)\n",
    "\n",
    "for i in range(5, 205, 5):\n",
    "    print(\"------------------------------------------------------\")\n",
    "    print(\"Matrice du laplacien de taille : \", i)\n",
    "\n",
    "    MM=laplacian(i)\n",
    "    AA=matrix(QQ,MM)\n",
    "    \n",
    "    condinf[(i-4)//5] = AA.norm(Infinity) * (AA^-1).norm(Infinity)\n",
    "    print(\"Conditionnement associé à la norme infinie (sage) : \",condinf[(i-4)//5])   \n",
    "    print(\"Conditionnement associé à la norme 2 (sage)       : \", AA.norm(2) * (AA^-1).norm(2))\n",
    "    print(\"Conditionnement associé à la norme 2 (linalg)     : \", np.linalg.cond(MM))\n",
    "    cond[(i-4)//5]=(np.sin(i*np.pi/2/(i+1))/np.sin(np.pi/2/(i+1)))**2\n",
    "    print(\"Conditionnement exacte                            : \", cond[(i-4)//5]) \n"
   ]
  },
  {
   "cell_type": "markdown",
   "metadata": {},
   "source": [
    "### Estimation du conditionnement"
   ]
  },
  {
   "cell_type": "code",
   "execution_count": null,
   "metadata": {},
   "outputs": [],
   "source": [
    "nn = np.arange(5,205,5)\n",
    "\n",
    "fig = go.Figure()\n",
    "fig.add_trace(go.Scatter(x=nn, y=cond, name='Conditionnement exact'))\n",
    "fig.add_trace(go.Scatter(x=nn, y=4*(nn+1)**2/np.pi**2, name='(2(N+1)/pi)^2', line_dash='dash'))\n",
    "fig.add_trace(go.Scatter(x=nn, y=condinf, name='Conditionnement infini'))\n",
    "fig.update_layout(title=\"Conditionnement matrice de discrétisation du Laplacien\",\n",
    "                  xaxis_title=\"Taille de la matrice\", \n",
    "                  yaxis_title=\"Conditionnement\")\n",
    "fig.show()"
   ]
  },
  {
   "cell_type": "markdown",
   "metadata": {},
   "source": [
    "Dans le cadre de la matrice du Laplacien avec conditions de Dirichlet sur l'intervalle $[0,1]$, on peut obtenir une estimation très précise du conditionnement en norme $2$ : $4(n+1)^2/\\pi^2$, comme le montre le graphique ci-dessus."
   ]
  }
 ],
 "metadata": {
  "@webio": {
   "lastCommId": null,
   "lastKernelId": null
  },
  "kernelspec": {
   "display_name": "SageMath 9.2",
   "language": "sage",
   "name": "sagemath"
  },
  "language_info": {
   "codemirror_mode": {
    "name": "ipython",
    "version": 3
   },
   "file_extension": ".py",
   "mimetype": "text/x-python",
   "name": "python",
   "nbconvert_exporter": "python",
   "pygments_lexer": "ipython3",
   "version": "3.9.7"
  },
  "latex_envs": {
   "LaTeX_envs_menu_present": true,
   "autoclose": false,
   "autocomplete": false,
   "bibliofile": "biblio.bib",
   "cite_by": "apalike",
   "current_citInitial": 1,
   "eqLabelWithNumbers": true,
   "eqNumInitial": 1,
   "hotkeys": {
    "equation": "Ctrl-E",
    "itemize": "Ctrl-I"
   },
   "labels_anchors": false,
   "latex_user_defs": false,
   "report_style_numbering": false,
   "user_envs_cfg": false
  }
 },
 "nbformat": 4,
 "nbformat_minor": 4
}
