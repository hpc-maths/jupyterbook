{
 "cells": [
  {
   "cell_type": "code",
   "execution_count": null,
   "metadata": {},
   "outputs": [],
   "source": [
    "import numpy as np\n",
    "import matplotlib.pyplot as plt\n",
    "import scipy.linalg\n",
    "import warnings"
   ]
  },
  {
   "cell_type": "markdown",
   "metadata": {},
   "source": [
    "# Conditionnement"
   ]
  },
  {
   "cell_type": "markdown",
   "metadata": {},
   "source": [
    "## Matrice de Hilbert"
   ]
  },
  {
   "cell_type": "markdown",
   "metadata": {},
   "source": [
    "### Conditionnement de la matrice de Hilbert\n",
    "\n",
    "Une matrice de Hilbert est une matrice carrée de terme général :\n",
    "\n",
    "$$ H_{ij} = \\frac{1}{i+j-1} $$\n",
    "\n",
    "La matrice de Hilbert de taille 6 s'écrit :\n",
    "\n",
    "\n",
    "$$\\begin{pmatrix}\n",
    " 1 & \\displaystyle \\frac{1}{2} & \\displaystyle \\displaystyle \\frac{1}{3} &\\displaystyle  \\frac{1}{4} & \\displaystyle \\frac{1}{5} & \\displaystyle  \\frac{1}{6} \\\\\n",
    "\\displaystyle \\frac{1}{2} & \\displaystyle \\frac{1}{3} & \\displaystyle \\frac{1}{4} &\\displaystyle  \\frac{1}{5} & \\displaystyle \\frac{1}{6} & \\displaystyle  \\frac{1}{7} \\\\\n",
    "\\displaystyle \\frac{1}{3} & \\displaystyle \\frac{1}{4} & \\displaystyle \\frac{1}{5} &\\displaystyle  \\frac{1}{6} & \\displaystyle \\frac{1}{7} & \\displaystyle  \\frac{1}{8} \\\\\n",
    "\\displaystyle \\frac{1}{4} & \\displaystyle \\frac{1}{5} &\\displaystyle \\frac{1}{6} &\\displaystyle  \\frac{1}{7} & \\displaystyle \\frac{1}{8} & \\displaystyle  \\frac{1}{9} \\\\\n",
    "\\displaystyle \\frac{1}{5} & \\displaystyle \\frac{1}{6} & \\displaystyle \\frac{1}{7} &\\displaystyle  \\frac{1}{8} & \\displaystyle \\frac{1}{9} & \\displaystyle  \\frac{1}{10} \\\\\n",
    "\\displaystyle \\frac{1}{6} & \\displaystyle \\frac{1}{7} & \\displaystyle \\frac{1}{8} &\\displaystyle  \\frac{1}{9} & \\displaystyle \\frac{1}{10} & \\displaystyle  \\frac{1}{11} \\\\\n",
    "\\end{pmatrix}$$"
   ]
  },
  {
   "cell_type": "code",
   "execution_count": null,
   "metadata": {
    "scrolled": false
   },
   "outputs": [],
   "source": [
    "def cond_hilbert(n):\n",
    "    A = matrix(QQ, [[1/(i+j-1) for j in [1..n]] for i in [1..n]])\n",
    "    print(\"-----------------------------------------------------------------------\")\n",
    "    print(f\"Matrice de Hilbert de taille {n} :\")\n",
    "    print(A.str(unicode=True, character_art=True))\n",
    "    print(f\"Inverse de la matrice de Hilbert taille {n} :\")\n",
    "    if (n<8):\n",
    "        print((A^-1).str(unicode=True, character_art=True))\n",
    "    c_inf = A.norm(Infinity) * (A^-1).norm(Infinity)\n",
    "    print(f\"Conditionnement associé à la norme infinie    : {c_inf}\")\n",
    "    c_2 = A.norm(2) * (A^-1).norm(2)\n",
    "    print(f\"Conditionnement associé à la norme 2          : {c_2}\")\n",
    "    print(f\"Conditionnement associé à la norme 2 (linalg) : {np.linalg.cond(scipy.linalg.hilbert(n))}\")\n",
    "\n",
    "    #return A.norm(Infinity) * (A^-1).norm(Infinity), A.norm(2) * (A^-1).norm(2)\n",
    "\n",
    "for i in range(2,15): \n",
    "    #print(cond_hilbert(i))    \n",
    "    cond_hilbert(i)\n",
    "    print()"
   ]
  },
  {
   "cell_type": "markdown",
   "metadata": {},
   "source": [
    "### Conditionnement et valeurs propres de la matrice de Hilbert\n",
    "\n",
    "Les outils standard de calcul numérique en double précision ne peuvent pas évaluer correctement ces quantités au delà de n=13 ! "
   ]
  },
  {
   "cell_type": "code",
   "execution_count": null,
   "metadata": {},
   "outputs": [],
   "source": [
    "import numpy as np\n",
    "import scipy.linalg\n",
    "import matplotlib.pyplot as plt\n",
    "\n",
    "%matplotlib inline\n",
    "\n",
    "n = 10\n",
    "\n",
    "b=scipy.linalg.hilbert(n)\n",
    "\n",
    "print(f\"Conditionnement de la matrice de Hilbert de taille {n} : {np.linalg.cond(b)}\")\n",
    "print(\"calculé avec linalg de numpy\")\n",
    "\n",
    "eig_val = np.linalg.eigvals(b)\n",
    "print(\"Valeurs propres : \")\n",
    "print(eig_val)\n",
    "\n",
    "# Taille de la figure\n",
    "plt.figure(figsize=[16, 8])\n",
    "# titre de la figure\n",
    "plt.title(\"Représentation des valeurs propres\")\n",
    "# titre des axes\n",
    "plt.xlabel('numéro')\n",
    "plt.ylabel('valeur propre')\n",
    "# limites des axes\n",
    "plt.axis([0, n, np.min(np.abs(eig_val.real)), 10.])\n",
    "plt.bar(1.+np.arange(eig_val.size), np.abs(eig_val.real), width = 0.1, log = True, color = 'blue')\n",
    "plt.show()"
   ]
  },
  {
   "cell_type": "markdown",
   "metadata": {},
   "source": [
    "### Perturbation de la matrice et résolution exacte dans le corps des rationnels (SageMath!)"
   ]
  },
  {
   "cell_type": "code",
   "execution_count": null,
   "metadata": {
    "scrolled": false
   },
   "outputs": [],
   "source": [
    "def diff_hilbert_mat(n):\n",
    "    print(\"-----------------------------------------------------------------------\")\n",
    "    print(f\"Matrice de Hilbert de taille {n} :\")\n",
    "    x = vector(QQ,[1 for i in range(0,n)])\n",
    "    A = matrix(QQ, [[1/(i+j-1) for j in [1..n]] for i in [1..n]])\n",
    "    #print(i,\"conditionnement\",A.norm(Infinity) * (A^-1).norm(Infinity), A.norm(2) * (A^-1).norm(2))\n",
    "    print(\"Conditionnement associé à la norme infinie :\",A.norm(Infinity) * (A^-1).norm(Infinity))\n",
    "\n",
    "    \n",
    "    y = A*x\n",
    "    print(\"On perturbe le dernier élément diagonale de : \", 1/(10^6)) \n",
    "    A[n-1,n-1] = (1/(2*n-1))*(1+1/(10^6))   # perturbe la matrice\n",
    "    #print(\"Conditionnement associé à la norme infinie :\",A.norm(Infinity) * (A^-1).norm(Infinity))\n",
    "\n",
    "    s = A\\y\n",
    "    if (n<=5):\n",
    "        print(\"Solution exacte du système initiale  :\", x)\n",
    "        print(\"Solution exacte du système perturbée :\", s)\n",
    "    err = max(abs(float(s[i]-x[i])) for i in range(0,n))\n",
    "    print(\"Norme infinie de l'ecart entre les deux solutions : \", err)\n",
    "\n",
    "for i in range(1,20):\n",
    "    #print(diff_hilbert(i))\n",
    "    diff_hilbert_mat(i)\n",
    "    print()"
   ]
  },
  {
   "cell_type": "markdown",
   "metadata": {},
   "source": [
    "### Perturbation du second membre et résolution exacte dans le corps des rationnels (SageMath!) "
   ]
  },
  {
   "cell_type": "code",
   "execution_count": null,
   "metadata": {},
   "outputs": [],
   "source": [
    "def diff_hilbert_b(n):\n",
    "    print(\"-----------------------------------------------------------------------\")\n",
    "    print(f\"Matrice de Hilbert de taille {n} :\")\n",
    "    x = vector(QQ,[1 for i in range(0,n)])\n",
    "    A = matrix(QQ, [[1/(i+j-1) for j in [1..n]] for i in [1..n]])\n",
    "    #print(n,\"conditionnement\",A.norm(Infinity) * (A^-1).norm(Infinity), A.norm(2) * (A^-1).norm(2))\n",
    "    print(\"Conditionnement associé à la norme infinie :\",A.norm(Infinity) * (A^-1).norm(Infinity))\n",
    "\n",
    "    y = A*x\n",
    "    print(\"On perturbe le dernier élément du second membre de : \", 1/(10^6)) \n",
    "\n",
    "    y[n-1] *= (1+1/(10^6)) #  perturbation du second membre\n",
    "    s = A\\y\n",
    "    if (n<=6):\n",
    "        print(\"solution exacte du système initial  :\", x)\n",
    "        print(\"solution exacte du système perturbé :\", s)\n",
    "    err = max(abs(float(s[i]-x[i])) for i in range(0,n))\n",
    "    print(\"Norme infinie de l'ecart entre les deux solutions : \", err)\n",
    "    return max(abs(float(s[i]-x[i])) for i in range(0,n))\n",
    "\n",
    "for i in range(1,15):\n",
    "    diff_hilbert_b(i)\n",
    "    print()"
   ]
  },
  {
   "cell_type": "markdown",
   "metadata": {},
   "source": [
    "### Résolution effective d'un cas 4x4 mal conditionné (exact / 64bits / 32  bits) - G. Wanner."
   ]
  },
  {
   "cell_type": "code",
   "execution_count": null,
   "metadata": {},
   "outputs": [],
   "source": [
    "import numpy as np\n",
    "import scipy.linalg as LA\n",
    "\n",
    "n=4\n",
    "A = matrix(QQ, [[1/(i+j) for j in [1..n]] for i in [1..n]])\n",
    "\n",
    "#print(A,\"conditionnement\",A.norm(Infinity) * (A^-1).norm(Infinity), A.norm(2) * (A^-1).norm(2))\n",
    "b = vector(QQ, [3511/13860,277/1540,40877/291060,3203/27720])\n",
    "\n",
    "print(\"Résolution du système Ax = b\")\n",
    "print(\"avec A =\")\n",
    "print(A)\n",
    "print(\"et b = \", b)\n",
    "\n",
    "b64 = np.array(b)\n",
    "b32 = b64.astype(np.float32)\n",
    "A64 = np.array(A)\n",
    "A32 = A64.astype(np.float32)\n",
    "\n",
    "x = A.solve_right(b)\n",
    "print(\"\\nSolution exacte :\", x)\n",
    "\n",
    "x64 = LA.solve(A,b)\n",
    "np.set_printoptions(precision=15)\n",
    "print(\"\\nSolution numerique (précision de 64 bits):\", x64)\n",
    "print(\"Résidu |Ax-b| = \", np.dot(A64,x64)-b64)\n",
    "\n",
    "x32 = LA.solve(A32,b32)\n",
    "np.set_printoptions(precision=7)\n",
    "print(\"\\nSolution numerique (précision de 32 bits):\", x32)\n",
    "print(\"Résidu |Ax-b| = \", np.dot(A32,x32)-b32)"
   ]
  },
  {
   "cell_type": "markdown",
   "metadata": {},
   "source": [
    "## Matrice de Vandermonde"
   ]
  },
  {
   "cell_type": "code",
   "execution_count": null,
   "metadata": {},
   "outputs": [],
   "source": [
    "import numpy as np\n",
    "\n",
    "def vandermonde(n):\n",
    "    X = np.array([i for i in range(1,n+1)])\n",
    "    A = np.array([X**i for i in range(n)]).T\n",
    "    return A\n",
    "\n",
    "np.set_printoptions(linewidth=120)\n",
    "print(vandermonde(10))"
   ]
  },
  {
   "cell_type": "markdown",
   "metadata": {},
   "source": [
    "### Conditionnement"
   ]
  },
  {
   "cell_type": "code",
   "execution_count": null,
   "metadata": {},
   "outputs": [],
   "source": [
    "warnings.filterwarnings('ignore')\n",
    "\n",
    "def vandermonde2(x): # ici on attend une liste ou un intervalle\n",
    "    n = len(x)\n",
    "    x = np.array(x)\n",
    "    return np.vstack([x**i for i in range(n)]).T\n",
    "\n",
    "liste = [1,2,3,4,5,6,7,8,9,10,11,12,13,14]\n",
    "\n",
    "for i in range(3,14):\n",
    "    print(\"-------------------------------------------------\")\n",
    "    print(\"Matrice de vandermonde de taille : \", i)\n",
    "    A = matrix(QQ,vandermonde2(liste[1:i+1]))\n",
    "    bn = np.ones(i)/2\n",
    "    print(\"Conditionnement :\", A.norm(Infinity) * (A^-1).norm(Infinity))\n",
    "    bn[2]=1/10\n",
    "    b = vector(QQ,bn)\n",
    "    x = A.solve_right(b)\n",
    "    #print(x)\n",
    "    #print(b)\n",
    "\n",
    "    print(\"Solution de Ax = b :\")\n",
    "    bb64 = np.array(b)\n",
    "    bb32 = bb64.astype(np.float32)\n",
    "    AA64 = np.array(A)\n",
    "    AA32 = AA64.astype(np.float32)\n",
    "\n",
    "    x64 = scipy.linalg.solve(AA64, bb64)\n",
    "    x32 = scipy.linalg.solve(AA32, bb32)\n",
    "    \n",
    "    #print(x,x64,x32)\n",
    "\n",
    "    print(\"Norme infinie de l'erreur (précision 64 bits) :\", scipy.linalg.norm(np.array(x)-x64, np.inf))\n",
    "    print(\"Norme infinie de l'erreur (précision 32 bits) :\", scipy.linalg.norm(np.array(x)-x32, np.inf))\n",
    "    print(\"||erreur|| / cond (précision 64 bits) : \", scipy.linalg.norm(np.array(x)-x64, np.inf)/A.norm(Infinity) * (A^-1).norm(Infinity))\n",
    "    print(\"||erreur|| / cond (précision 32 bits) : \", scipy.linalg.norm(np.array(x)-x32, np.inf)/A.norm(Infinity) * (A^-1).norm(Infinity))"
   ]
  },
  {
   "cell_type": "markdown",
   "metadata": {},
   "source": [
    "## Matrice du Laplacien"
   ]
  },
  {
   "cell_type": "code",
   "execution_count": null,
   "metadata": {
    "scrolled": false
   },
   "outputs": [],
   "source": [
    "def laplacian(n):\n",
    "    M = -2*np.identity(n)\n",
    "    for i in range(1,n):\n",
    "        M[i,i-1] = 1\n",
    "        M[i-1,i] = 1\n",
    "    return M\n",
    "\n",
    "cond = np.zeros(40)\n",
    "condinf = np.zeros(40)\n",
    "\n",
    "for i in range(5, 205, 5):\n",
    "    print(\"------------------------------------------------------\")\n",
    "    print(\"Matrice du laplacien de taille : \", i)\n",
    "\n",
    "    MM=laplacian(i)\n",
    "    AA=matrix(QQ,MM)\n",
    "    \n",
    "    condinf[(i-4)//5] = AA.norm(Infinity) * (AA^-1).norm(Infinity)\n",
    "    print(\"Conditionnement associé à la norme infinie (sage) : \",condinf[(i-4)//5])   \n",
    "    print(\"Conditionnement associé à la norme 2 (sage)       : \", AA.norm(2) * (AA^-1).norm(2))\n",
    "    print(\"Conditionnement associé à la norme 2 (linalg)     : \", np.linalg.cond(MM))\n",
    "    cond[(i-4)//5]=(np.sin(i*np.pi/2/(i+1))/np.sin(np.pi/2/(i+1)))**2\n",
    "    print(\"Conditionnement exacte                            : \", cond[(i-4)//5]) \n"
   ]
  },
  {
   "cell_type": "code",
   "execution_count": null,
   "metadata": {},
   "outputs": [],
   "source": [
    "nn = np.arange(5,205,5)\n",
    "\n",
    "plt.figure(figsize=[16, 8])\n",
    "# titre de la figure\n",
    "plt.title(\"Conditionnement matrice de discrétisation du Laplacien\")\n",
    "# titre des axes\n",
    "plt.xlabel('taille matrice')\n",
    "plt.ylabel('Conditionnement')\n",
    "# limites des axes\n",
    "#plt.axis([0, n, np.min(np.abs(eig_val.real)), 10.])\n",
    "plt.plot(nn, cond, color = 'blue',label='Conditionnement exact')\n",
    "plt.plot(nn, 4*(nn+1)**2/np.pi**2, '--', linewidth=2,color = 'red',label='(2(N+1)/pi)^2')\n",
    "plt.plot(nn, condinf , ':', linewidth=2,color = 'green',label='Conditionnement infini')\n",
    "plt.legend(loc='upper left', frameon=False)\n",
    "plt.show()"
   ]
  }
 ],
 "metadata": {
  "@webio": {
   "lastCommId": null,
   "lastKernelId": null
  },
  "kernelspec": {
   "display_name": "SageMath 9.2",
   "language": "sage",
   "name": "sagemath"
  },
  "language_info": {
   "codemirror_mode": {
    "name": "ipython",
    "version": 3
   },
   "file_extension": ".py",
   "mimetype": "text/x-python",
   "name": "python",
   "nbconvert_exporter": "python",
   "pygments_lexer": "ipython3",
   "version": "3.9.7"
  },
  "latex_envs": {
   "LaTeX_envs_menu_present": true,
   "autoclose": false,
   "autocomplete": false,
   "bibliofile": "biblio.bib",
   "cite_by": "apalike",
   "current_citInitial": 1,
   "eqLabelWithNumbers": true,
   "eqNumInitial": 1,
   "hotkeys": {
    "equation": "Ctrl-E",
    "itemize": "Ctrl-I"
   },
   "labels_anchors": false,
   "latex_user_defs": false,
   "report_style_numbering": false,
   "user_envs_cfg": false
  }
 },
 "nbformat": 4,
 "nbformat_minor": 4
}
