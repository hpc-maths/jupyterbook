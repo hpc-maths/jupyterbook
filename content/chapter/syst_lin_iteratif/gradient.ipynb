{
 "cells": [
  {
   "cell_type": "code",
   "execution_count": null,
   "metadata": {},
   "outputs": [],
   "source": [
    "#\n",
    "#    Notebook de cours MAP412 - Chapitre 5 - M. Massot 2020-2021 - Ecole polytechnique\n",
    "#    ----------   \n",
    "#    Méthodes de résolution de systèmes linéaires itératives \n",
    "#    Méthodes de gradient\n",
    "#    \n",
    "#    Auteurs : L. Séries et M. Massot - (C) 2021\n",
    "#   "
   ]
  },
  {
   "cell_type": "code",
   "execution_count": null,
   "metadata": {},
   "outputs": [],
   "source": [
    "import numpy as np\n",
    "from matplotlib import pyplot as plt"
   ]
  },
  {
   "cell_type": "markdown",
   "metadata": {},
   "source": [
    "# Méthodes de gradient"
   ]
  },
  {
   "cell_type": "markdown",
   "metadata": {},
   "source": [
    "On considère un système $2\\times 2$ pour lequel on pourra facilement visualiser le comportement des algorithmes :\n",
    "\n",
    "$$\n",
    "A=\\begin{pmatrix}\n",
    "7 & 0 \\\\\n",
    "0 & 1\n",
    "\\end{pmatrix},\\qquad b=\\begin{pmatrix}\n",
    "2 \\\\ -1\n",
    "\\end{pmatrix}\n",
    "$$"
   ]
  },
  {
   "cell_type": "code",
   "execution_count": null,
   "metadata": {},
   "outputs": [],
   "source": [
    "a = np.array([[7., 0.], [0., 1.]])\n",
    "\n",
    "b = np.array([2., -1.])\n",
    "\n",
    "xexa = np.linalg.solve(a,b)"
   ]
  },
  {
   "cell_type": "code",
   "execution_count": null,
   "metadata": {},
   "outputs": [],
   "source": [
    "def f(a, b, x1, x2):\n",
    "    return 0.5*((a[0,0]*x1+a[0,1]*x2)*x1 + (a[1,0]*x1+a[1,1]*x2)*x2) - b[0]*x1 - b[1]*x2"
   ]
  },
  {
   "cell_type": "markdown",
   "metadata": {},
   "source": [
    "## Gradient à pas fixe"
   ]
  },
  {
   "cell_type": "code",
   "execution_count": null,
   "metadata": {},
   "outputs": [],
   "source": [
    "alpha = 0.28\n",
    "\n",
    "# initialization\n",
    "nit_max = 100\n",
    "xk = [np.zeros(2)]\n",
    "rk = np.dot(a,xk[0]) - b\n",
    "# iteration du gradient\n",
    "for k in range(nit_max):\n",
    "    xk.append(xk[k] - alpha*rk)\n",
    "    rk = np.dot(a,xk[k+1]) - b\n",
    "    if (np.linalg.norm(rk) < 1.e-6): break\n",
    "        \n",
    "xk = np.array(xk)\n",
    "        \n",
    "print(\"Gradient à pas fixe :\")\n",
    "print(f\"-> nb iteration {k+1}\")\n",
    "\n",
    "x1 = np.linspace(-0.5, 1., 200)\n",
    "x2 = np.linspace(-2.5, 0.5, 200)\n",
    "x1, x2 = np.meshgrid(x1, x2)\n",
    "\n",
    "z = f(a, b, x1, x2)\n",
    "\n",
    "nlevel = 8\n",
    "level =  f(a, b, xk[0:nlevel,0], xk[0:nlevel,1])\n",
    "\n",
    "plt.figure(figsize=(7.5,15))\n",
    "plt.contour(x1, x2, z, np.flip(level))\n",
    "plt.plot(xk[0:nlevel,0], xk[0:nlevel,1], '--ro')\n",
    "plt.scatter(xexa[0], xexa[1])\n",
    "plt.show()"
   ]
  },
  {
   "cell_type": "markdown",
   "metadata": {},
   "source": [
    "## Gradient à pas optimal"
   ]
  },
  {
   "cell_type": "code",
   "execution_count": null,
   "metadata": {},
   "outputs": [],
   "source": [
    "# initialization\n",
    "nit_max = 100\n",
    "xk = [np.zeros(2)]\n",
    "rk = np.dot(a,xk[0]) - b\n",
    "# iteration du gradient\n",
    "for k in range(nit_max):\n",
    "    alpha = np.dot(rk,rk)/ np.dot(np.dot(a,rk),rk)\n",
    "    xk.append(xk[k] - alpha*rk)\n",
    "    rk = np.dot(a,xk[k+1]) - b\n",
    "    if (np.linalg.norm(rk) < 1.e-6): break\n",
    "\n",
    "xk = np.array(xk)\n",
    "\n",
    "print(\"Gradient à pas optimal :\")\n",
    "print(f\"-> nb iteration {k+1}\")\n",
    "\n",
    "x1 = np.linspace(-0.5, 1., 200)\n",
    "x2 = np.linspace(-2.5, 0.5, 200)\n",
    "x1, x2 = np.meshgrid(x1, x2)\n",
    "\n",
    "z = f(a, b, x1, x2)\n",
    "\n",
    "nlevel = 8\n",
    "level =  f(a, b, xk[0:nlevel,0], xk[0:nlevel,1])\n",
    "\n",
    "plt.figure(figsize=(7.5,15))\n",
    "plt.contour(x1, x2, z, np.flip(level))\n",
    "plt.plot(xk[0:nlevel,0], xk[0:nlevel,1], '--ro')\n",
    "plt.scatter(xexa[0], xexa[1])\n",
    "plt.show()"
   ]
  },
  {
   "cell_type": "markdown",
   "metadata": {},
   "source": [
    "## Gradient conjugué"
   ]
  },
  {
   "cell_type": "code",
   "execution_count": null,
   "metadata": {
    "scrolled": false
   },
   "outputs": [],
   "source": [
    "# initialization\n",
    "xk = [np.zeros(2)]\n",
    "rk = b - np.dot(a,xk[0])\n",
    "pk = rk\n",
    "rkm1 = rk\n",
    "# iteration du gradient\n",
    "for k in range(b.size):\n",
    "    apk = np.dot(a,pk)\n",
    "    alpha = np.dot(rk,rk)/ np.dot(pk, np.dot(a,pk))\n",
    "    xk.append(xk[k] + alpha*pk)\n",
    "    rk = rk - alpha*apk\n",
    "    if (np.linalg.norm(rk) < 1.e-6): break\n",
    "    beta = np.dot(rk,rk) / np.dot(rkm1, rkm1)\n",
    "    pk = rk + beta*pk\n",
    "    rkm1 = rk\n",
    "\n",
    "xk = np.array(xk)\n",
    "\n",
    "print(\"Gradient conjugué :\")\n",
    "print(f\"-> nb iteration {k+1}\")\n",
    "\n",
    "x1 = np.linspace(-0.5, 1., 200)\n",
    "x2 = np.linspace(-2.5, 0.5, 200)\n",
    "x1, x2 = np.meshgrid(x1, x2)\n",
    "\n",
    "z = f(a, b, x1, x2)\n",
    "\n",
    "nlevel = 3\n",
    "level =  f(a, b, xk[0:nlevel,0], xk[0:nlevel,1])\n",
    "\n",
    "plt.figure(figsize=(7.5,15))\n",
    "plt.contour(x1, x2, z, np.flip(level))\n",
    "plt.plot(xk[0:nlevel,0], xk[0:nlevel,1], '--ro')\n",
    "plt.scatter(xexa[0], xexa[1])\n",
    "plt.show()"
   ]
  }
 ],
 "metadata": {
  "@webio": {
   "lastCommId": null,
   "lastKernelId": null
  },
  "kernelspec": {
   "display_name": "Python 3",
   "language": "python",
   "name": "python3"
  },
  "language_info": {
   "codemirror_mode": {
    "name": "ipython",
    "version": 3
   },
   "file_extension": ".py",
   "mimetype": "text/x-python",
   "name": "python",
   "nbconvert_exporter": "python",
   "pygments_lexer": "ipython3",
   "version": "3.9.7"
  }
 },
 "nbformat": 4,
 "nbformat_minor": 2
}
