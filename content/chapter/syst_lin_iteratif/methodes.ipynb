{
 "cells": [
  {
   "cell_type": "code",
   "execution_count": null,
   "metadata": {},
   "outputs": [],
   "source": [
    "#\n",
    "#    Notebook de cours MAP412 - Chapitre 5 - M. Massot 2020-2021 - Ecole polytechnique\n",
    "#    ----------   \n",
    "#    Méthodes de résolution de systèmes linéaires itératives \n",
    "#    Méthode stationnaires et instationnaires\n",
    "#    \n",
    "#    Auteurs : L. Séries et M. Massot - (C) 2021\n",
    "#    "
   ]
  },
  {
   "cell_type": "code",
   "execution_count": null,
   "metadata": {},
   "outputs": [],
   "source": [
    "import numpy as np\n",
    "from scipy.sparse import diags\n",
    "from scipy.sparse.linalg import inv\n",
    "import plotly.graph_objects as go"
   ]
  },
  {
   "cell_type": "markdown",
   "metadata": {},
   "source": [
    "# Méthodes stationnaires et instationnaires\n",
    "\n",
    "On souhaite résoudre le problème elliptique constitué par l'équation de Poisson soumise à des conditions aux limites de type de Dirichlet :\n",
    "\n",
    "$$\n",
    "\\left\\{\n",
    "\\begin{aligned}\n",
    "-\\Delta u(x) & =  b(x) \\quad \\text{dans} \\; \\Omega = [0,1] \\quad \\text{avec} \\; b(x)=1\\\\\n",
    "        u(0) & =  0 \\quad \\text{sur}  \\;  \\partial \\Omega\n",
    "\\end{aligned}\n",
    "\\right.\n",
    "$$"
   ]
  },
  {
   "cell_type": "markdown",
   "metadata": {},
   "source": [
    "## Méthode de Jacobi"
   ]
  },
  {
   "cell_type": "code",
   "execution_count": null,
   "metadata": {
    "tags": [
     "hide-input"
    ]
   },
   "outputs": [],
   "source": [
    "def jacobi(a, b, max_iter=100000, eps=1.e-6):\n",
    "    xk = np.zeros(b.size)\n",
    "    norm_b = np.linalg.norm(b)\n",
    "\n",
    "    lpu = diags([a.diagonal(-1), a.diagonal(1)], [-1, 1])\n",
    "    inv_d = diags([1/a.diagonal()], [0])\n",
    "\n",
    "    ite_mat = -inv_d*lpu\n",
    "    \n",
    "    hist_norm_rk = [] \n",
    "    \n",
    "    for i in range(max_iter):\n",
    "        xk = ite_mat.dot(xk) + inv_d.dot(b)\n",
    "        rk = a.dot(xk) - b\n",
    "        norm_rk = np.linalg.norm(rk) / norm_b\n",
    "        hist_norm_rk.append(norm_rk)\n",
    "        if (norm_rk < eps): break\n",
    "\n",
    "    print(f\"  Nombre d'itérations = {i+1}\")\n",
    "    print(f\"  ||A.xk - b|| / ||b|| = {norm_rk}\")\n",
    "\n",
    "    return xk, hist_norm_rk"
   ]
  },
  {
   "cell_type": "code",
   "execution_count": null,
   "metadata": {},
   "outputs": [],
   "source": [
    "# nb of points without boundaries\n",
    "nx = 100\n",
    "dx = 1/(nx+1)\n",
    "diagonals = [np.repeat(2/(dx*dx), nx), np.repeat(-1/(dx*dx), nx-1), np.repeat(-1/(dx*dx), nx-1)]\n",
    "a = diags(diagonals, [0, -1, 1])\n",
    "\n",
    "b = np.ones(nx)\n",
    "\n",
    "print(\"\\nRésolution par la méthode de Jacobi\")\n",
    "u, hist_jac = jacobi(a, b, max_iter=30000)\n",
    "\n",
    "fig = go.Figure(go.Scatter(x=np.arange(len(hist_jac))+1, y=hist_jac))\n",
    "fig.update_xaxes(title=\"nb itérations\")\n",
    "fig.update_yaxes(type=\"log\", exponentformat = 'e', title=\"||A.xk - b|| / ||b||\")\n",
    "fig.update_layout(title=\"Historique de convergence\")\n",
    "fig.show()"
   ]
  },
  {
   "cell_type": "markdown",
   "metadata": {},
   "source": [
    "## Méthode de Gauss-Seidel"
   ]
  },
  {
   "cell_type": "code",
   "execution_count": null,
   "metadata": {
    "tags": [
     "hide-input"
    ]
   },
   "outputs": [],
   "source": [
    "def gauss_seidel(a, b, max_iter=100000, eps=1.e-6):\n",
    "    xk = np.zeros(b.size)\n",
    "    norm_b = np.linalg.norm(b)\n",
    "\n",
    "    dpl = diags([a.diagonal(-1), a.diagonal(0)], [-1, 0])\n",
    "    inv_dpl = inv(dpl.tocsc())\n",
    "    u = diags([a.diagonal(1)], [1])\n",
    "    ite_mat = -inv_dpl*u\n",
    "    \n",
    "    hist_norm_rk = [] \n",
    "\n",
    "    for k in range(max_iter):\n",
    "        xk = ite_mat.dot(xk) + inv_dpl.dot(b)\n",
    "        rk = a.dot(xk) - b\n",
    "        norm_rk = np.linalg.norm(rk)/norm_b\n",
    "        hist_norm_rk.append(norm_rk)\n",
    "        if (norm_rk < eps): break\n",
    "\n",
    "    print(f\"  Nombre d'itérations = {k+1}\")\n",
    "    print(f\"  ||A.xk - b|| / ||b|| = {norm_rk}\")\n",
    "\n",
    "    return xk, hist_norm_rk"
   ]
  },
  {
   "cell_type": "code",
   "execution_count": null,
   "metadata": {
    "scrolled": false
   },
   "outputs": [],
   "source": [
    "# nb of points without boundaries\n",
    "nx = 100\n",
    "dx = 1/(nx+1)\n",
    "diagonals = [np.repeat(2/(dx*dx), nx), np.repeat(-1/(dx*dx), nx-1), np.repeat(-1/(dx*dx), nx-1)]\n",
    "a = diags(diagonals, [0, -1, 1])\n",
    "\n",
    "b = np.ones(nx)\n",
    "\n",
    "print(\"\\nRésolution par la méthode du Gauss-Seidel\")\n",
    "u, hist_gauss = gauss_seidel(a, b, max_iter=30000)\n",
    "u = np.concatenate((np.array([0]), u, np.array([0])))\n",
    "\n",
    "nit_gauss = len(hist_gauss)\n",
    "\n",
    "fig = go.Figure()\n",
    "fig.add_trace(go.Scatter(x=np.arange(nit_gauss)+1, y=hist_jac[:nit_gauss], name=\"Jacobi\"))\n",
    "fig.add_trace(go.Scatter(x=np.arange(nit_gauss)+1, y=hist_gauss, name=\"Gauss-Seidel\"))\n",
    "fig.update_xaxes(title=\"nb itérations\")\n",
    "fig.update_yaxes(type=\"log\", exponentformat = 'e', title=\"||A.xk - b|| / ||b||\")\n",
    "fig.update_layout(title=\"Historique de convergence\")\n",
    "fig.show()"
   ]
  },
  {
   "cell_type": "markdown",
   "metadata": {},
   "source": [
    "## Méthode du gradient conjugué"
   ]
  },
  {
   "cell_type": "code",
   "execution_count": null,
   "metadata": {
    "tags": [
     "hide-input"
    ]
   },
   "outputs": [],
   "source": [
    "def conjugate_gradient(a, b, eps=1.e-6):\n",
    "    xk = np.zeros(b.size)\n",
    "    norm_b = np.linalg.norm(b)\n",
    "\n",
    "    rk = b - a.dot(xk)\n",
    "    pk = rk\n",
    "    rkm1 = rk\n",
    "    \n",
    "    hist_norm_rk = []\n",
    "\n",
    "    for k in range(b.size):\n",
    "        apk = a.dot(pk)\n",
    "        alpha = np.dot(rk,rk) / np.dot(pk, apk)\n",
    "        xk = xk + alpha*pk\n",
    "        rk = rk - alpha*apk\n",
    "        norm_rk = np.linalg.norm(rk)\n",
    "        hist_norm_rk.append(norm_rk/norm_b)\n",
    "        if norm_rk/norm_b < eps: break\n",
    "        beta = np.dot(rk,rk) / np.dot(rkm1, rkm1)\n",
    "        pk = rk + beta*pk\n",
    "        rkm1 = rk\n",
    "\n",
    "    print(f\"  Nombre d'itérations = {k+1}\")\n",
    "    print(f\"  ||A.xk - b|| / ||b|| = {norm_rk/norm_b}\")\n",
    "\n",
    "    return xk, hist_norm_rk"
   ]
  },
  {
   "cell_type": "code",
   "execution_count": null,
   "metadata": {},
   "outputs": [],
   "source": [
    "# nb of points without boundaries\n",
    "nx = 100\n",
    "dx = 1/(nx+1)\n",
    "diagonals = [np.repeat(2/(dx*dx), nx), np.repeat(-1/(dx*dx), nx-1), np.repeat(-1/(dx*dx), nx-1)]\n",
    "a = diags(diagonals, [0, -1, 1])\n",
    "\n",
    "b = np.ones(nx)\n",
    "print(\"\\nRésolution par la méthode du gradient conjugué\")\n",
    "u, hist_cg = conjugate_gradient(a, b)\n",
    "\n",
    "nit_cg = len(hist_cg)\n",
    "\n",
    "fig = go.Figure()\n",
    "fig.add_trace(go.Scatter(x=np.arange(nx)+1, y=hist_jac[:nx], name=\"Jacobi\"))\n",
    "fig.add_trace(go.Scatter(x=np.arange(nx)+1, y=hist_gauss[:nx], name=\"Gauss-Seidel\"))\n",
    "fig.add_trace(go.Scatter(x=np.arange(nit_cg)+1, y=hist_cg, name=\"Gradient conjugué\"))\n",
    "fig.update_xaxes(title=\"nb itérations\")\n",
    "fig.update_yaxes(type=\"log\", exponentformat = 'e', title=\"||A.xk - b|| / ||b||\")\n",
    "fig.update_layout(title=\"Historique de convergence\")\n",
    "fig.show()"
   ]
  }
 ],
 "metadata": {
  "@webio": {
   "lastCommId": null,
   "lastKernelId": null
  },
  "celltoolbar": "Format de la Cellule Texte Brut",
  "kernelspec": {
   "display_name": "Python 3",
   "language": "python",
   "name": "python3"
  },
  "language_info": {
   "codemirror_mode": {
    "name": "ipython",
    "version": 3
   },
   "file_extension": ".py",
   "mimetype": "text/x-python",
   "name": "python",
   "nbconvert_exporter": "python",
   "pygments_lexer": "ipython3",
   "version": "3.9.7"
  }
 },
 "nbformat": 4,
 "nbformat_minor": 2
}
