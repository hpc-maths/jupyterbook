{
 "cells": [
  {
   "cell_type": "code",
   "execution_count": 1,
   "metadata": {},
   "outputs": [],
   "source": [
    "#\n",
    "#    Notebook de cours MAP412 - Chapitre 5 - M. Massot 2020-2021 - Ecole polytechnique\n",
    "#    ----------   \n",
    "#    Méthodes de résolution de systèmes linéaires itératives \n",
    "#    Poisson 1D, 2D, 3D\n",
    "#    \n",
    "#    Auteurs : L. Séries et M. Massot - (C) 2021\n",
    "#    "
   ]
  },
  {
   "cell_type": "code",
   "execution_count": 2,
   "metadata": {},
   "outputs": [],
   "source": [
    "import time\n",
    "import numpy as np\n",
    "\n",
    "from scipy.sparse import diags\n",
    "from scipy.sparse.linalg import spsolve, cg\n",
    "\n",
    "import matplotlib.pyplot as plt "
   ]
  },
  {
   "cell_type": "markdown",
   "metadata": {},
   "source": [
    "# Résolution de trois problèmes de Poisson 1D/2D/3D "
   ]
  },
  {
   "cell_type": "markdown",
   "metadata": {},
   "source": [
    "## Equation de Poisson\n",
    "\n",
    "On souhaite résoudre le problème elliptique constitué par l'équation de Poisson soumise à des conditions aux limites de type de Dirichlet :\n",
    "\n",
    "$$\n",
    "\\left\\{\n",
    "\\begin{aligned}\n",
    "-\\Delta u & =  f & \\text{dans} \\; \\Omega  \\\\\n",
    "        u & =  g & \\text{sur}  \\;  \\partial \\Omega\n",
    "\\end{aligned}\n",
    "\\right.\n",
    "$$"
   ]
  },
  {
   "cell_type": "markdown",
   "metadata": {},
   "source": [
    "## Structure des matrices 1d, 2d et 3d pour une taille de matrice fixe"
   ]
  },
  {
   "cell_type": "code",
   "execution_count": null,
   "metadata": {},
   "outputs": [],
   "source": [
    "nx = 125\n",
    "dx = 1/(nx+1)\n",
    "diag = np.repeat(2/dx**2, nx)\n",
    "diag_x = np.repeat(-1/dx**2, nx-1)\n",
    "a_1d  = diags([diag, diag_x, diag_x], [0, -1, 1])\n",
    "\n",
    "nx = 11\n",
    "ny = 11\n",
    "dx = 1/(nx+1)\n",
    "dy = 1/(ny+1)\n",
    "diag = np.repeat(2/dx**2 + 2/dy**2, nx*ny)\n",
    "diag_x = np.tile(np.repeat([-1/dx**2, 0.], (nx-1, 1)), ny)\n",
    "diag_y = np.repeat(-1/dy**2, nx*(ny-1))\n",
    "a_2d = diags([diag, diag_x, diag_x, diag_y, diag_y], [0, -1, 1, -nx, nx])\n",
    "\n",
    "nx = 5\n",
    "ny = 5\n",
    "nz = 5\n",
    "dx = 1/(nx+1)\n",
    "dy = 1/(ny+1)\n",
    "dz = 1/(nz+1)\n",
    "diag = np.repeat(2/dx**2 + 2/dx**2 + 2/dz**2, nx*ny*nz)\n",
    "diag_x = np.tile(np.repeat([-1/dx**2, 0.], (nx-1, 1)), ny*nz)\n",
    "diag_y = np.tile(np.repeat([-1/dy**2, 0.], (nx*(ny-1), nz)), nz)\n",
    "diag_z = np.repeat(-1/dz**2, nx*ny*(nz-1))\n",
    "a_3d = diags([diag, diag_x, diag_x, diag_y, diag_y, diag_z, diag_z], [0, -1, 1, -nx, nx, -nx*ny, nx*ny])\n",
    "\n",
    "plt.figure(figsize=[18,6])\n",
    "ax1 = plt.subplot(1, 3, 1)\n",
    "ax1.set_title('cas 1d')\n",
    "plt.spy(a_1d, markersize=4)\n",
    "\n",
    "ax2 = plt.subplot(1, 3, 2)\n",
    "ax2.set_title('cas 2d')\n",
    "plt.spy(a_2d, markersize=4) \n",
    "\n",
    "ax3 = plt.subplot(1, 3, 3)\n",
    "ax3.set_title('cas 3d')\n",
    "plt.spy(a_3d, markersize=4) \n",
    "\n",
    "plt.show()"
   ]
  },
  {
   "cell_type": "markdown",
   "metadata": {},
   "source": [
    "## Valeurs propres du laplacien"
   ]
  },
  {
   "cell_type": "code",
   "execution_count": null,
   "metadata": {},
   "outputs": [],
   "source": [
    "def eig_val_1d(nx, dx, i):\n",
    "    a = (4/(dx**2))\n",
    "    return a*np.sin((np.pi*i)/(2*(nx+1)))**2\n",
    "\n",
    "def eig_val_2d(nx, dx, ny, dy, i, j):\n",
    "    a = (4/(dx**2))\n",
    "    b = (4/(dy**2))\n",
    "    return a*np.sin((np.pi*i)/(2*(nx+1)))**2 + b*np.sin((np.pi*j)/(2*(ny+1)))**2\n",
    "\n",
    "def eig_val_3d(nx, dx, ny, dy, nz, dz, i, j, k):\n",
    "    a = (4/(dx**2))\n",
    "    b = (4/(dy**2))\n",
    "    c = (4/(dz**2))\n",
    "    return a*np.sin((np.pi*i)/(2*(nx+1)))**2 + b*np.sin((np.pi*j)/(2*(ny+1)))**2 + c*np.sin((np.pi*k)/(2*(nz+1)))**2"
   ]
  },
  {
   "cell_type": "code",
   "execution_count": null,
   "metadata": {
    "tags": [
     "hide-input"
    ]
   },
   "outputs": [],
   "source": [
    "def conj_grad(a, b):\n",
    "\n",
    "    nb_it = 0\n",
    "    def callback(xk):\n",
    "        nonlocal nb_it\n",
    "        nb_it += 1\n",
    "\n",
    "    t1 = time.time()\n",
    "    x, info = cg(a, b, callback=callback)\n",
    "    t2 = time.time()\n",
    "    \n",
    "    if info==0:\n",
    "        print(f\"Nb iteration : {nb_it}\")\n",
    "        print(f\"Temps d'execution (s) : {t2-t1}\")\n",
    "    else:\n",
    "        print(f\"Convergence non atteinte en {info} itérations\")\n",
    "\n",
    "    return x"
   ]
  },
  {
   "cell_type": "markdown",
   "metadata": {},
   "source": [
    "## Cas 1d\n",
    "\n",
    "$$\n",
    "\\left\\{\n",
    "\\begin{aligned}\n",
    "- & u''(x)  =  f(x) \\quad \\text{dans} \\; \\Omega = [0,1] \\quad \\text{avec} \\; f(x)=1\\\\\n",
    "  & u(0)  =  0 \\; \\text{et} \\; u(1) = 0\n",
    "\\end{aligned}\n",
    "\\right.\n",
    "$$"
   ]
  },
  {
   "cell_type": "code",
   "execution_count": null,
   "metadata": {},
   "outputs": [],
   "source": [
    "nx = 122500\n",
    "nx = 122500\n",
    "dx = 1/(nx+1)\n",
    "\n",
    "# construction de la matrice creuse\n",
    "diag = np.repeat(2/dx**2, nx)\n",
    "diag_x = np.repeat(-1/dx**2, nx-1)\n",
    "a  = diags([diag, diag_x, diag_x], [0, -1, 1])\n",
    "\n",
    "# second membre\n",
    "b = np.ones(nx)\n",
    "\n",
    "print(f\"Cas 1d : nx = {nx}\")\n",
    "print(f\"Taille de la matrice : ({nx} x {nx})\")\n",
    "print(f\"Largeur de bande : {3}\")\n",
    "print(f\"Entrées de la matrice factorisée : {nx*3}\")\n",
    "print(f\"Conditionnement : {eig_val_1d(nx, dx, nx)/eig_val_1d(nx, dx, 1)}\")\n",
    "\n",
    "print(\"\\nRésolution par la méthode du gradient conjugué\")\n",
    "ucg = conj_grad(a, b)\n",
    "print(f\"  ||A.xk - b|| / ||b|| = {np.linalg.norm(b - a.dot(ucg))/np.linalg.norm(b)}\")\n",
    "\n",
    "t1 = time.time()    \n",
    "ulu = spsolve(a.tocsr(), b)\n",
    "t2 = time.time()\n",
    "print(\"\\nRésolution par une méthode directe\")\n",
    "print(f\"Temps d'execution (s) : {t2-t1}\")\n",
    "print(f\"  ||A.xk - b|| / ||b|| = {np.linalg.norm(b - a.dot(ulu))/np.linalg.norm(b)}\")"
   ]
  },
  {
   "cell_type": "markdown",
   "metadata": {},
   "source": [
    "## Cas 2d\n",
    "\n",
    "$$\n",
    "\\left\\{\n",
    "\\begin{aligned}\n",
    "-\\Delta u(x,y) & =  f(x,y) \\quad \\text{ dans } \\; \\Omega = [0,1] \\times [0,1]  \\quad \\text{avec} \\; f(x)=1 \\\\\n",
    "        u(x,y) & =  0 \\quad \\text{ sur }  \\;  \\partial \\Omega\n",
    "\\end{aligned}\n",
    "\\right.\n",
    "$$"
   ]
  },
  {
   "cell_type": "code",
   "execution_count": null,
   "metadata": {},
   "outputs": [],
   "source": [
    "nx = 350\n",
    "ny = 350\n",
    "dx = 1/(nx+1)\n",
    "dy = 1/(ny+1)\n",
    "\n",
    "# construction de la matrice creuse\n",
    "diag = np.repeat(2/dx**2 + 2/dy**2, nx*ny)\n",
    "diag_x = np.tile(np.repeat([-1/dx**2, 0.], (nx-1, 1)), ny)\n",
    "diag_y = np.repeat(-1/dy**2, nx*(ny-1))\n",
    "a = diags([diag, diag_x, diag_x, diag_y, diag_y], [0, -1, 1, -nx, nx])\n",
    "\n",
    "# second membre\n",
    "b = np.ones(nx*ny)\n",
    "\n",
    "print(f\"Cas 2d : nx = {nx} et ny = {ny} => nx . ny = {nx*ny}\")\n",
    "print(f\"Taille de la matrice : ({nx*ny} x {nx*ny})\")\n",
    "print(f\"Largeur de bande : {2*nx}\")\n",
    "print(f\"Entrées de la matrice factorisée : {nx*ny*(2*nx) }\")\n",
    "print(f\"Conditionnement : {eig_val_2d(nx, dx, ny, dy, nx, ny)/eig_val_2d(nx, dx, ny, dy, 1, 1)}\")\n",
    "\n",
    "print(\"\\nRésolution par la méthode du gradient conjugué\")\n",
    "ucg = conj_grad(a, b)\n",
    "print(f\"  ||A.xk - b|| / ||b|| = {np.linalg.norm(b - a.dot(ucg))/np.linalg.norm(b)}\")\n",
    "\n",
    "t1 = time.time()    \n",
    "ulu = spsolve(a.tocsr(), b)\n",
    "t2 = time.time()\n",
    "print(\"\\nRésolution par une méthode directe\")\n",
    "print(f\"Temps d'execution : {t2-t1}\")\n",
    "print(f\"  ||A.xk - b|| / ||b|| = {np.linalg.norm(b - a.dot(ulu))/np.linalg.norm(b)}\")"
   ]
  },
  {
   "cell_type": "markdown",
   "metadata": {},
   "source": [
    "## Cas 3d\n",
    "\n",
    "$$\n",
    "\\left\\{\n",
    "\\begin{aligned}\n",
    "-\\Delta u(x,y,z) & =  f(x,y,z) \\quad \\text{dans} \\; \\Omega = [0,1] \\times [0,1] \\times [0,1] \\quad \\text{avec} \\; f(x)=1\\\\\n",
    "        u(x,y,z) & =  0 \\quad \\text{sur}  \\;  \\partial \\Omega\n",
    "\\end{aligned}\n",
    "\\right.\n",
    "$$"
   ]
  },
  {
   "cell_type": "code",
   "execution_count": null,
   "metadata": {
    "scrolled": false
   },
   "outputs": [],
   "source": [
    "nx = 50\n",
    "ny = 50\n",
    "nz = 49\n",
    "dx = 1/(nx+1)\n",
    "dy = 1/(ny+1)\n",
    "dz = 1/(nz+1)\n",
    "\n",
    "# construction de la matrice creuse\n",
    "diag = np.repeat(2/dx**2 + 2/dx**2 + 2/dz**2, nx*ny*nz)\n",
    "diag_x = np.tile(np.repeat([-1/dx**2, 0.], (nx-1, 1)), ny*nz)\n",
    "diag_y = np.tile(np.repeat([-1/dy**2, 0.], (nx*(ny-1), nz)), nz)\n",
    "diag_z = np.repeat(-1/dz**2, nx*ny*(nz-1))\n",
    "a = diags([diag, diag_x, diag_x, diag_y, diag_y, diag_z, diag_z], [0, -1, 1, -nx, nx, -nx*ny, nx*ny])\n",
    "\n",
    "# second membre\n",
    "b = np.ones(nx*ny*nz)\n",
    "\n",
    "print(f\"Cas 3d : nx = {nx}, ny = {ny} et nz = {nz} => nx . ny . nz = {nx*ny*nz}\")\n",
    "print(f\"Taille de la matrice : ({nx*ny*nz} x {nx*ny*nz})\")\n",
    "print(f\"Largeur de bande : {2*nx*ny}\")\n",
    "print(f\"Entrées de la matrice factorisée : {nx*ny*nz*(2*nx*ny)}\")\n",
    "print(f\"Conditionnement : {eig_val_3d(nx, dx, ny, dy, nz, dz, nx, ny, nz)/eig_val_3d(nx, dx, ny, dy, nz, dz, 1, 1, 1)}\")\n",
    "\n",
    "print(\"\\nRésolution par la méthode du gradient conjugué\")\n",
    "ucg = conj_grad(a, b)\n",
    "print(f\"  ||A.xk - b|| / ||b|| = {np.linalg.norm(b - a.dot(ucg))/np.linalg.norm(b)}\")\n",
    "\n",
    "print(\"\\nRésolution par une méthode directe\")\n",
    "t1 = time.time()    \n",
    "ulu = spsolve(a.tocsr(), b)\n",
    "t2 = time.time() \n",
    "print(f\"Temps d'execution : {t2-t1}\")\n",
    "print(f\"  ||A.xk - b|| / ||b|| = {np.linalg.norm(b - a.dot(ulu))/np.linalg.norm(b)}\")"
   ]
  }
 ],
 "metadata": {
  "@webio": {
   "lastCommId": null,
   "lastKernelId": null
  },
  "celltoolbar": "Format de la Cellule Texte Brut",
  "kernelspec": {
   "display_name": "Python 3",
   "language": "python",
   "name": "python3"
  },
  "language_info": {
   "codemirror_mode": {
    "name": "ipython",
    "version": 3
   },
   "file_extension": ".py",
   "mimetype": "text/x-python",
   "name": "python",
   "nbconvert_exporter": "python",
   "pygments_lexer": "ipython3",
   "version": "3.9.7"
  },
  "latex_envs": {
   "LaTeX_envs_menu_present": true,
   "autoclose": false,
   "autocomplete": false,
   "bibliofile": "biblio.bib",
   "cite_by": "apalike",
   "current_citInitial": 1,
   "eqLabelWithNumbers": true,
   "eqNumInitial": 1,
   "hotkeys": {
    "equation": "Ctrl-E",
    "itemize": "Ctrl-I"
   },
   "labels_anchors": false,
   "latex_user_defs": false,
   "report_style_numbering": false,
   "user_envs_cfg": false
  }
 },
 "nbformat": 4,
 "nbformat_minor": 2
}
