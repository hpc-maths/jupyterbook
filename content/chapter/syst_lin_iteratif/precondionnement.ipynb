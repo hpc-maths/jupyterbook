{
 "cells": [
  {
   "cell_type": "code",
   "execution_count": null,
   "metadata": {},
   "outputs": [],
   "source": [
    "#\n",
    "#    Notebook de cours MAP412 - Chapitre 5 - M. Massot 2020-2021 - Ecole polytechnique\n",
    "#    ----------   \n",
    "#    Méthodes de résolution de systèmes linéaires itératives \n",
    "#    Préconditionnement\n",
    "#    \n",
    "#    Auteurs : L. Séries et M. Massot - (C) 2021\n",
    "#    "
   ]
  },
  {
   "cell_type": "code",
   "execution_count": null,
   "metadata": {},
   "outputs": [],
   "source": [
    "import time\n",
    "import numpy as np\n",
    "from scipy.sparse import diags"
   ]
  },
  {
   "cell_type": "markdown",
   "metadata": {},
   "source": [
    "# Préconditionnement"
   ]
  },
  {
   "cell_type": "markdown",
   "metadata": {},
   "source": [
    "## Equation de Poisson\n",
    "\n",
    "On souhaite résoudre le problème elliptique constitué par l'équation de Poisson soumise à des conditions aux limites de type de Dirichlet :\n",
    "\n",
    "$$\n",
    "\\left\\{\n",
    "\\begin{aligned}\n",
    "-\\Delta u(x) & =  b(x) \\quad \\text{ dans } \\; \\Omega = [0,1] \\quad \\text{avec} \\; b(x)=1\\\\\n",
    "        u(0) & =  0 \\quad \\text{ sur }  \\;  \\partial \\Omega\n",
    "\\end{aligned}\n",
    "\\right.\n",
    "$$"
   ]
  },
  {
   "cell_type": "markdown",
   "metadata": {},
   "source": [
    "## Méthode de Tchebyschef\n",
    "\n",
    "La méthode itérative de Tchebyschef permet aussi de converger vers une solution du problème."
   ]
  },
  {
   "cell_type": "code",
   "execution_count": null,
   "metadata": {
    "tags": [
     "hide-input"
    ]
   },
   "outputs": [],
   "source": [
    "def chebychev(a, b, lambda1, lambda2, max_iter, eps=1.e-6, output=False):\n",
    "\n",
    "    theta = (lambda2 + lambda1) / 2.\n",
    "    delta = (lambda2 - lambda1) / 2.\n",
    "\n",
    "    xk = np.zeros(b.size)\n",
    "    norm_b = np.linalg.norm(b)\n",
    "\n",
    "    rk = b - a.dot(xk)\n",
    "    sigma = theta/delta\n",
    "    rhok = 1./sigma\n",
    "    dk = (1./theta)*rk\n",
    "\n",
    "    for k in range(max_iter):\n",
    "        xk = xk + dk\n",
    "        rk = rk - a.dot(dk)\n",
    "        norm_rk = np.linalg.norm(rk)\n",
    "        if norm_rk/norm_b < eps: break\n",
    "        rhokm1 = rhok\n",
    "        rhok = 1./(2.*sigma-rhok)\n",
    "        dk = rhok*rhokm1*dk + ((2*rhok)/delta)*rk\n",
    "\n",
    "    if output:\n",
    "        print(f\"  Nombre d'itérations = {k+1}\")\n",
    "        print(f\"  ||A.xk - b|| / ||b|| = {norm_rk/norm_b}\")\n",
    "\n",
    "    return xk"
   ]
  },
  {
   "cell_type": "markdown",
   "metadata": {},
   "source": [
    "### Cas 1d"
   ]
  },
  {
   "cell_type": "code",
   "execution_count": null,
   "metadata": {},
   "outputs": [],
   "source": [
    "nx = 100\n",
    "dx = 1/(nx+1)\n",
    "diagonals = [np.repeat(2/(dx*dx), nx), np.repeat(-1/(dx*dx), nx-1), np.repeat(-1/(dx*dx), nx-1)]\n",
    "a = diags(diagonals, [0, -1, 1])\n",
    "\n",
    "b = np.ones(nx)\n",
    "\n",
    "print(\"\\nRésolution par la méthode du Tchebyschev\")\n",
    "cst = (4/(dx**2))\n",
    "# L'intervalle de valeurs propres est pris dans son intégralité\n",
    "# cf. polycopié\n",
    "\n",
    "lambda1 = cst*np.sin((np.pi)/(2*(nx+1)))**2\n",
    "lambda2 = cst*np.sin((np.pi*nx)/(2*(nx+1)))**2\n",
    "u = chebychev(a, b, lambda1, lambda2, max_iter=10000, output=True)"
   ]
  },
  {
   "cell_type": "markdown",
   "metadata": {},
   "source": [
    "## Méthode du gradient conjugué préconditionné"
   ]
  },
  {
   "cell_type": "code",
   "execution_count": null,
   "metadata": {
    "tags": [
     "hide-input"
    ]
   },
   "outputs": [],
   "source": [
    "def conjugate_gradient(a, b, eps=1.e-6):\n",
    "    xk = np.zeros(b.size)\n",
    "    norm_b = np.linalg.norm(b)\n",
    "\n",
    "    rk = b - a.dot(xk)\n",
    "    pk = rk\n",
    "    rkm1 = rk\n",
    "\n",
    "    for k in range(b.size):\n",
    "        apk = a.dot(pk)\n",
    "        alpha = np.dot(rk,rk) / np.dot(pk, apk)\n",
    "        xk = xk + alpha*pk\n",
    "        rk = rk - alpha*apk\n",
    "        norm_rk = np.linalg.norm(rk)\n",
    "        #print(k, np.linalg.norm(rk))\n",
    "        if norm_rk/norm_b < eps: break\n",
    "        beta = np.dot(rk,rk) / np.dot(rkm1, rkm1)\n",
    "        pk = rk + beta*pk\n",
    "        rkm1 = rk\n",
    "\n",
    "    print(f\"  Nombre d'itérations = {k+1}\")\n",
    "    print(f\"  ||A.xk - b|| / ||b|| = {norm_rk/norm_b}\")\n",
    "\n",
    "    return xk\n",
    "\n",
    "def prec_cheb_conjugate_gradient(a, b, lambda1, lambda2, eps=1.e-6, iter_prec=10):\n",
    "\n",
    "    xk = np.zeros(b.size)\n",
    "    norm_b = np.linalg.norm(b)\n",
    "    rk = b - a.dot(xk)\n",
    "    rkm1 = rk\n",
    "    zk = chebychev(a, rk, lambda1, lambda2, max_iter=iter_prec)\n",
    "    zkm1 = zk\n",
    "    pk = zk\n",
    "\n",
    "    for k in range(b.size):\n",
    "        apk = a.dot(pk)\n",
    "        alpha = np.dot(rk,zk) / np.dot(pk, apk)\n",
    "        xk = xk + alpha*pk\n",
    "        rk = rk - alpha*apk\n",
    "        norm_rk = np.linalg.norm(rk)\n",
    "        #print('prec', k, np.linalg.norm(rk))\n",
    "        if norm_rk/norm_b < eps: break\n",
    "        zk = chebychev(a, rk, lambda1, lambda2, max_iter=iter_prec)\n",
    "        beta = np.dot(rk,zk) / np.dot(rkm1, zkm1)\n",
    "        pk = zk + beta*pk\n",
    "        rkm1 = rk\n",
    "        zkm1 = zk\n",
    "\n",
    "    print(f\"  Nombre d'itérations = {k+1}\")\n",
    "    print(f\"  ||A.xk - b|| / ||b|| = {norm_rk/norm_b}\")\n",
    "\n",
    "    return xk"
   ]
  },
  {
   "cell_type": "markdown",
   "metadata": {},
   "source": [
    "### Cas 1d"
   ]
  },
  {
   "cell_type": "code",
   "execution_count": null,
   "metadata": {
    "scrolled": false
   },
   "outputs": [],
   "source": [
    "nx = 10000\n",
    "dx = 1/(nx+1)\n",
    "diagonals = [np.repeat(2/(dx*dx), nx), np.repeat(-1/(dx*dx), nx-1), np.repeat(-1/(dx*dx), nx-1)]\n",
    "a = diags(diagonals, [0, -1, 1])\n",
    "\n",
    "b = np.ones(nx)\n",
    "\n",
    "print(\"\\nRésolution par la méthode du gradient conjugué\")\n",
    "u = conjugate_gradient(a, b)\n",
    "\n",
    "print(\"\\nRésolution par la méthode du gradient conjugué preconditionné avec Tchebychev\")\n",
    "cst = (4/(dx**2))\n",
    "# estimation heuristique d'un \"bon\" intervalle de valeurs propres à considérer  - Cf. Polycopié\n",
    "# Estimation uniquement valable pour le préconditionnement ! \n",
    "i = 70\n",
    "alpha = cst*np.sin((np.pi*i)/(2*(nx+1)))**2\n",
    "beta = cst*np.sin((np.pi*(nx-(i-1)))/(2*(nx+1)))**2\n",
    "u = prec_cheb_conjugate_gradient(a, b, alpha, beta, iter_prec=10)"
   ]
  },
  {
   "cell_type": "markdown",
   "metadata": {},
   "source": [
    "### Cas 2d"
   ]
  },
  {
   "cell_type": "code",
   "execution_count": null,
   "metadata": {},
   "outputs": [],
   "source": [
    "nx = 600\n",
    "ny = nx\n",
    "dx = 1/(nx+1)\n",
    "dy = 1/(ny+1)\n",
    "\n",
    "# construction de la matrice creuse\n",
    "diag = np.repeat(2/dx**2 + 2/dy**2, nx*ny)\n",
    "diag_x = np.tile(np.repeat([-1/dx**2, 0.], (nx-1, 1)), ny)\n",
    "diag_y = np.repeat(-1/dy**2, nx*(ny-1))\n",
    "a = diags([diag, diag_x, diag_x, diag_y, diag_y], [0, -1, 1, -nx, nx])\n",
    "\n",
    "# second membre\n",
    "b = np.ones(nx*ny)\n",
    "\n",
    "print(f\"Cas 2d : nx = {nx} et ny = {ny} => nx . ny = {nx*ny}\")\n",
    "\n",
    "print(\"\\nRésolution par la méthode du gradient conjugué\")\n",
    "ucg = conjugate_gradient(a, b)\n",
    "\n",
    "print(\"\\nRésolution par la méthode du gradient conjugué preconditionné avec Tchebychev\")\n",
    "cst = (8/(dx**2))\n",
    "# estimation heuristique d'un \"bon\" intervalle de valeurs propres à considérer  - Cf. Polycopié\n",
    "# Estimation uniquement valable pour le préconditionnement ! \n",
    "i = 5\n",
    "alpha = cst*np.sin((np.pi*i)/(2*(nx+1)))**2\n",
    "beta = cst*np.sin((np.pi*(nx-(i-1)))/(2*(nx+1)))**2\n",
    "u = prec_cheb_conjugate_gradient(a, b, alpha, beta, iter_prec=10)"
   ]
  },
  {
   "cell_type": "markdown",
   "metadata": {},
   "source": [
    "### Cas 3d"
   ]
  },
  {
   "cell_type": "code",
   "execution_count": null,
   "metadata": {},
   "outputs": [],
   "source": [
    "nx = 100\n",
    "ny = nx\n",
    "nz = nx\n",
    "dx = 1/(nx+1)\n",
    "dy = 1/(ny+1)\n",
    "dz = 1/(nz+1)\n",
    "\n",
    "# construction de la matrice creuse\n",
    "diag = np.repeat(2/dx**2 + 2/dx**2 + 2/dz**2, nx*ny*nz)\n",
    "diag_x = np.tile(np.repeat([-1/dx**2, 0.], (nx-1, 1)), ny*nz)\n",
    "diag_y = np.tile(np.repeat([-1/dy**2, 0.], (nx*(ny-1), nz)), nz)\n",
    "diag_z = np.repeat(-1/dz**2, nx*ny*(nz-1))\n",
    "a = diags([diag, diag_x, diag_x, diag_y, diag_y, diag_z, diag_z], [0, -1, 1, -nx, nx, -nx*ny, nx*ny])\n",
    "\n",
    "# second membre\n",
    "b = np.ones(nx*ny*nz)\n",
    "\n",
    "print(f\"Cas 3d : nx = {nx}, ny = {ny} et nz = {nz} => nx . ny . nz = {nx*ny*nz}\")\n",
    "print(\"\\nRésolution par la méthode du gradient conjugué\")\n",
    "ucg = conjugate_gradient(a, b)\n",
    "\n",
    "print(\"\\nRésolution par la méthode du gradient conjugué preconditionné avec Tchebychev\")\n",
    "cst = (12/(dx**2))\n",
    "# estimation heuristique d'un \"bon\" intervalle de valeurs propres à considérer  - Cf. Polycopié\n",
    "# Estimation uniquement valable pour le préconditionnement ! \n",
    "i = 4\n",
    "alpha = cst*np.sin((np.pi*i)/(2*(nx+1)))**2\n",
    "beta = cst*np.sin((np.pi*(nx-(i-1)))/(2*(nx+1)))**2\n",
    "u = prec_cheb_conjugate_gradient(a, b, alpha, beta, iter_prec=10)"
   ]
  }
 ],
 "metadata": {
  "@webio": {
   "lastCommId": null,
   "lastKernelId": null
  },
  "celltoolbar": "Format de la Cellule Texte Brut",
  "kernelspec": {
   "display_name": "Python 3",
   "language": "python",
   "name": "python3"
  },
  "language_info": {
   "codemirror_mode": {
    "name": "ipython",
    "version": 3
   },
   "file_extension": ".py",
   "mimetype": "text/x-python",
   "name": "python",
   "nbconvert_exporter": "python",
   "pygments_lexer": "ipython3",
   "version": "3.9.7"
  },
  "latex_envs": {
   "LaTeX_envs_menu_present": true,
   "autoclose": false,
   "autocomplete": false,
   "bibliofile": "biblio.bib",
   "cite_by": "apalike",
   "current_citInitial": 1,
   "eqLabelWithNumbers": true,
   "eqNumInitial": 1,
   "hotkeys": {
    "equation": "Ctrl-E",
    "itemize": "Ctrl-I"
   },
   "labels_anchors": false,
   "latex_user_defs": false,
   "report_style_numbering": false,
   "user_envs_cfg": false
  }
 },
 "nbformat": 4,
 "nbformat_minor": 2
}
