{
 "cells": [
  {
   "cell_type": "markdown",
   "metadata": {},
   "source": [
    "# PC6 : Résolution numérique de problèmes non-linéaires"
   ]
  },
  {
   "cell_type": "markdown",
   "metadata": {},
   "source": [
    "**<big> Préparation avant la PC :</big>** \n",
    "**L'exercice 2 est à préparer** avant la séance de PC du 06/10.\n",
    "\n",
    "**<big><font color=black><span style=\"background-color:skyblue\">À rendre</span></font> après la PC :</big>**\n",
    "**Les exercices 1, 2 (question 1) et 3  contiennent des parties <font color=black><span style=\"background-color:skyblue\">à rendre</span></font> avant le 10/10 à 20h00. La question 3 de l'exercice 2 et les questions 2 et 3 de l'exercice 3 sont en <font color=black><span style=\"background-color:deepskyblue\">bonus</span></font>.**"
   ]
  },
  {
   "cell_type": "code",
   "execution_count": null,
   "metadata": {},
   "outputs": [],
   "source": [
    "# Ce package permet de travailler efficacement avec des tableaux\n",
    "import numpy as np\n",
    "# Ce package propose des fonctions classiques d'algebre lineaire\n",
    "import numpy.linalg as lin\n",
    "# On pourra se servir des fonctions lu_factor et lu_solve pour construire la méthode de Newton pour les systèmes \n",
    "from scipy.linalg import lu_factor, lu_solve\n",
    "\n",
    "# Ce package permet de faire des sorties graphiques\n",
    "from matplotlib import pyplot as plt\n",
    "\n",
    "# Ce package permet de travailler avec une arithmetique d'intervalle\n",
    "# utilise a l'exercice 4\n",
    "from mpmath import iv, mpf"
   ]
  },
  {
   "cell_type": "markdown",
   "metadata": {},
   "source": [
    "## Exercice 1 : Méthode de Newton"
   ]
  },
  {
   "cell_type": "markdown",
   "metadata": {},
   "source": [
    "### Question 1 : Quelques exemples\n",
    "\n",
    "Dans cet exercice, on considère les fonctions suivantes \n",
    "\n",
    "$$f_1(x) = e^x - 2, \\qquad{} f_2(x) = \\displaystyle \\frac{x}{\\sqrt{1+x^2}}, \\qquad{} f_3(x) = x^3.  \\qquad{} (1)$$"
   ]
  },
  {
   "cell_type": "markdown",
   "metadata": {},
   "source": [
    "$1$. Pour chacune de ces fonctions, écrire explicitement la suite récurrente donnée par l'algorithme de Newton. "
   ]
  },
  {
   "cell_type": "markdown",
   "metadata": {},
   "source": [
    "$2$. En général, sous quelle condition formelle sur $x_0\\in\\mathbb{R}$ l'algorithme de Newton converge t-il? Déterminer, pour chacune des fonctions, pour quelles valeurs de $x_0$ l'algorithme va converger ou diverger."
   ]
  },
  {
   "cell_type": "markdown",
   "metadata": {},
   "source": [
    "### Question 2 : Ordre de convergence\n",
    "\n",
    "> On note $x^*$ le zéro qu'on cherche à approcher, et $\\epsilon_n = |x_n-x^*|$ l'erreur à l'itération $n$. Si $(x_n)$ converge vers $x^*$, on rappelle que l'ordre de convergence de la suite $(x_n)$ est la plus grande constante $\\tau\\geq 1$ telle qu'il existe une constant $C>0$ ($C<1$ si $\\tau=1$) satisfaisant \n",
    ">\n",
    ">$$\\epsilon_{n+1} \\le C \\epsilon_n^\\tau \\qquad{}\\forall~n\\geq 0.$$\n",
    ">\n",
    "> On parle de convergence linéaire si $\\tau=1$, de convergence quadratique si $\\tau=2$, etc."
   ]
  },
  {
   "cell_type": "markdown",
   "metadata": {},
   "source": [
    "$1$. Déterminer l'ordre de convergence de la méthode de Newton pour les fonctions $f_2$ et $f_3$ définies en (1)."
   ]
  },
  {
   "cell_type": "markdown",
   "metadata": {},
   "source": [
    "$2$. Comme on ne peut effectuer qu'un nombre fini d'opérations, on introduit généralement un, ou plusieurs, critère d'arrêt dans l'algorithme de Newton. L'algorithme s'arrête à l'itération $n$ si ce, ou l'un de ces, critère est vérifié. On propose les trois critères d'arrêt suivants \n",
    "\n",
    "$$n>N, \\qquad{} \\epsilon_n < TOL, \\qquad{} |x_{n+1}-x_n| < TOL,$$\n",
    "\n",
    "où $N$ est un entier qui fixe le nombre maximal d'itérations (e.g $N=100$), et $TOL$ est un réel qui fixe la tolérance visée (e.g $TOL=10^{-7}$). Expliquer l'utilité de ces trois critères d'arrêt. "
   ]
  },
  {
   "cell_type": "markdown",
   "metadata": {},
   "source": [
    "$3$. En pratique, il est souvent impossible d'évaluer $\\epsilon_n$ puisqu'on ne connait pas le zéro $x^*$ a priori. On peut alors considérer *l'erreur résiduelle* $\\delta_n=\\vert f(x_n)\\vert$. Montrer que, si $f'(x^*)\\neq 0$, on obtient le même ordre de convergence pour l'erreur résiduelle que pour $\\epsilon_n$."
   ]
  },
  {
   "cell_type": "markdown",
   "metadata": {},
   "source": [
    "$4$. **<font color=black><span style=\"background-color:skyblue\">À rendre</span></font> :**\n",
    "\n",
    "$a$. Implémenter la méthode de Newton et tester la avec les trois fonctions introduites en (1) avec une initialisation $x_0 = 0.5$ une tolérance $TOL = 10^{-12}$ sur l'erreur résiduelle $|f(x)|$ et un nombre maximum d'itération $N_{\\max} = 50$.\n",
    "\n",
    "$b$. Calculer dans chaque cas l'erreur $\\epsilon_n$ et afficher $\\epsilon_{n+1}$ en fonction de $\\epsilon_{n}$ en échelle log-log. Comparer avec des fonctions linéaire, quadratique et cubiques. Vérifier les ordres de convergence calculés à la question précédente. Observer également l'erreur résiduelle, commenter."
   ]
  },
  {
   "cell_type": "code",
   "execution_count": null,
   "metadata": {},
   "outputs": [],
   "source": [
    "def Newton_scalaire(f, df, x0, tol=1.e-12, N_max=50):\n",
    "    \"\"\"\n",
    "    Calcule les itérés successifs x_n obtenus par la méthode de Newton\n",
    "    ----------   \n",
    "    parametres:\n",
    "    f      : fonction dont on cherche le zero\n",
    "    df     : fonction dérivée de f\n",
    "    x_0    : valeur initiale de la suite\n",
    "    tol    : on utilise | f(x_n) | < tol comme critère d'arrêt \n",
    "    N_max : nombre maximal d'itérations\n",
    "    \n",
    "    valeurs de retour:\n",
    "    tab_x  : tableau contenant les valeurs x_n à chaque itération\n",
    "    \"\"\"  \n",
    "    return "
   ]
  },
  {
   "cell_type": "code",
   "execution_count": 2,
   "metadata": {},
   "outputs": [],
   "source": [
    "# Cas test unitaire : pour vérifier votre implémentation\n",
    "# vérifier que les premières itérations de votre algorithme correspondent à celles calculées en Q1. 1.\n"
   ]
  },
  {
   "cell_type": "code",
   "execution_count": null,
   "metadata": {},
   "outputs": [],
   "source": [
    "def f1(x):\n",
    "    # définition de f1\n",
    "    return np.exp(x) - 2\n",
    "\n",
    "def df1(x):\n",
    "    # définition de la dérivée de f1\n",
    "    return "
   ]
  },
  {
   "cell_type": "code",
   "execution_count": null,
   "metadata": {},
   "outputs": [],
   "source": [
    "# Test sur f1\n"
   ]
  },
  {
   "cell_type": "code",
   "execution_count": null,
   "metadata": {},
   "outputs": [],
   "source": [
    "# Tracer la courbe de convergence en échelle log-log\n",
    "# Comparer avec des fonctions linéaires, quadratiques et cubiques \n"
   ]
  },
  {
   "cell_type": "code",
   "execution_count": null,
   "metadata": {},
   "outputs": [],
   "source": [
    "def f2(x):\n",
    "    # définition de f2\n",
    "    return x/np.sqrt(1+x**2)\n",
    "\n",
    "def df2(x):\n",
    "    # définition de la dérivée de f2\n",
    "    return "
   ]
  },
  {
   "cell_type": "code",
   "execution_count": null,
   "metadata": {},
   "outputs": [],
   "source": [
    "# Test sur f2\n"
   ]
  },
  {
   "cell_type": "code",
   "execution_count": null,
   "metadata": {},
   "outputs": [],
   "source": [
    "# Tracer la courbe de convergence\n",
    "# Comparer avec des fonctions linéaires, quadratiques et cubiques \n"
   ]
  },
  {
   "cell_type": "code",
   "execution_count": null,
   "metadata": {},
   "outputs": [],
   "source": [
    "def f3(x):\n",
    "    # définition de f3\n",
    "    return x**3\n",
    "\n",
    "def df3(x):\n",
    "    # définition de la dérivée de f3\n",
    "    return "
   ]
  },
  {
   "cell_type": "code",
   "execution_count": null,
   "metadata": {},
   "outputs": [],
   "source": [
    "# Test sur f3\n"
   ]
  },
  {
   "cell_type": "code",
   "execution_count": null,
   "metadata": {},
   "outputs": [],
   "source": [
    "# Tracer la courbe de convergence\n",
    "# Comparer avec des fonctions linéaires, quadratiques et cubiques \n"
   ]
  },
  {
   "cell_type": "markdown",
   "metadata": {},
   "source": [
    "**Réponse :** "
   ]
  },
  {
   "cell_type": "markdown",
   "metadata": {},
   "source": [
    "### Question 3 : Cas dégénérés\n",
    "\n",
    ">Dans cette question, on considère une fonction $f:\\mathbb{R}\\to\\mathbb{R}$ de classe $C^\\infty$. On dit qu'un zéro $x^*$ de $f$ est de multiplicité $m$ si \n",
    ">\n",
    "> $$f^{(i)}(x^*) = 0 \\quad{} \\forall~i\\in\\{0,\\dots,m-1\\} \\qquad{} \\text{et}\\qquad{} f^{(m)}(x^*)\\neq 0.$$\n",
    ">\n",
    ">Il est dégénéré s'il est de multiplicité $m>1$."
   ]
  },
  {
   "cell_type": "markdown",
   "metadata": {},
   "source": [
    "$1$. Montrer que si l'algorithme de Newton converge vers un zéro $x^*$ dégénéré alors la convergence est seulement linéaire.\n",
    "  De même, montrer que si le zéro n'est pas dégénéré, la convergence est au moins quadratique. Expliquer les différences observées à la question 2."
   ]
  },
  {
   "cell_type": "markdown",
   "metadata": {},
   "source": [
    "$2$. Soit $x^*$ un zéro de multiplicité $m>1$. Montrer qu'en modifiant l'algorithme de Newton sous la forme\n",
    "    \n",
    "$$x_{n+1} = x_n-m\\frac{f(x_n)}{f'(x_n)},$$\n",
    "\n",
    "alors il converge à nouveau quadratiquement. "
   ]
  },
  {
   "cell_type": "markdown",
   "metadata": {},
   "source": [
    "$3$. **<font color=black><span style=\"background-color:skyblue\">À rendre</span></font> :** Implémenter l'algorithme de Newton modifié introduit ci-dessus, et étudier numériquement l'ordre de convergence obtenu lorsqu'on l'applique à la fonction $x\\mapsto x^2(x^2+2)$."
   ]
  },
  {
   "cell_type": "code",
   "execution_count": null,
   "metadata": {},
   "outputs": [],
   "source": [
    "def Newton_scalaire_modif(f, df, m, x0, tol=1.e-12, N_max=50):\n",
    "    \"\"\"\n",
    "    Calcule les itérés successifs x_n obtenus par la méthode de Newton modifiée\n",
    "    ----------   \n",
    "    parametres:\n",
    "    f     : fonction dont on cherche le zero\n",
    "    df    : fonction dérivée de f\n",
    "    m     : entier qui correspond à l'ordre du zéro\n",
    "    x_0   : valeur initiale de la suite\n",
    "    tol   : on utilise | f(x_n) | < tol comme critère d'arrêt \n",
    "    N_max : nombre maximal d'itérations\n",
    "    \n",
    "    valeurs de retour:\n",
    "    tab_x  : tableau contenant les valeurs x_n à chaque itération\n",
    "    \"\"\" \n",
    "    return"
   ]
  },
  {
   "cell_type": "code",
   "execution_count": null,
   "metadata": {},
   "outputs": [],
   "source": [
    "def f4(x):\n",
    "    #définition de la fonction f4\n",
    "    return x*x*(x*x+2)\n",
    "\n",
    "def df4(x):\n",
    "    #définition de la fonction défivée de f4\n",
    "    return "
   ]
  },
  {
   "cell_type": "code",
   "execution_count": null,
   "metadata": {},
   "outputs": [],
   "source": [
    "# Test sur f4\n"
   ]
  },
  {
   "cell_type": "code",
   "execution_count": null,
   "metadata": {},
   "outputs": [],
   "source": [
    "# Tracer la courbe de convergence\n",
    "# Comparer avec des fonctions linéaires, quadratiques et cubiques \n"
   ]
  },
  {
   "cell_type": "markdown",
   "metadata": {},
   "source": [
    "## Exercice 2 : Bissection, trissection et algorithme hybride \n",
    "\n",
    "> Dans tout cet exercice, on considère une fonction continue $f:[a,b] \\to \\Bbb{R}$ avec $f(a)f(b) \\leq 0$. "
   ]
  },
  {
   "cell_type": "markdown",
   "metadata": {},
   "source": [
    "### Question 1 \n",
    "\n",
    "**<font color=black><span style=\"background-color:skyblue\">À rendre</span></font> :** Implémenter la méthode de la bissection. *Penser à vérifier dès le début de l'algorithme qu'on a bien $f(a)$ et $f(b)$ de signe différent.* Tester votre algorithme sur la fonction $f(x) = \\ln(x)+2$, avec $a=0.1$ et $b=1$. Etudier numériquement l'ordre de convergence."
   ]
  },
  {
   "cell_type": "code",
   "execution_count": null,
   "metadata": {},
   "outputs": [],
   "source": [
    "def bissection(f, a, b, tol=1.e-12, N_max=500):\n",
    "    \"\"\"\n",
    "    Calcule les itérés successifs x_n obtenus par la méthode de la bissection sur [a,b]\n",
    "    ----------   \n",
    "    parametres:\n",
    "    f     : fonction dont on cherche le zero\n",
    "    a,b   : bornes de l'intervalle dans lequel on cherche un zéro\n",
    "    tol   : on utilise | a - b | < tol comme critère d'arrêt \n",
    "    N_max : nombre maximal d'itérations\n",
    "    \n",
    "    valeurs de retour:\n",
    "    tab_x : tableau contenant les valeurs x_n à chaque itération\n",
    "    \"\"\"  \n",
    "    return"
   ]
  },
  {
   "cell_type": "code",
   "execution_count": null,
   "metadata": {},
   "outputs": [],
   "source": [
    "# Cas test unitaire : pour vérifier votre implémentation\n",
    "# vérifier que les premières itérations correspondent à des intervalles sur lesquels la fonction change de signe\n"
   ]
  },
  {
   "cell_type": "code",
   "execution_count": null,
   "metadata": {},
   "outputs": [],
   "source": [
    "def f(x):\n",
    "    # définition de la fonction f\n",
    "    return np.log(x) + 2"
   ]
  },
  {
   "cell_type": "code",
   "execution_count": null,
   "metadata": {},
   "outputs": [],
   "source": [
    "# Test sur f\n"
   ]
  },
  {
   "cell_type": "code",
   "execution_count": null,
   "metadata": {},
   "outputs": [],
   "source": [
    "# Tracer la courbe de convergence\n",
    "# Comparer avec des fonctions linéaires, quadratiques et cubiques \n"
   ]
  },
  {
   "cell_type": "markdown",
   "metadata": {},
   "source": [
    "### Question 2 \n",
    "\n",
    ">On considère $k\\geq 2$ fixé et on suppose maintenant qu'à chaque itération, on découpe l'intervalle en $k\\geq 2$ sous-intervalles de même longueurs, et qu'on garde un intervalle sur lequel $f$ change de signe pour l'itération suivante ($k=2$ correspond à la bissection, $k=3$ à la trissection, etc). \n",
    "\n",
    "$1$. Montrer que l'erreur (c'est à dire la longueur de l'intervalle dans lequel on est sûr qu'il existe un zéro), en fonction de $b-a$, de $k$, et du nombre $n$ d'évaluations de $f$ qu'on a effectué, peut s'écrire\n",
    "\n",
    "$$err_{k,n} = \\frac{b-a}{k^{\\left\\lfloor \\frac{n}{k-1}\\right\\rfloor}},$$\n",
    "\n",
    "où $\\left\\lfloor \\cdot\\right\\rfloor$ est la partie entière. *On supposera que $f(a)$ et $f(b)$ ont été évalués, et on ne les comptera donc pas dans le nombre d'évaluations de $f$*.\n",
    "\n",
    "$2$. Trouver l'entier $k\\geq 2$ qui donne asymptotiquement (pour un grand nombre d'évaluations $n$ de $f$) la plus petite erreur."
   ]
  },
  {
   "cell_type": "markdown",
   "metadata": {},
   "source": [
    "### Question 3 \n",
    "\n",
    ">On considère maintenant une fonction $f:[a,b] \\to \\Bbb{R}$ de classe $\\mathcal{C}^2$, toujours avec $f(a)f(b) \\leq 0$. On va chercher à combiner les avantages des méthodes étudiées jusqu'ici pour obtenir un algorithme hybride Bissection-Newton, qui converge à chaque fois comme la bissection, mais avec une vitesse de convergence qui soit asymptotiquement quadratique si le zéro est non-dégénéré, comme pour la méthode de Newton. "
   ]
  },
  {
   "cell_type": "markdown",
   "metadata": {},
   "source": [
    "Pour l'exemple, considérons la fonction $g(x) = x^5-x+1$ sur l'intervalle $[-2.5,2.5]$.\n",
    "\n",
    "$1$. **<font color=black><span style=\"background-color:deepskyblue\">Bonus</span></font> :** Tester la méthode de Newton pour cette fonction avec $x_0=-1$, puis avec $x_0=1$. En cas de non-convergence, expliquer le comportement observé."
   ]
  },
  {
   "cell_type": "code",
   "execution_count": null,
   "metadata": {},
   "outputs": [],
   "source": [
    "def g(x):\n",
    "    # définition de la fonction g\n",
    "    return x**5 - x + 1\n",
    "\n",
    "def dg(x):\n",
    "    # définition de la fonction dérivée de g\n",
    "    return "
   ]
  },
  {
   "cell_type": "code",
   "execution_count": null,
   "metadata": {},
   "outputs": [],
   "source": [
    "# Test sur g\n"
   ]
  },
  {
   "cell_type": "code",
   "execution_count": null,
   "metadata": {},
   "outputs": [],
   "source": [
    "# Tracer la courbe de convergence\n",
    "# Comparer avec des fonctions linéaires, quadratiques et cubiques \n"
   ]
  },
  {
   "cell_type": "markdown",
   "metadata": {},
   "source": [
    "**Réponse :** "
   ]
  },
  {
   "cell_type": "markdown",
   "metadata": {},
   "source": [
    "$2$. On considère l'algorithme hybride Bissection-Newton suivant : à chaque itération $n$, \n",
    "- calculer le point milieu $x_{n+1}^{bis} := \\frac{a_n + b_n}{2}$\n",
    "- calculer le point donnée par l'itération de Newton $x_{n+1}^{Newt} := x_n - \\frac{f(x_n)}{f'(x_n)}$\n",
    "- chosir $x_{n+1}$ parmi $x_{n+1}^{bis}$ et $x_{n+1}^{Newt}$ celui qui minimise $f$\n",
    "- mettre à jour l'intervalle $[a_{n+1},b_{n+1}]$ comme dans la méthode de la bissection.  \n",
    "\n",
    "Implémenter cet algorithme. Tester votre algorithme sur la fonction $g$ définie ci-dessus. Représenter graphiquement la courbe de convergence et commenter le comportement de votre algorithme. "
   ]
  },
  {
   "cell_type": "code",
   "execution_count": null,
   "metadata": {},
   "outputs": [],
   "source": [
    "def hybride(f, df, a, b, tol=1.e-12, N_max=50):\n",
    "    \"\"\"\n",
    "    Calcule les itérés successifs x_n obtenus par la méthode hybride bissection-Newton sur [a,b]\n",
    "    ----------   \n",
    "    parametres:\n",
    "    f     : fonction dont on cherche le zero\n",
    "    df    : fonction dérivée de f\n",
    "    a,b   : bornes de l'intervalle dans lequel on cherche un zéro\n",
    "    tol   : on utilise | a-b | < tol comme critère d'arrêt \n",
    "    N_max : nombre maximal d'itérations\n",
    "    \n",
    "    valeurs de retour:\n",
    "    tab_x : tableau contenant les valeurs x_n à chaque itération\n",
    "    \"\"\"       \n",
    "    return "
   ]
  },
  {
   "cell_type": "code",
   "execution_count": null,
   "metadata": {},
   "outputs": [],
   "source": [
    "# Test sur g\n"
   ]
  },
  {
   "cell_type": "code",
   "execution_count": null,
   "metadata": {},
   "outputs": [],
   "source": [
    "# Tracer la courbe de convergence\n",
    "# Comparer avec des fonctions linéaires, quadratiques et cubiques \n"
   ]
  },
  {
   "cell_type": "markdown",
   "metadata": {},
   "source": [
    "**Réponse :** "
   ]
  },
  {
   "cell_type": "markdown",
   "metadata": {},
   "source": [
    "## Exercice 3 : Un système non-linéaire\n",
    "\n",
    "On étudie ici la méthode de Newton et de quasi-Newton pour la résolution du système suivant, inspiré de [[1](#Wos),[2](#High)]\n",
    "\n",
    "$$ \\left\\{\\begin{array}{rl} x_1 - x_2 &= 0, \\\\ x_1^3 + \\mu x_2^3 - \\mu &=0, \\end{array} \\right. \\qquad{} (2) $$\n",
    "\n",
    "où $\\mu\\in\\mathbb{R}$ est un paramètre du problème."
   ]
  },
  {
   "cell_type": "markdown",
   "metadata": {},
   "source": [
    "### Question 1 : Méthode de Newton\n",
    "\n",
    "$1$. Mettre le système (2) sous la forme $F(x) = 0$ avec $x=(x_1,x_2)^T$ et calculer explicitement la Jacobienne $J_F(x)$ et son déterminant. "
   ]
  },
  {
   "cell_type": "markdown",
   "metadata": {},
   "source": [
    "$2$. **<font color=black><span style=\"background-color:skyblue\">À rendre</span></font> :** Implémenter l'algorithme de Newton pour ce problème et le tester avec $\\mu = 1$, $x_0=(1,2)^T$ un nombre d'itération maximum $N_{\\max} = 10^3$ et une tolérance $TOL=10^{-15}$ sur l'erreur résiduelle $\\|F(x)\\|$. Calculer la solution exacte $x_*$ du système et comparer avec votre solution approchée.\n",
    "\n",
    "*On pourra utiliser la fonction numpy.linalg.solve pour la résolution du système linéaire à chaque itération de Newton et la fonction numpy.linalg.norm pour le calcul de $\\|F(x)\\|$.*"
   ]
  },
  {
   "cell_type": "code",
   "execution_count": null,
   "metadata": {},
   "outputs": [],
   "source": [
    "def Newton_system(mu, x0, TOL=1.e-15, N_max=1000):\n",
    "    \"\"\"\n",
    "    Calcule les itérés successifs x_n obtenus par la méthode de Newton sur le système (2)\n",
    "    ----------   \n",
    "    parametres:\n",
    "    mu    : parametre de la fonction F\n",
    "    x_0   : valeur initiale de la suite\n",
    "    tol   : on utilise || F(x_n) || < tol comme critère d'arrêt \n",
    "    N_max : nombre maximal d'itérations\n",
    "    \n",
    "    valeurs de retour:\n",
    "    tab_x  : tableau contenant les valeurs x_n à chaque itération\n",
    "    \"\"\"\n",
    "    return"
   ]
  },
  {
   "cell_type": "code",
   "execution_count": null,
   "metadata": {},
   "outputs": [],
   "source": [
    "def F(x, mu): \n",
    "    \"\"\"\n",
    "    Calcule F(x)\n",
    "    ----------   \n",
    "    parametres:\n",
    "    x     : point où F est évalué (np.array de taille 2) \n",
    "    mu    : paramètre de la fonction F\n",
    "    \n",
    "    valeurs de retour:\n",
    "    F(x)  : valeur de F au point x (np.array de taille 2) \n",
    "    \"\"\"\n",
    "    return np.array([x[0]-x[1], x[0]**3 + mu*x[1]**3 - mu])\n",
    "    \n",
    "def JF(x,mu):   \n",
    "    \"\"\"\n",
    "    Calcule la jacobienne de F au point x\n",
    "    ----------   \n",
    "    parametres:\n",
    "    x     : point où JF est évalué (np.array de taille 2) \n",
    "    mu    : paramètre de la fonction F\n",
    "    \n",
    "    valeurs de retour:\n",
    "    JF(x) : valeur de la jacobienne de F au point x (np.array de taille 2x2) \n",
    "    \"\"\"\n",
    "    return "
   ]
  },
  {
   "cell_type": "code",
   "execution_count": null,
   "metadata": {},
   "outputs": [],
   "source": [
    "# Test sur F\n"
   ]
  },
  {
   "cell_type": "code",
   "execution_count": 3,
   "metadata": {},
   "outputs": [],
   "source": [
    "# Test unitaire :\n",
    "# calculer la (unique) solution exacte (x1, x2) du problème F(x) = 0\n",
    "# vérifier que le résultat numérique obtenu est proche de cette solution exacte \n"
   ]
  },
  {
   "cell_type": "markdown",
   "metadata": {},
   "source": [
    "**Réponse :**"
   ]
  },
  {
   "cell_type": "markdown",
   "metadata": {},
   "source": [
    "$3$. **<font color=black><span style=\"background-color:skyblue\">À rendre</span></font> :** Calculer l'erreur $\\epsilon_n = \\|x^n-x_*\\|$ et afficher $\\epsilon_{n+1}$ en fonction de $\\epsilon_{n}$ en échelle log-log. Comparer avec des fonctions linéaire, quadratique et cubiques. L'ordre de convergence observé correspond-t-il à celui prédit par la théorie? Observer également l'erreur résiduelle $\\|F(x^n)\\|$, commenter."
   ]
  },
  {
   "cell_type": "code",
   "execution_count": null,
   "metadata": {},
   "outputs": [],
   "source": [
    "# Tracer la courbe de convergence\n",
    "# Comparer avec des fonctions linéaires, quadratiques et cubiques \n"
   ]
  },
  {
   "cell_type": "markdown",
   "metadata": {},
   "source": [
    "**Réponse :**"
   ]
  },
  {
   "cell_type": "markdown",
   "metadata": {},
   "source": [
    "### Question 2 : Méthode de quasi-Newton\n",
    "\n",
    "On fixe désormais, pour toutes les itérations, la Jacobienne à sa valeur initiale $J = J_F(x^0)$ dans la méthode de Newton. On écrit donc\n",
    "\n",
    "$$ x^{k+1} = x^k - J^{-1} F(x^k). $$"
   ]
  },
  {
   "cell_type": "markdown",
   "metadata": {},
   "source": [
    "$1$. **<font color=black><span style=\"background-color:deepskyblue\">Bonus</span></font> :** Implémenter cet algorithme de quasi-Newton pour le problème (2) et le tester avec $\\mu = 1$, $x_0=(1,2)^T$, un nombre d'itération maximum $N_{\\max} = 10^3$ et une tolérance $TOL=10^{-15}$ sur l'erreur $\\|F(x)\\|_2$.\n",
    "\n",
    "*On pourra utiliser les fonction scipy.linalg.lu_factor pour la décomposition LU et scipy.linalg.lu_solve pour la résolution du système linéaire à chaque itération.*"
   ]
  },
  {
   "cell_type": "code",
   "execution_count": null,
   "metadata": {},
   "outputs": [],
   "source": [
    "def quasi_Newton_system(mu, x0, TOL=1.e-15, N_max=1000):\n",
    "    \"\"\"\n",
    "    Calcule les itérés successifs x_n obtenus par la méthode de Newton\n",
    "    ----------   \n",
    "    parametres:\n",
    "    mu    : parametre de la fonction F\n",
    "    x_0   : valeur initiale de la suite\n",
    "    tol   : on utilise || F(x_n) || < tol comme critère d'arrêt \n",
    "    N_max : nombre maximal d'itérations\n",
    "    \n",
    "    valeurs de retour:\n",
    "    tab_x  : tableau contenant les valeurs x_n à chaque itération\n",
    "    \"\"\"\n",
    "    return"
   ]
  },
  {
   "cell_type": "code",
   "execution_count": null,
   "metadata": {},
   "outputs": [],
   "source": [
    "# Test sur F\n"
   ]
  },
  {
   "cell_type": "code",
   "execution_count": null,
   "metadata": {},
   "outputs": [],
   "source": [
    "# Test unitaire :\n",
    "# vérifier que le résultat numérique obtenu est proche de cette solution exacte \n"
   ]
  },
  {
   "cell_type": "markdown",
   "metadata": {},
   "source": [
    "$2$. **<font color=black><span style=\"background-color:deepskyblue\">Bonus</span></font> :** Tracer les courbes de convergence pour la méthode de quasi-Newton et donner son taux de convergence. Comparer avec la méthode de Newton. Quelle méthode vous parait la plus avantageuse ici? Dans quelles circonstances la méthode de quasi-Newton peut-elle avoir un intérêt?"
   ]
  },
  {
   "cell_type": "code",
   "execution_count": null,
   "metadata": {},
   "outputs": [],
   "source": [
    "# Tracer la courbe de convergence\n",
    "# Comparer avec des fonctions linéaires, quadratiques et cubiques \n"
   ]
  },
  {
   "cell_type": "markdown",
   "metadata": {},
   "source": [
    "**Réponse :**"
   ]
  },
  {
   "cell_type": "markdown",
   "metadata": {},
   "source": [
    "$3$. **<font color=black><span style=\"background-color:deepskyblue\">Bonus</span></font> :** Étudier maintenant les taux de convergence des méthodes de Newton et de quasi-Newton pour $\\mu = 0$. Interpréter ce changement."
   ]
  },
  {
   "cell_type": "code",
   "execution_count": null,
   "metadata": {},
   "outputs": [],
   "source": [
    "# Tracer la courbe de convergence\n",
    "# Comparer avec des fonctions linéaires, quadratiques et cubiques \n"
   ]
  },
  {
   "cell_type": "markdown",
   "metadata": {},
   "source": [
    "**Réponse :**"
   ]
  },
  {
   "cell_type": "markdown",
   "metadata": {},
   "source": [
    "## Exercice 4 : Méthodes de Newton-Kantorovich et de Newton par intervalles\n",
    "\n",
    ">Soit $f:\\mathbb{R}\\to\\mathbb{R}$ une fonction de classe $\\mathcal{C}^2$. L'objectif de cet exercice est de présenter deux techniques qui permettent de **démontrer** l'existence d'un zéro de $f$, et de l'approcher de manière certifiée, en se basant sur la méthode de Newton. Dans les deux cas, on utilisera de manière cruciale l'arithmétique d'intervalles (voir PC1, exercice 5).\n",
    "  \n",
    "### Question 1 : Un contre-exemple pour commencer\n",
    "Appliquer la méthode de Newton à la fonction $h_1(x)=x^2+10^{-15}$. Commenter les résultats obtenus."
   ]
  },
  {
   "cell_type": "code",
   "execution_count": null,
   "metadata": {},
   "outputs": [],
   "source": [
    "def h1(x):\n",
    "    #définition de h1\n",
    "    return x*x+1.e-15"
   ]
  },
  {
   "cell_type": "code",
   "execution_count": null,
   "metadata": {},
   "outputs": [],
   "source": [
    "# Test sur h1\n"
   ]
  },
  {
   "cell_type": "markdown",
   "metadata": {},
   "source": [
    "### Question 2 : Méthode de Newton-Kantorovich\n",
    "\n",
    "> Dans cette question, on présente une version simplifiée de théorème de Newton-Kantorovich [[4](#Kan48)]. On renvoit par exemple à [[3](#CiaMar12)] pour une présentation plus générale de ce théorème et de son histoire. On suppose qu'on dispose d'un *zéro approché* $\\bar x$ de $f$ (obtenu par exemple à l'aide de la méthod de Newton), et  on va chercher à démontrer qu'il existe un unique zéro $x^*$ de $f$ tel que $\\vert x^* - \\bar x\\vert \\leq r$, où $r$ sera connu explicitement.\n",
    "\n",
    "$1$. **Etude théorique**\n",
    "\n",
    "> Dans toute cette question, on suppose qu'il existe $\\varepsilon\\geq 0$ et $K,L,r_*>0$ tels que\n",
    ">\n",
    ">$$ \\vert f(\\bar x)\\vert \\leq \\varepsilon,\\qquad{} \\vert f'(\\bar x)\\vert\\geq K,\\qquad{} \\vert f''(x)\\vert \\leq L \\qquad{} \\forall~x\\in[\\bar x-r_*,\\bar x+r_*]. $$\n",
    ">\n",
    ">On considère l'opérateur de *quasi-Newton* $T$ défini par\n",
    ">\n",
    ">$$ T(x) = x-\\frac{f(x)}{f'(\\bar x)}. $$\n",
    "  \n",
    "$a$. Pour tout $x$ dans l'intervalle $[\\bar x-r_*,\\bar x+r_*]$, établir les estimations suivantes:\n",
    "  \n",
    "$$ \\vert T'(x) \\vert \\leq \\frac{L}{K} \\vert x - \\bar x\\vert\\qquad{}\\text{et}\\qquad{} \\vert T(x) - \\bar x\\vert \\leq \\frac{L}{K} \\vert x - \\bar x\\vert ^2 + \\frac{\\varepsilon}{K}. $$"
   ]
  },
  {
   "cell_type": "markdown",
   "metadata": {},
   "source": [
    "$b$. On suppose de plus qu'il existe $r\\in]0,r_*]$ tel que\n",
    "  \n",
    "$$ Lr^2 - Kr +\\varepsilon < 0. $$\n",
    "\n",
    "Démontrer que $T\\left([\\bar x-r,\\bar x+r]\\right) \\subset [\\bar x-r,\\bar x+r]$ et que $T$ est contractant sur $[\\bar x-r,\\bar x+r]$. En déduire l'existence d'un unique zéro de $f$ dans $[\\bar x-r,\\bar x+r]$."
   ]
  },
  {
   "cell_type": "markdown",
   "metadata": {},
   "source": [
    "$2$. **Application**\n",
    "\n",
    "On considère la fonction $h_2(x)= e^x-x-2$. \n",
    "\n",
    "$a$. Obtenir un zéro approché $\\bar x$ à l'aide de la méthode de Newton."
   ]
  },
  {
   "cell_type": "code",
   "execution_count": null,
   "metadata": {},
   "outputs": [],
   "source": [
    "def h2(x):\n",
    "    #définition de h2\n",
    "    return np.exp(x)-x-2\n",
    "\n",
    "def dh2(x): \n",
    "    return \n",
    "\n",
    "def d2h2(x): \n",
    "    return "
   ]
  },
  {
   "cell_type": "code",
   "execution_count": null,
   "metadata": {},
   "outputs": [],
   "source": [
    "# Test sur h2\n"
   ]
  },
  {
   "cell_type": "markdown",
   "metadata": {},
   "source": [
    "$b$. Prendre $r_*=1$ et évaluer\n",
    "\n",
    "$$ \\tilde\\varepsilon := \\vert h_2(\\bar x)\\vert,\\qquad{} \\tilde K := \\vert h_2'(\\bar x)\\vert,\\qquad{} \\tilde L:= h_2''(\\bar x +r_*) = \\sup_{x\\in[\\bar x-r_*,\\bar x+r_*]} \\vert h_2''(x)\\vert. $$"
   ]
  },
  {
   "cell_type": "code",
   "execution_count": null,
   "metadata": {},
   "outputs": [],
   "source": [
    "# Évaluer ces grandeurs\n"
   ]
  },
  {
   "cell_type": "markdown",
   "metadata": {},
   "source": [
    "$c$. Trouver $r\\in]0,r_*]$ tel que $\\tilde L r^2 - \\tilde K r+\\tilde \\varepsilon <0$. "
   ]
  },
  {
   "cell_type": "code",
   "execution_count": null,
   "metadata": {},
   "outputs": [],
   "source": [
    "# Évaluer r\n"
   ]
  },
  {
   "cell_type": "markdown",
   "metadata": {},
   "source": [
    "$d$. Que manque-t-il pour en déduire rigoureusement l'existence d'un zéro de $h_2$ au voisinage de $\\bar x$?"
   ]
  },
  {
   "cell_type": "markdown",
   "metadata": {},
   "source": []
  },
  {
   "cell_type": "markdown",
   "metadata": {},
   "source": [
    "### Question 3 : Méthode de Newton par intervalles\n",
    "\n",
    ">Dans cette question, on présente la méthode de Newton par intervalles. Celle-ci permet non seulement de démontrer l'existence de zéros de $f,$ mais aussi de démontrer l'absence de zéros dans certains intervalles. **Avant d'étudier cette question, il est fortement recommander de traiter au moins les parties I et II de l'exercice 5 de la PC 1.**\n",
    "\n",
    "$1$. **Etude théorique**\n",
    "\n",
    "> Dans toute cette question, étant donné un intervalle représentable $X$, et $\\hat x = X.mid$ le milieu de $X$, on note par $T(X)$ un intervalle représentable contenant\n",
    ">\n",
    ">$$ \\hat x - \\frac{f(\\hat x)}{f'(X)},$$\n",
    ">\n",
    "> où $f'(X)$ désigne un intervalle représentable contenant $\\{ f'(x) \\,|\\, x\\in X\\}$.\n",
    "\n",
    "$a$. Montrer que si $f$ admet des zéros dans $X$, ils sont forcément contenus dans $T(X)$. "
   ]
  },
  {
   "cell_type": "markdown",
   "metadata": {},
   "source": [
    ">On remarquera que le résultat de la question a) implique la propriété suivante : si $T(X)\\cap X=\\emptyset$, alors $f$ n'admet pas de zéro dans $X$.\n",
    "\n",
    "$b$. Montrer que si $0\\notin f'(X)$ et que $T(X)\\subset X$, alors il existe un unique zéro de $f$ dans $X$. *On pourra introduire*\n",
    "\n",
    "$$J_{\\hat x} (x) = \\int_0^1 f'(\\hat x + t(x-\\hat x)) dt \\qquad{}\\text{et}\\qquad{} \\tilde T(x) = \\hat x - \\frac{f(x)}{J_{\\hat x}(x)},$$\n",
    "\n",
    "*montrer que $\\tilde T$ envoye l'intervalle $X$ dans lui même, et conclure par le théorème du point fixe de Brouwer.*"
   ]
  },
  {
   "cell_type": "markdown",
   "metadata": {},
   "source": [
    "> **Remarque :** Etant donné un intervalle représentable $X_0$, la méthode de Newton par intervalle consiste en une suite d'intervalles représentables $X_k$ définis par\n",
    ">\n",
    ">$$X_{k+1} = T(X_k) \\cap X_k.$$\n",
    ">\n",
    "> En pratique, si $0\\in f'(X_k) = [\\alpha_k,\\beta_k]$ on considère pour $T(X_k)$ deux intervalles représentables dont l'union contient $\\hat x - \\frac{f(\\hat x)}{f'(X)}$, à savoir \n",
    ">\n",
    ">$$\\hat x - \\frac{f(\\hat x)}{[\\alpha_k,0]} \\qquad{}\\text{et}\\qquad{}\\hat x - \\frac{f(\\hat x)}{[0,\\beta_k]},$$\n",
    ">\n",
    ">et on poursuit les intérations sur ces deux intervalles de manière indépendante. Ainsi, à l'itération $k$, $X_k$ n'est en fait pas nécessairement un intervalle représentable, mais plutôt une union finie d'intervalles représentables, sur lequels on itère indépendamment pour obtenir $X_{k+1}$. Par construction, $X_k$ contient nécessairement l'ensemble des zeros de $f$ appartenant à $X_0$, et on peut essayer de vérifier les hypohtèses des questions a) ou b) sur chacun de intervalles représentables dont l'union constitue $X_k$ pour avoir une information plus précise."
   ]
  },
  {
   "cell_type": "markdown",
   "metadata": {},
   "source": [
    "$2$. **Applications**\n",
    "\n",
    "$a$. On considère à nouveau la fonction $h_2(x)= e^x-x-2$. Implémenter l'algorithme de Newton par intervalle (réfléchir aux critères d'arrêt), et le tester sur cette fonction, avec $X_0=[-2,2]$. Implémenter également une fonction *check_for_zeros*, qui tente d'appliquer les critères des questions a) et b), et l'utiliser sur les intervalles obtenus."
   ]
  },
  {
   "cell_type": "code",
   "execution_count": null,
   "metadata": {},
   "outputs": [],
   "source": [
    "def intersect(X, Y):\n",
    "    \"\"\"\n",
    "    Calcule l'intersection de deux intervalles\n",
    "    ----------   \n",
    "    parametres:\n",
    "    X, Y : intervalles \n",
    "    \n",
    "    valeurs de retour:\n",
    "    Z : X \\inter Y\n",
    "    \"\"\"\n",
    "    a = max(X.a,Y.a)\n",
    "    b = min(X.b,Y.b)\n",
    "    if a <= b:\n",
    "        Z = iv.mpf([a,b])\n",
    "    else:\n",
    "        Z = []        \n",
    "    return Z"
   ]
  },
  {
   "cell_type": "code",
   "execution_count": null,
   "metadata": {},
   "outputs": [],
   "source": [
    "def interval_Newton(f, df, X, it_max=100, tol=1.e-8):\n",
    "    \"\"\"\n",
    "    Méthode de Newton par intervalles\n",
    "    ----------   \n",
    "    parametres:\n",
    "    f      : la fonction f (doit pouvoir supporter des arguments de type intervalle)\n",
    "    df     : la fonction f' (doit pouvoir supporter des arguments de type intervalle)\n",
    "    X      : l'intervalle de départ\n",
    "    it_max : le nombre maximal d'itérations\n",
    "    tol    : la tolérance\n",
    "    \n",
    "    valeurs de retour:\n",
    "    Une liste d'intervalles, qui contiennent tous les zéros de f dans X\n",
    "    \"\"\"\n",
    "    return       "
   ]
  },
  {
   "cell_type": "code",
   "execution_count": null,
   "metadata": {},
   "outputs": [],
   "source": [
    "def ivh2(x):\n",
    "    # définition de h2 adaptée aux intervalles\n",
    "    return iv.exp(x) - x - 2 \n",
    "\n",
    "def ivdh2(x):\n",
    "    # définition de la dérivée de h2 adaptée aux intervalles\n",
    "    return "
   ]
  },
  {
   "cell_type": "code",
   "execution_count": null,
   "metadata": {},
   "outputs": [],
   "source": [
    "# Test sur h2\n"
   ]
  },
  {
   "cell_type": "code",
   "execution_count": null,
   "metadata": {},
   "outputs": [],
   "source": [
    "def check_for_zeros(X, f, df):\n",
    "    \"\"\"\n",
    "    Vérifie si on peut appliquer les résulats des questions 1)a) ou 1)b)\n",
    "    ----------   \n",
    "    parametres:\n",
    "    f  : la fonction f (doit pouvoir supporter des arguments de type intervalle)\n",
    "    df : la fonction f' (doit pouvoir supporter des arguments de type intervalle)\n",
    "    X  : l'intervalle considéré\n",
    "    \n",
    "    valeurs de retour:\n",
    "    1 si on a validé l'existence d'un unique zéro, 0 si on a démontré qu'il n'y avait pas de zéros, NaN sinon\n",
    "    \"\"\"\n",
    "    return"
   ]
  },
  {
   "cell_type": "code",
   "execution_count": null,
   "metadata": {},
   "outputs": [],
   "source": [
    "# Test sur les intervalles obtenus\n"
   ]
  },
  {
   "cell_type": "markdown",
   "metadata": {},
   "source": [
    "$b$. On considère à nouveau la fonction $h_1(x) = x^2 + 10^{-15}$. Tester à nouveau l'algorithme de Newton par intervalle et la fonction *check_for_zeros* avec cette fonction et vérifier que $h_1$ ne possède pas de zéros. "
   ]
  },
  {
   "cell_type": "code",
   "execution_count": null,
   "metadata": {},
   "outputs": [],
   "source": [
    "# Test sur h1\n"
   ]
  },
  {
   "cell_type": "markdown",
   "metadata": {},
   "source": [
    "$c$. On va maintenant utiliser l'alogrithme de Newton par intervalle sur un exemple un peu plus compliqué, et considérer la fonction\n",
    "\n",
    "$$h_3(x) = \\exp(\\sin(20x)) + x^4 +\\frac{x}{1+x^2} - 2.$$"
   ]
  },
  {
   "cell_type": "code",
   "execution_count": null,
   "metadata": {
    "scrolled": true
   },
   "outputs": [],
   "source": [
    "def h3(x):\n",
    "    # définition de h3\n",
    "    return np.exp(np.sin(20*x)) + x**4 + x/(1.+x**2) - 2\n",
    "\n",
    "# creation des donnees pour la sortie graphique\n",
    "grid   = np.linspace(-2,2,1000)\n",
    "values = h3(grid) \n",
    "\n",
    "# sortie graphique\n",
    "fig = plt.figure(figsize=(16,5))\n",
    "plt.plot(grid, values)\n",
    "plt.xlabel('x')\n",
    "plt.ylabel('h3(x)')\n",
    "plt.grid()\n",
    "plt.show(fig)"
   ]
  },
  {
   "cell_type": "markdown",
   "metadata": {},
   "source": [
    "A l'aide de  l'algorithme de Newton par intervalles, obtenir rigoureusement l'ensemble des zéros de $h_3$ dans $\\mathbb{R}$."
   ]
  },
  {
   "cell_type": "code",
   "execution_count": null,
   "metadata": {},
   "outputs": [],
   "source": [
    "def ivh3(x):\n",
    "    # definition de h3 adaptée aux intervalles\n",
    "    return iv.exp(iv.sin(20*x)) + x**4 + x/(1.+x**2) - 2\n",
    "\n",
    "def ivdh3(x):\n",
    "    # definition de la dérivée de h3 adaptée aux intervalles\n",
    "    return "
   ]
  },
  {
   "cell_type": "code",
   "execution_count": null,
   "metadata": {},
   "outputs": [],
   "source": [
    "# Test sur h3\n"
   ]
  },
  {
   "cell_type": "markdown",
   "metadata": {},
   "source": [
    "## Références\n",
    "\n",
    "\n",
    "<a id=\"Wos\">[1] H. Wozniakowski. Numerical stability for solving nonlinear equations. Numer. Math., 27:373-390, 1977.</a>\n",
    "\n",
    "<a id=\"High\">[2] N. J. Higham. Accuracy and stability of numerical algorithms. Second edition. SIAM. </a>\n",
    "\n",
    "<a id=\"CiaMar12\">[3] Philippe G. Ciarlet and Cristinel Mardare. On the Newton-Kantorovich theorem.\n",
    "*Analysis and Applications*, 10(03):249--269, 2012.</a>\n",
    "\n",
    "<a id=\"Kan48\">[4] Leonid Vital'evich Kantorovich. Functional analysis and applied mathematics.\n",
    "*Uspekhi Matematicheskikh Nauk*, 3(6):89--185, 1948.</a>"
   ]
  }
 ],
 "metadata": {
  "kernelspec": {
   "display_name": "Python 3",
   "language": "python",
   "name": "python3"
  },
  "language_info": {
   "codemirror_mode": {
    "name": "ipython",
    "version": 3
   },
   "file_extension": ".py",
   "mimetype": "text/x-python",
   "name": "python",
   "nbconvert_exporter": "python",
   "pygments_lexer": "ipython3",
   "version": "3.9.7"
  },
  "latex_envs": {
   "LaTeX_envs_menu_present": true,
   "autoclose": false,
   "autocomplete": false,
   "bibliofile": "biblio.bib",
   "cite_by": "apalike",
   "current_citInitial": 1,
   "eqLabelWithNumbers": true,
   "eqNumInitial": 1,
   "hotkeys": {
    "equation": "Ctrl-E",
    "itemize": "Ctrl-I"
   },
   "labels_anchors": false,
   "latex_user_defs": false,
   "report_style_numbering": false,
   "user_envs_cfg": false
  },
  "toc": {
   "base_numbering": 1,
   "nav_menu": {},
   "number_sections": false,
   "sideBar": true,
   "skip_h1_title": false,
   "title_cell": "Table of Contents",
   "title_sidebar": "Contents",
   "toc_cell": false,
   "toc_position": {},
   "toc_section_display": true,
   "toc_window_display": false
  }
 },
 "nbformat": 4,
 "nbformat_minor": 4
}
