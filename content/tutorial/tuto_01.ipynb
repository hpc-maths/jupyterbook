{
 "cells": [
  {
   "cell_type": "markdown",
   "metadata": {},
   "source": [
    "# Les variables en python"
   ]
  },
  {
   "cell_type": "markdown",
   "metadata": {},
   "source": [
    "## Notion d'objet et de variable"
   ]
  },
  {
   "cell_type": "markdown",
   "metadata": {},
   "source": [
    "### Notion d'objet\n",
    "\n",
    "En python, tout est objet.\n",
    "\n",
    "Un objet, considérons qu'un objet est une entité qui contient des données et qui possède des mécanismes appelés méthodes permettant de les manipuler."
   ]
  },
  {
   "cell_type": "markdown",
   "metadata": {},
   "source": [
    "#### Exemple\n",
    "\n",
    "Création d'un objet de type entier : "
   ]
  },
  {
   "cell_type": "code",
   "execution_count": null,
   "metadata": {},
   "outputs": [],
   "source": [
    "10"
   ]
  },
  {
   "cell_type": "markdown",
   "metadata": {},
   "source": [
    "L'objet ```10``` dispose d'une méthode nommée ```to_bytes```  qui retourne le nombre de bits nécessaires pour le représenter en binaire. On y accède grâce au caractère ```.``` :"
   ]
  },
  {
   "cell_type": "code",
   "execution_count": null,
   "metadata": {},
   "outputs": [],
   "source": [
    "(10).bit_length()"
   ]
  },
  {
   "cell_type": "markdown",
   "metadata": {},
   "source": [
    "Remarque : le nombre de bits pour coder un entier est dynamique : "
   ]
  },
  {
   "cell_type": "code",
   "execution_count": null,
   "metadata": {},
   "outputs": [],
   "source": [
    "(1000).bit_length()"
   ]
  },
  {
   "cell_type": "markdown",
   "metadata": {},
   "source": [
    "### Notion de variable\n",
    "\n",
    "Une variable permet de référencer un objet."
   ]
  },
  {
   "cell_type": "code",
   "execution_count": null,
   "metadata": {},
   "outputs": [],
   "source": [
    "a = 30"
   ]
  },
  {
   "cell_type": "markdown",
   "metadata": {},
   "source": [
    "Cette instruction crée l'objet entier ```20``` puis crée la variable ```a``` et associe la variable ```a``` à l'objet ```20``` ce qui permet à la variable ```a``` de manipuler l'objet ```20```. "
   ]
  },
  {
   "cell_type": "code",
   "execution_count": null,
   "metadata": {},
   "outputs": [],
   "source": [
    "a.bit_length()"
   ]
  },
  {
   "cell_type": "markdown",
   "metadata": {},
   "source": [
    "La variable ``a`` peut référencer un autre objet du même type :"
   ]
  },
  {
   "cell_type": "code",
   "execution_count": null,
   "metadata": {},
   "outputs": [],
   "source": [
    "a = 51"
   ]
  },
  {
   "cell_type": "markdown",
   "metadata": {},
   "source": [
    "Cette instruction crée l'objet entier `51` a et associe la variable a à l'objet ```51```."
   ]
  },
  {
   "cell_type": "markdown",
   "metadata": {},
   "source": [
    "Elle peut aussi référencer un objet d'un autre type (une chaîne de caractère par exemple) : "
   ]
  },
  {
   "cell_type": "code",
   "execution_count": null,
   "metadata": {},
   "outputs": [],
   "source": [
    "a = \"chaine\""
   ]
  },
  {
   "cell_type": "markdown",
   "metadata": {},
   "source": [
    "C'est pourquoi en python,  on parle de typage dynamique (le type n'est pas lié à la variable mais à l'objet référencé par la variable)."
   ]
  },
  {
   "cell_type": "markdown",
   "metadata": {},
   "source": [
    "### Principaux types disponibles\n",
    "\n",
    "Les types de base disponibles sont :\n",
    "\n",
    "* les types numériques : \n",
    "  * les entiers (int)\n",
    "  * les nombres à virgule flottantes (float) \n",
    "  * les complexes (complex)\n",
    "* les booléens (bool)\n",
    "* les chaînes de caractères (str)\n",
    "\n",
    "Python dispose également de nombreux autres types tels que les listes (list) qui est une séquence d'objets hétérogènes dont la liste exhaustive est consultable [ici](https://docs.python.org/fr/3.8/library/stdtypes.html#sequence-types-list-tuple-range).\n",
    "\n",
    "La fonction ```type``` retourne le type d’un objet ou le type de la valeur d’une variable, il suffit d’utiliser la fonction type() :"
   ]
  },
  {
   "cell_type": "code",
   "execution_count": null,
   "metadata": {},
   "outputs": [],
   "source": [
    "# entier\n",
    "type(50)"
   ]
  },
  {
   "cell_type": "code",
   "execution_count": null,
   "metadata": {},
   "outputs": [],
   "source": [
    "# flottant\n",
    "f = 10.\n",
    "type(f)"
   ]
  },
  {
   "cell_type": "code",
   "execution_count": null,
   "metadata": {},
   "outputs": [],
   "source": [
    "# complexe\n",
    "c = 1 + 2j\n",
    "type(c)"
   ]
  },
  {
   "cell_type": "code",
   "execution_count": null,
   "metadata": {},
   "outputs": [],
   "source": [
    "# booléen\n",
    "type(False)"
   ]
  },
  {
   "cell_type": "code",
   "execution_count": null,
   "metadata": {},
   "outputs": [],
   "source": [
    "# chaine de caractère\n",
    "ch = \"chaine\"\n",
    "type(ch)"
   ]
  },
  {
   "cell_type": "code",
   "execution_count": null,
   "metadata": {},
   "outputs": [],
   "source": [
    "# liste\n",
    "l = [2, f, True, ch]\n",
    "type(l)"
   ]
  },
  {
   "cell_type": "markdown",
   "metadata": {},
   "source": [
    "### Définition d'une fonction\n",
    "\n",
    "Une fonction est un bloc d'instructions que l'on peut appeler avec un nom. La syntaxe pour la définition d’une fonction est la suivante :\n",
    "\n",
    "```python\n",
    "def nom_fonction(liste de paramètres):\n",
    "      bloc instructions\n",
    "```"
   ]
  },
  {
   "cell_type": "markdown",
   "metadata": {},
   "source": [
    "Exemple :"
   ]
  },
  {
   "cell_type": "code",
   "execution_count": null,
   "metadata": {},
   "outputs": [],
   "source": [
    "def show(param):\n",
    "    print(param)"
   ]
  },
  {
   "cell_type": "markdown",
   "metadata": {},
   "source": [
    "Exemples d'appel :"
   ]
  },
  {
   "cell_type": "code",
   "execution_count": null,
   "metadata": {},
   "outputs": [],
   "source": [
    "show(6)"
   ]
  },
  {
   "cell_type": "code",
   "execution_count": null,
   "metadata": {},
   "outputs": [],
   "source": [
    "ch = \"une chaine\"\n",
    "show(ch)"
   ]
  },
  {
   "cell_type": "markdown",
   "metadata": {},
   "source": [
    "Une fonction est un objet de type `function`:"
   ]
  },
  {
   "cell_type": "code",
   "execution_count": null,
   "metadata": {},
   "outputs": [],
   "source": [
    "type(show)"
   ]
  },
  {
   "cell_type": "markdown",
   "metadata": {},
   "source": [
    "Il est possible d'associer une variable à un objet fonction :"
   ]
  },
  {
   "cell_type": "code",
   "execution_count": null,
   "metadata": {},
   "outputs": [],
   "source": [
    "a = show\n",
    "a(6)"
   ]
  },
  {
   "cell_type": "markdown",
   "metadata": {},
   "source": [
    "## Visibilité d'une variable"
   ]
  },
  {
   "cell_type": "markdown",
   "metadata": {},
   "source": [
    "### Variable globale\n",
    "\n",
    "Une variable définie dans une cellule en dehors d'une fonction ou d'une classe est considérée comme globale, elle est accessible dans l'ensemble du notebook : "
   ]
  },
  {
   "cell_type": "code",
   "execution_count": null,
   "metadata": {},
   "outputs": [],
   "source": [
    "a = 12"
   ]
  },
  {
   "cell_type": "code",
   "execution_count": null,
   "metadata": {},
   "outputs": [],
   "source": [
    "print(\"a vaut\",a)"
   ]
  },
  {
   "cell_type": "code",
   "execution_count": null,
   "metadata": {},
   "outputs": [],
   "source": [
    "def fct_01():\n",
    "    print(\"Dans la fonction fct_01, a vaut\", a)"
   ]
  },
  {
   "cell_type": "code",
   "execution_count": null,
   "metadata": {},
   "outputs": [],
   "source": [
    "fct_01()"
   ]
  },
  {
   "cell_type": "markdown",
   "metadata": {},
   "source": [
    "### Variable locale"
   ]
  },
  {
   "cell_type": "markdown",
   "metadata": {},
   "source": [
    "Une variable définie à l'intérieur d'une fonction ou d'une classe est locale, elle n'est accessible que depuis  la fonction ou la classe où elle a été définie :"
   ]
  },
  {
   "cell_type": "code",
   "execution_count": null,
   "metadata": {},
   "outputs": [],
   "source": [
    "def fct_02():\n",
    "    b = 12\n",
    "    print(\"Dans la fonction fct_02, b vaut\", b)"
   ]
  },
  {
   "cell_type": "code",
   "execution_count": null,
   "metadata": {},
   "outputs": [],
   "source": [
    "fct_02()"
   ]
  },
  {
   "cell_type": "markdown",
   "metadata": {},
   "source": [
    "En dehors de la fonction ```fct_02```, la variable ```b``` n'est pas définie. L'instruction suivante provoque une erreur :"
   ]
  },
  {
   "cell_type": "code",
   "execution_count": null,
   "metadata": {},
   "outputs": [],
   "source": [
    "# la variable b n'est pas définie en dehors de la fonction, l'instruction suivante provoque une erreur\n",
    "print(b)"
   ]
  },
  {
   "cell_type": "markdown",
   "metadata": {},
   "source": [
    "Dans la fonction ```fct_03```, même si la variable locale ```a``` porte le même nom qu'une variable globale, la référence à la variable ```a``` désigne la variable locale :"
   ]
  },
  {
   "cell_type": "markdown",
   "metadata": {},
   "source": [
    "Attention, quand une variable est affectée dans un contexte, cette variable devient locale à ce contexte et remplace toute variable du même nom du contexte appelant."
   ]
  },
  {
   "cell_type": "code",
   "execution_count": null,
   "metadata": {},
   "outputs": [],
   "source": [
    "def fct_04():\n",
    "    a = 100\n",
    "    print(\"Dans la fonction fct_04, a vaut\", a)"
   ]
  },
  {
   "cell_type": "markdown",
   "metadata": {},
   "source": [
    "Dans la fonction ```fct_04```, même si la variable locale ```a``` porte le même nom qu'une variable globale, la référence à la variable ```a``` désigne la variable locale :"
   ]
  },
  {
   "cell_type": "code",
   "execution_count": null,
   "metadata": {},
   "outputs": [],
   "source": [
    "fct_04()"
   ]
  },
  {
   "cell_type": "markdown",
   "metadata": {},
   "source": [
    "En dehors de la fonction, une référence à la variable ```a``` désigne la variable globale :"
   ]
  },
  {
   "cell_type": "code",
   "execution_count": null,
   "metadata": {},
   "outputs": [],
   "source": [
    "print(\"a = \", a)"
   ]
  },
  {
   "cell_type": "markdown",
   "metadata": {},
   "source": [
    "Il est possible de modifier une variable globale dans une fonction en utilisant le mot-clé ```global```:"
   ]
  },
  {
   "cell_type": "code",
   "execution_count": null,
   "metadata": {},
   "outputs": [],
   "source": [
    "def fct_05():\n",
    "    global a\n",
    "    a += 100\n",
    "    print(\"Dans la fonction fct_05, a vaut\", a)"
   ]
  },
  {
   "cell_type": "code",
   "execution_count": null,
   "metadata": {},
   "outputs": [],
   "source": [
    "fct_05()"
   ]
  },
  {
   "cell_type": "markdown",
   "metadata": {},
   "source": [
    "On peut vérifier que la variable globale ```a``` a bien été mofifiée :"
   ]
  },
  {
   "cell_type": "code",
   "execution_count": null,
   "metadata": {},
   "outputs": [],
   "source": [
    "print(\"a = \", a)"
   ]
  },
  {
   "cell_type": "markdown",
   "metadata": {},
   "source": [
    "Il n'est pas conseillé d'utiliser cette méthode."
   ]
  },
  {
   "cell_type": "markdown",
   "metadata": {},
   "source": [
    "## Arguments des fonctions"
   ]
  },
  {
   "cell_type": "markdown",
   "metadata": {},
   "source": [
    "Le passage d'argument se fait par référence en python. "
   ]
  },
  {
   "cell_type": "code",
   "execution_count": null,
   "metadata": {},
   "outputs": [],
   "source": [
    "def fct_06(a,b):\n",
    "    print(a)\n",
    "    print(b)"
   ]
  },
  {
   "cell_type": "markdown",
   "metadata": {},
   "source": [
    "C'est donc bien les objets référencés par les variables en argument qui sont récupérés dans la fonction : "
   ]
  },
  {
   "cell_type": "code",
   "execution_count": null,
   "metadata": {},
   "outputs": [],
   "source": [
    "c = 10\n",
    "d = 12\n",
    "fct_06(c,d)"
   ]
  },
  {
   "cell_type": "markdown",
   "metadata": {},
   "source": [
    "Attention, si on affecte un nouvel objet à la variable, elle devient locale à la fonction :"
   ]
  },
  {
   "cell_type": "code",
   "execution_count": null,
   "metadata": {},
   "outputs": [],
   "source": [
    "def fct_07(a,b):\n",
    "    a = a + b\n",
    "    print(\"Dans la fonction fct_07, a = \", a)"
   ]
  },
  {
   "cell_type": "code",
   "execution_count": null,
   "metadata": {},
   "outputs": [],
   "source": [
    "a = 10\n",
    "b = 12\n",
    "fct_07(a,b)\n",
    "print(\"En dehors de la fonction fct_07, a = \", a)"
   ]
  },
  {
   "cell_type": "markdown",
   "metadata": {},
   "source": [
    "La variable ``a`` qui a été modifiée dans dans la fonction ``fct_07`` est locale à la fonction. \n",
    "En dehors de la fonction, elle ne référence pas le même objet. \n",
    "\n",
    "Attention, ce comportement est dû au caractère non mutable des objets de type entier. Il serait différent pour les objets de type liste (cf. section suivante sur la mutabilté )."
   ]
  },
  {
   "cell_type": "markdown",
   "metadata": {},
   "source": [
    "Pour récupérer un objet local à la fonction, il faut faire une valeur de retour dans la fonction gâce au mot-clé ```return``` :    "
   ]
  },
  {
   "cell_type": "code",
   "execution_count": null,
   "metadata": {},
   "outputs": [],
   "source": [
    "def fct_08(a,b):\n",
    "    s = a + b\n",
    "    return s"
   ]
  },
  {
   "cell_type": "code",
   "execution_count": null,
   "metadata": {},
   "outputs": [],
   "source": [
    "a = 8\n",
    "b = 10\n",
    "print(f\"Somme de {a} et de {b} : {fct_08(a,b)}\") "
   ]
  },
  {
   "cell_type": "markdown",
   "metadata": {},
   "source": [
    "## Mutabilité \n",
    "\n",
    "Un objet immuable on non mutable est un objet qui ne peut pas être modifié après sa création. En python, c'est le cas, notamment, des types numériques, des booléens et des chaînes de caractères. "
   ]
  },
  {
   "cell_type": "markdown",
   "metadata": {},
   "source": [
    "Ainsi, pour les types non mutables, l'utilisation des opérateurs de type ```+=```, ```-=```, ... crée un nouvel objet. On peut le vérifier en utilisant la fonction ```id``` qui renvoie un identifiant unique de l'objet entré en paramètre (représentatif de son adresse en mémoire)."
   ]
  },
  {
   "cell_type": "code",
   "execution_count": null,
   "metadata": {},
   "outputs": [],
   "source": [
    "a = 40\n",
    "print(f\"Identifiant de la variable a = {a} : {id(a)}\")\n",
    "a += 5\n",
    "print(f\"Identifiant de la variable a = {a} : {id(a)}\")"
   ]
  },
  {
   "cell_type": "markdown",
   "metadata": {},
   "source": [
    "Les listes sont des types mutables ce qui perment de modifier ou d'ajouter des éléments sans créer une nouvelle liste :"
   ]
  },
  {
   "cell_type": "code",
   "execution_count": null,
   "metadata": {},
   "outputs": [],
   "source": [
    "l = [2, True, 2.5, 'ch']\n",
    "print(f\"Identifiant de la liste l = {l} : {id(l)}\")\n",
    "l[2] = 5\n",
    "print(f\"Identifiant de la liste l = {l} : {id(l)}\")\n",
    "l += [8, 6.8]\n",
    "print(f\"Identifiant de la liste l = {l} : {id(l)}\")"
   ]
  },
  {
   "cell_type": "markdown",
   "metadata": {},
   "source": [
    "Conséquence, dans une fonction, il est possible de modifier une liste passée en paramètre :"
   ]
  },
  {
   "cell_type": "code",
   "execution_count": null,
   "metadata": {},
   "outputs": [],
   "source": [
    "def fct_09(a):\n",
    "    a += [1]"
   ]
  },
  {
   "cell_type": "code",
   "execution_count": null,
   "metadata": {},
   "outputs": [],
   "source": [
    "fct_09(l)\n",
    "print(l)"
   ]
  },
  {
   "cell_type": "markdown",
   "metadata": {},
   "source": [
    "Autre conséquence, puisqu'un objet peut avoir plusieurs références  :"
   ]
  },
  {
   "cell_type": "code",
   "execution_count": null,
   "metadata": {},
   "outputs": [],
   "source": [
    "l2 = l\n",
    "print(f\"Identifiant de la liste l  : {id(l)}\")\n",
    "print(f\"Identifiant de la liste l2 : {id(l)}\")"
   ]
  },
  {
   "cell_type": "markdown",
   "metadata": {},
   "source": [
    "et comme les listes sont mutables, modifier la liste ```l``` modifie également la liste ```l2``` :"
   ]
  },
  {
   "cell_type": "code",
   "execution_count": null,
   "metadata": {},
   "outputs": [],
   "source": [
    "print(f\"Liste l2  : {l2}\")\n",
    "\n",
    "l.append(2)\n",
    "\n",
    "print(f\"\\nListe l   : {l}\")\n",
    "print(f\"Liste l2  : {l2}\")"
   ]
  },
  {
   "cell_type": "markdown",
   "metadata": {},
   "source": [
    "## Conseils pour les PC\n",
    "\n",
    "* donner des noms explicites aux variables \n",
    "* réferencer pas des varaibles tous les objets  \n",
    "\n",
    "  code à éviter :\n",
    "```python\n",
    "pos = [] \n",
    "for i in range(10):\n",
    "    pos.append(i)\n",
    "```    \n",
    "   toujours préférer :\n",
    "  \n",
    "```python\n",
    "nelem = 10\n",
    "pos = [] \n",
    "for i in range(nelem):\n",
    "    pos.append(i)\n",
    "```    \n",
    "\n",
    "* vérifier la bonne execution dans l'ordre de chaque cellule\n",
    "\n",
    "* racourcir autant que possible la durée de vie des variables, en effet la possibilité d’exécuter les cellules d’un notebook dans un ordre arbitraire peut amener à des effets de bords à cause des variables globales\n",
    "\n",
    "* tester les fonctions sur un exemple simple"
   ]
  }
 ],
 "metadata": {
  "@webio": {
   "lastCommId": null,
   "lastKernelId": null
  },
  "kernelspec": {
   "display_name": "Python 3",
   "language": "python",
   "name": "python3"
  },
  "language_info": {
   "codemirror_mode": {
    "name": "ipython",
    "version": 3
   },
   "file_extension": ".py",
   "mimetype": "text/x-python",
   "name": "python",
   "nbconvert_exporter": "python",
   "pygments_lexer": "ipython3",
   "version": "3.9.6"
  },
  "latex_envs": {
   "LaTeX_envs_menu_present": true,
   "autoclose": false,
   "autocomplete": true,
   "bibliofile": "biblio.bib",
   "cite_by": "apalike",
   "current_citInitial": 1,
   "eqLabelWithNumbers": true,
   "eqNumInitial": 1,
   "hotkeys": {
    "equation": "Ctrl-E",
    "itemize": "Ctrl-I"
   },
   "labels_anchors": false,
   "latex_user_defs": false,
   "report_style_numbering": false,
   "user_envs_cfg": false
  }
 },
 "nbformat": 4,
 "nbformat_minor": 2
}
