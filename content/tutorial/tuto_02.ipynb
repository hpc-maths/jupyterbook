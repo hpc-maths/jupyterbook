{
 "cells": [
  {
   "cell_type": "markdown",
   "metadata": {},
   "source": [
    "# Le module numpy\n",
    "\n",
    "Le module ```numpy``` permet de manipuler de tableaux multidimensionnel efficacement. \n",
    "\n",
    "Un tableau ```numpy``` ne peut stocker que des éléments du même type contrairement au liste python. \n",
    "\n",
    "Les données d'un tableau ```numpy``` sont stockées en mémoire de manière contigüe ce qui permet aux fonctions du module d'être efficaces lors de la manipulation des données du tableau. "
   ]
  },
  {
   "cell_type": "markdown",
   "metadata": {},
   "source": [
    "## Importation du module"
   ]
  },
  {
   "cell_type": "markdown",
   "metadata": {},
   "source": [
    "Pour utiliser le module, il suffit de l'importer avec l'instruction ```import```. Il est d'usage de le renommer ```np``` grâce au mot-clé ```as```: "
   ]
  },
  {
   "cell_type": "code",
   "execution_count": null,
   "metadata": {},
   "outputs": [],
   "source": [
    "import numpy as np"
   ]
  },
  {
   "cell_type": "markdown",
   "metadata": {},
   "source": [
    "## Principaux attributs"
   ]
  },
  {
   "cell_type": "markdown",
   "metadata": {},
   "source": [
    "### Type de données"
   ]
  },
  {
   "cell_type": "markdown",
   "metadata": {},
   "source": [
    "Création d'un tableau `numpy` à partir d'une liste :"
   ]
  },
  {
   "cell_type": "code",
   "execution_count": null,
   "metadata": {},
   "outputs": [],
   "source": [
    "a = np.array([1, 2, 3.5, 4, 5])\n",
    "print(a)"
   ]
  },
  {
   "cell_type": "markdown",
   "metadata": {},
   "source": [
    "Le type de l'objet référencé par la variable `a` est :"
   ]
  },
  {
   "cell_type": "code",
   "execution_count": null,
   "metadata": {},
   "outputs": [],
   "source": [
    "type(a)"
   ]
  },
  {
   "cell_type": "markdown",
   "metadata": {},
   "source": [
    "Ce type ne doit pas être confondu avec le type des données stockées que l'on peut obtenir grâce à l'attribut `dtype` : "
   ]
  },
  {
   "cell_type": "code",
   "execution_count": null,
   "metadata": {},
   "outputs": [],
   "source": [
    "print(a.dtype)"
   ]
  },
  {
   "cell_type": "markdown",
   "metadata": {},
   "source": [
    "Le type choisi par défaut dépend des données d'entrées qui est, dans le cas précédent, le type flottant sur 64 bits  de sorte d'éviter des pertes de précision. "
   ]
  },
  {
   "cell_type": "markdown",
   "metadata": {},
   "source": [
    "On peut préciser le type de données (avec d'éventuelles pertes de précision possible) : "
   ]
  },
  {
   "cell_type": "code",
   "execution_count": null,
   "metadata": {},
   "outputs": [],
   "source": [
    "b = np.array([1, 2, 3.5, 4, 5], dtype=np.int32)\n",
    "print(b)"
   ]
  },
  {
   "cell_type": "markdown",
   "metadata": {},
   "source": [
    "La liste complète des types disponibles est consultable [ici](https://numpy.org/doc/stable/user/basics.types.html)."
   ]
  },
  {
   "cell_type": "markdown",
   "metadata": {},
   "source": [
    "### Dimension, forme et taille d'un tableau numpy "
   ]
  },
  {
   "cell_type": "markdown",
   "metadata": {},
   "source": [
    "L'attribut `ndim` permet d'obtenir le nombre de dimensions :"
   ]
  },
  {
   "cell_type": "code",
   "execution_count": null,
   "metadata": {},
   "outputs": [],
   "source": [
    "# tableau à 1 dimesnsion\n",
    "a = np.array([1, 2, 3, 4, 5, 6])\n",
    "print(a)\n",
    "print(a.ndim)"
   ]
  },
  {
   "cell_type": "code",
   "execution_count": null,
   "metadata": {},
   "outputs": [],
   "source": [
    "# tableau à 2 dimensions\n",
    "b = np.array([[1, 2, 3, 4], [5, 6, 7, 8]])\n",
    "print(b)\n",
    "print(b.ndim)"
   ]
  },
  {
   "cell_type": "markdown",
   "metadata": {},
   "source": [
    "L'attribut `shape` permet d'obtenir les dimensions du tableau :"
   ]
  },
  {
   "cell_type": "code",
   "execution_count": null,
   "metadata": {},
   "outputs": [],
   "source": [
    "print(a.shape)\n",
    "print(b.shape)"
   ]
  },
  {
   "cell_type": "markdown",
   "metadata": {},
   "source": [
    "L'attribut `size` permet d'obtenir la taille du tableau :"
   ]
  },
  {
   "cell_type": "code",
   "execution_count": null,
   "metadata": {},
   "outputs": [],
   "source": [
    "print(a.size)\n",
    "print(b.size)"
   ]
  },
  {
   "cell_type": "markdown",
   "metadata": {},
   "source": [
    "## Création de tableaux numpy\n",
    "\n",
    "Le module `numpy` propose une grand nombre de méthodes pour construire des tableaux `numpy`. Voici quelques exemples d'utilisation de ces méthodes."
   ]
  },
  {
   "cell_type": "markdown",
   "metadata": {},
   "source": [
    "La méthode `np.ones` retourne un tableau contenant que des 1 :"
   ]
  },
  {
   "cell_type": "code",
   "execution_count": null,
   "metadata": {},
   "outputs": [],
   "source": [
    "# Construction d'un tableau de dimension 1 et de taille 5 contenant que des 1\n",
    "a = np.ones(5)\n",
    "print(a)"
   ]
  },
  {
   "cell_type": "code",
   "execution_count": null,
   "metadata": {},
   "outputs": [],
   "source": [
    "# Construction d'un tableau de dimension 2 et de taille 2x3 contenant que des 1\n",
    "b = np.ones((2,3))\n",
    "print(b)"
   ]
  },
  {
   "cell_type": "markdown",
   "metadata": {},
   "source": [
    "La méthode `np.zeros` retourne un tableau contenant que des 0 :"
   ]
  },
  {
   "cell_type": "code",
   "execution_count": null,
   "metadata": {},
   "outputs": [],
   "source": [
    "# Construction d'un tableau de dimension 1 et de taille 5 contenant que des 0\n",
    "a = np.zeros(5)\n",
    "print(a)"
   ]
  },
  {
   "cell_type": "code",
   "execution_count": null,
   "metadata": {},
   "outputs": [],
   "source": [
    "# Construction d'un tableau de dimension 2 et de taille 2x3 contenant que des 0\n",
    "b = np.zeros((2,3))\n",
    "print(b)"
   ]
  },
  {
   "cell_type": "markdown",
   "metadata": {},
   "source": [
    "La méthode `np.arange` retourne un tableau contenant des valeurs uniformément espacées dans un intervalle donné :"
   ]
  },
  {
   "cell_type": "code",
   "execution_count": null,
   "metadata": {},
   "outputs": [],
   "source": [
    "# Construction d'un tableau de dimension 1 contenant des valeurs uniformément \n",
    "# espacées entre 1 et 11 (non inclus) par pas de 2 \n",
    "a = np.arange(1,9,2)\n",
    "print(a)"
   ]
  },
  {
   "cell_type": "code",
   "execution_count": null,
   "metadata": {},
   "outputs": [],
   "source": [
    "# Par defaut, la valeur du début de l'intervalle est 0 et la valeur du pas est 1\n",
    "b = np.arange(10)\n",
    "print(b)"
   ]
  },
  {
   "cell_type": "markdown",
   "metadata": {},
   "source": [
    "La méthode `np.linspace` retourne un tableau contenant de `n ` valeurs uniformément espacées dans un intervalle donné :"
   ]
  },
  {
   "cell_type": "code",
   "execution_count": null,
   "metadata": {},
   "outputs": [],
   "source": [
    "# Construction d'un tableau de dimension 1 contenant 20 valeurs uniformément espacées entre 1 et 10   \n",
    "a = np.linspace(1,10, 20)\n",
    "print(a.size)"
   ]
  },
  {
   "cell_type": "markdown",
   "metadata": {},
   "source": [
    "Une liste complète des méthodes de création de tableany `numpy`est consultable [ici](https://numpy.org/doc/stable/reference/routines.array-creation.html)."
   ]
  },
  {
   "cell_type": "markdown",
   "metadata": {},
   "source": [
    "## Indexation et slicing"
   ]
  },
  {
   "cell_type": "markdown",
   "metadata": {},
   "source": [
    "L'opérateur `[] ` permet d'accèder à un élément d'un tableau. L'indexation commence à 0."
   ]
  },
  {
   "cell_type": "code",
   "execution_count": null,
   "metadata": {},
   "outputs": [],
   "source": [
    "## cas d'un tableau à unidimensionel\n",
    "a = np.ones(5)\n",
    "a[2] = 4\n",
    "print(a)"
   ]
  },
  {
   "cell_type": "code",
   "execution_count": null,
   "metadata": {},
   "outputs": [],
   "source": [
    "# cas d'un tableau à bidimensionel\n",
    "b = np.ones((2,3))\n",
    "b[1,1] = 4\n",
    "print(b)"
   ]
  },
  {
   "cell_type": "code",
   "execution_count": null,
   "metadata": {},
   "outputs": [],
   "source": [
    "# dans ce cas on peut aussi accèder à un élément de la sorte\n",
    "b[0][2] = 6\n",
    "print(b)"
   ]
  },
  {
   "cell_type": "markdown",
   "metadata": {},
   "source": [
    "On peut utiliser des indices négatifs pour une indexation à partir de la fin du tableau :"
   ]
  },
  {
   "cell_type": "code",
   "execution_count": null,
   "metadata": {},
   "outputs": [],
   "source": [
    "a = np.ones(5)\n",
    "a[-1] = 2\n",
    "print(a)"
   ]
  },
  {
   "cell_type": "markdown",
   "metadata": {},
   "source": [
    "Le slicing permet de référencer une partie d'un tableau :"
   ]
  },
  {
   "cell_type": "code",
   "execution_count": null,
   "metadata": {},
   "outputs": [],
   "source": [
    "# réferencement de partie contigüe\n",
    "a = np.arange(10)\n",
    "print(\"a       = \", a)\n",
    "print(\"a[1:4]  = \", a[1:4])\n",
    "print(\"a[1:]   = \", a[1:])\n",
    "print(\"a[:3]   = \", a[:3])\n",
    "print(\"a[2:-2] = \", a[2:-2])\n",
    "print(\"a[:]    = \", a[:] )"
   ]
  },
  {
   "cell_type": "code",
   "execution_count": null,
   "metadata": {},
   "outputs": [],
   "source": [
    "# référencement de partie non contigüe\n",
    "a = np.arange(10)\n",
    "print(\"a         = \", a)\n",
    "print(\"a[1:6:2]  = \", a[1:6:2])\n",
    "print(\"a[8:2:-2] = \", a[8:2:-2])"
   ]
  },
  {
   "cell_type": "code",
   "execution_count": null,
   "metadata": {},
   "outputs": [],
   "source": [
    "# exemples avec des tableaux multidimensionnel\n",
    "\n",
    "# création d'un tableau de taille (5x5) d'entier aléatoire entre 1 et 10\n",
    "a = np.random.randint(1, 10, (5,5))\n",
    "print(\"a = \")\n",
    "print(a)\n",
    "# extraction d'un ligne\n",
    "print(\"\\na[1,:] =\")\n",
    "print(a[1,:])\n",
    "\n",
    "# extraction d'une colonne\n",
    "print(\"\\na[:,1] =\")\n",
    "print(a[:,1])\n",
    "\n",
    "# extraction d'un bloc\n",
    "print(\"\\na[1:2,3:4] =\")\n",
    "print(a[0:3,2:4])"
   ]
  },
  {
   "cell_type": "markdown",
   "metadata": {},
   "source": [
    "La documentation de `numpy` sur l'indexation et le slicing est disponible [ici](https://numpy.org/doc/stable/reference/arrays.indexing.html)."
   ]
  },
  {
   "cell_type": "markdown",
   "metadata": {},
   "source": [
    "## Mutabilité des tableaux numpy"
   ]
  },
  {
   "cell_type": "markdown",
   "metadata": {},
   "source": [
    "Un tableau `numpy` est un objet mutable ce qui permet de modifier un des ses éléments sans créer une nouvel objet. L'opérateur `[]`permet d'accèder à un élément d'un tableau."
   ]
  },
  {
   "cell_type": "code",
   "execution_count": null,
   "metadata": {},
   "outputs": [],
   "source": [
    "a = np.array([1, 2, 3.5, 4, 5])\n",
    "a[2] = 3\n",
    "print(a)"
   ]
  },
  {
   "cell_type": "markdown",
   "metadata": {},
   "source": [
    "Conséquence : l'opération d'affectation ne crée pas de copie."
   ]
  },
  {
   "cell_type": "code",
   "execution_count": null,
   "metadata": {},
   "outputs": [],
   "source": [
    "b = a\n",
    "print(\"Identifiant de a = \", id(a))\n",
    "print(\"Identifiant de b = \", id(b))"
   ]
  },
  {
   "cell_type": "markdown",
   "metadata": {},
   "source": [
    "Si on modifie un élément du tableau reférencé par `a `, on modifie un élément du tableau référencé par `b` puisque les deux variables référencent le même objet `ndarray`:"
   ]
  },
  {
   "cell_type": "code",
   "execution_count": null,
   "metadata": {},
   "outputs": [],
   "source": [
    "print(\"b = \", b)\n",
    "a[0] = 6\n",
    "print(\"b = \", b)"
   ]
  },
  {
   "cell_type": "markdown",
   "metadata": {},
   "source": [
    "Il est possible de créer explicitement une copie :"
   ]
  },
  {
   "cell_type": "code",
   "execution_count": null,
   "metadata": {},
   "outputs": [],
   "source": [
    "a = np.array([1, 2, 3.5, 4, 5])\n",
    "b = np.copy(a)\n",
    "print(\"Identifiant de a = \", id(a))\n",
    "print(\"Identifiant de b = \", id(b))"
   ]
  },
  {
   "cell_type": "markdown",
   "metadata": {},
   "source": [
    "En combinant l'opération d'affection et le slicing, on peut créer des vues sur une partie d'un tableau :"
   ]
  },
  {
   "cell_type": "code",
   "execution_count": null,
   "metadata": {},
   "outputs": [],
   "source": [
    "a = np.arange(10)\n",
    "v = a[1:4]\n",
    "v[:] = 2\n",
    "print(a)"
   ]
  },
  {
   "cell_type": "markdown",
   "metadata": {},
   "source": [
    "## Vectorisation\n",
    "\n",
    "La vectorisation est une capacité puissante de `numpy` qui permet d'exprimer les opérations directement sur des tableaux entiers plutôt que sur leurs éléments. Cette pratique consiste à remplacer les boucles explicites par des expressions sur des tableaux qui sont bien plus performantes. \n",
    "\n",
    "C'est la raison pour laquelle les tableaux `numpy` sont plus performantes que les listes `python` car ces dernières nécessitent des boucles pour manipuler ses éléments :"
   ]
  },
  {
   "cell_type": "code",
   "execution_count": null,
   "metadata": {},
   "outputs": [],
   "source": [
    "# initialisation d'un tableau contenant les n premiers entiers au carré \n",
    "n = 10000"
   ]
  },
  {
   "cell_type": "code",
   "execution_count": null,
   "metadata": {},
   "outputs": [],
   "source": [
    "%%timeit\n",
    "# avec une liste python\n",
    "l = []\n",
    "for i in range(n):\n",
    "    l.append(i**2)"
   ]
  },
  {
   "cell_type": "code",
   "execution_count": null,
   "metadata": {},
   "outputs": [],
   "source": [
    "# avec une liste en comprehension \n",
    "%timeit l = [i**2 for i in range(n)]"
   ]
  },
  {
   "cell_type": "code",
   "execution_count": null,
   "metadata": {},
   "outputs": [],
   "source": [
    "# avec un tableau numpy, on peut utiliser l'opérateur ** directement sur le tableau \n",
    "%timeit a = np.arange(n)**2"
   ]
  },
  {
   "cell_type": "markdown",
   "metadata": {},
   "source": [
    "La version `numpy` est bien plus performante et c'est bien parce que l'on a évité l'utilisation de boucle que la version `numpy` est plus rapide :"
   ]
  },
  {
   "cell_type": "code",
   "execution_count": null,
   "metadata": {},
   "outputs": [],
   "source": [
    "%%timeit \n",
    "a = np.empty(n)\n",
    "for i in range(n):\n",
    "    a[i] = i**2"
   ]
  },
  {
   "cell_type": "markdown",
   "metadata": {},
   "source": [
    "Dans la mesure du possible, éviter au maximum l'utilisation de boucle pour manipuler des tableaux."
   ]
  }
 ],
 "metadata": {
  "@webio": {
   "lastCommId": null,
   "lastKernelId": null
  },
  "kernelspec": {
   "display_name": "Python 3",
   "language": "python",
   "name": "python3"
  },
  "language_info": {
   "codemirror_mode": {
    "name": "ipython",
    "version": 3
   },
   "file_extension": ".py",
   "mimetype": "text/x-python",
   "name": "python",
   "nbconvert_exporter": "python",
   "pygments_lexer": "ipython3",
   "version": "3.9.6"
  }
 },
 "nbformat": 4,
 "nbformat_minor": 4
}
