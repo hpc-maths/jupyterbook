{
 "cells": [
  {
   "cell_type": "markdown",
   "metadata": {},
   "source": [
    "# Modules Python pour générer des graphiques"
   ]
  },
  {
   "cell_type": "markdown",
   "metadata": {},
   "source": [
    "## Matplotlib\n",
    "\n",
    "C'est le module de référence pour créer des graphiques avec Python. Sa documentation complète est disponible [ici](https://matplotlib.org/contents.html)."
   ]
  },
  {
   "cell_type": "code",
   "execution_count": null,
   "metadata": {},
   "outputs": [],
   "source": [
    "import matplotlib.pyplot as plt\n",
    "import numpy as np"
   ]
  },
  {
   "cell_type": "markdown",
   "metadata": {},
   "source": [
    "### Exemple minimal"
   ]
  },
  {
   "cell_type": "code",
   "execution_count": null,
   "metadata": {},
   "outputs": [],
   "source": [
    "x = np.linspace(-1, 1, 1000)\n",
    "y = np.sin(2*np.pi*x)\n",
    "\n",
    "plt.plot(x, y)\n",
    "plt.show()"
   ]
  },
  {
   "cell_type": "markdown",
   "metadata": {},
   "source": [
    "### Exemple plus elaboré"
   ]
  },
  {
   "cell_type": "code",
   "execution_count": null,
   "metadata": {},
   "outputs": [],
   "source": [
    "x = np.linspace(-1, 1, 1000)\n",
    "\n",
    "y_01 = np.sin(2*np.pi*x)\n",
    "y_02 = np.sin(2*np.pi*x + np.pi/2)\n",
    "y_03 = np.sin(2*np.pi*x - np.pi/2)\n",
    "\n",
    "# Taille de la figure\n",
    "plt.figure(figsize=[16, 8])\n",
    "\n",
    "# titre de la figure\n",
    "plt.title(\"Exemple matplotlib\")\n",
    "\n",
    "# titre des axes\n",
    "plt.xlabel('x')\n",
    "plt.ylabel('f(x)')\n",
    "\n",
    "# limites des axes\n",
    "plt.axis([-1, 1, -1.5, 1.5])\n",
    "\n",
    "plt.plot(x, y_01, color='blue',  linestyle='solid', label=\"sin(2*Pi*x)\")\n",
    "plt.plot(x, y_02, color='green', linestyle='dashed', label=\"sin(2*pi*x)+pi/2)\")\n",
    "plt.plot(x, y_03, color='red',   linestyle='dotted', linewidth=5, label=\"sin(2*pi*x)-pi/2)\")\n",
    "\n",
    "# position de la legende\n",
    "plt.legend(loc='upper left')\n",
    "\n",
    "plt.show()"
   ]
  },
  {
   "cell_type": "markdown",
   "metadata": {},
   "source": [
    "### Affichage de plusieurs graphiques sur la même figure"
   ]
  },
  {
   "cell_type": "code",
   "execution_count": null,
   "metadata": {},
   "outputs": [],
   "source": [
    "x = np.linspace(-1, 1, 50)\n",
    "\n",
    "y_01 = np.sin(2*np.pi*x)\n",
    "y_02 = np.sin(2*np.pi*x + np.pi/2)\n",
    "\n",
    "plt.figure(figsize=[16, 8])\n",
    "\n",
    "\n",
    "plt.subplot(2, 1, 1)\n",
    "plt.title('Deux graphiques dans la même figure')\n",
    "plt.plot(x, y_01, 'o-')\n",
    "plt.axis([-1, 1, -1.5, 1.5])\n",
    "plt.xlabel('x')\n",
    "plt.ylabel('y_01')\n",
    "\n",
    "plt.subplot(2, 1, 2)\n",
    "plt.plot(x, y_02, '+-')\n",
    "plt.axis([-1, 1, -1.5, 1.5])\n",
    "plt.xlabel('x')\n",
    "plt.ylabel('y_02')\n",
    "\n",
    "plt.show()"
   ]
  },
  {
   "cell_type": "markdown",
   "metadata": {},
   "source": [
    "## Module Plotly    \n",
    "\n",
    "\n",
    "Plotly est une module Python pour générer des graphiques pour un navigateur web. Il est bien adapté aux applications web comme les notebooks et les tableaux de bord. Sa documentation complète est disponible [ici](https://plotly.com/python/)."
   ]
  },
  {
   "cell_type": "code",
   "execution_count": null,
   "metadata": {},
   "outputs": [],
   "source": [
    "import plotly.graph_objects as go"
   ]
  },
  {
   "cell_type": "markdown",
   "metadata": {},
   "source": [
    "### Exemple minimal"
   ]
  },
  {
   "cell_type": "code",
   "execution_count": null,
   "metadata": {},
   "outputs": [],
   "source": [
    "x = np.linspace(0, 10, 100)\n",
    "\n",
    "fig = go.Figure(go.Scatter(x=x, y=np.sin(x), name='sin(x)'))\n",
    "fig.show()"
   ]
  },
  {
   "cell_type": "markdown",
   "metadata": {},
   "source": [
    "### Exemple plus elaboré"
   ]
  },
  {
   "cell_type": "code",
   "execution_count": null,
   "metadata": {},
   "outputs": [],
   "source": [
    "x = np.linspace(-1, 1, 100)\n",
    "\n",
    "y_01 = np.sin(2*np.pi*x)\n",
    "y_02 = np.sin(2*np.pi*x + np.pi/2)\n",
    "y_03 = np.sin(2*np.pi*x - np.pi/2)\n",
    "\n",
    "fig = go.Figure()\n",
    "fig.add_trace(go.Scatter(x=x, y=y_01, name='sin(2*pi*x)'))\n",
    "fig.add_trace(go.Scatter(x=x, y=y_02, name='sin(2*pi*x)+pi/2)', mode='markers'))\n",
    "fig.add_trace(go.Scatter(x=x, y=y_03, name='sin(2*pi*x)-pi/2)', mode='markers+lines'))\n",
    "fig.update_layout(title=\"Exemple plotly\", xaxis_title=\"x\", yaxis_title=\"f(x)\")\n",
    "fig.show()"
   ]
  },
  {
   "cell_type": "markdown",
   "metadata": {},
   "source": [
    "### Affichage de plusieurs graphiques "
   ]
  },
  {
   "cell_type": "code",
   "execution_count": null,
   "metadata": {},
   "outputs": [],
   "source": [
    "from plotly.subplots import make_subplots\n",
    "\n",
    "x = np.linspace(-1, 1, 100)\n",
    "\n",
    "y_01 = np.sin(2*np.pi*x)\n",
    "y_02 = np.sin(2*np.pi*x + np.pi/2)\n",
    "\n",
    "fig = make_subplots(rows=2, cols=1)\n",
    "\n",
    "fig.add_trace(go.Scatter(x=x, y=y_01, name='sin(2*pi*x))'),row=1, col=1)\n",
    "fig.add_trace(go.Scatter(x=x, y=y_01, name='sin(2*pi*x)+pi/2'),row=2, col=1)\n",
    "fig.update_layout(title=\"Deux graphiques dans la même figure\")\n",
    "\n",
    "fig.show()"
   ]
  },
  {
   "cell_type": "markdown",
   "metadata": {},
   "source": [
    "### Bouton personalisé"
   ]
  },
  {
   "cell_type": "code",
   "execution_count": null,
   "metadata": {},
   "outputs": [],
   "source": [
    "x = np.linspace(0, 3*np.pi, 100)\n",
    "\n",
    "fig = go.Figure(go.Scatter(x=x, y=np.sin(x), line=dict(dash='dash')))\n",
    "\n",
    "buttons=[dict(label=\"sin\", method=\"update\", args=[{\"y\": [np.sin(x)]}, {'title': {'text': 'sin(x)'}}]),\n",
    "         dict(label=\"cos\", method=\"update\", args=[{\"y\": [np.cos(x)]}, {'title': {'text': 'cos(x)'}}])]\n",
    "\n",
    "fig.update_layout( title=\"sin(x)\", updatemenus=[dict(type=\"buttons\", direction=\"down\", buttons=buttons)])\n",
    "\n",
    "fig.show()"
   ]
  },
  {
   "cell_type": "markdown",
   "metadata": {},
   "source": [
    "### Slider"
   ]
  },
  {
   "cell_type": "code",
   "execution_count": null,
   "metadata": {},
   "outputs": [],
   "source": [
    "x = np.linspace(0, 1, 1000)\n",
    "\n",
    "f = np.linspace(1, 16, 31)\n",
    "\n",
    "fig = go.Figure()\n",
    "\n",
    "# création de l'ensemble des graphes (un pour chaque pas du slider) sans les afficher \n",
    "for i, fi in enumerate(f):\n",
    "    fig.add_trace(go.Scatter(visible=False, x=x, y=np.sin(2*np.pi*fi*x), name=f\"f={fi}\"))\n",
    "\n",
    "# affichage de la première fréquence\n",
    "fig.data[0].visible = True\n",
    "\n",
    "# création du slider\n",
    "steps = []\n",
    "for i, fi in enumerate(f):\n",
    "    step = dict(method=\"update\", label = f\"{fi}\", args=[{\"visible\": [(el==i) for el in range(f.size)]}])\n",
    "    steps.append(step)\n",
    "sliders = [dict(currentvalue={'prefix': 'Fréquence  f = '}, steps=steps)]\n",
    "\n",
    "fig.update_layout(sliders=sliders, title = 'f(x) = sin(2 pi f x)')\n",
    "fig.show()"
   ]
  },
  {
   "cell_type": "markdown",
   "metadata": {},
   "source": [
    "## Module Bokeh\n",
    "\n",
    "Comme Plotly, Bokeh est un module Python pour générer des graphiques pour un navigateur web. Il est donc bien adapté aux notebooks. Sa documentation complète est disponible [ici](https://docs.bokeh.org/en/latest/docs/user_guide.html)."
   ]
  },
  {
   "cell_type": "code",
   "execution_count": null,
   "metadata": {},
   "outputs": [],
   "source": [
    "from bokeh.io import output_notebook, show\n",
    "from bokeh.plotting import figure\n",
    "from bokeh.layouts import column\n",
    "\n",
    "output_notebook(hide_banner=True)"
   ]
  },
  {
   "cell_type": "markdown",
   "metadata": {},
   "source": [
    "### Exemple minimal"
   ]
  },
  {
   "cell_type": "code",
   "execution_count": null,
   "metadata": {},
   "outputs": [],
   "source": [
    "x = np.linspace(-1, 1, 1000)\n",
    "y = np.sin(2*np.pi*x)\n",
    "\n",
    "fig = figure(width=900, height=300)\n",
    "fig.line(x, y)    \n",
    "show(fig)"
   ]
  },
  {
   "cell_type": "markdown",
   "metadata": {},
   "source": [
    "### Exemple plus elaboré"
   ]
  },
  {
   "cell_type": "code",
   "execution_count": null,
   "metadata": {},
   "outputs": [],
   "source": [
    "x = np.linspace(-1, 1, 1000)\n",
    "\n",
    "y_01 = np.sin(2*np.pi*x)\n",
    "y_02 = np.sin(2*np.pi*x + np.pi/2)\n",
    "y_03 = np.sin(2*np.pi*x - np.pi/2)\n",
    "\n",
    "fig = figure(width=900, height=300, x_range=(-1,1), y_range=(-1.5,1.5), title=\"Exemple bokeh\")\n",
    "fig.line(x, y_01, color=\"blue\", line_dash='solid', legend_label=\"sin(2*pi*x))\")\n",
    "fig.line(x, y_02, color=\"green\", line_dash='dashed', legend_label=\"sin(2*pi*x)+pi/2\")\n",
    "fig.line(x, y_03, color=\"red\", line_dash='dotted', line_width=4, legend_label=\"sin(2*pi*x)-pi/2\")\n",
    "\n",
    "fig.xaxis.axis_label = \"x\"\n",
    "fig.yaxis.axis_label = \"f(x)\"\n",
    "\n",
    "fig.legend.location = \"top_left\"\n",
    "\n",
    "# permet de cliquer sur la légende du tracé pour la cacher\n",
    "fig.legend.click_policy=\"hide\"\n",
    "\n",
    "show(fig)"
   ]
  },
  {
   "cell_type": "markdown",
   "metadata": {},
   "source": [
    "### Affichage de plusieurs graphiques "
   ]
  },
  {
   "cell_type": "code",
   "execution_count": null,
   "metadata": {
    "scrolled": false
   },
   "outputs": [],
   "source": [
    "x = np.linspace(-1, 1, 50)\n",
    "\n",
    "y_01 = np.sin(2*np.pi*x)\n",
    "y_02 = np.sin(2*np.pi*x + np.pi/2)\n",
    "\n",
    "fig_01 = figure(width=900, height=300, x_range=(-1,1), y_range=(-1.5,1.5), title=\"Exemple bokeh 01\")\n",
    "fig_01.square(x, y_01, color=\"blue\", line_dash='solid', legend_label=\"sin(2*pi*x))\")\n",
    "fig_02 = figure(width=900, height=300, x_range=(-1,1), y_range=(-1.5,1.5), title=\"Exemple bokeh 02\")\n",
    "fig_02.circle(x, y_02, color=\"green\", legend_label=\"sin(2*pi*x)+pi/2)\")\n",
    "\n",
    "show(column(fig_01, fig_02))"
   ]
  }
 ],
 "metadata": {
  "@webio": {
   "lastCommId": null,
   "lastKernelId": null
  },
  "kernelspec": {
   "display_name": "Python 3",
   "language": "python",
   "name": "python3"
  },
  "language_info": {
   "codemirror_mode": {
    "name": "ipython",
    "version": 3
   },
   "file_extension": ".py",
   "mimetype": "text/x-python",
   "name": "python",
   "nbconvert_exporter": "python",
   "pygments_lexer": "ipython3",
   "version": "3.9.6"
  }
 },
 "nbformat": 4,
 "nbformat_minor": 4
}
